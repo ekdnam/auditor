{
 "cells": [
  {
   "cell_type": "code",
   "execution_count": null,
   "metadata": {},
   "outputs": [],
   "source": [
    "library(jsonlite)\n",
    "library(writexl)\n",
    "library(readxl)\n",
    "library(dplyr)\n",
    "library(car)\n",
    "library(readr)\n",
    "library(tidyr)\n",
    "library(geosphere)\n",
    "library(rgdal)\n",
    "# library(jtools)\n",
    "\n",
    "options(repr.matrix.max.rows=200, repr.matrix.max.cols=20)"
   ]
  },
  {
   "cell_type": "code",
   "execution_count": null,
   "metadata": {},
   "outputs": [],
   "source": [
    "datafile <- file(\"bkp/out.json\", open=\"r\")\n",
    "data <- stream_in(datafile, flatten=TRUE)\n",
    "close(datafile)"
   ]
  },
  {
   "cell_type": "code",
   "execution_count": null,
   "metadata": {},
   "outputs": [],
   "source": [
    "data$treatment.ethnicity <- factor(data$treatment.ethnicity, levels=c(\"caucasian\", \"african american\", \"african-american\", \"asian\", \"hispanic\"))\n",
    "# levels(data$treatment.ethnicity)\n",
    "levels(data$treatment.ethnicity) <- c(\"caucasian\", \"african-american\", \"african-american\", \"asian\", \"hispanic\")\n",
    "# levels(data$treatment.ethnicity)\n",
    "data$treatment.gender <- as.factor(data$treatment.gender)\n",
    "data$type <- as.factor(data$type)\n",
    "data$scraper <- as.factor(data$scraper)\n",
    "data$block_id <- as.factor(data$block_id)\n",
    "data$agent_id <- as.factor(data$agent_id)\n",
    "data$time <- as.POSIXct(data$time)"
   ]
  },
  {
   "cell_type": "code",
   "execution_count": null,
   "metadata": {},
   "outputs": [],
   "source": [
    "# levels(data$treatment.ethnicity)"
   ]
  },
  {
   "cell_type": "code",
   "execution_count": null,
   "metadata": {},
   "outputs": [],
   "source": [
    "rankings <- data[data$type == 'ranking', ]\n",
    "rankings <- rankings[!is.null(rankings$ranking), ]\n",
    "rankings$ad.image_path <- NULL\n",
    "# rankings$ad.query <- NULL\n",
    "rankings$ad.title <- NULL\n",
    "rankings$ad.url <- NULL\n",
    "rankings$ad.body <- NULL"
   ]
  },
  {
   "cell_type": "code",
   "execution_count": null,
   "metadata": {},
   "outputs": [],
   "source": [
    "format_ranking <- function(df) {\n",
    "    df$idx <- seq.int(nrow(df))\n",
    "    df$position <- log(df$idx)\n",
    "    if (\"price\" %in% colnames(df)) {\n",
    "        df$price <- parse_number(df$price)\n",
    "    }\n",
    "    if(\"beds\" %in% colnames(df)) {\n",
    "        df$beds[df$beds == \"Studio\"] <- \"0\"\n",
    "        df$beds <- parse_number(df$beds, na = c(\"\", \"NA\"))\n",
    "    }\n",
    "    if(\"baths\" %in% colnames(df)) {\n",
    "        df$baths <- parse_number(df$baths)\n",
    "    }\n",
    "    if(\"latitude\" %in% colnames(df)) {\n",
    "        df$latitude <- parse_number(df$latitude)\n",
    "        df$longitude <- parse_number(df$longitude)\n",
    "    }\n",
    "    return(df)\n",
    "}\n",
    "\n",
    "chicago_coords <- c(41.881832, -87.623177)"
   ]
  },
  {
   "cell_type": "markdown",
   "metadata": {},
   "source": [
    "## Trulia rankings"
   ]
  },
  {
   "cell_type": "code",
   "execution_count": null,
   "metadata": {},
   "outputs": [],
   "source": [
    "truliaRankings <- rankings %>% \n",
    "  filter(scraper == 'TruliaScraper') %>% \n",
    "  filter(url == 'https://www.trulia.com/IL/Chicago/')\n",
    "\n",
    "truliaRankings$ranking <- lapply(truliaRankings$ranking, format_ranking)\n",
    "nrow(truliaRankings)"
   ]
  },
  {
   "cell_type": "code",
   "execution_count": null,
   "metadata": {},
   "outputs": [],
   "source": [
    "max(truliaRankings$time) - min(truliaRankings$time)"
   ]
  },
  {
   "cell_type": "code",
   "execution_count": null,
   "metadata": {},
   "outputs": [],
   "source": [
    "unnestedTruliaRankings <- unnest(truliaRankings, ranking)\n",
    "colnames(unnestedTruliaRankings)[colnames(unnestedTruliaRankings)==\"street address\"] <- \"street_address\"\n",
    "unnestedTruliaRankings <- unnestedTruliaRankings %>% filter(!is.na(street_address))\n",
    "unnestedTruliaRankings$dist <- apply(unnestedTruliaRankings[,c('latitude', 'longitude')], 1, function(x) { distHaversine(chicago_coords, x) })"
   ]
  },
  {
   "cell_type": "code",
   "execution_count": null,
   "metadata": {},
   "outputs": [],
   "source": [
    "# str(unnestedTruliaRankings)\n",
    "unique(unnestedTruliaRankings$url)"
   ]
  },
  {
   "cell_type": "code",
   "execution_count": null,
   "metadata": {},
   "outputs": [],
   "source": [
    "res.trulia <- aov(position ~ treatment.ethnicity * treatment.gender * price, data=unnestedTruliaRankings)\n",
    "summary(res.trulia)"
   ]
  },
  {
   "cell_type": "code",
   "execution_count": null,
   "metadata": {},
   "outputs": [],
   "source": [
    "coefficients(res.trulia)"
   ]
  },
  {
   "cell_type": "code",
   "execution_count": null,
   "metadata": {},
   "outputs": [],
   "source": [
    "unnestedTruliaRankings %>%\n",
    "  filter(!is.na(street_address)) %>%\n",
    "  group_by(treatment.gender) %>%\n",
    "  summarise_at(vars(price), funs(mean(., na.rm=TRUE)))"
   ]
  },
  {
   "cell_type": "code",
   "execution_count": null,
   "metadata": {},
   "outputs": [],
   "source": [
    "unnestedTruliaRankings %>%\n",
    "  filter(!is.na(street_address)) %>%\n",
    "  group_by(treatment.ethnicity) %>%\n",
    "  summarise_at(vars(price), funs(mean(., na.rm=TRUE)))"
   ]
  },
  {
   "cell_type": "code",
   "execution_count": null,
   "metadata": {},
   "outputs": [],
   "source": [
    "unnestedTruliaRankings %>%\n",
    "  filter(!is.na(street_address)) %>%\n",
    "  group_by(treatment.ethnicity, treatment.gender) %>%\n",
    "  summarise_at(vars(price), funs(mean(., na.rm=TRUE)))"
   ]
  },
  {
   "cell_type": "markdown",
   "metadata": {},
   "source": [
    "## Realtor.com"
   ]
  },
  {
   "cell_type": "code",
   "execution_count": null,
   "metadata": {},
   "outputs": [],
   "source": [
    "realtorRankings <- rankings[rankings$scraper == 'RealtorRanking', ]\n",
    "realtorRankings$ranking <- lapply(realtorRankings$ranking, format_ranking)\n",
    "nrow(realtorRankings)\n",
    "# str(realtorRankings)"
   ]
  },
  {
   "cell_type": "code",
   "execution_count": null,
   "metadata": {},
   "outputs": [],
   "source": [
    "unnestedRealtorRankings <- unnest(realtorRankings, ranking)\n",
    "colnames(unnestedRealtorRankings)[colnames(unnestedRealtorRankings)==\"street address\"] <- \"street_address\"\n",
    "unnestedRealtorRankings <- unnestedRealtorRankings %>% filter(!is.na(street_address))\n",
    "# unnestedRealtorRankings <- unnestedRealtorRankings %>% filter(!is.na(street_address)) %>% filter(idx <= 10)\n",
    "unnestedRealtorRankings$dist <- apply(unnestedRealtorRankings[,c('latitude', 'longitude')], 1, function(x) { distHaversine(chicago_coords, c(x[1], x[2])) })"
   ]
  },
  {
   "cell_type": "code",
   "execution_count": null,
   "metadata": {},
   "outputs": [],
   "source": [
    "length(unique(unnestedRealtorRankings$street_address))"
   ]
  },
  {
   "cell_type": "code",
   "execution_count": null,
   "metadata": {},
   "outputs": [],
   "source": [
    "max(realtorRankings$time)\n",
    "min(realtorRankings$time)\n",
    "max(realtorRankings$time) - min(realtorRankings$time)"
   ]
  },
  {
   "cell_type": "code",
   "execution_count": null,
   "metadata": {},
   "outputs": [],
   "source": [
    "res.realtor <- aov(position ~ treatment.ethnicity * treatment.gender * price, data=unnestedRealtorRankings)\n",
    "summary(res.realtor)"
   ]
  },
  {
   "cell_type": "code",
   "execution_count": null,
   "metadata": {},
   "outputs": [],
   "source": [
    "coefficients(res.realtor)"
   ]
  },
  {
   "cell_type": "code",
   "execution_count": null,
   "metadata": {},
   "outputs": [],
   "source": [
    "mean(unnestedRealtorRankings$price)"
   ]
  },
  {
   "cell_type": "code",
   "execution_count": null,
   "metadata": {},
   "outputs": [],
   "source": [
    "unique(unnestedTruliaRankings$url)"
   ]
  },
  {
   "cell_type": "code",
   "execution_count": null,
   "metadata": {},
   "outputs": [],
   "source": [
    "unnestedRealtorRankings %>%\n",
    "  filter(!is.na(street_address)) %>%\n",
    "  group_by(treatment.gender) %>%\n",
    "  summarise_at(vars(price), funs(mean(., na.rm=TRUE)))"
   ]
  },
  {
   "cell_type": "code",
   "execution_count": null,
   "metadata": {},
   "outputs": [],
   "source": [
    "unnestedRealtorRankings %>%\n",
    "  filter(!is.na(street_address)) %>%\n",
    "  filter(idx == 1) %>%\n",
    "  group_by(treatment.ethnicity) %>%\n",
    "  summarise_at(vars(price), funs(mean(., na.rm=TRUE)))"
   ]
  },
  {
   "cell_type": "code",
   "execution_count": null,
   "metadata": {},
   "outputs": [],
   "source": [
    "unnestedRealtorRankings %>%\n",
    "  filter(!is.na(street_address)) %>%\n",
    "  group_by(treatment.ethnicity, treatment.gender) %>%\n",
    "  summarise_at(vars(price), funs(mean(., na.rm=TRUE)))"
   ]
  },
  {
   "cell_type": "code",
   "execution_count": null,
   "metadata": {},
   "outputs": [],
   "source": [
    "unnestedRealtorRankings %>%\n",
    "  filter(!is.na(street_address)) %>%\n",
    "  filter(idx == 4) %>%\n",
    "  group_by(treatment.ethnicity) %>%\n",
    "  summarise_at(vars(price), funs(mean(., na.rm=TRUE)))"
   ]
  },
  {
   "cell_type": "code",
   "execution_count": null,
   "metadata": {},
   "outputs": [],
   "source": [
    "dat <- unnestedRealtorRankings %>%\n",
    "  filter(!is.na(street_address)) %>%\n",
    "#   filter(treatment.ethnicity == \"african-american\") %>%\n",
    "  group_by(idx, treatment.ethnicity) %>%\n",
    "  summarise(vars(price), funs(mean(., na.rm=TRUE)))\n",
    "\n",
    "dat\n",
    "# plot(dat)"
   ]
  },
  {
   "cell_type": "code",
   "execution_count": null,
   "metadata": {},
   "outputs": [],
   "source": [
    "# dat\n",
    "fit <- lm(price ~ idx, data = dat)\n",
    "# fit\n",
    "# effect_plot(fit, pred = idx, interval = TRUE, plot.points = TRUE)"
   ]
  },
  {
   "cell_type": "code",
   "execution_count": null,
   "metadata": {},
   "outputs": [],
   "source": [
    "unnestedRealtorRankings %>%\n",
    "  filter(!is.na(street_address)) %>%\n",
    "  group_by(street_address, treatment.ethnicity) %>%\n",
    "  count()"
   ]
  },
  {
   "cell_type": "markdown",
   "metadata": {},
   "source": [
    "## Redfin"
   ]
  },
  {
   "cell_type": "code",
   "execution_count": null,
   "metadata": {},
   "outputs": [],
   "source": [
    "redfinRankings <- rankings[rankings$scraper == 'RedfinScraper', ]\n",
    "redfinRankings$ranking <- lapply(redfinRankings$ranking, format_ranking)\n",
    "unnestedRedfinRankings <- unnest(redfinRankings, ranking)\n",
    "str(unnestedRedfinRankings)\n",
    "# res.redfin <- aov(position ~ treatment.ethnicity * treatment.gender * price, data=unnestedRedfinRankings)\n",
    "# summary(res.redfin)"
   ]
  },
  {
   "cell_type": "code",
   "execution_count": null,
   "metadata": {},
   "outputs": [],
   "source": [
    "chicago_neighborhoods <- readOGR(dsn=\"gis info/Neighborhoods_2012b\", layer=\"Neighborhoods_2012b\")"
   ]
  },
  {
   "cell_type": "code",
   "execution_count": null,
   "metadata": {},
   "outputs": [],
   "source": []
  }
 ],
 "metadata": {
  "kernelspec": {
   "display_name": "R",
   "language": "R",
   "name": "ir"
  },
  "language_info": {
   "codemirror_mode": "r",
   "file_extension": ".r",
   "mimetype": "text/x-r-source",
   "name": "R",
   "pygments_lexer": "r",
   "version": "3.4.4"
  }
 },
 "nbformat": 4,
 "nbformat_minor": 2
}
