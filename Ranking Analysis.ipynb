{
 "cells": [
  {
   "cell_type": "markdown",
   "metadata": {},
   "source": [
    "# Setup and data ingestion"
   ]
  },
  {
   "cell_type": "code",
   "execution_count": 67,
   "metadata": {},
   "outputs": [
    {
     "name": "stderr",
     "output_type": "stream",
     "text": [
      "[conflicted] Removing existing preference\n",
      "[conflicted] Will prefer dplyr::filter over any other package\n",
      "[conflicted] Removing existing preference\n",
      "[conflicted] Will prefer dplyr::select over any other package\n"
     ]
    }
   ],
   "source": [
    "library(conflicted)\n",
    "\n",
    "library(xtable)\n",
    "library(scales)\n",
    "library(tikzDevice)\n",
    "\n",
    "# Data manipulation\n",
    "library(tidyverse)\n",
    "conflict_prefer(\"filter\", \"dplyr\")\n",
    "conflict_prefer(\"select\", \"dplyr\")\n",
    "library(reshape2)\n",
    "library(ggpubr)\n",
    "\n",
    "# Data loading\n",
    "library(jsonlite)\n",
    "library(writexl)\n",
    "library(readxl)"
   ]
  },
  {
   "cell_type": "code",
   "execution_count": 68,
   "metadata": {},
   "outputs": [],
   "source": [
    "# Workbook settings\n",
    "options(repr.matrix.max.rows=50, repr.matrix.max.cols=30)"
   ]
  },
  {
   "cell_type": "code",
   "execution_count": 69,
   "metadata": {},
   "outputs": [],
   "source": [
    "get_rel_file <- function(file) {\n",
    "#     return(file.path(\"output\", \"2018-12-07_2019-01-05\", file))\n",
    "    return(file.path(\"output\", \"2018-12-07_2019-03-19\", file))\n",
    "}"
   ]
  },
  {
   "cell_type": "code",
   "execution_count": 70,
   "metadata": {},
   "outputs": [
    {
     "name": "stdout",
     "output_type": "stream",
     "text": [
      " Imported 29863 records. Simplifying...\n"
     ]
    }
   ],
   "source": [
    "datafile <- bzfile(get_rel_file(\"out2.json.bz2\"), open='r')\n",
    "data <- stream_in(datafile, flatten=TRUE)\n",
    "close(datafile)"
   ]
  },
  {
   "cell_type": "code",
   "execution_count": 71,
   "metadata": {},
   "outputs": [],
   "source": [
    "data$treatment.ethnicity <- as.factor(data$treatment.ethnicity)\n",
    "data$treatment.gender <- as.factor(data$treatment.gender)\n",
    "data$type <- as.factor(data$type)\n",
    "data$scraper <- as.factor(data$scraper)\n",
    "data$block_id <- as.factor(data$block_id)\n",
    "data$agent_id <- as.factor(data$agent_id)\n",
    "data$time <- as.POSIXct(data$time)"
   ]
  },
  {
   "cell_type": "code",
   "execution_count": 72,
   "metadata": {},
   "outputs": [
    {
     "data": {
      "text/html": [
       "<ol class=list-inline>\n",
       "\t<li>'BBCAdScraper'</li>\n",
       "\t<li>'ChicagoReaderScraper'</li>\n",
       "\t<li>'ChicagoTribuneScraper'</li>\n",
       "\t<li>'CNNAdScraper'</li>\n",
       "\t<li>'FoxChampaignScraper'</li>\n",
       "\t<li>'GoogleSearchAdScraper'</li>\n",
       "\t<li>'HomeFinderAdScraper'</li>\n",
       "\t<li>'NewsGazetteAdScraper'</li>\n",
       "\t<li>'NewsGazetteRealEstateScraper'</li>\n",
       "\t<li>'RealtorRanking'</li>\n",
       "\t<li>'RedfinScraper'</li>\n",
       "\t<li>'SunTimesAdScraper'</li>\n",
       "\t<li>'TruliaScraper'</li>\n",
       "\t<li>'WCIAScraper'</li>\n",
       "\t<li>'ZillowSaleScraper'</li>\n",
       "\t<li>'ZillowScraper'</li>\n",
       "</ol>\n"
      ],
      "text/latex": [
       "\\begin{enumerate*}\n",
       "\\item 'BBCAdScraper'\n",
       "\\item 'ChicagoReaderScraper'\n",
       "\\item 'ChicagoTribuneScraper'\n",
       "\\item 'CNNAdScraper'\n",
       "\\item 'FoxChampaignScraper'\n",
       "\\item 'GoogleSearchAdScraper'\n",
       "\\item 'HomeFinderAdScraper'\n",
       "\\item 'NewsGazetteAdScraper'\n",
       "\\item 'NewsGazetteRealEstateScraper'\n",
       "\\item 'RealtorRanking'\n",
       "\\item 'RedfinScraper'\n",
       "\\item 'SunTimesAdScraper'\n",
       "\\item 'TruliaScraper'\n",
       "\\item 'WCIAScraper'\n",
       "\\item 'ZillowSaleScraper'\n",
       "\\item 'ZillowScraper'\n",
       "\\end{enumerate*}\n"
      ],
      "text/markdown": [
       "1. 'BBCAdScraper'\n",
       "2. 'ChicagoReaderScraper'\n",
       "3. 'ChicagoTribuneScraper'\n",
       "4. 'CNNAdScraper'\n",
       "5. 'FoxChampaignScraper'\n",
       "6. 'GoogleSearchAdScraper'\n",
       "7. 'HomeFinderAdScraper'\n",
       "8. 'NewsGazetteAdScraper'\n",
       "9. 'NewsGazetteRealEstateScraper'\n",
       "10. 'RealtorRanking'\n",
       "11. 'RedfinScraper'\n",
       "12. 'SunTimesAdScraper'\n",
       "13. 'TruliaScraper'\n",
       "14. 'WCIAScraper'\n",
       "15. 'ZillowSaleScraper'\n",
       "16. 'ZillowScraper'\n",
       "\n",
       "\n"
      ],
      "text/plain": [
       " [1] \"BBCAdScraper\"                 \"ChicagoReaderScraper\"        \n",
       " [3] \"ChicagoTribuneScraper\"        \"CNNAdScraper\"                \n",
       " [5] \"FoxChampaignScraper\"          \"GoogleSearchAdScraper\"       \n",
       " [7] \"HomeFinderAdScraper\"          \"NewsGazetteAdScraper\"        \n",
       " [9] \"NewsGazetteRealEstateScraper\" \"RealtorRanking\"              \n",
       "[11] \"RedfinScraper\"                \"SunTimesAdScraper\"           \n",
       "[13] \"TruliaScraper\"                \"WCIAScraper\"                 \n",
       "[15] \"ZillowSaleScraper\"            \"ZillowScraper\"               "
      ]
     },
     "metadata": {},
     "output_type": "display_data"
    }
   ],
   "source": [
    "levels(data$scraper)"
   ]
  },
  {
   "cell_type": "code",
   "execution_count": 73,
   "metadata": {},
   "outputs": [],
   "source": [
    "rankings <- data[data$type == 'ranking', ]\n",
    "rankings <- rankings[!is.null(rankings$ranking), ]\n",
    "rankings$ad.image_path <- NULL\n",
    "rankings$ad.title <- NULL\n",
    "rankings$ad.url <- NULL\n",
    "rankings$ad.body <- NULL"
   ]
  },
  {
   "cell_type": "code",
   "execution_count": 74,
   "metadata": {},
   "outputs": [],
   "source": [
    "format_ranking <- function(df) {\n",
    "    df$idx <- seq.int(nrow(df))\n",
    "    df$position <- log(df$idx)\n",
    "    if (\"price\" %in% colnames(df)) {\n",
    "        df$price <- parse_number(df$price)\n",
    "    }\n",
    "    if(\"beds\" %in% colnames(df)) {\n",
    "        df$beds[df$beds == \"Studio\"] <- \"0\"\n",
    "        df$beds <- parse_number(df$beds, na = c(\"\", \"NA\"))\n",
    "    }\n",
    "    if(\"baths\" %in% colnames(df)) {\n",
    "        df$baths <- parse_number(df$baths)\n",
    "    }\n",
    "    if(\"latitude\" %in% colnames(df)) {\n",
    "        df$latitude <- parse_number(df$latitude)\n",
    "        df$longitude <- parse_number(df$longitude)\n",
    "    }\n",
    "    return(df)\n",
    "}"
   ]
  },
  {
   "cell_type": "markdown",
   "metadata": {
    "toc-hr-collapsed": false
   },
   "source": [
    "# Trulia rankings"
   ]
  },
  {
   "cell_type": "markdown",
   "metadata": {
    "toc-hr-collapsed": false
   },
   "source": [
    "## Data setup"
   ]
  },
  {
   "cell_type": "code",
   "execution_count": 75,
   "metadata": {},
   "outputs": [
    {
     "data": {
      "text/html": [
       "846"
      ],
      "text/latex": [
       "846"
      ],
      "text/markdown": [
       "846"
      ],
      "text/plain": [
       "[1] 846"
      ]
     },
     "metadata": {},
     "output_type": "display_data"
    }
   ],
   "source": [
    "nestedTruliaRankings <- rankings %>%\n",
    "    filter(scraper == 'TruliaScraper')\n",
    "\n",
    "nestedTruliaRankings$ranking <- lapply(nestedTruliaRankings$ranking, format_ranking)\n",
    "nrow(nestedTruliaRankings)"
   ]
  },
  {
   "cell_type": "code",
   "execution_count": 76,
   "metadata": {},
   "outputs": [
    {
     "data": {
      "text/plain": [
       "[1] \"2018-11-21 17:02:05 CST\""
      ]
     },
     "metadata": {},
     "output_type": "display_data"
    },
    {
     "data": {
      "text/plain": [
       "[1] \"2019-03-19 17:56:43 CDT\""
      ]
     },
     "metadata": {},
     "output_type": "display_data"
    },
    {
     "data": {
      "text/plain": [
       "Time difference of 117.9963 days"
      ]
     },
     "metadata": {},
     "output_type": "display_data"
    }
   ],
   "source": [
    "min(nestedTruliaRankings$time)\n",
    "max(nestedTruliaRankings$time)\n",
    "max(nestedTruliaRankings$time) - min(nestedTruliaRankings$time)"
   ]
  },
  {
   "cell_type": "code",
   "execution_count": 78,
   "metadata": {},
   "outputs": [],
   "source": [
    "truliaRankings <- unnest(nestedTruliaRankings, ranking)\n",
    "colnames(truliaRankings)[colnames(truliaRankings)==\"street address\"] <- \"street_address\"\n",
    "\n",
    "# truliaRankings %>%\n",
    "#    filter(price > 1500000) %>%\n",
    "#    count(treatment.gender, treatment.ethnicity)\n",
    "\n",
    "# truliaRankings <- truliaRankings %>%\n",
    "#     filter(url == 'https://www.trulia.com/IL/Chicago/') %>%\n",
    "#     filter(url == 'https://www.trulia.com/County/IL/Champaign_Real_Estate/' | url == 'https://www.trulia.com/IL/Champaign/') %>%\n",
    "#     filter(url == 'https://www.trulia.com/IL/Chicago/' | url == 'https://www.trulia.com/County/IL/Champaign_Real_Estate/' | url == 'https://www.trulia.com/IL/Champaign/')\n",
    "#     filter(!is.na(street_address))\n",
    "#     filter(price <= 1500000)\n",
    "\n",
    "# nrow(truliaRankings)"
   ]
  },
  {
   "cell_type": "code",
   "execution_count": 18,
   "metadata": {},
   "outputs": [
    {
     "data": {
      "text/html": [
       "<table>\n",
       "<thead><tr><th scope=col>treatment.gender</th><th scope=col>treatment.ethnicity</th><th scope=col>avg</th><th scope=col>sd</th><th scope=col>n</th></tr></thead>\n",
       "<tbody>\n",
       "\t<tr><td>female          </td><td>african-american</td><td>168605.8        </td><td>108441.5        </td><td>360             </td></tr>\n",
       "\t<tr><td>female          </td><td>asian           </td><td>170438.2        </td><td>111625.7        </td><td>343             </td></tr>\n",
       "\t<tr><td>female          </td><td>caucasian       </td><td>167585.4        </td><td>109025.3        </td><td>326             </td></tr>\n",
       "\t<tr><td>female          </td><td>hispanic        </td><td>169962.4        </td><td>110061.7        </td><td>350             </td></tr>\n",
       "\t<tr><td>male            </td><td>african-american</td><td>167955.5        </td><td>107855.7        </td><td>368             </td></tr>\n",
       "\t<tr><td>male            </td><td>asian           </td><td>170753.5        </td><td>112402.7        </td><td>335             </td></tr>\n",
       "\t<tr><td>male            </td><td>caucasian       </td><td>167829.9        </td><td>106959.1        </td><td>369             </td></tr>\n",
       "\t<tr><td>male            </td><td>hispanic        </td><td>169022.1        </td><td>110392.2        </td><td>363             </td></tr>\n",
       "</tbody>\n",
       "</table>\n"
      ],
      "text/latex": [
       "\\begin{tabular}{r|lllll}\n",
       " treatment.gender & treatment.ethnicity & avg & sd & n\\\\\n",
       "\\hline\n",
       "\t female           & african-american & 168605.8         & 108441.5         & 360             \\\\\n",
       "\t female           & asian            & 170438.2         & 111625.7         & 343             \\\\\n",
       "\t female           & caucasian        & 167585.4         & 109025.3         & 326             \\\\\n",
       "\t female           & hispanic         & 169962.4         & 110061.7         & 350             \\\\\n",
       "\t male             & african-american & 167955.5         & 107855.7         & 368             \\\\\n",
       "\t male             & asian            & 170753.5         & 112402.7         & 335             \\\\\n",
       "\t male             & caucasian        & 167829.9         & 106959.1         & 369             \\\\\n",
       "\t male             & hispanic         & 169022.1         & 110392.2         & 363             \\\\\n",
       "\\end{tabular}\n"
      ],
      "text/markdown": [
       "\n",
       "| treatment.gender | treatment.ethnicity | avg | sd | n |\n",
       "|---|---|---|---|---|\n",
       "| female           | african-american | 168605.8         | 108441.5         | 360              |\n",
       "| female           | asian            | 170438.2         | 111625.7         | 343              |\n",
       "| female           | caucasian        | 167585.4         | 109025.3         | 326              |\n",
       "| female           | hispanic         | 169962.4         | 110061.7         | 350              |\n",
       "| male             | african-american | 167955.5         | 107855.7         | 368              |\n",
       "| male             | asian            | 170753.5         | 112402.7         | 335              |\n",
       "| male             | caucasian        | 167829.9         | 106959.1         | 369              |\n",
       "| male             | hispanic         | 169022.1         | 110392.2         | 363              |\n",
       "\n"
      ],
      "text/plain": [
       "  treatment.gender treatment.ethnicity avg      sd       n  \n",
       "1 female           african-american    168605.8 108441.5 360\n",
       "2 female           asian               170438.2 111625.7 343\n",
       "3 female           caucasian           167585.4 109025.3 326\n",
       "4 female           hispanic            169962.4 110061.7 350\n",
       "5 male             african-american    167955.5 107855.7 368\n",
       "6 male             asian               170753.5 112402.7 335\n",
       "7 male             caucasian           167829.9 106959.1 369\n",
       "8 male             hispanic            169022.1 110392.2 363"
      ]
     },
     "metadata": {},
     "output_type": "display_data"
    },
    {
     "data": {
      "text/html": [
       "<table>\n",
       "<thead><tr><th scope=col>treatment.gender</th><th scope=col>treatment.ethnicity</th><th scope=col>avg</th><th scope=col>sd</th><th scope=col>n</th></tr></thead>\n",
       "<tbody>\n",
       "\t<tr><td>female          </td><td>african-american</td><td>211871.5        </td><td>125303.6        </td><td>670             </td></tr>\n",
       "\t<tr><td>female          </td><td>asian           </td><td>211399.2        </td><td>124990.8        </td><td>670             </td></tr>\n",
       "\t<tr><td>female          </td><td>caucasian       </td><td>215972.7        </td><td>131233.2        </td><td>650             </td></tr>\n",
       "\t<tr><td>female          </td><td>hispanic        </td><td>212214.0        </td><td>126709.8        </td><td>690             </td></tr>\n",
       "\t<tr><td>male            </td><td>african-american</td><td>214731.0        </td><td>129515.4        </td><td>700             </td></tr>\n",
       "\t<tr><td>male            </td><td>asian           </td><td>217588.4        </td><td>133160.6        </td><td>720             </td></tr>\n",
       "\t<tr><td>male            </td><td>caucasian       </td><td>213385.9        </td><td>129501.1        </td><td>710             </td></tr>\n",
       "\t<tr><td>male            </td><td>hispanic        </td><td>214387.5        </td><td>126593.1        </td><td>600             </td></tr>\n",
       "</tbody>\n",
       "</table>\n"
      ],
      "text/latex": [
       "\\begin{tabular}{r|lllll}\n",
       " treatment.gender & treatment.ethnicity & avg & sd & n\\\\\n",
       "\\hline\n",
       "\t female           & african-american & 211871.5         & 125303.6         & 670             \\\\\n",
       "\t female           & asian            & 211399.2         & 124990.8         & 670             \\\\\n",
       "\t female           & caucasian        & 215972.7         & 131233.2         & 650             \\\\\n",
       "\t female           & hispanic         & 212214.0         & 126709.8         & 690             \\\\\n",
       "\t male             & african-american & 214731.0         & 129515.4         & 700             \\\\\n",
       "\t male             & asian            & 217588.4         & 133160.6         & 720             \\\\\n",
       "\t male             & caucasian        & 213385.9         & 129501.1         & 710             \\\\\n",
       "\t male             & hispanic         & 214387.5         & 126593.1         & 600             \\\\\n",
       "\\end{tabular}\n"
      ],
      "text/markdown": [
       "\n",
       "| treatment.gender | treatment.ethnicity | avg | sd | n |\n",
       "|---|---|---|---|---|\n",
       "| female           | african-american | 211871.5         | 125303.6         | 670              |\n",
       "| female           | asian            | 211399.2         | 124990.8         | 670              |\n",
       "| female           | caucasian        | 215972.7         | 131233.2         | 650              |\n",
       "| female           | hispanic         | 212214.0         | 126709.8         | 690              |\n",
       "| male             | african-american | 214731.0         | 129515.4         | 700              |\n",
       "| male             | asian            | 217588.4         | 133160.6         | 720              |\n",
       "| male             | caucasian        | 213385.9         | 129501.1         | 710              |\n",
       "| male             | hispanic         | 214387.5         | 126593.1         | 600              |\n",
       "\n"
      ],
      "text/plain": [
       "  treatment.gender treatment.ethnicity avg      sd       n  \n",
       "1 female           african-american    211871.5 125303.6 670\n",
       "2 female           asian               211399.2 124990.8 670\n",
       "3 female           caucasian           215972.7 131233.2 650\n",
       "4 female           hispanic            212214.0 126709.8 690\n",
       "5 male             african-american    214731.0 129515.4 700\n",
       "6 male             asian               217588.4 133160.6 720\n",
       "7 male             caucasian           213385.9 129501.1 710\n",
       "8 male             hispanic            214387.5 126593.1 600"
      ]
     },
     "metadata": {},
     "output_type": "display_data"
    }
   ],
   "source": [
    "truliaRankings %>%\n",
    "    filter(price <= 1500000) %>%\n",
    "    filter(url == 'https://www.trulia.com/IL/Chicago/') %>%\n",
    "#     filter(url == 'https://www.trulia.com/County/IL/Champaign_Real_Estate/' | url == 'https://www.trulia.com/IL/Champaign/') %>%\n",
    "    group_by(treatment.gender, treatment.ethnicity) %>%\n",
    "    summarise(avg=mean(price), sd=sd(price), n=n())\n",
    "\n",
    "truliaRankings %>%\n",
    "    filter(price <= 1500000) %>%\n",
    "#     filter(url == 'https://www.trulia.com/IL/Chicago/') %>%\n",
    "    filter(url == 'https://www.trulia.com/County/IL/Champaign_Real_Estate/' | url == 'https://www.trulia.com/IL/Champaign/') %>%\n",
    "    group_by(treatment.gender, treatment.ethnicity) %>%\n",
    "    summarise(avg=mean(price), sd=sd(price), n=n()) "
   ]
  },
  {
   "cell_type": "code",
   "execution_count": 607,
   "metadata": {},
   "outputs": [
    {
     "data": {
      "text/html": [
       "<table>\n",
       "<thead><tr><th scope=col>n</th></tr></thead>\n",
       "<tbody>\n",
       "\t<tr><td>5410</td></tr>\n",
       "</tbody>\n",
       "</table>\n"
      ],
      "text/latex": [
       "\\begin{tabular}{r|l}\n",
       " n\\\\\n",
       "\\hline\n",
       "\t 5410\\\\\n",
       "\\end{tabular}\n"
      ],
      "text/markdown": [
       "\n",
       "| n |\n",
       "|---|\n",
       "| 5410 |\n",
       "\n"
      ],
      "text/plain": [
       "  n   \n",
       "1 5410"
      ]
     },
     "metadata": {},
     "output_type": "display_data"
    }
   ],
   "source": [
    "truliaRankings %>%\n",
    "    filter(price <= 1500000) %>%\n",
    "#     filter(url == 'https://www.trulia.com/IL/Chicago/') %>%\n",
    "    filter(url == 'https://www.trulia.com/County/IL/Champaign_Real_Estate/' | url == 'https://www.trulia.com/IL/Champaign/') %>%\n",
    "    count()\n",
    "#     group_by(treatment.gender, treatment.ethnicity) %>%\n",
    "#     summarise(avg=mean(price), sd=sd(price), n=n())"
   ]
  },
  {
   "cell_type": "code",
   "execution_count": 578,
   "metadata": {},
   "outputs": [
    {
     "name": "stdout",
     "output_type": "stream",
     "text": [
      "'data.frame':\t9552 obs. of  24 variables:\n",
      " $ time               : POSIXct, format: \"2018-12-15 16:40:58\" \"2018-12-15 16:40:58\" ...\n",
      " $ type               : Factor w/ 2 levels \"ad\",\"ranking\": 2 2 2 2 2 2 2 2 2 2 ...\n",
      " $ scraper            : Factor w/ 16 levels \"BBCAdScraper\",..: 13 13 13 13 13 13 13 13 13 13 ...\n",
      " $ treatment_id       : chr  \"hispanic-female\" \"hispanic-female\" \"hispanic-female\" \"hispanic-female\" ...\n",
      " $ url                : chr  \"https://www.trulia.com/IL/Chicago/\" \"https://www.trulia.com/IL/Chicago/\" \"https://www.trulia.com/IL/Chicago/\" \"https://www.trulia.com/IL/Chicago/\" ...\n",
      " $ agent_id           : Factor w/ 1082 levels \"0046fcf8-8bb2-40d2-b20f-3659e5745d60\",..: 173 173 173 173 173 173 173 173 173 173 ...\n",
      " $ block_id           : Factor w/ 1 level \"1\": 1 1 1 1 1 1 1 1 1 1 ...\n",
      " $ query              : chr  NA NA NA NA ...\n",
      " $ treatment.gender   : Factor w/ 2 levels \"female\",\"male\": 1 1 1 1 1 1 1 1 1 1 ...\n",
      " $ treatment.ethnicity: Factor w/ 4 levels \"african-american\",..: 4 4 4 4 4 4 4 4 4 4 ...\n",
      " $ ad.query           : chr  NA NA NA NA ...\n",
      " $ ad.additional      : chr  NA NA NA NA ...\n",
      " $ type1              : chr  \"ScrapeType.BUY\" \"ScrapeType.BUY\" \"ScrapeType.BUY\" \"ScrapeType.BUY\" ...\n",
      " $ price              : num  104900 1800000 47500 60000 199000 ...\n",
      " $ beds               : num  3 4 4 2 3 3 5 7 5 4 ...\n",
      " $ baths              : num  2 5 2 2 1 1 3 2 3 2 ...\n",
      " $ street_address     : chr  \"5902 S Prairie Ave #1\" \"Hampden 53 by Jameson Sotheby's\" \"448 W 76th St\" \"6730 S South Shore Dr #406\" ...\n",
      " $ locality           : chr  \" Chicago \" \" Chicago \" \" Chicago \" \" Chicago \" ...\n",
      " $ region             : chr  \"IL \" \"IL \" \"IL \" \"IL \" ...\n",
      " $ postal code        : chr  \"60637\" \"60614\" \"60620\" \"60649\" ...\n",
      " $ latitude           : num  41.8 41.9 41.8 41.8 42 ...\n",
      " $ longitude          : num  -87.6 -87.6 -87.6 -87.6 -87.7 ...\n",
      " $ idx                : int  1 2 3 4 5 6 7 8 9 10 ...\n",
      " $ position           : num  0 0.693 1.099 1.386 1.609 ...\n"
     ]
    }
   ],
   "source": [
    "str(truliaRankings)"
   ]
  },
  {
   "cell_type": "markdown",
   "metadata": {
    "toc-hr-collapsed": false
   },
   "source": [
    "## Marketwide analysis"
   ]
  },
  {
   "cell_type": "markdown",
   "metadata": {
    "toc-hr-collapsed": true
   },
   "source": [
    "### Correlation between demographics and price on index"
   ]
  },
  {
   "cell_type": "markdown",
   "metadata": {},
   "source": [
    "#### All results"
   ]
  },
  {
   "cell_type": "code",
   "execution_count": 611,
   "metadata": {},
   "outputs": [
    {
     "data": {
      "text/html": [
       "<dl class=dl-horizontal>\n",
       "\t<dt>(Intercept)</dt>\n",
       "\t\t<dd>7.49289709838893</dd>\n",
       "\t<dt>treatment.gendermale</dt>\n",
       "\t\t<dd>-0.0597740944410143</dd>\n",
       "\t<dt>treatment.ethnicityasian</dt>\n",
       "\t\t<dd>0.0302773244577625</dd>\n",
       "\t<dt>treatment.ethnicitycaucasian</dt>\n",
       "\t\t<dd>-0.189372267095373</dd>\n",
       "\t<dt>treatment.ethnicityhispanic</dt>\n",
       "\t\t<dd>-0.0245009427302751</dd>\n",
       "\t<dt>price</dt>\n",
       "\t\t<dd>-1.81884174236489e-08</dd>\n",
       "\t<dt>treatment.gendermale:treatment.ethnicityasian</dt>\n",
       "\t\t<dd>-0.0248111492212653</dd>\n",
       "\t<dt>treatment.gendermale:treatment.ethnicitycaucasian</dt>\n",
       "\t\t<dd>0.172980909941014</dd>\n",
       "\t<dt>treatment.gendermale:treatment.ethnicityhispanic</dt>\n",
       "\t\t<dd>0.241962099289973</dd>\n",
       "\t<dt>treatment.gendermale:price</dt>\n",
       "\t\t<dd>-2.07661218316662e-08</dd>\n",
       "\t<dt>treatment.ethnicityasian:price</dt>\n",
       "\t\t<dd>1.12521494912187e-08</dd>\n",
       "\t<dt>treatment.ethnicitycaucasian:price</dt>\n",
       "\t\t<dd>1.21196503922008e-08</dd>\n",
       "\t<dt>treatment.ethnicityhispanic:price</dt>\n",
       "\t\t<dd>8.61160520019478e-09</dd>\n",
       "\t<dt>treatment.gendermale:treatment.ethnicityasian:price</dt>\n",
       "\t\t<dd>3.90297605761284e-08</dd>\n",
       "\t<dt>treatment.gendermale:treatment.ethnicitycaucasian:price</dt>\n",
       "\t\t<dd>-1.38239776992579e-08</dd>\n",
       "\t<dt>treatment.gendermale:treatment.ethnicityhispanic:price</dt>\n",
       "\t\t<dd>-1.77770728322383e-08</dd>\n",
       "</dl>\n"
      ],
      "text/latex": [
       "\\begin{description*}\n",
       "\\item[(Intercept)] 7.49289709838893\n",
       "\\item[treatment.gendermale] -0.0597740944410143\n",
       "\\item[treatment.ethnicityasian] 0.0302773244577625\n",
       "\\item[treatment.ethnicitycaucasian] -0.189372267095373\n",
       "\\item[treatment.ethnicityhispanic] -0.0245009427302751\n",
       "\\item[price] -1.81884174236489e-08\n",
       "\\item[treatment.gendermale:treatment.ethnicityasian] -0.0248111492212653\n",
       "\\item[treatment.gendermale:treatment.ethnicitycaucasian] 0.172980909941014\n",
       "\\item[treatment.gendermale:treatment.ethnicityhispanic] 0.241962099289973\n",
       "\\item[treatment.gendermale:price] -2.07661218316662e-08\n",
       "\\item[treatment.ethnicityasian:price] 1.12521494912187e-08\n",
       "\\item[treatment.ethnicitycaucasian:price] 1.21196503922008e-08\n",
       "\\item[treatment.ethnicityhispanic:price] 8.61160520019478e-09\n",
       "\\item[treatment.gendermale:treatment.ethnicityasian:price] 3.90297605761284e-08\n",
       "\\item[treatment.gendermale:treatment.ethnicitycaucasian:price] -1.38239776992579e-08\n",
       "\\item[treatment.gendermale:treatment.ethnicityhispanic:price] -1.77770728322383e-08\n",
       "\\end{description*}\n"
      ],
      "text/markdown": [
       "(Intercept)\n",
       ":   7.49289709838893treatment.gendermale\n",
       ":   -0.0597740944410143treatment.ethnicityasian\n",
       ":   0.0302773244577625treatment.ethnicitycaucasian\n",
       ":   -0.189372267095373treatment.ethnicityhispanic\n",
       ":   -0.0245009427302751price\n",
       ":   -1.81884174236489e-08treatment.gendermale:treatment.ethnicityasian\n",
       ":   -0.0248111492212653treatment.gendermale:treatment.ethnicitycaucasian\n",
       ":   0.172980909941014treatment.gendermale:treatment.ethnicityhispanic\n",
       ":   0.241962099289973treatment.gendermale:price\n",
       ":   -2.07661218316662e-08treatment.ethnicityasian:price\n",
       ":   1.12521494912187e-08treatment.ethnicitycaucasian:price\n",
       ":   1.21196503922008e-08treatment.ethnicityhispanic:price\n",
       ":   8.61160520019478e-09treatment.gendermale:treatment.ethnicityasian:price\n",
       ":   3.90297605761284e-08treatment.gendermale:treatment.ethnicitycaucasian:price\n",
       ":   -1.38239776992579e-08treatment.gendermale:treatment.ethnicityhispanic:price\n",
       ":   -1.77770728322383e-08\n",
       "\n"
      ],
      "text/plain": [
       "                                            (Intercept) \n",
       "                                           7.492897e+00 \n",
       "                                   treatment.gendermale \n",
       "                                          -5.977409e-02 \n",
       "                               treatment.ethnicityasian \n",
       "                                           3.027732e-02 \n",
       "                           treatment.ethnicitycaucasian \n",
       "                                          -1.893723e-01 \n",
       "                            treatment.ethnicityhispanic \n",
       "                                          -2.450094e-02 \n",
       "                                                  price \n",
       "                                          -1.818842e-08 \n",
       "          treatment.gendermale:treatment.ethnicityasian \n",
       "                                          -2.481115e-02 \n",
       "      treatment.gendermale:treatment.ethnicitycaucasian \n",
       "                                           1.729809e-01 \n",
       "       treatment.gendermale:treatment.ethnicityhispanic \n",
       "                                           2.419621e-01 \n",
       "                             treatment.gendermale:price \n",
       "                                          -2.076612e-08 \n",
       "                         treatment.ethnicityasian:price \n",
       "                                           1.125215e-08 \n",
       "                     treatment.ethnicitycaucasian:price \n",
       "                                           1.211965e-08 \n",
       "                      treatment.ethnicityhispanic:price \n",
       "                                           8.611605e-09 \n",
       "    treatment.gendermale:treatment.ethnicityasian:price \n",
       "                                           3.902976e-08 \n",
       "treatment.gendermale:treatment.ethnicitycaucasian:price \n",
       "                                          -1.382398e-08 \n",
       " treatment.gendermale:treatment.ethnicityhispanic:price \n",
       "                                          -1.777707e-08 "
      ]
     },
     "metadata": {},
     "output_type": "display_data"
    }
   ],
   "source": [
    "res.trulia <- aov(idx ~ treatment.gender * treatment.ethnicity * price, data=truliaRankings)\n",
    "# summary(res.trulia) %>% xtable() %>% print()\n",
    "coefficients(res.trulia)"
   ]
  },
  {
   "cell_type": "markdown",
   "metadata": {},
   "source": [
    "#### Top 20"
   ]
  },
  {
   "cell_type": "code",
   "execution_count": 192,
   "metadata": {},
   "outputs": [
    {
     "data": {
      "text/plain": [
       "                                             Df Sum Sq Mean Sq F value   Pr(>F)\n",
       "treatment.ethnicity                           3      5    1.82   0.123 0.946350\n",
       "treatment.gender                              1      0    0.17   0.012 0.914338\n",
       "price                                         1    212  212.27  14.412 0.000148\n",
       "treatment.ethnicity:treatment.gender          3      3    1.07   0.073 0.974612\n",
       "treatment.ethnicity:price                     3      0    0.05   0.003 0.999767\n",
       "treatment.gender:price                        1      0    0.22   0.015 0.902368\n",
       "treatment.ethnicity:treatment.gender:price    3      1    0.34   0.023 0.995195\n",
       "Residuals                                  7884 116123   14.73                 \n",
       "                                              \n",
       "treatment.ethnicity                           \n",
       "treatment.gender                              \n",
       "price                                      ***\n",
       "treatment.ethnicity:treatment.gender          \n",
       "treatment.ethnicity:price                     \n",
       "treatment.gender:price                        \n",
       "treatment.ethnicity:treatment.gender:price    \n",
       "Residuals                                     \n",
       "---\n",
       "Signif. codes:  0 ‘***’ 0.001 ‘**’ 0.01 ‘*’ 0.05 ‘.’ 0.1 ‘ ’ 1"
      ]
     },
     "metadata": {},
     "output_type": "display_data"
    }
   ],
   "source": [
    "res.trulia <- aov(idx ~ treatment.ethnicity * treatment.gender * price, data=filter(truliaRankings, idx <= 20))\n",
    "summary(res.trulia)"
   ]
  },
  {
   "cell_type": "markdown",
   "metadata": {},
   "source": [
    "#### Top 10"
   ]
  },
  {
   "cell_type": "code",
   "execution_count": 193,
   "metadata": {},
   "outputs": [
    {
     "data": {
      "text/plain": [
       "                                             Df Sum Sq Mean Sq F value Pr(>F)\n",
       "treatment.ethnicity                           3      0    0.00   0.000 1.0000\n",
       "treatment.gender                              1      0    0.00   0.000 1.0000\n",
       "price                                         1     70   70.45   8.531 0.0035\n",
       "treatment.ethnicity:treatment.gender          3      0    0.00   0.000 1.0000\n",
       "treatment.ethnicity:price                     3      0    0.08   0.010 0.9986\n",
       "treatment.gender:price                        1      0    0.41   0.050 0.8237\n",
       "treatment.ethnicity:treatment.gender:price    3      1    0.31   0.037 0.9905\n",
       "Residuals                                  7334  60565    8.26               \n",
       "                                             \n",
       "treatment.ethnicity                          \n",
       "treatment.gender                             \n",
       "price                                      **\n",
       "treatment.ethnicity:treatment.gender         \n",
       "treatment.ethnicity:price                    \n",
       "treatment.gender:price                       \n",
       "treatment.ethnicity:treatment.gender:price   \n",
       "Residuals                                    \n",
       "---\n",
       "Signif. codes:  0 ‘***’ 0.001 ‘**’ 0.01 ‘*’ 0.05 ‘.’ 0.1 ‘ ’ 1"
      ]
     },
     "metadata": {},
     "output_type": "display_data"
    }
   ],
   "source": [
    "res.trulia <- aov(idx ~ treatment.ethnicity * treatment.gender * price, data=filter(truliaRankings, idx <= 10))\n",
    "summary(res.trulia)"
   ]
  },
  {
   "cell_type": "markdown",
   "metadata": {},
   "source": [
    "#### Top 5"
   ]
  },
  {
   "cell_type": "code",
   "execution_count": 194,
   "metadata": {},
   "outputs": [
    {
     "data": {
      "text/plain": [
       "                                             Df Sum Sq Mean Sq F value Pr(>F)\n",
       "treatment.ethnicity                           3      0  0.0000   0.000  1.000\n",
       "treatment.gender                              1      0  0.0000   0.000  1.000\n",
       "price                                         1      0  0.2558   0.127  0.721\n",
       "treatment.ethnicity:treatment.gender          3      0  0.0000   0.000  1.000\n",
       "treatment.ethnicity:price                     3      1  0.3891   0.194  0.901\n",
       "treatment.gender:price                        1      0  0.2047   0.102  0.749\n",
       "treatment.ethnicity:treatment.gender:price    3      5  1.6847   0.839  0.472\n",
       "Residuals                                  3659   7343  2.0069               "
      ]
     },
     "metadata": {},
     "output_type": "display_data"
    }
   ],
   "source": [
    "res.trulia <- aov(idx ~ treatment.ethnicity * treatment.gender * price, data=filter(truliaRankings, idx <= 5))\n",
    "summary(res.trulia)"
   ]
  },
  {
   "cell_type": "markdown",
   "metadata": {},
   "source": [
    "#### Top 3"
   ]
  },
  {
   "cell_type": "code",
   "execution_count": 195,
   "metadata": {},
   "outputs": [
    {
     "data": {
      "text/plain": [
       "                                             Df Sum Sq Mean Sq F value Pr(>F)\n",
       "treatment.ethnicity                           3    0.0  0.0000   0.000  1.000\n",
       "treatment.gender                              1    0.0  0.0000   0.000  1.000\n",
       "price                                         1    1.5  1.5114   2.255  0.133\n",
       "treatment.ethnicity:treatment.gender          3    0.0  0.0002   0.000  1.000\n",
       "treatment.ethnicity:price                     3    0.1  0.0279   0.042  0.989\n",
       "treatment.gender:price                        1    0.1  0.1057   0.158  0.691\n",
       "treatment.ethnicity:treatment.gender:price    3    0.8  0.2789   0.416  0.741\n",
       "Residuals                                  2189 1467.5  0.6704               "
      ]
     },
     "metadata": {},
     "output_type": "display_data"
    }
   ],
   "source": [
    "res.trulia <- aov(idx ~ treatment.ethnicity * treatment.gender * price, data=filter(truliaRankings, idx <= 3))\n",
    "summary(res.trulia)"
   ]
  },
  {
   "cell_type": "markdown",
   "metadata": {
    "toc-hr-collapsed": true
   },
   "source": [
    "### Correlation between demographics and index on price"
   ]
  },
  {
   "cell_type": "markdown",
   "metadata": {
    "toc-hr-collapsed": false
   },
   "source": [
    "#### All results"
   ]
  },
  {
   "cell_type": "code",
   "execution_count": 593,
   "metadata": {},
   "outputs": [
    {
     "name": "stdout",
     "output_type": "stream",
     "text": [
      "% latex table generated in R 3.4.4 by xtable 1.8-3 package\n",
      "% Tue May  7 20:42:05 2019\n",
      "\\begin{table}[ht]\n",
      "\\centering\n",
      "\\begin{tabular}{lrrrrr}\n",
      "  \\toprule\n",
      " & Df & Sum Sq & Mean Sq & F value & Pr($>$F) \\\\ \n",
      "  \\midrule\n",
      "treatment.ethnicity & 3 & 9083833238670.66 & 3027944412890.22 & 0.19 & 0.9006 \\\\ \n",
      "  treatment.gender & 1 & 275458746578.95 & 275458746578.95 & 0.02 & 0.8943 \\\\ \n",
      "  idx & 1 & 25138931068324.79 & 25138931068324.79 & 1.61 & 0.2045 \\\\ \n",
      "  treatment.ethnicity:treatment.gender & 3 & 2228573534232.25 & 742857844744.08 & 0.05 & 0.9863 \\\\ \n",
      "  treatment.ethnicity:idx & 3 & 9817297436984.82 & 3272432478994.94 & 0.21 & 0.8898 \\\\ \n",
      "  treatment.gender:idx & 1 & 5922015375075.53 & 5922015375075.53 & 0.38 & 0.5380 \\\\ \n",
      "  treatment.ethnicity:treatment.gender:idx & 3 & 6618307088867.45 & 2206102362955.82 & 0.14 & 0.9353 \\\\ \n",
      "  Residuals & 8434 & 131702140751824096.00 & 15615620198224.34 &  &  \\\\ \n",
      "   \\bottomrule\n",
      "\\end{tabular}\n",
      "\\end{table}\n"
     ]
    }
   ],
   "source": [
    "res.trulia <- aov(price ~ treatment.ethnicity * treatment.gender * idx, data=truliaRankings)\n",
    "# summary(res.trulia) %>% xtable(display=c(\"s\",\"d\",\"g\",\"g\",\"f\",\"f\")) %>% print(math.style.exponents = TRUE)\n",
    "xtable(res.trulia) %>%\n",
    "  print(booktabs = TRUE)"
   ]
  },
  {
   "cell_type": "markdown",
   "metadata": {
    "toc-hr-collapsed": false
   },
   "source": [
    "#### Top 20"
   ]
  },
  {
   "cell_type": "code",
   "execution_count": 197,
   "metadata": {},
   "outputs": [
    {
     "data": {
      "text/plain": [
       "                                           Df    Sum Sq   Mean Sq F value\n",
       "treatment.ethnicity                         3 1.236e+13 4.119e+12   0.259\n",
       "treatment.gender                            1 5.185e+10 5.185e+10   0.003\n",
       "idx                                         1 2.295e+14 2.295e+14  14.412\n",
       "treatment.ethnicity:treatment.gender        3 3.802e+12 1.267e+12   0.080\n",
       "treatment.ethnicity:idx                     3 3.227e+12 1.076e+12   0.068\n",
       "treatment.gender:idx                        1 2.118e+11 2.118e+11   0.013\n",
       "treatment.ethnicity:treatment.gender:idx    3 2.002e+12 6.673e+11   0.042\n",
       "Residuals                                7884 1.255e+17 1.592e+13        \n",
       "                                           Pr(>F)    \n",
       "treatment.ethnicity                      0.855179    \n",
       "treatment.gender                         0.954494    \n",
       "idx                                      0.000148 ***\n",
       "treatment.ethnicity:treatment.gender     0.971094    \n",
       "treatment.ethnicity:idx                  0.977151    \n",
       "treatment.gender:idx                     0.908184    \n",
       "treatment.ethnicity:treatment.gender:idx 0.988578    \n",
       "Residuals                                            \n",
       "---\n",
       "Signif. codes:  0 ‘***’ 0.001 ‘**’ 0.01 ‘*’ 0.05 ‘.’ 0.1 ‘ ’ 1"
      ]
     },
     "metadata": {},
     "output_type": "display_data"
    }
   ],
   "source": [
    "res.trulia <- aov(price ~ treatment.ethnicity * treatment.gender * idx, data=filter(truliaRankings, idx <= 20))\n",
    "summary(res.trulia)"
   ]
  },
  {
   "cell_type": "markdown",
   "metadata": {},
   "source": [
    "#### Top 10"
   ]
  },
  {
   "cell_type": "code",
   "execution_count": 198,
   "metadata": {},
   "outputs": [
    {
     "data": {
      "text/plain": [
       "                                           Df    Sum Sq   Mean Sq F value\n",
       "treatment.ethnicity                         3 1.318e+13 4.395e+12   0.257\n",
       "treatment.gender                            1 9.345e+10 9.345e+10   0.005\n",
       "idx                                         1 1.460e+14 1.460e+14   8.531\n",
       "treatment.ethnicity:treatment.gender        3 3.975e+12 1.325e+12   0.077\n",
       "treatment.ethnicity:idx                     3 2.667e+12 8.889e+11   0.052\n",
       "treatment.gender:idx                        1 6.834e+11 6.834e+11   0.040\n",
       "treatment.ethnicity:treatment.gender:idx    3 2.862e+12 9.539e+11   0.056\n",
       "Residuals                                7334 1.255e+17 1.711e+13        \n",
       "                                         Pr(>F)   \n",
       "treatment.ethnicity                      0.8565   \n",
       "treatment.gender                         0.9411   \n",
       "idx                                      0.0035 **\n",
       "treatment.ethnicity:treatment.gender     0.9722   \n",
       "treatment.ethnicity:idx                  0.9844   \n",
       "treatment.gender:idx                     0.8416   \n",
       "treatment.ethnicity:treatment.gender:idx 0.9827   \n",
       "Residuals                                         \n",
       "---\n",
       "Signif. codes:  0 ‘***’ 0.001 ‘**’ 0.01 ‘*’ 0.05 ‘.’ 0.1 ‘ ’ 1"
      ]
     },
     "metadata": {},
     "output_type": "display_data"
    }
   ],
   "source": [
    "res.trulia <- aov(price ~ treatment.ethnicity * treatment.gender * idx, data=filter(truliaRankings, idx <= 10))\n",
    "summary(res.trulia)"
   ]
  },
  {
   "cell_type": "markdown",
   "metadata": {},
   "source": [
    "#### Top 5"
   ]
  },
  {
   "cell_type": "code",
   "execution_count": 199,
   "metadata": {},
   "outputs": [
    {
     "data": {
      "text/plain": [
       "                                           Df    Sum Sq   Mean Sq F value\n",
       "treatment.ethnicity                         3 4.603e+12 1.534e+12   0.088\n",
       "treatment.gender                            1 5.707e+10 5.707e+10   0.003\n",
       "idx                                         1 2.227e+12 2.227e+12   0.127\n",
       "treatment.ethnicity:treatment.gender        3 4.205e+12 1.402e+12   0.080\n",
       "treatment.ethnicity:idx                     3 9.316e+12 3.105e+12   0.178\n",
       "treatment.gender:idx                        1 2.088e+12 2.088e+12   0.120\n",
       "treatment.ethnicity:treatment.gender:idx    3 4.224e+13 1.408e+13   0.806\n",
       "Residuals                                3659 6.390e+16 1.747e+13        \n",
       "                                         Pr(>F)\n",
       "treatment.ethnicity                       0.967\n",
       "treatment.gender                          0.954\n",
       "idx                                       0.721\n",
       "treatment.ethnicity:treatment.gender      0.971\n",
       "treatment.ethnicity:idx                   0.911\n",
       "treatment.gender:idx                      0.730\n",
       "treatment.ethnicity:treatment.gender:idx  0.490\n",
       "Residuals                                      "
      ]
     },
     "metadata": {},
     "output_type": "display_data"
    }
   ],
   "source": [
    "res.trulia <- aov(price ~ treatment.ethnicity * treatment.gender * idx, data=filter(truliaRankings, idx <= 5))\n",
    "summary(res.trulia)"
   ]
  },
  {
   "cell_type": "markdown",
   "metadata": {},
   "source": [
    "#### Top 3"
   ]
  },
  {
   "cell_type": "code",
   "execution_count": 200,
   "metadata": {},
   "outputs": [
    {
     "data": {
      "text/plain": [
       "                                           Df    Sum Sq   Mean Sq F value\n",
       "treatment.ethnicity                         3 1.804e+13 6.013e+12   0.347\n",
       "treatment.gender                            1 1.137e+12 1.137e+12   0.066\n",
       "idx                                         1 3.909e+13 3.909e+13   2.255\n",
       "treatment.ethnicity:treatment.gender        3 1.318e+13 4.393e+12   0.253\n",
       "treatment.ethnicity:idx                     3 3.860e+12 1.287e+12   0.074\n",
       "treatment.gender:idx                        1 1.216e+12 1.216e+12   0.070\n",
       "treatment.ethnicity:treatment.gender:idx    3 1.598e+13 5.328e+12   0.307\n",
       "Residuals                                2189 3.794e+16 1.733e+13        \n",
       "                                         Pr(>F)\n",
       "treatment.ethnicity                       0.791\n",
       "treatment.gender                          0.798\n",
       "idx                                       0.133\n",
       "treatment.ethnicity:treatment.gender      0.859\n",
       "treatment.ethnicity:idx                   0.974\n",
       "treatment.gender:idx                      0.791\n",
       "treatment.ethnicity:treatment.gender:idx  0.820\n",
       "Residuals                                      "
      ]
     },
     "metadata": {},
     "output_type": "display_data"
    }
   ],
   "source": [
    "res.trulia <- aov(price ~ treatment.ethnicity * treatment.gender * idx, data=filter(truliaRankings, idx <= 3))\n",
    "summary(res.trulia)"
   ]
  },
  {
   "cell_type": "markdown",
   "metadata": {
    "toc-hr-collapsed": true
   },
   "source": [
    "### Correlation between demographics on price"
   ]
  },
  {
   "cell_type": "markdown",
   "metadata": {
    "toc-hr-collapsed": false
   },
   "source": [
    "#### All results"
   ]
  },
  {
   "cell_type": "code",
   "execution_count": 201,
   "metadata": {},
   "outputs": [
    {
     "data": {
      "text/plain": [
       "                                       Df    Sum Sq   Mean Sq F value Pr(>F)\n",
       "treatment.ethnicity                     3 9.084e+12 3.028e+12   0.194  0.901\n",
       "treatment.gender                        1 2.755e+11 2.755e+11   0.018  0.894\n",
       "treatment.ethnicity:treatment.gender    3 2.122e+12 7.074e+11   0.045  0.987\n",
       "Residuals                            8442 1.317e+17 1.561e+13               "
      ]
     },
     "metadata": {},
     "output_type": "display_data"
    }
   ],
   "source": [
    "res.trulia <- aov(price ~ treatment.ethnicity * treatment.gender, data=truliaRankings)\n",
    "summary(res.trulia)"
   ]
  },
  {
   "cell_type": "markdown",
   "metadata": {
    "toc-hr-collapsed": false
   },
   "source": [
    "#### Top 20"
   ]
  },
  {
   "cell_type": "code",
   "execution_count": 202,
   "metadata": {},
   "outputs": [
    {
     "data": {
      "text/plain": [
       "                                       Df    Sum Sq   Mean Sq F value Pr(>F)\n",
       "treatment.ethnicity                     3 1.236e+13 4.119e+12   0.258  0.855\n",
       "treatment.gender                        1 5.185e+10 5.185e+10   0.003  0.955\n",
       "treatment.ethnicity:treatment.gender    3 3.558e+12 1.186e+12   0.074  0.974\n",
       "Residuals                            7892 1.258e+17 1.593e+13               "
      ]
     },
     "metadata": {},
     "output_type": "display_data"
    }
   ],
   "source": [
    "res.trulia <- aov(price ~ treatment.ethnicity * treatment.gender, data=filter(truliaRankings, idx <= 20))\n",
    "summary(res.trulia)"
   ]
  },
  {
   "cell_type": "markdown",
   "metadata": {},
   "source": [
    "#### Top 10"
   ]
  },
  {
   "cell_type": "code",
   "execution_count": 203,
   "metadata": {},
   "outputs": [
    {
     "data": {
      "text/plain": [
       "                                       Df    Sum Sq   Mean Sq F value Pr(>F)\n",
       "treatment.ethnicity                     3 1.318e+13 4.395e+12   0.257  0.857\n",
       "treatment.gender                        1 9.345e+10 9.345e+10   0.005  0.941\n",
       "treatment.ethnicity:treatment.gender    3 3.975e+12 1.325e+12   0.077  0.972\n",
       "Residuals                            7342 1.257e+17 1.711e+13               "
      ]
     },
     "metadata": {},
     "output_type": "display_data"
    }
   ],
   "source": [
    "res.trulia <- aov(price ~ treatment.ethnicity * treatment.gender, data=filter(truliaRankings, idx <= 10))\n",
    "summary(res.trulia)"
   ]
  },
  {
   "cell_type": "markdown",
   "metadata": {},
   "source": [
    "#### Top 5"
   ]
  },
  {
   "cell_type": "code",
   "execution_count": 204,
   "metadata": {},
   "outputs": [
    {
     "data": {
      "text/plain": [
       "                                       Df    Sum Sq   Mean Sq F value Pr(>F)\n",
       "treatment.ethnicity                     3 4.603e+12 1.534e+12   0.088  0.967\n",
       "treatment.gender                        1 5.707e+10 5.707e+10   0.003  0.954\n",
       "treatment.ethnicity:treatment.gender    3 4.205e+12 1.402e+12   0.080  0.971\n",
       "Residuals                            3667 6.396e+16 1.744e+13               "
      ]
     },
     "metadata": {},
     "output_type": "display_data"
    }
   ],
   "source": [
    "res.trulia <- aov(price ~ treatment.ethnicity * treatment.gender, data=filter(truliaRankings, idx <= 5))\n",
    "summary(res.trulia)"
   ]
  },
  {
   "cell_type": "markdown",
   "metadata": {},
   "source": [
    "#### Top 3"
   ]
  },
  {
   "cell_type": "code",
   "execution_count": 205,
   "metadata": {},
   "outputs": [
    {
     "data": {
      "text/plain": [
       "                                       Df    Sum Sq   Mean Sq F value Pr(>F)\n",
       "treatment.ethnicity                     3 1.804e+13 6.013e+12   0.348  0.791\n",
       "treatment.gender                        1 1.137e+12 1.137e+12   0.066  0.798\n",
       "treatment.ethnicity:treatment.gender    3 1.318e+13 4.393e+12   0.254  0.859\n",
       "Residuals                            2197 3.800e+16 1.730e+13               "
      ]
     },
     "metadata": {},
     "output_type": "display_data"
    }
   ],
   "source": [
    "res.trulia <- aov(price ~ treatment.ethnicity * treatment.gender, data=filter(truliaRankings, idx <= 3))\n",
    "summary(res.trulia)"
   ]
  },
  {
   "cell_type": "markdown",
   "metadata": {},
   "source": [
    "#### Top Result"
   ]
  },
  {
   "cell_type": "code",
   "execution_count": 206,
   "metadata": {},
   "outputs": [
    {
     "data": {
      "text/plain": [
       "                                      Df    Sum Sq   Mean Sq F value Pr(>F)\n",
       "treatment.ethnicity                    3 8.280e+12 2.760e+12   0.144  0.934\n",
       "treatment.gender                       1 3.256e+12 3.256e+12   0.170  0.680\n",
       "treatment.ethnicity:treatment.gender   3 8.596e+12 2.865e+12   0.149  0.930\n",
       "Residuals                            727 1.394e+16 1.918e+13               "
      ]
     },
     "metadata": {},
     "output_type": "display_data"
    }
   ],
   "source": [
    "res.trulia <- aov(price ~ treatment.ethnicity * treatment.gender, data=filter(truliaRankings, idx == 1))\n",
    "summary(res.trulia)"
   ]
  },
  {
   "cell_type": "markdown",
   "metadata": {
    "toc-hr-collapsed": true
   },
   "source": [
    "### Demographic comparisons"
   ]
  },
  {
   "cell_type": "markdown",
   "metadata": {
    "toc-hr-collapsed": true
   },
   "source": [
    "#### By price"
   ]
  },
  {
   "cell_type": "code",
   "execution_count": 573,
   "metadata": {},
   "outputs": [
    {
     "data": {
      "text/html": [
       "<table>\n",
       "<thead><tr><th scope=col>treatment.ethnicity</th><th scope=col>treatment.gender</th><th scope=col>price</th></tr></thead>\n",
       "<tbody>\n",
       "\t<tr><td>african-american</td><td>female          </td><td>204216.6        </td></tr>\n",
       "\t<tr><td>african-american</td><td>male            </td><td>205580.3        </td></tr>\n",
       "\t<tr><td>asian           </td><td>female          </td><td>205097.1        </td></tr>\n",
       "\t<tr><td>asian           </td><td>male            </td><td>208957.1        </td></tr>\n",
       "\t<tr><td>caucasian       </td><td>female          </td><td>207585.3        </td></tr>\n",
       "\t<tr><td>caucasian       </td><td>male            </td><td>205139.9        </td></tr>\n",
       "\t<tr><td>hispanic        </td><td>female          </td><td>205524.9        </td></tr>\n",
       "\t<tr><td>hispanic        </td><td>male            </td><td>205291.4        </td></tr>\n",
       "</tbody>\n",
       "</table>\n"
      ],
      "text/latex": [
       "\\begin{tabular}{r|lll}\n",
       " treatment.ethnicity & treatment.gender & price\\\\\n",
       "\\hline\n",
       "\t african-american & female           & 204216.6        \\\\\n",
       "\t african-american & male             & 205580.3        \\\\\n",
       "\t asian            & female           & 205097.1        \\\\\n",
       "\t asian            & male             & 208957.1        \\\\\n",
       "\t caucasian        & female           & 207585.3        \\\\\n",
       "\t caucasian        & male             & 205139.9        \\\\\n",
       "\t hispanic         & female           & 205524.9        \\\\\n",
       "\t hispanic         & male             & 205291.4        \\\\\n",
       "\\end{tabular}\n"
      ],
      "text/markdown": [
       "\n",
       "| treatment.ethnicity | treatment.gender | price |\n",
       "|---|---|---|\n",
       "| african-american | female           | 204216.6         |\n",
       "| african-american | male             | 205580.3         |\n",
       "| asian            | female           | 205097.1         |\n",
       "| asian            | male             | 208957.1         |\n",
       "| caucasian        | female           | 207585.3         |\n",
       "| caucasian        | male             | 205139.9         |\n",
       "| hispanic         | female           | 205524.9         |\n",
       "| hispanic         | male             | 205291.4         |\n",
       "\n"
      ],
      "text/plain": [
       "  treatment.ethnicity treatment.gender price   \n",
       "1 african-american    female           204216.6\n",
       "2 african-american    male             205580.3\n",
       "3 asian               female           205097.1\n",
       "4 asian               male             208957.1\n",
       "5 caucasian           female           207585.3\n",
       "6 caucasian           male             205139.9\n",
       "7 hispanic            female           205524.9\n",
       "8 hispanic            male             205291.4"
      ]
     },
     "metadata": {},
     "output_type": "display_data"
    }
   ],
   "source": [
    "truliaRankings %>%\n",
    "    filter(price <= 1500000) %>%\n",
    "    group_by(treatment.ethnicity, treatment.gender) %>%\n",
    "    summarise_at(vars(price), mean, na.rm = TRUE)"
   ]
  },
  {
   "cell_type": "code",
   "execution_count": 123,
   "metadata": {},
   "outputs": [
    {
     "data": {
      "text/html": [
       "<table>\n",
       "<thead><tr><th scope=col>treatment.ethnicity</th><th scope=col>price</th></tr></thead>\n",
       "<tbody>\n",
       "\t<tr><td>african-american</td><td>1356969         </td></tr>\n",
       "\t<tr><td>asian           </td><td>1166113         </td></tr>\n",
       "\t<tr><td>caucasian       </td><td>1289416         </td></tr>\n",
       "\t<tr><td>hispanic        </td><td>1266158         </td></tr>\n",
       "</tbody>\n",
       "</table>\n"
      ],
      "text/latex": [
       "\\begin{tabular}{r|ll}\n",
       " treatment.ethnicity & price\\\\\n",
       "\\hline\n",
       "\t african-american & 1356969         \\\\\n",
       "\t asian            & 1166113         \\\\\n",
       "\t caucasian        & 1289416         \\\\\n",
       "\t hispanic         & 1266158         \\\\\n",
       "\\end{tabular}\n"
      ],
      "text/markdown": [
       "\n",
       "| treatment.ethnicity | price |\n",
       "|---|---|\n",
       "| african-american | 1356969          |\n",
       "| asian            | 1166113          |\n",
       "| caucasian        | 1289416          |\n",
       "| hispanic         | 1266158          |\n",
       "\n"
      ],
      "text/plain": [
       "  treatment.ethnicity price  \n",
       "1 african-american    1356969\n",
       "2 asian               1166113\n",
       "3 caucasian           1289416\n",
       "4 hispanic            1266158"
      ]
     },
     "metadata": {},
     "output_type": "display_data"
    }
   ],
   "source": [
    "truliaRankings %>%\n",
    "    group_by(treatment.ethnicity) %>%\n",
    "    summarise_at(vars(price), mean, na.rm = TRUE)"
   ]
  },
  {
   "cell_type": "code",
   "execution_count": 34,
   "metadata": {},
   "outputs": [
    {
     "data": {
      "text/html": [
       "<table>\n",
       "<thead><tr><th scope=col>treatment.gender</th><th scope=col>price</th></tr></thead>\n",
       "<tbody>\n",
       "\t<tr><td>female  </td><td>591297.8</td></tr>\n",
       "\t<tr><td>male    </td><td>581728.4</td></tr>\n",
       "</tbody>\n",
       "</table>\n"
      ],
      "text/latex": [
       "\\begin{tabular}{r|ll}\n",
       " treatment.gender & price\\\\\n",
       "\\hline\n",
       "\t female   & 591297.8\\\\\n",
       "\t male     & 581728.4\\\\\n",
       "\\end{tabular}\n"
      ],
      "text/markdown": [
       "\n",
       "| treatment.gender | price |\n",
       "|---|---|\n",
       "| female   | 591297.8 |\n",
       "| male     | 581728.4 |\n",
       "\n"
      ],
      "text/plain": [
       "  treatment.gender price   \n",
       "1 female           591297.8\n",
       "2 male             581728.4"
      ]
     },
     "metadata": {},
     "output_type": "display_data"
    }
   ],
   "source": [
    "truliaRankings %>%\n",
    "    group_by(treatment.gender) %>%\n",
    "    summarise_at(vars(price), mean, na.rm = TRUE)"
   ]
  },
  {
   "cell_type": "markdown",
   "metadata": {},
   "source": [
    "##### Top 10"
   ]
  },
  {
   "cell_type": "code",
   "execution_count": null,
   "metadata": {},
   "outputs": [],
   "source": [
    "truliaRankings %>%\n",
    "    filter(idx <= 10) %>%\n",
    "    group_by(treatment.ethnicity, treatment.gender) %>%\n",
    "    summarise_at(vars(price), mean, na.rm = TRUE)"
   ]
  },
  {
   "cell_type": "code",
   "execution_count": null,
   "metadata": {},
   "outputs": [],
   "source": [
    "truliaRankings %>%\n",
    "    filter(idx <= 10) %>%\n",
    "    group_by(treatment.ethnicity) %>%\n",
    "    summarise_at(vars(price), mean, na.rm = TRUE)"
   ]
  },
  {
   "cell_type": "code",
   "execution_count": null,
   "metadata": {},
   "outputs": [],
   "source": [
    "truliaRankings %>%\n",
    "    filter(idx <= 10) %>%\n",
    "    group_by(treatment.gender) %>%\n",
    "    summarise_at(vars(price), mean, na.rm = TRUE)"
   ]
  },
  {
   "cell_type": "markdown",
   "metadata": {},
   "source": [
    "##### Top 5"
   ]
  },
  {
   "cell_type": "code",
   "execution_count": null,
   "metadata": {},
   "outputs": [],
   "source": [
    "truliaRankings %>%\n",
    "    filter(idx <= 5) %>%\n",
    "    group_by(treatment.ethnicity, treatment.gender) %>%\n",
    "    summarise_at(vars(price), mean, na.rm = TRUE)"
   ]
  },
  {
   "cell_type": "code",
   "execution_count": null,
   "metadata": {},
   "outputs": [],
   "source": [
    "truliaRankings %>%\n",
    "    filter(idx <= 5) %>%\n",
    "    group_by(treatment.ethnicity) %>%\n",
    "    summarise_at(vars(price), mean, na.rm = TRUE)"
   ]
  },
  {
   "cell_type": "code",
   "execution_count": null,
   "metadata": {},
   "outputs": [],
   "source": [
    "truliaRankings %>%\n",
    "    filter(idx <= 5) %>%\n",
    "    group_by(treatment.gender) %>%\n",
    "    summarise_at(vars(price), mean, na.rm = TRUE)"
   ]
  },
  {
   "cell_type": "markdown",
   "metadata": {
    "toc-hr-collapsed": true
   },
   "source": [
    "#### By Size"
   ]
  },
  {
   "cell_type": "code",
   "execution_count": null,
   "metadata": {},
   "outputs": [],
   "source": [
    "truliaRankings %>%\n",
    "    group_by(treatment.ethnicity, treatment.gender) %>%\n",
    "    summarise_at(vars(beds), mean, na.rm = TRUE)"
   ]
  },
  {
   "cell_type": "code",
   "execution_count": null,
   "metadata": {},
   "outputs": [],
   "source": [
    "truliaRankings %>%\n",
    "    group_by(treatment.ethnicity) %>%\n",
    "    summarise_at(vars(beds), mean, na.rm = TRUE)"
   ]
  },
  {
   "cell_type": "code",
   "execution_count": null,
   "metadata": {},
   "outputs": [],
   "source": [
    "truliaRankings %>%\n",
    "    group_by(treatment.gender) %>%\n",
    "    summarise_at(vars(beds), mean, na.rm = TRUE)"
   ]
  },
  {
   "cell_type": "markdown",
   "metadata": {},
   "source": [
    "##### Top 10"
   ]
  },
  {
   "cell_type": "code",
   "execution_count": null,
   "metadata": {},
   "outputs": [],
   "source": [
    "truliaRankings %>%\n",
    "    filter(idx <= 10) %>%\n",
    "    group_by(treatment.ethnicity, treatment.gender) %>%\n",
    "    summarise_at(vars(beds), mean, na.rm = TRUE)"
   ]
  },
  {
   "cell_type": "code",
   "execution_count": null,
   "metadata": {},
   "outputs": [],
   "source": [
    "truliaRankings %>%\n",
    "    filter(idx <= 10) %>%\n",
    "    group_by(treatment.ethnicity) %>%\n",
    "    summarise_at(vars(beds), mean, na.rm = TRUE)"
   ]
  },
  {
   "cell_type": "code",
   "execution_count": null,
   "metadata": {},
   "outputs": [],
   "source": [
    "truliaRankings %>%\n",
    "    filter(idx <= 10) %>%\n",
    "    group_by(treatment.gender) %>%\n",
    "    summarise_at(vars(beds), mean, na.rm = TRUE)"
   ]
  },
  {
   "cell_type": "markdown",
   "metadata": {},
   "source": [
    "##### Top 5"
   ]
  },
  {
   "cell_type": "code",
   "execution_count": null,
   "metadata": {},
   "outputs": [],
   "source": [
    "truliaRankings %>%\n",
    "    filter(idx <= 5) %>%\n",
    "    group_by(treatment.ethnicity, treatment.gender) %>%\n",
    "    summarise_at(vars(beds), mean, na.rm = TRUE)"
   ]
  },
  {
   "cell_type": "code",
   "execution_count": null,
   "metadata": {},
   "outputs": [],
   "source": [
    "truliaRankings %>%\n",
    "    filter(idx <= 5) %>%\n",
    "    group_by(treatment.ethnicity) %>%\n",
    "    summarise_at(vars(beds), mean, na.rm = TRUE)"
   ]
  },
  {
   "cell_type": "code",
   "execution_count": null,
   "metadata": {},
   "outputs": [],
   "source": [
    "truliaRankings %>%\n",
    "    filter(idx <= 5) %>%\n",
    "    group_by(treatment.gender) %>%\n",
    "    summarise_at(vars(beds), mean, na.rm = TRUE)"
   ]
  },
  {
   "cell_type": "markdown",
   "metadata": {
    "toc-hr-collapsed": true
   },
   "source": [
    "# Realtor.com"
   ]
  },
  {
   "cell_type": "markdown",
   "metadata": {},
   "source": [
    "## Data setup"
   ]
  },
  {
   "cell_type": "code",
   "execution_count": 79,
   "metadata": {},
   "outputs": [
    {
     "data": {
      "text/html": [
       "436"
      ],
      "text/latex": [
       "436"
      ],
      "text/markdown": [
       "436"
      ],
      "text/plain": [
       "[1] 436"
      ]
     },
     "metadata": {},
     "output_type": "display_data"
    }
   ],
   "source": [
    "nestedRealtorRankings <- rankings %>%\n",
    "    filter(scraper == 'RealtorRanking')\n",
    "\n",
    "nestedRealtorRankings$ranking <- lapply(nestedRealtorRankings$ranking, format_ranking)\n",
    "nrow(nestedRealtorRankings)"
   ]
  },
  {
   "cell_type": "code",
   "execution_count": 80,
   "metadata": {},
   "outputs": [
    {
     "data": {
      "text/plain": [
       "[1] \"2019-03-19 17:32:10 CDT\""
      ]
     },
     "metadata": {},
     "output_type": "display_data"
    },
    {
     "data": {
      "text/plain": [
       "[1] \"2018-12-07 12:43:04 CST\""
      ]
     },
     "metadata": {},
     "output_type": "display_data"
    },
    {
     "data": {
      "text/plain": [
       "Time difference of 102.1591 days"
      ]
     },
     "metadata": {},
     "output_type": "display_data"
    }
   ],
   "source": [
    "max(nestedRealtorRankings$time)\n",
    "min(nestedRealtorRankings$time)\n",
    "max(nestedRealtorRankings$time) - min(nestedRealtorRankings$time)"
   ]
  },
  {
   "cell_type": "code",
   "execution_count": 81,
   "metadata": {},
   "outputs": [
    {
     "data": {
      "text/html": [
       "<table>\n",
       "<thead><tr><th scope=col>n</th></tr></thead>\n",
       "<tbody>\n",
       "\t<tr><td>6600</td></tr>\n",
       "</tbody>\n",
       "</table>\n"
      ],
      "text/latex": [
       "\\begin{tabular}{r|l}\n",
       " n\\\\\n",
       "\\hline\n",
       "\t 6600\\\\\n",
       "\\end{tabular}\n"
      ],
      "text/markdown": [
       "\n",
       "| n |\n",
       "|---|\n",
       "| 6600 |\n",
       "\n"
      ],
      "text/plain": [
       "  n   \n",
       "1 6600"
      ]
     },
     "metadata": {},
     "output_type": "display_data"
    }
   ],
   "source": [
    "realtorRankings <- unnest(nestedRealtorRankings, ranking)\n",
    "colnames(realtorRankings)[colnames(realtorRankings)==\"street address\"] <- \"street_address\"\n",
    "realtorRankings <- realtorRankings\n",
    "#     filter(url == 'https://www.realtor.com/realestateandhomes-search/Chicago_IL' | url == 'https://www.realtor.com/realestateandhomes-search/Champaign_IL') %>%\n",
    "#     filter(url == 'https://www.realtor.com/realestateandhomes-search/Chicago_IL') %>%\n",
    "#     filter(url == 'https://www.realtor.com/realestateandhomes-search/Champaign_IL') %>%\n",
    "#     filter(!is.na(street_address)) %>%\n",
    "#     filter(price <= 1500000)\n",
    "\n",
    "realtorRankings %>%\n",
    "    count()\n",
    "\n",
    "# str(realtorRankings)\n",
    "# nrow(unique(realtorRankings[c(\"street_address\", \"locality\")]))"
   ]
  },
  {
   "cell_type": "markdown",
   "metadata": {
    "toc-hr-collapsed": true
   },
   "source": [
    "## Marketwide Analysis"
   ]
  },
  {
   "cell_type": "markdown",
   "metadata": {},
   "source": [
    "### Correlation between demographics and price on index"
   ]
  },
  {
   "cell_type": "code",
   "execution_count": 594,
   "metadata": {},
   "outputs": [
    {
     "name": "stdout",
     "output_type": "stream",
     "text": [
      "% latex table generated in R 3.4.4 by xtable 1.8-3 package\n",
      "% Tue May  7 20:43:01 2019\n",
      "\\begin{table}[ht]\n",
      "\\centering\n",
      "\\begin{tabular}{lrrrrr}\n",
      "  \\toprule\n",
      " & Df & Sum Sq & Mean Sq & F value & Pr($>$F) \\\\ \n",
      "  \\midrule\n",
      "treatment.ethnicity & 3 & 70619634926.71 & 23539878308.90 & 0.21 & 0.8886 \\\\ \n",
      "  treatment.gender & 1 & 326198946136.38 & 326198946136.38 & 2.93 & 0.0870 \\\\ \n",
      "  idx & 1 & 19783873336630.02 & 19783873336630.02 & 177.67 & 0.0000 \\\\ \n",
      "  treatment.ethnicity:treatment.gender & 3 & 394573553434.31 & 131524517811.44 & 1.18 & 0.3153 \\\\ \n",
      "  treatment.ethnicity:idx & 3 & 275230349059.39 & 91743449686.46 & 0.82 & 0.4805 \\\\ \n",
      "  treatment.gender:idx & 1 & 583448351282.05 & 583448351282.05 & 5.24 & 0.0221 \\\\ \n",
      "  treatment.ethnicity:treatment.gender:idx & 3 & 177796317208.98 & 59265439069.66 & 0.53 & 0.6602 \\\\ \n",
      "  Residuals & 6545 & 728797045075124.38 & 111351725756.32 &  &  \\\\ \n",
      "   \\bottomrule\n",
      "\\end{tabular}\n",
      "\\end{table}\n"
     ]
    }
   ],
   "source": [
    "res.realtor <- aov(price ~ treatment.ethnicity * treatment.gender * idx, data=realtorRankings)\n",
    "# summary(res.realtor)\n",
    "# coefficients(res.realtor)\n",
    "\n",
    "# tmp %>%\n",
    "xtable(res.realtor) %>%\n",
    "  print(booktabs = TRUE)"
   ]
  },
  {
   "cell_type": "code",
   "execution_count": null,
   "metadata": {},
   "outputs": [],
   "source": []
  },
  {
   "cell_type": "code",
   "execution_count": 604,
   "metadata": {},
   "outputs": [
    {
     "name": "stdout",
     "output_type": "stream",
     "text": [
      "% latex table generated in R 3.4.4 by xtable 1.8-3 package\n",
      "% Tue May  7 20:57:20 2019\n",
      "\\begin{table}[ht]\n",
      "\\centering\n",
      "\\begin{tabular}{lrrrrr}\n",
      "  \\toprule\n",
      " & Df & Sum Sq & Mean Sq & F value & Pr($>$F) \\\\ \n",
      "  \\midrule\n",
      "treatment.ethnicity & 3 & 51999513887.65 & 17333171295.88 & 0.36 & 0.7790 \\\\ \n",
      "  treatment.gender & 1 & 2968433600.20 & 2968433600.20 & 0.06 & 0.8028 \\\\ \n",
      "  idx & 1 & 6219294324052.60 & 6219294324052.60 & 130.62 & 0.0000 \\\\ \n",
      "  treatment.ethnicity:treatment.gender & 3 & 37235355803.58 & 12411785267.86 & 0.26 & 0.8538 \\\\ \n",
      "  treatment.ethnicity:idx & 3 & 37976144752.47 & 12658714917.49 & 0.27 & 0.8500 \\\\ \n",
      "  treatment.gender:idx & 1 & 57672894697.84 & 57672894697.84 & 1.21 & 0.2711 \\\\ \n",
      "  treatment.ethnicity:treatment.gender:idx & 3 & 26910640424.00 & 8970213474.67 & 0.19 & 0.9043 \\\\ \n",
      "  Residuals & 5419 & 258016505961131.94 & 47613306137.87 &  &  \\\\ \n",
      "   \\bottomrule\n",
      "\\end{tabular}\n",
      "\\end{table}\n"
     ]
    }
   ],
   "source": [
    "res.realtor <- aov(price ~ treatment.ethnicity * treatment.gender * idx, data=filter(realtorRankings, idx <= 40))\n",
    "# summary(res.realtor)\n",
    "xtable(res.realtor) %>%\n",
    "  print(booktabs = TRUE)"
   ]
  },
  {
   "cell_type": "code",
   "execution_count": 156,
   "metadata": {},
   "outputs": [],
   "source": [
    "# coefficients(res.realtor)"
   ]
  },
  {
   "cell_type": "code",
   "execution_count": 157,
   "metadata": {},
   "outputs": [
    {
     "data": {
      "text/html": [
       "103"
      ],
      "text/latex": [
       "103"
      ],
      "text/markdown": [
       "103"
      ],
      "text/plain": [
       "[1] 103"
      ]
     },
     "metadata": {},
     "output_type": "display_data"
    }
   ],
   "source": [
    "length(unique(realtorRankings$street_address))"
   ]
  },
  {
   "cell_type": "code",
   "execution_count": 158,
   "metadata": {},
   "outputs": [
    {
     "data": {
      "text/html": [
       "224143.14516129"
      ],
      "text/latex": [
       "224143.14516129"
      ],
      "text/markdown": [
       "224143.14516129"
      ],
      "text/plain": [
       "[1] 224143.1"
      ]
     },
     "metadata": {},
     "output_type": "display_data"
    }
   ],
   "source": [
    "mean(realtorRankings$price)"
   ]
  },
  {
   "cell_type": "markdown",
   "metadata": {},
   "source": [
    "### Demographic comparison"
   ]
  },
  {
   "cell_type": "code",
   "execution_count": 159,
   "metadata": {},
   "outputs": [
    {
     "data": {
      "text/html": [
       "<table>\n",
       "<thead><tr><th scope=col>treatment.gender</th><th scope=col>price</th></tr></thead>\n",
       "<tbody>\n",
       "\t<tr><td>female  </td><td>222428.2</td></tr>\n",
       "\t<tr><td>male    </td><td>225674.8</td></tr>\n",
       "</tbody>\n",
       "</table>\n"
      ],
      "text/latex": [
       "\\begin{tabular}{r|ll}\n",
       " treatment.gender & price\\\\\n",
       "\\hline\n",
       "\t female   & 222428.2\\\\\n",
       "\t male     & 225674.8\\\\\n",
       "\\end{tabular}\n"
      ],
      "text/markdown": [
       "\n",
       "| treatment.gender | price |\n",
       "|---|---|\n",
       "| female   | 222428.2 |\n",
       "| male     | 225674.8 |\n",
       "\n"
      ],
      "text/plain": [
       "  treatment.gender price   \n",
       "1 female           222428.2\n",
       "2 male             225674.8"
      ]
     },
     "metadata": {},
     "output_type": "display_data"
    }
   ],
   "source": [
    "realtorRankings %>%\n",
    "    filter(!is.na(street_address)) %>%\n",
    "    group_by(treatment.gender) %>%\n",
    "    summarise_at(vars(price), mean, na.rm = TRUE)"
   ]
  },
  {
   "cell_type": "code",
   "execution_count": 160,
   "metadata": {},
   "outputs": [
    {
     "data": {
      "text/html": [
       "<table>\n",
       "<thead><tr><th scope=col>treatment.ethnicity</th><th scope=col>price</th></tr></thead>\n",
       "<tbody>\n",
       "\t<tr><td>african-american</td><td>224534.7        </td></tr>\n",
       "\t<tr><td>asian           </td><td>223256.2        </td></tr>\n",
       "\t<tr><td>caucasian       </td><td>224547.2        </td></tr>\n",
       "\t<tr><td>hispanic        </td><td>224264.1        </td></tr>\n",
       "</tbody>\n",
       "</table>\n"
      ],
      "text/latex": [
       "\\begin{tabular}{r|ll}\n",
       " treatment.ethnicity & price\\\\\n",
       "\\hline\n",
       "\t african-american & 224534.7        \\\\\n",
       "\t asian            & 223256.2        \\\\\n",
       "\t caucasian        & 224547.2        \\\\\n",
       "\t hispanic         & 224264.1        \\\\\n",
       "\\end{tabular}\n"
      ],
      "text/markdown": [
       "\n",
       "| treatment.ethnicity | price |\n",
       "|---|---|\n",
       "| african-american | 224534.7         |\n",
       "| asian            | 223256.2         |\n",
       "| caucasian        | 224547.2         |\n",
       "| hispanic         | 224264.1         |\n",
       "\n"
      ],
      "text/plain": [
       "  treatment.ethnicity price   \n",
       "1 african-american    224534.7\n",
       "2 asian               223256.2\n",
       "3 caucasian           224547.2\n",
       "4 hispanic            224264.1"
      ]
     },
     "metadata": {},
     "output_type": "display_data"
    }
   ],
   "source": [
    "realtorRankings %>%\n",
    "    filter(!is.na(street_address)) %>%\n",
    "#     filter(idx == 1) %>%\n",
    "    group_by(treatment.ethnicity) %>%\n",
    "    summarise_at(vars(price), mean, na.rm = TRUE)"
   ]
  },
  {
   "cell_type": "code",
   "execution_count": 161,
   "metadata": {},
   "outputs": [
    {
     "data": {
      "text/html": [
       "<table>\n",
       "<thead><tr><th scope=col>treatment.ethnicity</th><th scope=col>treatment.gender</th><th scope=col>price</th></tr></thead>\n",
       "<tbody>\n",
       "\t<tr><td>african-american</td><td>female          </td><td>224921.7        </td></tr>\n",
       "\t<tr><td>african-american</td><td>male            </td><td>224172.6        </td></tr>\n",
       "\t<tr><td>asian           </td><td>female          </td><td>226058.7        </td></tr>\n",
       "\t<tr><td>asian           </td><td>male            </td><td>220708.5        </td></tr>\n",
       "\t<tr><td>caucasian       </td><td>female          </td><td>220961.4        </td></tr>\n",
       "\t<tr><td>caucasian       </td><td>male            </td><td>227589.7        </td></tr>\n",
       "\t<tr><td>hispanic        </td><td>female          </td><td>217756.3        </td></tr>\n",
       "\t<tr><td>hispanic        </td><td>male            </td><td>230006.2        </td></tr>\n",
       "</tbody>\n",
       "</table>\n"
      ],
      "text/latex": [
       "\\begin{tabular}{r|lll}\n",
       " treatment.ethnicity & treatment.gender & price\\\\\n",
       "\\hline\n",
       "\t african-american & female           & 224921.7        \\\\\n",
       "\t african-american & male             & 224172.6        \\\\\n",
       "\t asian            & female           & 226058.7        \\\\\n",
       "\t asian            & male             & 220708.5        \\\\\n",
       "\t caucasian        & female           & 220961.4        \\\\\n",
       "\t caucasian        & male             & 227589.7        \\\\\n",
       "\t hispanic         & female           & 217756.3        \\\\\n",
       "\t hispanic         & male             & 230006.2        \\\\\n",
       "\\end{tabular}\n"
      ],
      "text/markdown": [
       "\n",
       "| treatment.ethnicity | treatment.gender | price |\n",
       "|---|---|---|\n",
       "| african-american | female           | 224921.7         |\n",
       "| african-american | male             | 224172.6         |\n",
       "| asian            | female           | 226058.7         |\n",
       "| asian            | male             | 220708.5         |\n",
       "| caucasian        | female           | 220961.4         |\n",
       "| caucasian        | male             | 227589.7         |\n",
       "| hispanic         | female           | 217756.3         |\n",
       "| hispanic         | male             | 230006.2         |\n",
       "\n"
      ],
      "text/plain": [
       "  treatment.ethnicity treatment.gender price   \n",
       "1 african-american    female           224921.7\n",
       "2 african-american    male             224172.6\n",
       "3 asian               female           226058.7\n",
       "4 asian               male             220708.5\n",
       "5 caucasian           female           220961.4\n",
       "6 caucasian           male             227589.7\n",
       "7 hispanic            female           217756.3\n",
       "8 hispanic            male             230006.2"
      ]
     },
     "metadata": {},
     "output_type": "display_data"
    }
   ],
   "source": [
    "realtorRankings %>%\n",
    "    filter(!is.na(street_address)) %>%\n",
    "    filter(price <= 1500000) %>%\n",
    "    \n",
    "    group_by(treatment.ethnicity, treatment.gender) %>%\n",
    "    summarise_at(vars(price), mean, na.rm = TRUE)"
   ]
  },
  {
   "cell_type": "markdown",
   "metadata": {},
   "source": [
    "# Plots"
   ]
  },
  {
   "cell_type": "code",
   "execution_count": 56,
   "metadata": {},
   "outputs": [],
   "source": [
    "realtor_prices <- realtorRankings %>%\n",
    "#     filter(url == 'https://www.realtor.com/realestateandhomes-search/Chicago_IL') %>%\n",
    "#     filter(url == 'https://www.realtor.com/realestateandhomes-search/Champaign_IL') %>%\n",
    "    group_by(idx) %>%\n",
    "    filter(price <= 1500000) %>%\n",
    "    summarise(price = mean(price)/10000)\n",
    "realtor_prices$site <- \"Realtor.com\"\n",
    "\n",
    "trulia_prices <- truliaRankings %>%\n",
    "#     filter(url == \"https://www.trulia.com/IL/Chicago/\") %>%\n",
    "#     filter(url == 'https://www.trulia.com/County/IL/Champaign_Real_Estate/' | url == 'https://www.trulia.com/IL/Champaign/') %>%\n",
    "    group_by(idx) %>%\n",
    "    filter(price <= 1500000) %>%\n",
    "    summarise(price = mean(price)/10000)\n",
    "trulia_prices$site <- \"Trulia.com\"\n",
    "\n",
    "prices <- rbind(realtor_prices, trulia_prices)"
   ]
  },
  {
   "cell_type": "code",
   "execution_count": 57,
   "metadata": {},
   "outputs": [],
   "source": [
    "realtor_prices <- realtorRankings %>%\n",
    "#     filter(url == 'https://www.realtor.com/realestateandhomes-search/Chicago_IL') %>%\n",
    "#     filter(url == 'https://www.realtor.com/realestateandhomes-search/Champaign_IL') %>%\n",
    "    group_by(idx) %>%\n",
    "    filter(price <= 1500000) %>%\n",
    "    count()\n",
    "# realtor_prices\n",
    "\n",
    "# trulia_prices <- truliaRankings %>%\n",
    "# #     filter(url == \"https://www.trulia.com/IL/Chicago/\") %>%\n",
    "# #     filter(url == 'https://www.trulia.com/County/IL/Champaign_Real_Estate/' | url == 'https://www.trulia.com/IL/Champaign/') %>%\n",
    "#     group_by(idx) %>%\n",
    "#     filter(price <= 1500000) %>%\n",
    "#     count()\n",
    "# trulia_prices\n",
    "\n",
    "# realtorRankings %>%\n",
    "#     group_by(idx) %>%\n",
    "#     summarize(time = max(time))"
   ]
  },
  {
   "cell_type": "code",
   "execution_count": 20,
   "metadata": {},
   "outputs": [
    {
     "data": {
      "image/png": "[encoded data removed]",
      "text/plain": [
       "plot without title"
      ]
     },
     "metadata": {},
     "output_type": "display_data"
    }
   ],
   "source": [
    "p <- ggplot(data=prices, mapping=aes(x=idx, y=price, color=site)) + \n",
    "    scale_x_continuous(name=\"Position in ranking\") + \n",
    "    scale_y_continuous(name=\"Average price\", labels = scales::comma) + \n",
    "    geom_line() + \n",
    "    geom_smooth(method = \"lm\", se = FALSE) +\n",
    "    theme(aspect.ratio=0.50) +\n",
    "    coord_fixed(.000008)\n",
    "\n",
    "# ggsave('trends.png', p)\n",
    "# print(p)\n",
    "# dev.off()\n",
    "p"
   ]
  },
  {
   "cell_type": "code",
   "execution_count": 22,
   "metadata": {},
   "outputs": [
    {
     "data": {
      "image/png": "[encoded data removed]",
      "text/plain": [
       "plot without title"
      ]
     },
     "metadata": {},
     "output_type": "display_data"
    }
   ],
   "source": [
    "p <- ggscatter(prices, x=\"idx\", y=\"price\", color=\"site\",\n",
    "          xlab = \"Ranking\", ylab = \"Average Price ($10^{5}$)\",\n",
    "          size = 1.0,\n",
    "          add = \"reg.line\", conf.int = TRUE) +\n",
    "    font(\"axis.text\", size = 8) +\n",
    "    font(\"axis.title\", size = 10) +\n",
    "    font(\"legend.text\", size = 8) +\n",
    "    font(\"legend.title\", size = 10)\n",
    "\n",
    "p <- ggpar(p, legend.title = \"Site\")\n",
    "p"
   ]
  },
  {
   "cell_type": "code",
   "execution_count": 569,
   "metadata": {},
   "outputs": [
    {
     "data": {
      "text/html": [
       "<strong>png:</strong> 2"
      ],
      "text/latex": [
       "\\textbf{png:} 2"
      ],
      "text/markdown": [
       "**png:** 2"
      ],
      "text/plain": [
       "png \n",
       "  2 "
      ]
     },
     "metadata": {},
     "output_type": "display_data"
    }
   ],
   "source": [
    "tikz('trends.tex', width = 3.31314, height = 2.20876)\n",
    "print(p)\n",
    "dev.off()"
   ]
  },
  {
   "cell_type": "code",
   "execution_count": 127,
   "metadata": {},
   "outputs": [
    {
     "data": {
      "image/png": "[encoded data removed]",
      "text/plain": [
       "plot without title"
      ]
     },
     "metadata": {},
     "output_type": "display_data"
    }
   ],
   "source": [
    "realtor_trends <- realtorRankings %>%\n",
    "    filter(url == 'https://www.realtor.com/realestateandhomes-search/Chicago_IL') %>%\n",
    "#     filter(price <= 1500000) %>%\n",
    "    group_by(idx, treatment.gender) %>%\n",
    "    summarise(price = mean(price)/10000) %>%\n",
    "    filter(price <= 1500000)\n",
    "\n",
    "p <- ggscatter(realtor_trends, x=\"idx\", y=\"price\", color=\"treatment.gender\",\n",
    "            xlab = \"Ranking\", ylab = \"Average Price (\\\\$$10^{5}$)\",\n",
    "#             ylab = \"Average Price (\\\\$$10^{5}$)\",\n",
    "            point = FALSE,\n",
    "            size = 1.0,\n",
    "            add = \"reg.line\") +\n",
    "    font(\"axis.text\", size = 8) +\n",
    "    font(\"axis.title\", size = 10) +\n",
    "    font(\"legend.text\", size = 8) +\n",
    "    font(\"legend.title\", size = 8)\n",
    "\n",
    "p <- set_palette(p, palette = c(\"#E69F00\", \"#56B4E9\", \"#009E73\", \"#F0E442\", \"#0072B2\", \"#D55E00\", \"#CC79A7\", \"#000000\"))\n",
    "\n",
    "# p <- ggpar(p, legend.title = \"Site\")\n",
    "p <- ggpar(p, legend = \"None\", legend.title = \"Gender\", ylim = c(22, 38))\n",
    "\n",
    "p"
   ]
  },
  {
   "cell_type": "code",
   "execution_count": 131,
   "metadata": {},
   "outputs": [
    {
     "data": {
      "text/html": [
       "<strong>png:</strong> 2"
      ],
      "text/latex": [
       "\\textbf{png:} 2"
      ],
      "text/markdown": [
       "**png:** 2"
      ],
      "text/plain": [
       "png \n",
       "  2 "
      ]
     },
     "metadata": {},
     "output_type": "display_data"
    }
   ],
   "source": [
    "tikz('realtor-gender.tex', width = 3, height = 2)\n",
    "print(p)\n",
    "dev.off()"
   ]
  },
  {
   "cell_type": "code",
   "execution_count": 25,
   "metadata": {},
   "outputs": [
    {
     "data": {
      "image/png": "[encoded data removed]",
      "text/plain": [
       "plot without title"
      ]
     },
     "metadata": {},
     "output_type": "display_data"
    }
   ],
   "source": [
    "p <- ggplot() + \n",
    "    scale_x_continuous(name=\"Position in ranking\") + \n",
    "    scale_y_continuous(name=\"Average price\", labels = scales::comma) + \n",
    "    geom_boxplot(alpha=0.1, data=truliaRankings, mapping=aes(x=idx, y=price, group=idx)) +\n",
    "    geom_jitter(alpha=0.1, data=truliaRankings, mapping=aes(x=idx, y=price), color='green') +\n",
    "    geom_jitter(alpha=0.1, data=realtorRankings, mapping=aes(x=idx, y=price), color='red') +\n",
    "    geom_smooth(method = \"lm\")\n",
    "\n",
    "p"
   ]
  },
  {
   "cell_type": "markdown",
   "metadata": {
    "toc-hr-collapsed": true
   },
   "source": [
    "# Redfin"
   ]
  },
  {
   "cell_type": "code",
   "execution_count": null,
   "metadata": {},
   "outputs": [],
   "source": [
    "# redfinRankings <- rankings[rankings$scraper == 'RedfinScraper', ]\n",
    "# redfinRankings$ranking <- lapply(redfinRankings$ranking, format_ranking)\n",
    "# unnestedRedfinRankings <- unnest(redfinRankings, ranking)\n",
    "# str(unnestedRedfinRankings)\n",
    "# res.redfin <- aov(position ~ treatment.ethnicity * treatment.gender * price, data=unnestedRedfinRankings)\n",
    "# summary(res.redfin)"
   ]
  },
  {
   "cell_type": "code",
   "execution_count": null,
   "metadata": {},
   "outputs": [],
   "source": []
  }
 ],
 "metadata": {
  "kernelspec": {
   "display_name": "R",
   "language": "R",
   "name": "ir"
  },
  "language_info": {
   "codemirror_mode": "r",
   "file_extension": ".r",
   "mimetype": "text/x-r-source",
   "name": "R",
   "pygments_lexer": "r",
   "version": "3.4.4"
  }
 },
 "nbformat": 4,
 "nbformat_minor": 2
}
