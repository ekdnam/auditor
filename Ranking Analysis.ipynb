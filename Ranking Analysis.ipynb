{
 "cells": [
  {
   "cell_type": "markdown",
   "metadata": {},
   "source": [
    "# Setup and data ingestion"
   ]
  },
  {
   "cell_type": "code",
   "execution_count": 1,
   "metadata": {},
   "outputs": [
    {
     "name": "stderr",
     "output_type": "stream",
     "text": [
      "── Attaching packages ─────────────────────────────────────── tidyverse 1.2.1 ──\n",
      "✔ ggplot2 3.1.0       ✔ purrr   0.3.2  \n",
      "✔ tibble  2.1.1       ✔ dplyr   0.8.0.1\n",
      "✔ tidyr   0.8.3       ✔ stringr 1.4.0  \n",
      "✔ readr   1.3.1       ✔ forcats 0.4.0  \n",
      "── Conflicts ────────────────────────────────────────── tidyverse_conflicts() ──\n",
      "✖ dplyr::filter() masks stats::filter()\n",
      "✖ dplyr::lag()    masks stats::lag()\n",
      "[conflicted] Will prefer dplyr::filter over any other package\n",
      "[conflicted] Will prefer dplyr::select over any other package\n"
     ]
    }
   ],
   "source": [
    "library(conflicted)\n",
    "\n",
    "# Data manipulation\n",
    "library(tidyverse)\n",
    "conflict_prefer(\"filter\", \"dplyr\")\n",
    "conflict_prefer(\"select\", \"dplyr\")\n",
    "library(reshape2)\n",
    "\n",
    "# Data loading\n",
    "library(jsonlite)\n",
    "library(writexl)\n",
    "library(readxl)"
   ]
  },
  {
   "cell_type": "code",
   "execution_count": 2,
   "metadata": {},
   "outputs": [],
   "source": [
    "# Workbook settings\n",
    "options(repr.matrix.max.rows=50, repr.matrix.max.cols=30)"
   ]
  },
  {
   "cell_type": "code",
   "execution_count": 3,
   "metadata": {},
   "outputs": [],
   "source": [
    "get_rel_file <- function(file) {\n",
    "    return(file.path(\"output\", \"2018-12-07_2019-03-19\", file))\n",
    "}"
   ]
  },
  {
   "cell_type": "code",
   "execution_count": 4,
   "metadata": {},
   "outputs": [
    {
     "name": "stdout",
     "output_type": "stream",
     "text": [
      " Imported 29863 records. Simplifying...\n"
     ]
    }
   ],
   "source": [
    "datafile <- bzfile(get_rel_file(\"out.json.bz2\"), open='r')\n",
    "data <- stream_in(datafile, flatten=TRUE)\n",
    "close(datafile)"
   ]
  },
  {
   "cell_type": "code",
   "execution_count": 5,
   "metadata": {},
   "outputs": [],
   "source": [
    "data$treatment.ethnicity <- factor(data$treatment.ethnicity, levels=c(\"caucasian\", \"african american\", \"african-american\", \"asian\", \"hispanic\"))\n",
    "# levels(data$treatment.ethnicity)\n",
    "levels(data$treatment.ethnicity) <- c(\"caucasian\", \"african-american\", \"african-american\", \"asian\", \"hispanic\")\n",
    "# levels(data$treatment.ethnicity)\n",
    "data$treatment.gender <- as.factor(data$treatment.gender)\n",
    "data$type <- as.factor(data$type)\n",
    "data$scraper <- as.factor(data$scraper)\n",
    "data$block_id <- as.factor(data$block_id)\n",
    "data$agent_id <- as.factor(data$agent_id)\n",
    "data$time <- as.POSIXct(data$time)"
   ]
  },
  {
   "cell_type": "code",
   "execution_count": 6,
   "metadata": {},
   "outputs": [],
   "source": [
    "rankings <- data[data$type == 'ranking', ]\n",
    "rankings <- rankings[!is.null(rankings$ranking), ]\n",
    "rankings$ad.image_path <- NULL\n",
    "# rankings$ad.query <- NULL\n",
    "rankings$ad.title <- NULL\n",
    "rankings$ad.url <- NULL\n",
    "rankings$ad.body <- NULL"
   ]
  },
  {
   "cell_type": "code",
   "execution_count": 7,
   "metadata": {},
   "outputs": [],
   "source": [
    "format_ranking <- function(df) {\n",
    "    df$idx <- seq.int(nrow(df))\n",
    "    df$position <- log(df$idx)\n",
    "    if (\"price\" %in% colnames(df)) {\n",
    "        df$price <- parse_number(df$price)\n",
    "    }\n",
    "    if(\"beds\" %in% colnames(df)) {\n",
    "        df$beds[df$beds == \"Studio\"] <- \"0\"\n",
    "        df$beds <- parse_number(df$beds, na = c(\"\", \"NA\"))\n",
    "    }\n",
    "    if(\"baths\" %in% colnames(df)) {\n",
    "        df$baths <- parse_number(df$baths)\n",
    "    }\n",
    "    if(\"latitude\" %in% colnames(df)) {\n",
    "        df$latitude <- parse_number(df$latitude)\n",
    "        df$longitude <- parse_number(df$longitude)\n",
    "    }\n",
    "    return(df)\n",
    "}"
   ]
  },
  {
   "cell_type": "markdown",
   "metadata": {
    "toc-hr-collapsed": false
   },
   "source": [
    "# Trulia rankings"
   ]
  },
  {
   "cell_type": "markdown",
   "metadata": {
    "toc-hr-collapsed": false
   },
   "source": [
    "## Data setup"
   ]
  },
  {
   "cell_type": "code",
   "execution_count": 8,
   "metadata": {},
   "outputs": [
    {
     "data": {
      "text/html": [
       "846"
      ],
      "text/latex": [
       "846"
      ],
      "text/markdown": [
       "846"
      ],
      "text/plain": [
       "[1] 846"
      ]
     },
     "metadata": {},
     "output_type": "display_data"
    }
   ],
   "source": [
    "nestedTruliaRankings <- filter(rankings, scraper == 'TruliaScraper')\n",
    "nestedTruliaRankings$ranking <- lapply(nestedTruliaRankings$ranking, format_ranking)\n",
    "nrow(nestedTruliaRankings)"
   ]
  },
  {
   "cell_type": "code",
   "execution_count": 9,
   "metadata": {},
   "outputs": [
    {
     "data": {
      "text/plain": [
       "[1] \"2018-11-21 17:02:05 CST\""
      ]
     },
     "metadata": {},
     "output_type": "display_data"
    },
    {
     "data": {
      "text/plain": [
       "[1] \"2019-03-19 17:56:43 CDT\""
      ]
     },
     "metadata": {},
     "output_type": "display_data"
    },
    {
     "data": {
      "text/plain": [
       "Time difference of 117.9963 days"
      ]
     },
     "metadata": {},
     "output_type": "display_data"
    }
   ],
   "source": [
    "min(nestedTruliaRankings$time)\n",
    "max(nestedTruliaRankings$time)\n",
    "max(nestedTruliaRankings$time) - min(nestedTruliaRankings$time)"
   ]
  },
  {
   "cell_type": "code",
   "execution_count": 10,
   "metadata": {},
   "outputs": [
    {
     "data": {
      "text/html": [
       "9552"
      ],
      "text/latex": [
       "9552"
      ],
      "text/markdown": [
       "9552"
      ],
      "text/plain": [
       "[1] 9552"
      ]
     },
     "metadata": {},
     "output_type": "display_data"
    }
   ],
   "source": [
    "truliaRankings <- unnest(nestedTruliaRankings, ranking)\n",
    "colnames(truliaRankings)[colnames(truliaRankings)==\"street address\"] <- \"street_address\"\n",
    "truliaRankings <- truliaRankings %>% filter(!is.na(street_address))\n",
    "nrow(truliaRankings)"
   ]
  },
  {
   "cell_type": "code",
   "execution_count": 11,
   "metadata": {},
   "outputs": [],
   "source": [
    "# str(truliaRankings)"
   ]
  },
  {
   "cell_type": "markdown",
   "metadata": {
    "toc-hr-collapsed": true
   },
   "source": [
    "## Marketwide analysis"
   ]
  },
  {
   "cell_type": "markdown",
   "metadata": {
    "toc-hr-collapsed": true
   },
   "source": [
    "### Correlation between demographics and price on index"
   ]
  },
  {
   "cell_type": "markdown",
   "metadata": {},
   "source": [
    "#### All results"
   ]
  },
  {
   "cell_type": "code",
   "execution_count": 12,
   "metadata": {},
   "outputs": [
    {
     "data": {
      "text/plain": [
       "                                             Df Sum Sq Mean Sq F value Pr(>F)\n",
       "treatment.gender                              1      2    1.70   0.050  0.824\n",
       "treatment.ethnicity                           3     35   11.67   0.342  0.795\n",
       "price                                         1     34   34.32   1.006  0.316\n",
       "treatment.gender:treatment.ethnicity          3     16    5.41   0.159  0.924\n",
       "treatment.gender:price                        1     15   14.79   0.434  0.510\n",
       "treatment.ethnicity:price                     3     17    5.74   0.168  0.918\n",
       "treatment.gender:treatment.ethnicity:price    3     14    4.64   0.136  0.939\n",
       "Residuals                                  9536 325233   34.11               "
      ]
     },
     "metadata": {},
     "output_type": "display_data"
    }
   ],
   "source": [
    "res.trulia <- aov(idx ~ treatment.gender * treatment.ethnicity * price, data=truliaRankings)\n",
    "summary(res.trulia)"
   ]
  },
  {
   "cell_type": "markdown",
   "metadata": {},
   "source": [
    "#### Top 20"
   ]
  },
  {
   "cell_type": "code",
   "execution_count": 13,
   "metadata": {},
   "outputs": [
    {
     "data": {
      "text/plain": [
       "                                             Df Sum Sq Mean Sq F value   Pr(>F)\n",
       "treatment.ethnicity                           3      5    1.51   0.108 0.955379\n",
       "treatment.gender                              1      0    0.28   0.020 0.887266\n",
       "price                                         1    165  165.18  11.799 0.000595\n",
       "treatment.ethnicity:treatment.gender          3      2    0.78   0.056 0.982622\n",
       "treatment.ethnicity:price                     3      0    0.08   0.006 0.999366\n",
       "treatment.gender:price                        1      0    0.22   0.016 0.900260\n",
       "treatment.ethnicity:treatment.gender:price    3      1    0.24   0.017 0.996966\n",
       "Residuals                                  8986 125797   14.00                 \n",
       "                                              \n",
       "treatment.ethnicity                           \n",
       "treatment.gender                              \n",
       "price                                      ***\n",
       "treatment.ethnicity:treatment.gender          \n",
       "treatment.ethnicity:price                     \n",
       "treatment.gender:price                        \n",
       "treatment.ethnicity:treatment.gender:price    \n",
       "Residuals                                     \n",
       "---\n",
       "Signif. codes:  0 ‘***’ 0.001 ‘**’ 0.01 ‘*’ 0.05 ‘.’ 0.1 ‘ ’ 1"
      ]
     },
     "metadata": {},
     "output_type": "display_data"
    }
   ],
   "source": [
    "res.trulia <- aov(idx ~ treatment.ethnicity * treatment.gender * price, data=filter(truliaRankings, idx <= 20))\n",
    "summary(res.trulia)"
   ]
  },
  {
   "cell_type": "markdown",
   "metadata": {},
   "source": [
    "#### Top 10"
   ]
  },
  {
   "cell_type": "code",
   "execution_count": 14,
   "metadata": {},
   "outputs": [
    {
     "data": {
      "text/plain": [
       "                                             Df Sum Sq Mean Sq F value Pr(>F)  \n",
       "treatment.ethnicity                           3      0    0.00   0.000 1.0000  \n",
       "treatment.gender                              1      0    0.00   0.000 0.9999  \n",
       "price                                         1     47   46.86   5.668 0.0173 *\n",
       "treatment.ethnicity:treatment.gender          3      0    0.00   0.000 1.0000  \n",
       "treatment.ethnicity:price                     3      0    0.16   0.019 0.9963  \n",
       "treatment.gender:price                        1      0    0.41   0.050 0.8238  \n",
       "treatment.ethnicity:treatment.gender:price    3      1    0.21   0.026 0.9945  \n",
       "Residuals                                  8436  69745    8.27                 \n",
       "---\n",
       "Signif. codes:  0 ‘***’ 0.001 ‘**’ 0.01 ‘*’ 0.05 ‘.’ 0.1 ‘ ’ 1"
      ]
     },
     "metadata": {},
     "output_type": "display_data"
    }
   ],
   "source": [
    "res.trulia <- aov(idx ~ treatment.ethnicity * treatment.gender * price, data=filter(truliaRankings, idx <= 10))\n",
    "summary(res.trulia)"
   ]
  },
  {
   "cell_type": "markdown",
   "metadata": {},
   "source": [
    "#### Top 5"
   ]
  },
  {
   "cell_type": "code",
   "execution_count": 15,
   "metadata": {},
   "outputs": [
    {
     "data": {
      "text/plain": [
       "                                             Df Sum Sq Mean Sq F value Pr(>F)\n",
       "treatment.ethnicity                           3      0  0.0025   0.001  1.000\n",
       "treatment.gender                              1      0  0.0000   0.000  0.999\n",
       "price                                         1      1  0.8629   0.431  0.512\n",
       "treatment.ethnicity:treatment.gender          3      0  0.0026   0.001  1.000\n",
       "treatment.ethnicity:price                     3      1  0.3935   0.196  0.899\n",
       "treatment.gender:price                        1      0  0.1988   0.099  0.753\n",
       "treatment.ethnicity:treatment.gender:price    3      5  1.6052   0.801  0.493\n",
       "Residuals                                  4210   8437  2.0040               "
      ]
     },
     "metadata": {},
     "output_type": "display_data"
    }
   ],
   "source": [
    "res.trulia <- aov(idx ~ treatment.ethnicity * treatment.gender * price, data=filter(truliaRankings, idx <= 5))\n",
    "summary(res.trulia)"
   ]
  },
  {
   "cell_type": "markdown",
   "metadata": {},
   "source": [
    "#### Top 3"
   ]
  },
  {
   "cell_type": "code",
   "execution_count": 16,
   "metadata": {},
   "outputs": [
    {
     "data": {
      "text/plain": [
       "                                             Df Sum Sq Mean Sq F value Pr(>F)\n",
       "treatment.ethnicity                           3    0.0  0.0000   0.000  1.000\n",
       "treatment.gender                              1    0.0  0.0000   0.000  1.000\n",
       "price                                         1    1.5  1.5201   2.269  0.132\n",
       "treatment.ethnicity:treatment.gender          3    0.0  0.0001   0.000  1.000\n",
       "treatment.ethnicity:price                     3    0.1  0.0282   0.042  0.989\n",
       "treatment.gender:price                        1    0.1  0.1050   0.157  0.692\n",
       "treatment.ethnicity:treatment.gender:price    3    0.8  0.2760   0.412  0.744\n",
       "Residuals                                  2522 1689.5  0.6699               "
      ]
     },
     "metadata": {},
     "output_type": "display_data"
    }
   ],
   "source": [
    "res.trulia <- aov(idx ~ treatment.ethnicity * treatment.gender * price, data=filter(truliaRankings, idx <= 3))\n",
    "summary(res.trulia)"
   ]
  },
  {
   "cell_type": "markdown",
   "metadata": {
    "toc-hr-collapsed": true
   },
   "source": [
    "### Correlation between demographics and index on price"
   ]
  },
  {
   "cell_type": "markdown",
   "metadata": {
    "toc-hr-collapsed": false
   },
   "source": [
    "#### All results"
   ]
  },
  {
   "cell_type": "code",
   "execution_count": 17,
   "metadata": {},
   "outputs": [
    {
     "data": {
      "text/plain": [
       "                                           Df    Sum Sq   Mean Sq F value\n",
       "treatment.ethnicity                         3 8.108e+12 2.703e+12   0.192\n",
       "treatment.gender                            1 2.108e+11 2.108e+11   0.015\n",
       "idx                                         1 1.415e+13 1.415e+13   1.006\n",
       "treatment.ethnicity:treatment.gender        3 2.152e+12 7.172e+11   0.051\n",
       "treatment.ethnicity:idx                     3 8.673e+12 2.891e+12   0.206\n",
       "treatment.gender:idx                        1 5.839e+12 5.839e+12   0.415\n",
       "treatment.ethnicity:treatment.gender:idx    3 5.955e+12 1.985e+12   0.141\n",
       "Residuals                                9536 1.341e+17 1.406e+13        \n",
       "                                         Pr(>F)\n",
       "treatment.ethnicity                       0.902\n",
       "treatment.gender                          0.903\n",
       "idx                                       0.316\n",
       "treatment.ethnicity:treatment.gender      0.985\n",
       "treatment.ethnicity:idx                   0.893\n",
       "treatment.gender:idx                      0.519\n",
       "treatment.ethnicity:treatment.gender:idx  0.935\n",
       "Residuals                                      "
      ]
     },
     "metadata": {},
     "output_type": "display_data"
    }
   ],
   "source": [
    "res.trulia <- aov(price ~ treatment.ethnicity * treatment.gender * idx, data=truliaRankings)\n",
    "summary(res.trulia)"
   ]
  },
  {
   "cell_type": "markdown",
   "metadata": {
    "toc-hr-collapsed": false
   },
   "source": [
    "#### Top 20"
   ]
  },
  {
   "cell_type": "code",
   "execution_count": 18,
   "metadata": {},
   "outputs": [
    {
     "data": {
      "text/plain": [
       "                                           Df    Sum Sq   Mean Sq F value\n",
       "treatment.ethnicity                         3 1.091e+13 3.637e+12   0.255\n",
       "treatment.gender                            1 5.981e+10 5.981e+10   0.004\n",
       "idx                                         1 1.680e+14 1.680e+14  11.800\n",
       "treatment.ethnicity:treatment.gender        3 3.580e+12 1.193e+12   0.084\n",
       "treatment.ethnicity:idx                     3 2.669e+12 8.897e+11   0.062\n",
       "treatment.gender:idx                        1 1.764e+11 1.764e+11   0.012\n",
       "treatment.ethnicity:treatment.gender:idx    3 1.338e+12 4.460e+11   0.031\n",
       "Residuals                                8986 1.279e+17 1.424e+13        \n",
       "                                           Pr(>F)    \n",
       "treatment.ethnicity                      0.857506    \n",
       "treatment.gender                         0.948321    \n",
       "idx                                      0.000595 ***\n",
       "treatment.ethnicity:treatment.gender     0.968875    \n",
       "treatment.ethnicity:idx                  0.979582    \n",
       "treatment.gender:idx                     0.911363    \n",
       "treatment.ethnicity:treatment.gender:idx 0.992549    \n",
       "Residuals                                            \n",
       "---\n",
       "Signif. codes:  0 ‘***’ 0.001 ‘**’ 0.01 ‘*’ 0.05 ‘.’ 0.1 ‘ ’ 1"
      ]
     },
     "metadata": {},
     "output_type": "display_data"
    }
   ],
   "source": [
    "res.trulia <- aov(price ~ treatment.ethnicity * treatment.gender * idx, data=filter(truliaRankings, idx <= 20))\n",
    "summary(res.trulia)"
   ]
  },
  {
   "cell_type": "markdown",
   "metadata": {},
   "source": [
    "#### Top 10"
   ]
  },
  {
   "cell_type": "code",
   "execution_count": 19,
   "metadata": {},
   "outputs": [
    {
     "data": {
      "text/plain": [
       "                                           Df    Sum Sq   Mean Sq F value\n",
       "treatment.ethnicity                         3 1.153e+13 3.842e+12   0.253\n",
       "treatment.gender                            1 1.036e+11 1.036e+11   0.007\n",
       "idx                                         1 8.595e+13 8.595e+13   5.668\n",
       "treatment.ethnicity:treatment.gender        3 3.750e+12 1.250e+12   0.082\n",
       "treatment.ethnicity:idx                     3 2.408e+12 8.028e+11   0.053\n",
       "treatment.gender:idx                        1 5.646e+11 5.646e+11   0.037\n",
       "treatment.ethnicity:treatment.gender:idx    3 1.617e+12 5.389e+11   0.036\n",
       "Residuals                                8436 1.279e+17 1.516e+13        \n",
       "                                         Pr(>F)  \n",
       "treatment.ethnicity                      0.8590  \n",
       "treatment.gender                         0.9341  \n",
       "idx                                      0.0173 *\n",
       "treatment.ethnicity:treatment.gender     0.9696  \n",
       "treatment.ethnicity:idx                  0.9839  \n",
       "treatment.gender:idx                     0.8470  \n",
       "treatment.ethnicity:treatment.gender:idx 0.9910  \n",
       "Residuals                                        \n",
       "---\n",
       "Signif. codes:  0 ‘***’ 0.001 ‘**’ 0.01 ‘*’ 0.05 ‘.’ 0.1 ‘ ’ 1"
      ]
     },
     "metadata": {},
     "output_type": "display_data"
    }
   ],
   "source": [
    "res.trulia <- aov(price ~ treatment.ethnicity * treatment.gender * idx, data=filter(truliaRankings, idx <= 10))\n",
    "summary(res.trulia)"
   ]
  },
  {
   "cell_type": "markdown",
   "metadata": {},
   "source": [
    "#### Top 5"
   ]
  },
  {
   "cell_type": "code",
   "execution_count": 20,
   "metadata": {},
   "outputs": [
    {
     "data": {
      "text/plain": [
       "                                           Df    Sum Sq   Mean Sq F value\n",
       "treatment.ethnicity                         3 3.842e+12 1.281e+12   0.084\n",
       "treatment.gender                            1 3.139e+10 3.139e+10   0.002\n",
       "idx                                         1 6.584e+12 6.584e+12   0.431\n",
       "treatment.ethnicity:treatment.gender        3 3.725e+12 1.242e+12   0.081\n",
       "treatment.ethnicity:idx                     3 8.049e+12 2.683e+12   0.175\n",
       "treatment.gender:idx                        1 1.783e+12 1.783e+12   0.117\n",
       "treatment.ethnicity:treatment.gender:idx    3 3.649e+13 1.216e+13   0.796\n",
       "Residuals                                4210 6.437e+16 1.529e+13        \n",
       "                                         Pr(>F)\n",
       "treatment.ethnicity                       0.969\n",
       "treatment.gender                          0.964\n",
       "idx                                       0.512\n",
       "treatment.ethnicity:treatment.gender      0.970\n",
       "treatment.ethnicity:idx                   0.913\n",
       "treatment.gender:idx                      0.733\n",
       "treatment.ethnicity:treatment.gender:idx  0.496\n",
       "Residuals                                      "
      ]
     },
     "metadata": {},
     "output_type": "display_data"
    }
   ],
   "source": [
    "res.trulia <- aov(price ~ treatment.ethnicity * treatment.gender * idx, data=filter(truliaRankings, idx <= 5))\n",
    "summary(res.trulia)"
   ]
  },
  {
   "cell_type": "markdown",
   "metadata": {},
   "source": [
    "#### Top 3"
   ]
  },
  {
   "cell_type": "code",
   "execution_count": 21,
   "metadata": {},
   "outputs": [
    {
     "data": {
      "text/plain": [
       "                                           Df    Sum Sq   Mean Sq F value\n",
       "treatment.ethnicity                         3 1.542e+13 5.140e+12   0.341\n",
       "treatment.gender                            1 9.006e+11 9.006e+11   0.060\n",
       "idx                                         1 3.420e+13 3.420e+13   2.270\n",
       "treatment.ethnicity:treatment.gender        3 1.099e+13 3.663e+12   0.243\n",
       "treatment.ethnicity:idx                     3 3.394e+12 1.131e+12   0.075\n",
       "treatment.gender:idx                        1 1.083e+12 1.083e+12   0.072\n",
       "treatment.ethnicity:treatment.gender:idx    3 1.371e+13 4.568e+12   0.303\n",
       "Residuals                                2522 3.800e+16 1.507e+13        \n",
       "                                         Pr(>F)\n",
       "treatment.ethnicity                       0.796\n",
       "treatment.gender                          0.807\n",
       "idx                                       0.132\n",
       "treatment.ethnicity:treatment.gender      0.866\n",
       "treatment.ethnicity:idx                   0.973\n",
       "treatment.gender:idx                      0.789\n",
       "treatment.ethnicity:treatment.gender:idx  0.823\n",
       "Residuals                                      "
      ]
     },
     "metadata": {},
     "output_type": "display_data"
    }
   ],
   "source": [
    "res.trulia <- aov(price ~ treatment.ethnicity * treatment.gender * idx, data=filter(truliaRankings, idx <= 3))\n",
    "summary(res.trulia)"
   ]
  },
  {
   "cell_type": "markdown",
   "metadata": {
    "toc-hr-collapsed": true
   },
   "source": [
    "### Correlation between demographics on price"
   ]
  },
  {
   "cell_type": "markdown",
   "metadata": {
    "toc-hr-collapsed": false
   },
   "source": [
    "#### All results"
   ]
  },
  {
   "cell_type": "code",
   "execution_count": 22,
   "metadata": {},
   "outputs": [
    {
     "data": {
      "text/plain": [
       "                                       Df    Sum Sq   Mean Sq F value Pr(>F)\n",
       "treatment.ethnicity                     3 8.108e+12 2.703e+12   0.192  0.902\n",
       "treatment.gender                        1 2.108e+11 2.108e+11   0.015  0.903\n",
       "treatment.ethnicity:treatment.gender    3 2.082e+12 6.940e+11   0.049  0.985\n",
       "Residuals                            9544 1.341e+17 1.405e+13               "
      ]
     },
     "metadata": {},
     "output_type": "display_data"
    }
   ],
   "source": [
    "res.trulia <- aov(price ~ treatment.ethnicity * treatment.gender, data=truliaRankings)\n",
    "summary(res.trulia)"
   ]
  },
  {
   "cell_type": "markdown",
   "metadata": {
    "toc-hr-collapsed": false
   },
   "source": [
    "#### Top 20"
   ]
  },
  {
   "cell_type": "code",
   "execution_count": 23,
   "metadata": {},
   "outputs": [
    {
     "data": {
      "text/plain": [
       "                                       Df    Sum Sq   Mean Sq F value Pr(>F)\n",
       "treatment.ethnicity                     3 1.091e+13 3.637e+12   0.255  0.858\n",
       "treatment.gender                        1 5.981e+10 5.981e+10   0.004  0.948\n",
       "treatment.ethnicity:treatment.gender    3 3.407e+12 1.136e+12   0.080  0.971\n",
       "Residuals                            8994 1.281e+17 1.424e+13               "
      ]
     },
     "metadata": {},
     "output_type": "display_data"
    }
   ],
   "source": [
    "res.trulia <- aov(price ~ treatment.ethnicity * treatment.gender, data=filter(truliaRankings, idx <= 20))\n",
    "summary(res.trulia)"
   ]
  },
  {
   "cell_type": "markdown",
   "metadata": {},
   "source": [
    "#### Top 10"
   ]
  },
  {
   "cell_type": "code",
   "execution_count": 24,
   "metadata": {},
   "outputs": [
    {
     "data": {
      "text/plain": [
       "                                       Df    Sum Sq   Mean Sq F value Pr(>F)\n",
       "treatment.ethnicity                     3 1.153e+13 3.842e+12   0.253  0.859\n",
       "treatment.gender                        1 1.036e+11 1.036e+11   0.007  0.934\n",
       "treatment.ethnicity:treatment.gender    3 3.747e+12 1.249e+12   0.082  0.970\n",
       "Residuals                            8444 1.280e+17 1.516e+13               "
      ]
     },
     "metadata": {},
     "output_type": "display_data"
    }
   ],
   "source": [
    "res.trulia <- aov(price ~ treatment.ethnicity * treatment.gender, data=filter(truliaRankings, idx <= 10))\n",
    "summary(res.trulia)"
   ]
  },
  {
   "cell_type": "markdown",
   "metadata": {},
   "source": [
    "#### Top 5"
   ]
  },
  {
   "cell_type": "code",
   "execution_count": 25,
   "metadata": {},
   "outputs": [
    {
     "data": {
      "text/plain": [
       "                                       Df    Sum Sq   Mean Sq F value Pr(>F)\n",
       "treatment.ethnicity                     3 3.842e+12 1.281e+12   0.084  0.969\n",
       "treatment.gender                        1 3.139e+10 3.139e+10   0.002  0.964\n",
       "treatment.ethnicity:treatment.gender    3 3.727e+12 1.242e+12   0.081  0.970\n",
       "Residuals                            4218 6.442e+16 1.527e+13               "
      ]
     },
     "metadata": {},
     "output_type": "display_data"
    }
   ],
   "source": [
    "res.trulia <- aov(price ~ treatment.ethnicity * treatment.gender, data=filter(truliaRankings, idx <= 5))\n",
    "summary(res.trulia)"
   ]
  },
  {
   "cell_type": "markdown",
   "metadata": {},
   "source": [
    "#### Top 3"
   ]
  },
  {
   "cell_type": "code",
   "execution_count": 26,
   "metadata": {},
   "outputs": [
    {
     "data": {
      "text/plain": [
       "                                       Df    Sum Sq   Mean Sq F value Pr(>F)\n",
       "treatment.ethnicity                     3 1.542e+13 5.140e+12   0.342  0.795\n",
       "treatment.gender                        1 9.006e+11 9.006e+11   0.060  0.807\n",
       "treatment.ethnicity:treatment.gender    3 1.099e+13 3.663e+12   0.244  0.866\n",
       "Residuals                            2530 3.806e+16 1.504e+13               "
      ]
     },
     "metadata": {},
     "output_type": "display_data"
    }
   ],
   "source": [
    "res.trulia <- aov(price ~ treatment.ethnicity * treatment.gender, data=filter(truliaRankings, idx <= 3))\n",
    "summary(res.trulia)"
   ]
  },
  {
   "cell_type": "markdown",
   "metadata": {},
   "source": [
    "#### Top Result"
   ]
  },
  {
   "cell_type": "code",
   "execution_count": 27,
   "metadata": {},
   "outputs": [
    {
     "data": {
      "text/plain": [
       "                                      Df    Sum Sq   Mean Sq F value Pr(>F)\n",
       "treatment.ethnicity                    3 7.126e+12 2.375e+12   0.143  0.934\n",
       "treatment.gender                       1 2.789e+12 2.789e+12   0.167  0.682\n",
       "treatment.ethnicity:treatment.gender   3 7.448e+12 2.483e+12   0.149  0.930\n",
       "Residuals                            838 1.396e+16 1.665e+13               "
      ]
     },
     "metadata": {},
     "output_type": "display_data"
    }
   ],
   "source": [
    "res.trulia <- aov(price ~ treatment.ethnicity * treatment.gender, data=filter(truliaRankings, idx == 1))\n",
    "summary(res.trulia)"
   ]
  },
  {
   "cell_type": "markdown",
   "metadata": {
    "toc-hr-collapsed": true
   },
   "source": [
    "### Demographic comparisons"
   ]
  },
  {
   "cell_type": "markdown",
   "metadata": {
    "toc-hr-collapsed": true
   },
   "source": [
    "#### By price"
   ]
  },
  {
   "cell_type": "code",
   "execution_count": 28,
   "metadata": {},
   "outputs": [
    {
     "data": {
      "text/html": [
       "<table>\n",
       "<thead><tr><th scope=col>treatment.ethnicity</th><th scope=col>treatment.gender</th><th scope=col>price</th></tr></thead>\n",
       "<tbody>\n",
       "\t<tr><td>caucasian       </td><td>female          </td><td>571665.7        </td></tr>\n",
       "\t<tr><td>caucasian       </td><td>male            </td><td>599231.2        </td></tr>\n",
       "\t<tr><td>african-american</td><td>female          </td><td>634535.6        </td></tr>\n",
       "\t<tr><td>african-american</td><td>male            </td><td>608319.2        </td></tr>\n",
       "\t<tr><td>asian           </td><td>female          </td><td>565348.9        </td></tr>\n",
       "\t<tr><td>asian           </td><td>male            </td><td>517509.8        </td></tr>\n",
       "\t<tr><td>hispanic        </td><td>female          </td><td>592218.1        </td></tr>\n",
       "\t<tr><td>hispanic        </td><td>male            </td><td>601952.8        </td></tr>\n",
       "</tbody>\n",
       "</table>\n"
      ],
      "text/latex": [
       "\\begin{tabular}{r|lll}\n",
       " treatment.ethnicity & treatment.gender & price\\\\\n",
       "\\hline\n",
       "\t caucasian        & female           & 571665.7        \\\\\n",
       "\t caucasian        & male             & 599231.2        \\\\\n",
       "\t african-american & female           & 634535.6        \\\\\n",
       "\t african-american & male             & 608319.2        \\\\\n",
       "\t asian            & female           & 565348.9        \\\\\n",
       "\t asian            & male             & 517509.8        \\\\\n",
       "\t hispanic         & female           & 592218.1        \\\\\n",
       "\t hispanic         & male             & 601952.8        \\\\\n",
       "\\end{tabular}\n"
      ],
      "text/markdown": [
       "\n",
       "| treatment.ethnicity | treatment.gender | price |\n",
       "|---|---|---|\n",
       "| caucasian        | female           | 571665.7         |\n",
       "| caucasian        | male             | 599231.2         |\n",
       "| african-american | female           | 634535.6         |\n",
       "| african-american | male             | 608319.2         |\n",
       "| asian            | female           | 565348.9         |\n",
       "| asian            | male             | 517509.8         |\n",
       "| hispanic         | female           | 592218.1         |\n",
       "| hispanic         | male             | 601952.8         |\n",
       "\n"
      ],
      "text/plain": [
       "  treatment.ethnicity treatment.gender price   \n",
       "1 caucasian           female           571665.7\n",
       "2 caucasian           male             599231.2\n",
       "3 african-american    female           634535.6\n",
       "4 african-american    male             608319.2\n",
       "5 asian               female           565348.9\n",
       "6 asian               male             517509.8\n",
       "7 hispanic            female           592218.1\n",
       "8 hispanic            male             601952.8"
      ]
     },
     "metadata": {},
     "output_type": "display_data"
    }
   ],
   "source": [
    "truliaRankings %>%\n",
    "    group_by(treatment.ethnicity, treatment.gender) %>%\n",
    "    summarise_at(vars(price), mean, na.rm = TRUE)"
   ]
  },
  {
   "cell_type": "code",
   "execution_count": 29,
   "metadata": {},
   "outputs": [
    {
     "data": {
      "text/html": [
       "<table>\n",
       "<thead><tr><th scope=col>treatment.ethnicity</th><th scope=col>price</th></tr></thead>\n",
       "<tbody>\n",
       "\t<tr><td>caucasian       </td><td>586083.4        </td></tr>\n",
       "\t<tr><td>african-american</td><td>621212.3        </td></tr>\n",
       "\t<tr><td>asian           </td><td>541128.9        </td></tr>\n",
       "\t<tr><td>hispanic        </td><td>596918.9        </td></tr>\n",
       "</tbody>\n",
       "</table>\n"
      ],
      "text/latex": [
       "\\begin{tabular}{r|ll}\n",
       " treatment.ethnicity & price\\\\\n",
       "\\hline\n",
       "\t caucasian        & 586083.4        \\\\\n",
       "\t african-american & 621212.3        \\\\\n",
       "\t asian            & 541128.9        \\\\\n",
       "\t hispanic         & 596918.9        \\\\\n",
       "\\end{tabular}\n"
      ],
      "text/markdown": [
       "\n",
       "| treatment.ethnicity | price |\n",
       "|---|---|\n",
       "| caucasian        | 586083.4         |\n",
       "| african-american | 621212.3         |\n",
       "| asian            | 541128.9         |\n",
       "| hispanic         | 596918.9         |\n",
       "\n"
      ],
      "text/plain": [
       "  treatment.ethnicity price   \n",
       "1 caucasian           586083.4\n",
       "2 african-american    621212.3\n",
       "3 asian               541128.9\n",
       "4 hispanic            596918.9"
      ]
     },
     "metadata": {},
     "output_type": "display_data"
    }
   ],
   "source": [
    "truliaRankings %>%\n",
    "    group_by(treatment.ethnicity) %>%\n",
    "    summarise_at(vars(price), mean, na.rm = TRUE)"
   ]
  },
  {
   "cell_type": "code",
   "execution_count": 30,
   "metadata": {},
   "outputs": [
    {
     "data": {
      "text/html": [
       "<table>\n",
       "<thead><tr><th scope=col>treatment.gender</th><th scope=col>price</th></tr></thead>\n",
       "<tbody>\n",
       "\t<tr><td>female  </td><td>591297.8</td></tr>\n",
       "\t<tr><td>male    </td><td>581728.4</td></tr>\n",
       "</tbody>\n",
       "</table>\n"
      ],
      "text/latex": [
       "\\begin{tabular}{r|ll}\n",
       " treatment.gender & price\\\\\n",
       "\\hline\n",
       "\t female   & 591297.8\\\\\n",
       "\t male     & 581728.4\\\\\n",
       "\\end{tabular}\n"
      ],
      "text/markdown": [
       "\n",
       "| treatment.gender | price |\n",
       "|---|---|\n",
       "| female   | 591297.8 |\n",
       "| male     | 581728.4 |\n",
       "\n"
      ],
      "text/plain": [
       "  treatment.gender price   \n",
       "1 female           591297.8\n",
       "2 male             581728.4"
      ]
     },
     "metadata": {},
     "output_type": "display_data"
    }
   ],
   "source": [
    "truliaRankings %>%\n",
    "    group_by(treatment.gender) %>%\n",
    "    summarise_at(vars(price), mean, na.rm = TRUE)"
   ]
  },
  {
   "cell_type": "markdown",
   "metadata": {},
   "source": [
    "##### Top 10"
   ]
  },
  {
   "cell_type": "code",
   "execution_count": 31,
   "metadata": {},
   "outputs": [
    {
     "data": {
      "text/html": [
       "<table>\n",
       "<thead><tr><th scope=col>treatment.ethnicity</th><th scope=col>treatment.gender</th><th scope=col>price</th></tr></thead>\n",
       "<tbody>\n",
       "\t<tr><td>caucasian       </td><td>female          </td><td>573353.0        </td></tr>\n",
       "\t<tr><td>caucasian       </td><td>male            </td><td>630397.3        </td></tr>\n",
       "\t<tr><td>african-american</td><td>female          </td><td>650640.3        </td></tr>\n",
       "\t<tr><td>african-american</td><td>male            </td><td>641412.9        </td></tr>\n",
       "\t<tr><td>asian           </td><td>female          </td><td>572382.9        </td></tr>\n",
       "\t<tr><td>asian           </td><td>male            </td><td>519303.7        </td></tr>\n",
       "\t<tr><td>hispanic        </td><td>female          </td><td>603364.3        </td></tr>\n",
       "\t<tr><td>hispanic        </td><td>male            </td><td>637316.7        </td></tr>\n",
       "</tbody>\n",
       "</table>\n"
      ],
      "text/latex": [
       "\\begin{tabular}{r|lll}\n",
       " treatment.ethnicity & treatment.gender & price\\\\\n",
       "\\hline\n",
       "\t caucasian        & female           & 573353.0        \\\\\n",
       "\t caucasian        & male             & 630397.3        \\\\\n",
       "\t african-american & female           & 650640.3        \\\\\n",
       "\t african-american & male             & 641412.9        \\\\\n",
       "\t asian            & female           & 572382.9        \\\\\n",
       "\t asian            & male             & 519303.7        \\\\\n",
       "\t hispanic         & female           & 603364.3        \\\\\n",
       "\t hispanic         & male             & 637316.7        \\\\\n",
       "\\end{tabular}\n"
      ],
      "text/markdown": [
       "\n",
       "| treatment.ethnicity | treatment.gender | price |\n",
       "|---|---|---|\n",
       "| caucasian        | female           | 573353.0         |\n",
       "| caucasian        | male             | 630397.3         |\n",
       "| african-american | female           | 650640.3         |\n",
       "| african-american | male             | 641412.9         |\n",
       "| asian            | female           | 572382.9         |\n",
       "| asian            | male             | 519303.7         |\n",
       "| hispanic         | female           | 603364.3         |\n",
       "| hispanic         | male             | 637316.7         |\n",
       "\n"
      ],
      "text/plain": [
       "  treatment.ethnicity treatment.gender price   \n",
       "1 caucasian           female           573353.0\n",
       "2 caucasian           male             630397.3\n",
       "3 african-american    female           650640.3\n",
       "4 african-american    male             641412.9\n",
       "5 asian               female           572382.9\n",
       "6 asian               male             519303.7\n",
       "7 hispanic            female           603364.3\n",
       "8 hispanic            male             637316.7"
      ]
     },
     "metadata": {},
     "output_type": "display_data"
    }
   ],
   "source": [
    "truliaRankings %>%\n",
    "    filter(idx <= 10) %>%\n",
    "    group_by(treatment.ethnicity, treatment.gender) %>%\n",
    "    summarise_at(vars(price), mean, na.rm = TRUE)"
   ]
  },
  {
   "cell_type": "code",
   "execution_count": 32,
   "metadata": {},
   "outputs": [
    {
     "data": {
      "text/html": [
       "<table>\n",
       "<thead><tr><th scope=col>treatment.ethnicity</th><th scope=col>price</th></tr></thead>\n",
       "<tbody>\n",
       "\t<tr><td>caucasian       </td><td>603081.5        </td></tr>\n",
       "\t<tr><td>african-american</td><td>645941.1        </td></tr>\n",
       "\t<tr><td>asian           </td><td>545465.6        </td></tr>\n",
       "\t<tr><td>hispanic        </td><td>619680.6        </td></tr>\n",
       "</tbody>\n",
       "</table>\n"
      ],
      "text/latex": [
       "\\begin{tabular}{r|ll}\n",
       " treatment.ethnicity & price\\\\\n",
       "\\hline\n",
       "\t caucasian        & 603081.5        \\\\\n",
       "\t african-american & 645941.1        \\\\\n",
       "\t asian            & 545465.6        \\\\\n",
       "\t hispanic         & 619680.6        \\\\\n",
       "\\end{tabular}\n"
      ],
      "text/markdown": [
       "\n",
       "| treatment.ethnicity | price |\n",
       "|---|---|\n",
       "| caucasian        | 603081.5         |\n",
       "| african-american | 645941.1         |\n",
       "| asian            | 545465.6         |\n",
       "| hispanic         | 619680.6         |\n",
       "\n"
      ],
      "text/plain": [
       "  treatment.ethnicity price   \n",
       "1 caucasian           603081.5\n",
       "2 african-american    645941.1\n",
       "3 asian               545465.6\n",
       "4 hispanic            619680.6"
      ]
     },
     "metadata": {},
     "output_type": "display_data"
    }
   ],
   "source": [
    "truliaRankings %>%\n",
    "    filter(idx <= 10) %>%\n",
    "    group_by(treatment.ethnicity) %>%\n",
    "    summarise_at(vars(price), mean, na.rm = TRUE)"
   ]
  },
  {
   "cell_type": "code",
   "execution_count": 33,
   "metadata": {},
   "outputs": [
    {
     "data": {
      "text/html": [
       "<table>\n",
       "<thead><tr><th scope=col>treatment.gender</th><th scope=col>price</th></tr></thead>\n",
       "<tbody>\n",
       "\t<tr><td>female  </td><td>600329.0</td></tr>\n",
       "\t<tr><td>male    </td><td>607000.8</td></tr>\n",
       "</tbody>\n",
       "</table>\n"
      ],
      "text/latex": [
       "\\begin{tabular}{r|ll}\n",
       " treatment.gender & price\\\\\n",
       "\\hline\n",
       "\t female   & 600329.0\\\\\n",
       "\t male     & 607000.8\\\\\n",
       "\\end{tabular}\n"
      ],
      "text/markdown": [
       "\n",
       "| treatment.gender | price |\n",
       "|---|---|\n",
       "| female   | 600329.0 |\n",
       "| male     | 607000.8 |\n",
       "\n"
      ],
      "text/plain": [
       "  treatment.gender price   \n",
       "1 female           600329.0\n",
       "2 male             607000.8"
      ]
     },
     "metadata": {},
     "output_type": "display_data"
    }
   ],
   "source": [
    "truliaRankings %>%\n",
    "    filter(idx <= 10) %>%\n",
    "    group_by(treatment.gender) %>%\n",
    "    summarise_at(vars(price), mean, na.rm = TRUE)"
   ]
  },
  {
   "cell_type": "markdown",
   "metadata": {},
   "source": [
    "##### Top 5"
   ]
  },
  {
   "cell_type": "code",
   "execution_count": 34,
   "metadata": {},
   "outputs": [
    {
     "data": {
      "text/html": [
       "<table>\n",
       "<thead><tr><th scope=col>treatment.ethnicity</th><th scope=col>treatment.gender</th><th scope=col>price</th></tr></thead>\n",
       "<tbody>\n",
       "\t<tr><td>caucasian       </td><td>female          </td><td>603720.7        </td></tr>\n",
       "\t<tr><td>caucasian       </td><td>male            </td><td>581419.7        </td></tr>\n",
       "\t<tr><td>african-american</td><td>female          </td><td>680908.8        </td></tr>\n",
       "\t<tr><td>african-american</td><td>male            </td><td>589554.0        </td></tr>\n",
       "\t<tr><td>asian           </td><td>female          </td><td>517724.7        </td></tr>\n",
       "\t<tr><td>asian           </td><td>male            </td><td>584308.5        </td></tr>\n",
       "\t<tr><td>hispanic        </td><td>female          </td><td>594548.0        </td></tr>\n",
       "\t<tr><td>hispanic        </td><td>male            </td><td>622878.8        </td></tr>\n",
       "</tbody>\n",
       "</table>\n"
      ],
      "text/latex": [
       "\\begin{tabular}{r|lll}\n",
       " treatment.ethnicity & treatment.gender & price\\\\\n",
       "\\hline\n",
       "\t caucasian        & female           & 603720.7        \\\\\n",
       "\t caucasian        & male             & 581419.7        \\\\\n",
       "\t african-american & female           & 680908.8        \\\\\n",
       "\t african-american & male             & 589554.0        \\\\\n",
       "\t asian            & female           & 517724.7        \\\\\n",
       "\t asian            & male             & 584308.5        \\\\\n",
       "\t hispanic         & female           & 594548.0        \\\\\n",
       "\t hispanic         & male             & 622878.8        \\\\\n",
       "\\end{tabular}\n"
      ],
      "text/markdown": [
       "\n",
       "| treatment.ethnicity | treatment.gender | price |\n",
       "|---|---|---|\n",
       "| caucasian        | female           | 603720.7         |\n",
       "| caucasian        | male             | 581419.7         |\n",
       "| african-american | female           | 680908.8         |\n",
       "| african-american | male             | 589554.0         |\n",
       "| asian            | female           | 517724.7         |\n",
       "| asian            | male             | 584308.5         |\n",
       "| hispanic         | female           | 594548.0         |\n",
       "| hispanic         | male             | 622878.8         |\n",
       "\n"
      ],
      "text/plain": [
       "  treatment.ethnicity treatment.gender price   \n",
       "1 caucasian           female           603720.7\n",
       "2 caucasian           male             581419.7\n",
       "3 african-american    female           680908.8\n",
       "4 african-american    male             589554.0\n",
       "5 asian               female           517724.7\n",
       "6 asian               male             584308.5\n",
       "7 hispanic            female           594548.0\n",
       "8 hispanic            male             622878.8"
      ]
     },
     "metadata": {},
     "output_type": "display_data"
    }
   ],
   "source": [
    "truliaRankings %>%\n",
    "    filter(idx <= 5) %>%\n",
    "    group_by(treatment.ethnicity, treatment.gender) %>%\n",
    "    summarise_at(vars(price), mean, na.rm = TRUE)"
   ]
  },
  {
   "cell_type": "code",
   "execution_count": 35,
   "metadata": {},
   "outputs": [
    {
     "data": {
      "text/html": [
       "<table>\n",
       "<thead><tr><th scope=col>treatment.ethnicity</th><th scope=col>price</th></tr></thead>\n",
       "<tbody>\n",
       "\t<tr><td>caucasian       </td><td>592098.1        </td></tr>\n",
       "\t<tr><td>african-american</td><td>634385.6        </td></tr>\n",
       "\t<tr><td>asian           </td><td>551522.0        </td></tr>\n",
       "\t<tr><td>hispanic        </td><td>608149.0        </td></tr>\n",
       "</tbody>\n",
       "</table>\n"
      ],
      "text/latex": [
       "\\begin{tabular}{r|ll}\n",
       " treatment.ethnicity & price\\\\\n",
       "\\hline\n",
       "\t caucasian        & 592098.1        \\\\\n",
       "\t african-american & 634385.6        \\\\\n",
       "\t asian            & 551522.0        \\\\\n",
       "\t hispanic         & 608149.0        \\\\\n",
       "\\end{tabular}\n"
      ],
      "text/markdown": [
       "\n",
       "| treatment.ethnicity | price |\n",
       "|---|---|\n",
       "| caucasian        | 592098.1         |\n",
       "| african-american | 634385.6         |\n",
       "| asian            | 551522.0         |\n",
       "| hispanic         | 608149.0         |\n",
       "\n"
      ],
      "text/plain": [
       "  treatment.ethnicity price   \n",
       "1 caucasian           592098.1\n",
       "2 african-american    634385.6\n",
       "3 asian               551522.0\n",
       "4 hispanic            608149.0"
      ]
     },
     "metadata": {},
     "output_type": "display_data"
    }
   ],
   "source": [
    "truliaRankings %>%\n",
    "    filter(idx <= 5) %>%\n",
    "    group_by(treatment.ethnicity) %>%\n",
    "    summarise_at(vars(price), mean, na.rm = TRUE)"
   ]
  },
  {
   "cell_type": "code",
   "execution_count": 36,
   "metadata": {},
   "outputs": [
    {
     "data": {
      "text/html": [
       "<table>\n",
       "<thead><tr><th scope=col>treatment.gender</th><th scope=col>price</th></tr></thead>\n",
       "<tbody>\n",
       "\t<tr><td>female  </td><td>599597.6</td></tr>\n",
       "\t<tr><td>male    </td><td>593843.6</td></tr>\n",
       "</tbody>\n",
       "</table>\n"
      ],
      "text/latex": [
       "\\begin{tabular}{r|ll}\n",
       " treatment.gender & price\\\\\n",
       "\\hline\n",
       "\t female   & 599597.6\\\\\n",
       "\t male     & 593843.6\\\\\n",
       "\\end{tabular}\n"
      ],
      "text/markdown": [
       "\n",
       "| treatment.gender | price |\n",
       "|---|---|\n",
       "| female   | 599597.6 |\n",
       "| male     | 593843.6 |\n",
       "\n"
      ],
      "text/plain": [
       "  treatment.gender price   \n",
       "1 female           599597.6\n",
       "2 male             593843.6"
      ]
     },
     "metadata": {},
     "output_type": "display_data"
    }
   ],
   "source": [
    "truliaRankings %>%\n",
    "    filter(idx <= 5) %>%\n",
    "    group_by(treatment.gender) %>%\n",
    "    summarise_at(vars(price), mean, na.rm = TRUE)"
   ]
  },
  {
   "cell_type": "markdown",
   "metadata": {
    "toc-hr-collapsed": true
   },
   "source": [
    "#### By Size"
   ]
  },
  {
   "cell_type": "code",
   "execution_count": 37,
   "metadata": {},
   "outputs": [
    {
     "data": {
      "text/html": [
       "<table>\n",
       "<thead><tr><th scope=col>treatment.ethnicity</th><th scope=col>treatment.gender</th><th scope=col>beds</th></tr></thead>\n",
       "<tbody>\n",
       "\t<tr><td>caucasian       </td><td>female          </td><td>3.910190        </td></tr>\n",
       "\t<tr><td>caucasian       </td><td>male            </td><td>3.977383        </td></tr>\n",
       "\t<tr><td>african-american</td><td>female          </td><td>3.963875        </td></tr>\n",
       "\t<tr><td>african-american</td><td>male            </td><td>3.958665        </td></tr>\n",
       "\t<tr><td>asian           </td><td>female          </td><td>3.934319        </td></tr>\n",
       "\t<tr><td>asian           </td><td>male            </td><td>3.915371        </td></tr>\n",
       "\t<tr><td>hispanic        </td><td>female          </td><td>3.924466        </td></tr>\n",
       "\t<tr><td>hispanic        </td><td>male            </td><td>3.928918        </td></tr>\n",
       "</tbody>\n",
       "</table>\n"
      ],
      "text/latex": [
       "\\begin{tabular}{r|lll}\n",
       " treatment.ethnicity & treatment.gender & beds\\\\\n",
       "\\hline\n",
       "\t caucasian        & female           & 3.910190        \\\\\n",
       "\t caucasian        & male             & 3.977383        \\\\\n",
       "\t african-american & female           & 3.963875        \\\\\n",
       "\t african-american & male             & 3.958665        \\\\\n",
       "\t asian            & female           & 3.934319        \\\\\n",
       "\t asian            & male             & 3.915371        \\\\\n",
       "\t hispanic         & female           & 3.924466        \\\\\n",
       "\t hispanic         & male             & 3.928918        \\\\\n",
       "\\end{tabular}\n"
      ],
      "text/markdown": [
       "\n",
       "| treatment.ethnicity | treatment.gender | beds |\n",
       "|---|---|---|\n",
       "| caucasian        | female           | 3.910190         |\n",
       "| caucasian        | male             | 3.977383         |\n",
       "| african-american | female           | 3.963875         |\n",
       "| african-american | male             | 3.958665         |\n",
       "| asian            | female           | 3.934319         |\n",
       "| asian            | male             | 3.915371         |\n",
       "| hispanic         | female           | 3.924466         |\n",
       "| hispanic         | male             | 3.928918         |\n",
       "\n"
      ],
      "text/plain": [
       "  treatment.ethnicity treatment.gender beds    \n",
       "1 caucasian           female           3.910190\n",
       "2 caucasian           male             3.977383\n",
       "3 african-american    female           3.963875\n",
       "4 african-american    male             3.958665\n",
       "5 asian               female           3.934319\n",
       "6 asian               male             3.915371\n",
       "7 hispanic            female           3.924466\n",
       "8 hispanic            male             3.928918"
      ]
     },
     "metadata": {},
     "output_type": "display_data"
    }
   ],
   "source": [
    "truliaRankings %>%\n",
    "    group_by(treatment.ethnicity, treatment.gender) %>%\n",
    "    summarise_at(vars(beds), mean, na.rm = TRUE)"
   ]
  },
  {
   "cell_type": "code",
   "execution_count": 38,
   "metadata": {},
   "outputs": [
    {
     "data": {
      "text/html": [
       "<table>\n",
       "<thead><tr><th scope=col>treatment.ethnicity</th><th scope=col>beds</th></tr></thead>\n",
       "<tbody>\n",
       "\t<tr><td>caucasian       </td><td>3.944908        </td></tr>\n",
       "\t<tr><td>african-american</td><td>3.961228        </td></tr>\n",
       "\t<tr><td>asian           </td><td>3.925084        </td></tr>\n",
       "\t<tr><td>hispanic        </td><td>3.926710        </td></tr>\n",
       "</tbody>\n",
       "</table>\n"
      ],
      "text/latex": [
       "\\begin{tabular}{r|ll}\n",
       " treatment.ethnicity & beds\\\\\n",
       "\\hline\n",
       "\t caucasian        & 3.944908        \\\\\n",
       "\t african-american & 3.961228        \\\\\n",
       "\t asian            & 3.925084        \\\\\n",
       "\t hispanic         & 3.926710        \\\\\n",
       "\\end{tabular}\n"
      ],
      "text/markdown": [
       "\n",
       "| treatment.ethnicity | beds |\n",
       "|---|---|\n",
       "| caucasian        | 3.944908         |\n",
       "| african-american | 3.961228         |\n",
       "| asian            | 3.925084         |\n",
       "| hispanic         | 3.926710         |\n",
       "\n"
      ],
      "text/plain": [
       "  treatment.ethnicity beds    \n",
       "1 caucasian           3.944908\n",
       "2 african-american    3.961228\n",
       "3 asian               3.925084\n",
       "4 hispanic            3.926710"
      ]
     },
     "metadata": {},
     "output_type": "display_data"
    }
   ],
   "source": [
    "truliaRankings %>%\n",
    "    group_by(treatment.ethnicity) %>%\n",
    "    summarise_at(vars(beds), mean, na.rm = TRUE)"
   ]
  },
  {
   "cell_type": "code",
   "execution_count": 39,
   "metadata": {},
   "outputs": [
    {
     "data": {
      "text/html": [
       "<table>\n",
       "<thead><tr><th scope=col>treatment.gender</th><th scope=col>beds</th></tr></thead>\n",
       "<tbody>\n",
       "\t<tr><td>female  </td><td>3.933500</td></tr>\n",
       "\t<tr><td>male    </td><td>3.945626</td></tr>\n",
       "</tbody>\n",
       "</table>\n"
      ],
      "text/latex": [
       "\\begin{tabular}{r|ll}\n",
       " treatment.gender & beds\\\\\n",
       "\\hline\n",
       "\t female   & 3.933500\\\\\n",
       "\t male     & 3.945626\\\\\n",
       "\\end{tabular}\n"
      ],
      "text/markdown": [
       "\n",
       "| treatment.gender | beds |\n",
       "|---|---|\n",
       "| female   | 3.933500 |\n",
       "| male     | 3.945626 |\n",
       "\n"
      ],
      "text/plain": [
       "  treatment.gender beds    \n",
       "1 female           3.933500\n",
       "2 male             3.945626"
      ]
     },
     "metadata": {},
     "output_type": "display_data"
    }
   ],
   "source": [
    "truliaRankings %>%\n",
    "    group_by(treatment.gender) %>%\n",
    "    summarise_at(vars(beds), mean, na.rm = TRUE)"
   ]
  },
  {
   "cell_type": "markdown",
   "metadata": {},
   "source": [
    "##### Top 10"
   ]
  },
  {
   "cell_type": "code",
   "execution_count": 40,
   "metadata": {},
   "outputs": [
    {
     "data": {
      "text/html": [
       "<table>\n",
       "<thead><tr><th scope=col>treatment.ethnicity</th><th scope=col>treatment.gender</th><th scope=col>beds</th></tr></thead>\n",
       "<tbody>\n",
       "\t<tr><td>caucasian       </td><td>female          </td><td>3.967320        </td></tr>\n",
       "\t<tr><td>caucasian       </td><td>male            </td><td>4.037578        </td></tr>\n",
       "\t<tr><td>african-american</td><td>female          </td><td>4.023454        </td></tr>\n",
       "\t<tr><td>african-american</td><td>male            </td><td>4.016360        </td></tr>\n",
       "\t<tr><td>asian           </td><td>female          </td><td>3.989339        </td></tr>\n",
       "\t<tr><td>asian           </td><td>male            </td><td>3.974943        </td></tr>\n",
       "\t<tr><td>hispanic        </td><td>female          </td><td>3.972281        </td></tr>\n",
       "\t<tr><td>hispanic        </td><td>male            </td><td>3.993737        </td></tr>\n",
       "</tbody>\n",
       "</table>\n"
      ],
      "text/latex": [
       "\\begin{tabular}{r|lll}\n",
       " treatment.ethnicity & treatment.gender & beds\\\\\n",
       "\\hline\n",
       "\t caucasian        & female           & 3.967320        \\\\\n",
       "\t caucasian        & male             & 4.037578        \\\\\n",
       "\t african-american & female           & 4.023454        \\\\\n",
       "\t african-american & male             & 4.016360        \\\\\n",
       "\t asian            & female           & 3.989339        \\\\\n",
       "\t asian            & male             & 3.974943        \\\\\n",
       "\t hispanic         & female           & 3.972281        \\\\\n",
       "\t hispanic         & male             & 3.993737        \\\\\n",
       "\\end{tabular}\n"
      ],
      "text/markdown": [
       "\n",
       "| treatment.ethnicity | treatment.gender | beds |\n",
       "|---|---|---|\n",
       "| caucasian        | female           | 3.967320         |\n",
       "| caucasian        | male             | 4.037578         |\n",
       "| african-american | female           | 4.023454         |\n",
       "| african-american | male             | 4.016360         |\n",
       "| asian            | female           | 3.989339         |\n",
       "| asian            | male             | 3.974943         |\n",
       "| hispanic         | female           | 3.972281         |\n",
       "| hispanic         | male             | 3.993737         |\n",
       "\n"
      ],
      "text/plain": [
       "  treatment.ethnicity treatment.gender beds    \n",
       "1 caucasian           female           3.967320\n",
       "2 caucasian           male             4.037578\n",
       "3 african-american    female           4.023454\n",
       "4 african-american    male             4.016360\n",
       "5 asian               female           3.989339\n",
       "6 asian               male             3.974943\n",
       "7 hispanic            female           3.972281\n",
       "8 hispanic            male             3.993737"
      ]
     },
     "metadata": {},
     "output_type": "display_data"
    }
   ],
   "source": [
    "truliaRankings %>%\n",
    "    filter(idx <= 10) %>%\n",
    "    group_by(treatment.ethnicity, treatment.gender) %>%\n",
    "    summarise_at(vars(beds), mean, na.rm = TRUE)"
   ]
  },
  {
   "cell_type": "code",
   "execution_count": 41,
   "metadata": {},
   "outputs": [
    {
     "data": {
      "text/html": [
       "<table>\n",
       "<thead><tr><th scope=col>treatment.ethnicity</th><th scope=col>beds</th></tr></thead>\n",
       "<tbody>\n",
       "\t<tr><td>caucasian       </td><td>4.003198        </td></tr>\n",
       "\t<tr><td>african-american</td><td>4.019833        </td></tr>\n",
       "\t<tr><td>asian           </td><td>3.982379        </td></tr>\n",
       "\t<tr><td>hispanic        </td><td>3.983122        </td></tr>\n",
       "</tbody>\n",
       "</table>\n"
      ],
      "text/latex": [
       "\\begin{tabular}{r|ll}\n",
       " treatment.ethnicity & beds\\\\\n",
       "\\hline\n",
       "\t caucasian        & 4.003198        \\\\\n",
       "\t african-american & 4.019833        \\\\\n",
       "\t asian            & 3.982379        \\\\\n",
       "\t hispanic         & 3.983122        \\\\\n",
       "\\end{tabular}\n"
      ],
      "text/markdown": [
       "\n",
       "| treatment.ethnicity | beds |\n",
       "|---|---|\n",
       "| caucasian        | 4.003198         |\n",
       "| african-american | 4.019833         |\n",
       "| asian            | 3.982379         |\n",
       "| hispanic         | 3.983122         |\n",
       "\n"
      ],
      "text/plain": [
       "  treatment.ethnicity beds    \n",
       "1 caucasian           4.003198\n",
       "2 african-american    4.019833\n",
       "3 asian               3.982379\n",
       "4 hispanic            3.983122"
      ]
     },
     "metadata": {},
     "output_type": "display_data"
    }
   ],
   "source": [
    "truliaRankings %>%\n",
    "    filter(idx <= 10) %>%\n",
    "    group_by(treatment.ethnicity) %>%\n",
    "    summarise_at(vars(beds), mean, na.rm = TRUE)"
   ]
  },
  {
   "cell_type": "code",
   "execution_count": 42,
   "metadata": {},
   "outputs": [
    {
     "data": {
      "text/html": [
       "<table>\n",
       "<thead><tr><th scope=col>treatment.gender</th><th scope=col>beds</th></tr></thead>\n",
       "<tbody>\n",
       "\t<tr><td>female  </td><td>3.988210</td></tr>\n",
       "\t<tr><td>male    </td><td>4.006363</td></tr>\n",
       "</tbody>\n",
       "</table>\n"
      ],
      "text/latex": [
       "\\begin{tabular}{r|ll}\n",
       " treatment.gender & beds\\\\\n",
       "\\hline\n",
       "\t female   & 3.988210\\\\\n",
       "\t male     & 4.006363\\\\\n",
       "\\end{tabular}\n"
      ],
      "text/markdown": [
       "\n",
       "| treatment.gender | beds |\n",
       "|---|---|\n",
       "| female   | 3.988210 |\n",
       "| male     | 4.006363 |\n",
       "\n"
      ],
      "text/plain": [
       "  treatment.gender beds    \n",
       "1 female           3.988210\n",
       "2 male             4.006363"
      ]
     },
     "metadata": {},
     "output_type": "display_data"
    }
   ],
   "source": [
    "truliaRankings %>%\n",
    "    filter(idx <= 10) %>%\n",
    "    group_by(treatment.gender) %>%\n",
    "    summarise_at(vars(beds), mean, na.rm = TRUE)"
   ]
  },
  {
   "cell_type": "markdown",
   "metadata": {},
   "source": [
    "##### Top 5"
   ]
  },
  {
   "cell_type": "code",
   "execution_count": 43,
   "metadata": {},
   "outputs": [
    {
     "data": {
      "text/html": [
       "<table>\n",
       "<thead><tr><th scope=col>treatment.ethnicity</th><th scope=col>treatment.gender</th><th scope=col>beds</th></tr></thead>\n",
       "<tbody>\n",
       "\t<tr><td>caucasian       </td><td>female          </td><td>3.812227        </td></tr>\n",
       "\t<tr><td>caucasian       </td><td>male            </td><td>3.895397        </td></tr>\n",
       "\t<tr><td>african-american</td><td>female          </td><td>3.885106        </td></tr>\n",
       "\t<tr><td>african-american</td><td>male            </td><td>3.906122        </td></tr>\n",
       "\t<tr><td>asian           </td><td>female          </td><td>3.876068        </td></tr>\n",
       "\t<tr><td>asian           </td><td>male            </td><td>3.872727        </td></tr>\n",
       "\t<tr><td>hispanic        </td><td>female          </td><td>3.868085        </td></tr>\n",
       "\t<tr><td>hispanic        </td><td>male            </td><td>3.870293        </td></tr>\n",
       "</tbody>\n",
       "</table>\n"
      ],
      "text/latex": [
       "\\begin{tabular}{r|lll}\n",
       " treatment.ethnicity & treatment.gender & beds\\\\\n",
       "\\hline\n",
       "\t caucasian        & female           & 3.812227        \\\\\n",
       "\t caucasian        & male             & 3.895397        \\\\\n",
       "\t african-american & female           & 3.885106        \\\\\n",
       "\t african-american & male             & 3.906122        \\\\\n",
       "\t asian            & female           & 3.876068        \\\\\n",
       "\t asian            & male             & 3.872727        \\\\\n",
       "\t hispanic         & female           & 3.868085        \\\\\n",
       "\t hispanic         & male             & 3.870293        \\\\\n",
       "\\end{tabular}\n"
      ],
      "text/markdown": [
       "\n",
       "| treatment.ethnicity | treatment.gender | beds |\n",
       "|---|---|---|\n",
       "| caucasian        | female           | 3.812227         |\n",
       "| caucasian        | male             | 3.895397         |\n",
       "| african-american | female           | 3.885106         |\n",
       "| african-american | male             | 3.906122         |\n",
       "| asian            | female           | 3.876068         |\n",
       "| asian            | male             | 3.872727         |\n",
       "| hispanic         | female           | 3.868085         |\n",
       "| hispanic         | male             | 3.870293         |\n",
       "\n"
      ],
      "text/plain": [
       "  treatment.ethnicity treatment.gender beds    \n",
       "1 caucasian           female           3.812227\n",
       "2 caucasian           male             3.895397\n",
       "3 african-american    female           3.885106\n",
       "4 african-american    male             3.906122\n",
       "5 asian               female           3.876068\n",
       "6 asian               male             3.872727\n",
       "7 hispanic            female           3.868085\n",
       "8 hispanic            male             3.870293"
      ]
     },
     "metadata": {},
     "output_type": "display_data"
    }
   ],
   "source": [
    "truliaRankings %>%\n",
    "    filter(idx <= 5) %>%\n",
    "    group_by(treatment.ethnicity, treatment.gender) %>%\n",
    "    summarise_at(vars(beds), mean, na.rm = TRUE)"
   ]
  },
  {
   "cell_type": "code",
   "execution_count": 44,
   "metadata": {},
   "outputs": [
    {
     "data": {
      "text/html": [
       "<table>\n",
       "<thead><tr><th scope=col>treatment.ethnicity</th><th scope=col>beds</th></tr></thead>\n",
       "<tbody>\n",
       "\t<tr><td>caucasian       </td><td>3.854701        </td></tr>\n",
       "\t<tr><td>african-american</td><td>3.895833        </td></tr>\n",
       "\t<tr><td>asian           </td><td>3.874449        </td></tr>\n",
       "\t<tr><td>hispanic        </td><td>3.869198        </td></tr>\n",
       "</tbody>\n",
       "</table>\n"
      ],
      "text/latex": [
       "\\begin{tabular}{r|ll}\n",
       " treatment.ethnicity & beds\\\\\n",
       "\\hline\n",
       "\t caucasian        & 3.854701        \\\\\n",
       "\t african-american & 3.895833        \\\\\n",
       "\t asian            & 3.874449        \\\\\n",
       "\t hispanic         & 3.869198        \\\\\n",
       "\\end{tabular}\n"
      ],
      "text/markdown": [
       "\n",
       "| treatment.ethnicity | beds |\n",
       "|---|---|\n",
       "| caucasian        | 3.854701         |\n",
       "| african-american | 3.895833         |\n",
       "| asian            | 3.874449         |\n",
       "| hispanic         | 3.869198         |\n",
       "\n"
      ],
      "text/plain": [
       "  treatment.ethnicity beds    \n",
       "1 caucasian           3.854701\n",
       "2 african-american    3.895833\n",
       "3 asian               3.874449\n",
       "4 hispanic            3.869198"
      ]
     },
     "metadata": {},
     "output_type": "display_data"
    }
   ],
   "source": [
    "truliaRankings %>%\n",
    "    filter(idx <= 5) %>%\n",
    "    group_by(treatment.ethnicity) %>%\n",
    "    summarise_at(vars(beds), mean, na.rm = TRUE)"
   ]
  },
  {
   "cell_type": "code",
   "execution_count": 45,
   "metadata": {},
   "outputs": [
    {
     "data": {
      "text/html": [
       "<table>\n",
       "<thead><tr><th scope=col>treatment.gender</th><th scope=col>beds</th></tr></thead>\n",
       "<tbody>\n",
       "\t<tr><td>female  </td><td>3.860665</td></tr>\n",
       "\t<tr><td>male    </td><td>3.886532</td></tr>\n",
       "</tbody>\n",
       "</table>\n"
      ],
      "text/latex": [
       "\\begin{tabular}{r|ll}\n",
       " treatment.gender & beds\\\\\n",
       "\\hline\n",
       "\t female   & 3.860665\\\\\n",
       "\t male     & 3.886532\\\\\n",
       "\\end{tabular}\n"
      ],
      "text/markdown": [
       "\n",
       "| treatment.gender | beds |\n",
       "|---|---|\n",
       "| female   | 3.860665 |\n",
       "| male     | 3.886532 |\n",
       "\n"
      ],
      "text/plain": [
       "  treatment.gender beds    \n",
       "1 female           3.860665\n",
       "2 male             3.886532"
      ]
     },
     "metadata": {},
     "output_type": "display_data"
    }
   ],
   "source": [
    "truliaRankings %>%\n",
    "    filter(idx <= 5) %>%\n",
    "    group_by(treatment.gender) %>%\n",
    "    summarise_at(vars(beds), mean, na.rm = TRUE)"
   ]
  },
  {
   "cell_type": "markdown",
   "metadata": {
    "toc-hr-collapsed": false
   },
   "source": [
    "# Realtor.com"
   ]
  },
  {
   "cell_type": "markdown",
   "metadata": {},
   "source": [
    "## Data setup"
   ]
  },
  {
   "cell_type": "code",
   "execution_count": 46,
   "metadata": {},
   "outputs": [
    {
     "data": {
      "text/html": [
       "436"
      ],
      "text/latex": [
       "436"
      ],
      "text/markdown": [
       "436"
      ],
      "text/plain": [
       "[1] 436"
      ]
     },
     "metadata": {},
     "output_type": "display_data"
    }
   ],
   "source": [
    "nestedRealtorRankings <- rankings[rankings$scraper == 'RealtorRanking', ]\n",
    "nestedRealtorRankings$ranking <- lapply(nestedRealtorRankings$ranking, format_ranking)\n",
    "nrow(nestedRealtorRankings)"
   ]
  },
  {
   "cell_type": "code",
   "execution_count": 48,
   "metadata": {},
   "outputs": [
    {
     "data": {
      "text/plain": [
       "[1] \"2019-03-19 17:32:10 CDT\""
      ]
     },
     "metadata": {},
     "output_type": "display_data"
    },
    {
     "data": {
      "text/plain": [
       "[1] \"2018-12-07 12:43:04 CST\""
      ]
     },
     "metadata": {},
     "output_type": "display_data"
    },
    {
     "data": {
      "text/plain": [
       "Time difference of 102.1591 days"
      ]
     },
     "metadata": {},
     "output_type": "display_data"
    }
   ],
   "source": [
    "max(nestedRealtorRankings$time)\n",
    "min(nestedRealtorRankings$time)\n",
    "max(nestedRealtorRankings$time) - min(nestedRealtorRankings$time)"
   ]
  },
  {
   "cell_type": "code",
   "execution_count": 49,
   "metadata": {},
   "outputs": [
    {
     "data": {
      "text/html": [
       "6561"
      ],
      "text/latex": [
       "6561"
      ],
      "text/markdown": [
       "6561"
      ],
      "text/plain": [
       "[1] 6561"
      ]
     },
     "metadata": {},
     "output_type": "display_data"
    }
   ],
   "source": [
    "realtorRankings <- unnest(nestedRealtorRankings, ranking)\n",
    "colnames(realtorRankings)[colnames(realtorRankings)==\"street address\"] <- \"street_address\"\n",
    "realtorRankings <- realtorRankings %>% filter(!is.na(street_address))\n",
    "# realtorRankings$dist <- apply(realtorRankings[,c('latitude', 'longitude')], 1, function(x) { distHaversine(chicago_coords, c(x[1], x[2])) })\n",
    "\n",
    "nrow(realtorRankings)"
   ]
  },
  {
   "cell_type": "markdown",
   "metadata": {
    "toc-hr-collapsed": true
   },
   "source": [
    "## Marketwide Analysis"
   ]
  },
  {
   "cell_type": "markdown",
   "metadata": {},
   "source": [
    "### Correlation between demographics and price on index"
   ]
  },
  {
   "cell_type": "code",
   "execution_count": 50,
   "metadata": {},
   "outputs": [
    {
     "data": {
      "text/plain": [
       "                                             Df Sum Sq Mean Sq F value Pr(>F)\n",
       "treatment.ethnicity                           3    100      33   0.511 0.6750\n",
       "treatment.gender                              1     19      19   0.291 0.5894\n",
       "price                                         1  11627   11627 177.771 <2e-16\n",
       "treatment.ethnicity:treatment.gender          3    152      51   0.775 0.5077\n",
       "treatment.ethnicity:price                     3    623     208   3.175 0.0231\n",
       "treatment.gender:price                        1     16      16   0.249 0.6179\n",
       "treatment.ethnicity:treatment.gender:price    3    292      97   1.487 0.2159\n",
       "Residuals                                  6545 428076      65               \n",
       "                                              \n",
       "treatment.ethnicity                           \n",
       "treatment.gender                              \n",
       "price                                      ***\n",
       "treatment.ethnicity:treatment.gender          \n",
       "treatment.ethnicity:price                  *  \n",
       "treatment.gender:price                        \n",
       "treatment.ethnicity:treatment.gender:price    \n",
       "Residuals                                     \n",
       "---\n",
       "Signif. codes:  0 ‘***’ 0.001 ‘**’ 0.01 ‘*’ 0.05 ‘.’ 0.1 ‘ ’ 1"
      ]
     },
     "metadata": {},
     "output_type": "display_data"
    }
   ],
   "source": [
    "res.realtor <- aov(idx ~ treatment.ethnicity * treatment.gender * price, data=realtorRankings)\n",
    "summary(res.realtor)"
   ]
  },
  {
   "cell_type": "code",
   "execution_count": 51,
   "metadata": {},
   "outputs": [
    {
     "data": {
      "text/plain": [
       "                                           Df    Sum Sq   Mean Sq F value\n",
       "treatment.ethnicity                         3 7.062e+10 2.354e+10   0.211\n",
       "treatment.gender                            1 3.262e+11 3.262e+11   2.929\n",
       "idx                                         1 1.978e+13 1.978e+13 177.670\n",
       "treatment.ethnicity:treatment.gender        3 3.946e+11 1.315e+11   1.181\n",
       "treatment.ethnicity:idx                     3 2.752e+11 9.174e+10   0.824\n",
       "treatment.gender:idx                        1 5.834e+11 5.834e+11   5.240\n",
       "treatment.ethnicity:treatment.gender:idx    3 1.778e+11 5.927e+10   0.532\n",
       "Residuals                                6545 7.288e+14 1.114e+11        \n",
       "                                         Pr(>F)    \n",
       "treatment.ethnicity                      0.8886    \n",
       "treatment.gender                         0.0870 .  \n",
       "idx                                      <2e-16 ***\n",
       "treatment.ethnicity:treatment.gender     0.3153    \n",
       "treatment.ethnicity:idx                  0.4805    \n",
       "treatment.gender:idx                     0.0221 *  \n",
       "treatment.ethnicity:treatment.gender:idx 0.6602    \n",
       "Residuals                                          \n",
       "---\n",
       "Signif. codes:  0 ‘***’ 0.001 ‘**’ 0.01 ‘*’ 0.05 ‘.’ 0.1 ‘ ’ 1"
      ]
     },
     "metadata": {},
     "output_type": "display_data"
    }
   ],
   "source": [
    "res.realtor <- aov(price ~ treatment.ethnicity * treatment.gender * idx, data=realtorRankings)\n",
    "summary(res.realtor)"
   ]
  },
  {
   "cell_type": "code",
   "execution_count": 52,
   "metadata": {},
   "outputs": [],
   "source": [
    "# coefficients(res.realtor)"
   ]
  },
  {
   "cell_type": "code",
   "execution_count": 53,
   "metadata": {},
   "outputs": [
    {
     "data": {
      "text/html": [
       "789"
      ],
      "text/latex": [
       "789"
      ],
      "text/markdown": [
       "789"
      ],
      "text/plain": [
       "[1] 789"
      ]
     },
     "metadata": {},
     "output_type": "display_data"
    }
   ],
   "source": [
    "length(unique(realtorRankings$street_address))"
   ]
  },
  {
   "cell_type": "code",
   "execution_count": 54,
   "metadata": {},
   "outputs": [
    {
     "data": {
      "text/html": [
       "319216.834476452"
      ],
      "text/latex": [
       "319216.834476452"
      ],
      "text/markdown": [
       "319216.834476452"
      ],
      "text/plain": [
       "[1] 319216.8"
      ]
     },
     "metadata": {},
     "output_type": "display_data"
    }
   ],
   "source": [
    "mean(realtorRankings$price)"
   ]
  },
  {
   "cell_type": "code",
   "execution_count": 55,
   "metadata": {},
   "outputs": [
    {
     "data": {
      "text/html": [
       "<ol class=list-inline>\n",
       "\t<li>'https://www.realtor.com/realestateandhomes-search/Chicago_IL'</li>\n",
       "\t<li>'https://www.realtor.com/realestateandhomes-search/Champaign_IL'</li>\n",
       "\t<li>'https://www.realtor.com/realestateandhomes-search/Atlanta_GA'</li>\n",
       "\t<li>'https://www.realtor.com/realestateandhomes-search/Sacramento_CA'</li>\n",
       "</ol>\n"
      ],
      "text/latex": [
       "\\begin{enumerate*}\n",
       "\\item 'https://www.realtor.com/realestateandhomes-search/Chicago\\_IL'\n",
       "\\item 'https://www.realtor.com/realestateandhomes-search/Champaign\\_IL'\n",
       "\\item 'https://www.realtor.com/realestateandhomes-search/Atlanta\\_GA'\n",
       "\\item 'https://www.realtor.com/realestateandhomes-search/Sacramento\\_CA'\n",
       "\\end{enumerate*}\n"
      ],
      "text/markdown": [
       "1. 'https://www.realtor.com/realestateandhomes-search/Chicago_IL'\n",
       "2. 'https://www.realtor.com/realestateandhomes-search/Champaign_IL'\n",
       "3. 'https://www.realtor.com/realestateandhomes-search/Atlanta_GA'\n",
       "4. 'https://www.realtor.com/realestateandhomes-search/Sacramento_CA'\n",
       "\n",
       "\n"
      ],
      "text/plain": [
       "[1] \"https://www.realtor.com/realestateandhomes-search/Chicago_IL\"   \n",
       "[2] \"https://www.realtor.com/realestateandhomes-search/Champaign_IL\" \n",
       "[3] \"https://www.realtor.com/realestateandhomes-search/Atlanta_GA\"   \n",
       "[4] \"https://www.realtor.com/realestateandhomes-search/Sacramento_CA\""
      ]
     },
     "metadata": {},
     "output_type": "display_data"
    }
   ],
   "source": [
    "unique(realtorRankings$url)"
   ]
  },
  {
   "cell_type": "markdown",
   "metadata": {},
   "source": [
    "### Demographic comparison"
   ]
  },
  {
   "cell_type": "code",
   "execution_count": 56,
   "metadata": {},
   "outputs": [
    {
     "data": {
      "text/html": [
       "<table>\n",
       "<thead><tr><th scope=col>treatment.gender</th><th scope=col>price</th></tr></thead>\n",
       "<tbody>\n",
       "\t<tr><td>female  </td><td>326619.0</td></tr>\n",
       "\t<tr><td>male    </td><td>312426.9</td></tr>\n",
       "</tbody>\n",
       "</table>\n"
      ],
      "text/latex": [
       "\\begin{tabular}{r|ll}\n",
       " treatment.gender & price\\\\\n",
       "\\hline\n",
       "\t female   & 326619.0\\\\\n",
       "\t male     & 312426.9\\\\\n",
       "\\end{tabular}\n"
      ],
      "text/markdown": [
       "\n",
       "| treatment.gender | price |\n",
       "|---|---|\n",
       "| female   | 326619.0 |\n",
       "| male     | 312426.9 |\n",
       "\n"
      ],
      "text/plain": [
       "  treatment.gender price   \n",
       "1 female           326619.0\n",
       "2 male             312426.9"
      ]
     },
     "metadata": {},
     "output_type": "display_data"
    }
   ],
   "source": [
    "realtorRankings %>%\n",
    "    filter(!is.na(street_address)) %>%\n",
    "    group_by(treatment.gender) %>%\n",
    "    summarise_at(vars(price), mean, na.rm = TRUE)"
   ]
  },
  {
   "cell_type": "code",
   "execution_count": 57,
   "metadata": {},
   "outputs": [
    {
     "data": {
      "text/html": [
       "<table>\n",
       "<thead><tr><th scope=col>treatment.ethnicity</th><th scope=col>price</th></tr></thead>\n",
       "<tbody>\n",
       "\t<tr><td>caucasian       </td><td>381750.9        </td></tr>\n",
       "\t<tr><td>african-american</td><td>384445.9        </td></tr>\n",
       "\t<tr><td>asian           </td><td>363263.2        </td></tr>\n",
       "\t<tr><td>hispanic        </td><td>354308.7        </td></tr>\n",
       "</tbody>\n",
       "</table>\n"
      ],
      "text/latex": [
       "\\begin{tabular}{r|ll}\n",
       " treatment.ethnicity & price\\\\\n",
       "\\hline\n",
       "\t caucasian        & 381750.9        \\\\\n",
       "\t african-american & 384445.9        \\\\\n",
       "\t asian            & 363263.2        \\\\\n",
       "\t hispanic         & 354308.7        \\\\\n",
       "\\end{tabular}\n"
      ],
      "text/markdown": [
       "\n",
       "| treatment.ethnicity | price |\n",
       "|---|---|\n",
       "| caucasian        | 381750.9         |\n",
       "| african-american | 384445.9         |\n",
       "| asian            | 363263.2         |\n",
       "| hispanic         | 354308.7         |\n",
       "\n"
      ],
      "text/plain": [
       "  treatment.ethnicity price   \n",
       "1 caucasian           381750.9\n",
       "2 african-american    384445.9\n",
       "3 asian               363263.2\n",
       "4 hispanic            354308.7"
      ]
     },
     "metadata": {},
     "output_type": "display_data"
    }
   ],
   "source": [
    "realtorRankings %>%\n",
    "    filter(!is.na(street_address)) %>%\n",
    "    filter(idx == 1) %>%\n",
    "    group_by(treatment.ethnicity) %>%\n",
    "    summarise_at(vars(price), mean, na.rm = TRUE)"
   ]
  },
  {
   "cell_type": "code",
   "execution_count": 58,
   "metadata": {},
   "outputs": [
    {
     "data": {
      "text/html": [
       "<table>\n",
       "<thead><tr><th scope=col>treatment.ethnicity</th><th scope=col>treatment.gender</th><th scope=col>price</th></tr></thead>\n",
       "<tbody>\n",
       "\t<tr><td>caucasian       </td><td>female          </td><td>336797.4        </td></tr>\n",
       "\t<tr><td>caucasian       </td><td>male            </td><td>301855.5        </td></tr>\n",
       "\t<tr><td>african-american</td><td>female          </td><td>337578.5        </td></tr>\n",
       "\t<tr><td>african-american</td><td>male            </td><td>312484.4        </td></tr>\n",
       "\t<tr><td>asian           </td><td>female          </td><td>312410.5        </td></tr>\n",
       "\t<tr><td>asian           </td><td>male            </td><td>320450.2        </td></tr>\n",
       "\t<tr><td>hispanic        </td><td>female          </td><td>320422.4        </td></tr>\n",
       "\t<tr><td>hispanic        </td><td>male            </td><td>314870.6        </td></tr>\n",
       "</tbody>\n",
       "</table>\n"
      ],
      "text/latex": [
       "\\begin{tabular}{r|lll}\n",
       " treatment.ethnicity & treatment.gender & price\\\\\n",
       "\\hline\n",
       "\t caucasian        & female           & 336797.4        \\\\\n",
       "\t caucasian        & male             & 301855.5        \\\\\n",
       "\t african-american & female           & 337578.5        \\\\\n",
       "\t african-american & male             & 312484.4        \\\\\n",
       "\t asian            & female           & 312410.5        \\\\\n",
       "\t asian            & male             & 320450.2        \\\\\n",
       "\t hispanic         & female           & 320422.4        \\\\\n",
       "\t hispanic         & male             & 314870.6        \\\\\n",
       "\\end{tabular}\n"
      ],
      "text/markdown": [
       "\n",
       "| treatment.ethnicity | treatment.gender | price |\n",
       "|---|---|---|\n",
       "| caucasian        | female           | 336797.4         |\n",
       "| caucasian        | male             | 301855.5         |\n",
       "| african-american | female           | 337578.5         |\n",
       "| african-american | male             | 312484.4         |\n",
       "| asian            | female           | 312410.5         |\n",
       "| asian            | male             | 320450.2         |\n",
       "| hispanic         | female           | 320422.4         |\n",
       "| hispanic         | male             | 314870.6         |\n",
       "\n"
      ],
      "text/plain": [
       "  treatment.ethnicity treatment.gender price   \n",
       "1 caucasian           female           336797.4\n",
       "2 caucasian           male             301855.5\n",
       "3 african-american    female           337578.5\n",
       "4 african-american    male             312484.4\n",
       "5 asian               female           312410.5\n",
       "6 asian               male             320450.2\n",
       "7 hispanic            female           320422.4\n",
       "8 hispanic            male             314870.6"
      ]
     },
     "metadata": {},
     "output_type": "display_data"
    }
   ],
   "source": [
    "realtorRankings %>%\n",
    "    filter(!is.na(street_address)) %>%\n",
    "    group_by(treatment.ethnicity, treatment.gender) %>%\n",
    "    summarise_at(vars(price), mean, na.rm = TRUE)"
   ]
  },
  {
   "cell_type": "code",
   "execution_count": 59,
   "metadata": {},
   "outputs": [
    {
     "data": {
      "text/html": [
       "<table>\n",
       "<thead><tr><th scope=col>treatment.ethnicity</th><th scope=col>price</th></tr></thead>\n",
       "<tbody>\n",
       "\t<tr><td>caucasian       </td><td>407150.2        </td></tr>\n",
       "\t<tr><td>african-american</td><td>366912.9        </td></tr>\n",
       "\t<tr><td>asian           </td><td>412190.3        </td></tr>\n",
       "\t<tr><td>hispanic        </td><td>389553.5        </td></tr>\n",
       "</tbody>\n",
       "</table>\n"
      ],
      "text/latex": [
       "\\begin{tabular}{r|ll}\n",
       " treatment.ethnicity & price\\\\\n",
       "\\hline\n",
       "\t caucasian        & 407150.2        \\\\\n",
       "\t african-american & 366912.9        \\\\\n",
       "\t asian            & 412190.3        \\\\\n",
       "\t hispanic         & 389553.5        \\\\\n",
       "\\end{tabular}\n"
      ],
      "text/markdown": [
       "\n",
       "| treatment.ethnicity | price |\n",
       "|---|---|\n",
       "| caucasian        | 407150.2         |\n",
       "| african-american | 366912.9         |\n",
       "| asian            | 412190.3         |\n",
       "| hispanic         | 389553.5         |\n",
       "\n"
      ],
      "text/plain": [
       "  treatment.ethnicity price   \n",
       "1 caucasian           407150.2\n",
       "2 african-american    366912.9\n",
       "3 asian               412190.3\n",
       "4 hispanic            389553.5"
      ]
     },
     "metadata": {},
     "output_type": "display_data"
    }
   ],
   "source": [
    "realtorRankings %>%\n",
    "    filter(!is.na(street_address)) %>%\n",
    "    filter(idx == 4) %>%\n",
    "    group_by(treatment.ethnicity) %>%\n",
    "    summarise_at(vars(price), mean, na.rm = TRUE)"
   ]
  },
  {
   "cell_type": "code",
   "execution_count": 61,
   "metadata": {},
   "outputs": [],
   "source": [
    "# dat <- realtorRankings %>%\n",
    "#     filter(!is.na(street_address)) %>%\n",
    "#   filter(treatment.ethnicity == \"african-american\") %>%\n",
    "#     group_by(idx, treatment.ethnicity) %>%\n",
    "#     summarise(vars(price), mean, na.rm = TRUE)\n",
    "\n",
    "# dat\n",
    "# plot(dat)"
   ]
  },
  {
   "cell_type": "markdown",
   "metadata": {
    "toc-hr-collapsed": true
   },
   "source": [
    "# Redfin"
   ]
  },
  {
   "cell_type": "code",
   "execution_count": 63,
   "metadata": {},
   "outputs": [],
   "source": [
    "# redfinRankings <- rankings[rankings$scraper == 'RedfinScraper', ]\n",
    "# redfinRankings$ranking <- lapply(redfinRankings$ranking, format_ranking)\n",
    "# unnestedRedfinRankings <- unnest(redfinRankings, ranking)\n",
    "# str(unnestedRedfinRankings)\n",
    "# res.redfin <- aov(position ~ treatment.ethnicity * treatment.gender * price, data=unnestedRedfinRankings)\n",
    "# summary(res.redfin)"
   ]
  },
  {
   "cell_type": "code",
   "execution_count": null,
   "metadata": {},
   "outputs": [],
   "source": []
  }
 ],
 "metadata": {
  "kernelspec": {
   "display_name": "R",
   "language": "R",
   "name": "ir"
  },
  "language_info": {
   "codemirror_mode": "r",
   "file_extension": ".r",
   "mimetype": "text/x-r-source",
   "name": "R",
   "pygments_lexer": "r",
   "version": "3.4.4"
  }
 },
 "nbformat": 4,
 "nbformat_minor": 2
}
