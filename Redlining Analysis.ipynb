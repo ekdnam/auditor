{
 "cells": [
  {
   "cell_type": "markdown",
   "metadata": {},
   "source": [
    "# Setup and data ingestion"
   ]
  },
  {
   "cell_type": "code",
   "execution_count": 81,
   "metadata": {},
   "outputs": [
    {
     "name": "stderr",
     "output_type": "stream",
     "text": [
      "[conflicted] Removing existing preference\n",
      "[conflicted] Will prefer dplyr::filter over any other package\n",
      "[conflicted] Removing existing preference\n",
      "[conflicted] Will prefer dplyr::select over any other package\n"
     ]
    }
   ],
   "source": [
    "library(conflicted)\n",
    "\n",
    "# Data manipulation\n",
    "library(tidyverse)\n",
    "conflict_prefer(\"filter\", \"dplyr\")\n",
    "conflict_prefer(\"select\", \"dplyr\")\n",
    "library(reshape2)\n",
    "\n",
    "# Data loading\n",
    "library(jsonlite)\n",
    "library(writexl)\n",
    "library(readxl)\n",
    "\n",
    "# Map + location\n",
    "library(rgdal)\n",
    "library(geosphere)\n",
    "library(raster)\n",
    "library(maps)\n",
    "library(car)"
   ]
  },
  {
   "cell_type": "code",
   "execution_count": 50,
   "metadata": {},
   "outputs": [],
   "source": [
    "# Workbook settings\n",
    "options(repr.matrix.max.rows=50, repr.matrix.max.cols=30)"
   ]
  },
  {
   "cell_type": "code",
   "execution_count": 51,
   "metadata": {},
   "outputs": [],
   "source": [
    "get_rel_file <- function(file) {\n",
    "    return(file.path(\"output\", \"2018-12-07_2019-03-19\", file))\n",
    "}"
   ]
  },
  {
   "cell_type": "code",
   "execution_count": 52,
   "metadata": {},
   "outputs": [
    {
     "name": "stdout",
     "output_type": "stream",
     "text": [
      " Imported 29863 records. Simplifying...\n"
     ]
    }
   ],
   "source": [
    "datafile <- bzfile(get_rel_file(\"out.json.bz2\"), open='r')\n",
    "data <- stream_in(datafile, flatten=TRUE)\n",
    "close(datafile)"
   ]
  },
  {
   "cell_type": "code",
   "execution_count": 53,
   "metadata": {},
   "outputs": [],
   "source": [
    "data$treatment.ethnicity <- factor(data$treatment.ethnicity, levels=c(\"caucasian\", \"african american\", \"african-american\", \"asian\", \"hispanic\"))\n",
    "# levels(data$treatment.ethnicity)\n",
    "levels(data$treatment.ethnicity) <- c(\"caucasian\", \"african-american\", \"african-american\", \"asian\", \"hispanic\")\n",
    "# levels(data$treatment.ethnicity)\n",
    "data$treatment.gender <- as.factor(data$treatment.gender)\n",
    "data$type <- as.factor(data$type)\n",
    "data$scraper <- as.factor(data$scraper)\n",
    "data$block_id <- as.factor(data$block_id)\n",
    "data$agent_id <- as.factor(data$agent_id)\n",
    "data$time <- as.POSIXct(data$time)"
   ]
  },
  {
   "cell_type": "code",
   "execution_count": 54,
   "metadata": {},
   "outputs": [],
   "source": [
    "rankings <- data[data$type == 'ranking', ]\n",
    "rankings <- rankings[!is.null(rankings$ranking), ]\n",
    "rankings$ad.image_path <- NULL\n",
    "# rankings$ad.query <- NULL\n",
    "rankings$ad.title <- NULL\n",
    "rankings$ad.url <- NULL\n",
    "rankings$ad.body <- NULL"
   ]
  },
  {
   "cell_type": "code",
   "execution_count": 55,
   "metadata": {},
   "outputs": [],
   "source": [
    "format_ranking <- function(df) {\n",
    "    df$idx <- seq.int(nrow(df))\n",
    "    df$position <- log(df$idx)\n",
    "    if (\"price\" %in% colnames(df)) {\n",
    "        df$price <- parse_number(df$price)\n",
    "    }\n",
    "    if(\"beds\" %in% colnames(df)) {\n",
    "        df$beds[df$beds == \"Studio\"] <- \"0\"\n",
    "        df$beds <- parse_number(df$beds, na = c(\"\", \"NA\"))\n",
    "    }\n",
    "    if(\"baths\" %in% colnames(df)) {\n",
    "        df$baths <- parse_number(df$baths)\n",
    "    }\n",
    "    if(\"latitude\" %in% colnames(df)) {\n",
    "        df$latitude <- parse_number(df$latitude)\n",
    "        df$longitude <- parse_number(df$longitude)\n",
    "    }\n",
    "    return(df)\n",
    "}"
   ]
  },
  {
   "cell_type": "code",
   "execution_count": 56,
   "metadata": {},
   "outputs": [
    {
     "name": "stdout",
     "output_type": "stream",
     "text": [
      "OGR data source with driver: ESRI Shapefile \n",
      "Source: \"/home/asplund3/experiments/auditor/gis info/Neighborhoods_2012b\", layer: \"Neighborhoods_2012b\"\n",
      "with 98 features\n",
      "It has 4 fields\n"
     ]
    }
   ],
   "source": [
    "chicago_coords <- c(41.881832, -87.623177)\n",
    "\n",
    "chicago_neighborhoods <- readOGR(\"./gis info/Neighborhoods_2012b\", \"Neighborhoods_2012b\")"
   ]
  },
  {
   "cell_type": "markdown",
   "metadata": {
    "toc-hr-collapsed": false
   },
   "source": [
    "# Trulia neighborhood analysis"
   ]
  },
  {
   "cell_type": "markdown",
   "metadata": {
    "toc-hr-collapsed": false
   },
   "source": [
    "## Data setup"
   ]
  },
  {
   "cell_type": "code",
   "execution_count": 57,
   "metadata": {},
   "outputs": [
    {
     "data": {
      "text/html": [
       "846"
      ],
      "text/latex": [
       "846"
      ],
      "text/markdown": [
       "846"
      ],
      "text/plain": [
       "[1] 846"
      ]
     },
     "metadata": {},
     "output_type": "display_data"
    }
   ],
   "source": [
    "nestedTruliaRankings <- filter(rankings, scraper == 'TruliaScraper')\n",
    "nestedTruliaRankings$ranking <- lapply(nestedTruliaRankings$ranking, format_ranking)\n",
    "nrow(nestedTruliaRankings)"
   ]
  },
  {
   "cell_type": "code",
   "execution_count": 59,
   "metadata": {},
   "outputs": [
    {
     "data": {
      "text/plain": [
       "[1] \"2018-11-21 17:02:05 CST\""
      ]
     },
     "metadata": {},
     "output_type": "display_data"
    },
    {
     "data": {
      "text/plain": [
       "[1] \"2019-03-19 17:56:43 CDT\""
      ]
     },
     "metadata": {},
     "output_type": "display_data"
    },
    {
     "data": {
      "text/plain": [
       "Time difference of 117.9963 days"
      ]
     },
     "metadata": {},
     "output_type": "display_data"
    }
   ],
   "source": [
    "min(nestedTruliaRankings$time)\n",
    "max(nestedTruliaRankings$time)\n",
    "max(nestedTruliaRankings$time) - min(nestedTruliaRankings$time)"
   ]
  },
  {
   "cell_type": "code",
   "execution_count": 60,
   "metadata": {},
   "outputs": [
    {
     "data": {
      "text/html": [
       "9552"
      ],
      "text/latex": [
       "9552"
      ],
      "text/markdown": [
       "9552"
      ],
      "text/plain": [
       "[1] 9552"
      ]
     },
     "metadata": {},
     "output_type": "display_data"
    }
   ],
   "source": [
    "truliaRankings <- unnest(nestedTruliaRankings, ranking)\n",
    "colnames(truliaRankings)[colnames(truliaRankings)==\"street address\"] <- \"street_address\"\n",
    "truliaRankings <- truliaRankings %>% filter(!is.na(street_address))\n",
    "nrow(truliaRankings)"
   ]
  },
  {
   "cell_type": "markdown",
   "metadata": {},
   "source": [
    "## Chicago neighborhood analysis"
   ]
  },
  {
   "cell_type": "code",
   "execution_count": 61,
   "metadata": {},
   "outputs": [
    {
     "data": {
      "text/html": [
       "3040"
      ],
      "text/latex": [
       "3040"
      ],
      "text/markdown": [
       "3040"
      ],
      "text/plain": [
       "[1] 3040"
      ]
     },
     "metadata": {},
     "output_type": "display_data"
    }
   ],
   "source": [
    "chicagoTR <- truliaRankings %>%\n",
    "    filter(url == 'https://www.trulia.com/IL/Chicago/') %>%\n",
    "    filter(!is.na(latitude)) %>%\n",
    "    filter(!is.na(longitude))\n",
    "nrow(chicagoTR)\n",
    "chicagoTR$dist <- apply(chicagoTR[,c('latitude', 'longitude')], 1, function(x) { distHaversine(chicago_coords, x) })\n",
    "\n",
    "cTR <- chicagoTR\n",
    "coordinates(cTR) <- ~longitude+latitude\n",
    "proj4string(cTR) <- CRS(\"+init=epsg:4326\")\n",
    "cTR <- spTransform(cTR, proj4string(chicago_neighborhoods))\n",
    "chicagoTR$neighborhood <- sp::over(cTR, chicago_neighborhoods)$PRI_NEIGH\n",
    "\n",
    "# chicagoTR[1:10,]"
   ]
  },
  {
   "cell_type": "code",
   "execution_count": 64,
   "metadata": {},
   "outputs": [],
   "source": [
    "# (chicagoTR %>%\n",
    "#     count(neighborhood, treatment.ethnicity, sort = TRUE))[1:10,]"
   ]
  },
  {
   "cell_type": "markdown",
   "metadata": {},
   "source": [
    "Are there neighborhoods that are predominantly advertised to one race?"
   ]
  },
  {
   "cell_type": "code",
   "execution_count": 66,
   "metadata": {},
   "outputs": [],
   "source": [
    "chiNeighborhoodCounts <- chicagoTR %>%\n",
    "    count(neighborhood, treatment.ethnicity) %>%\n",
    "    group_by(neighborhood) %>%\n",
    "    mutate(total=sum(n)) %>%\n",
    "    ungroup() %>%\n",
    "    spread(treatment.ethnicity, n, fill = 0)\n",
    "\n",
    "# chiNeighborhoodCounts"
   ]
  },
  {
   "cell_type": "code",
   "execution_count": 67,
   "metadata": {},
   "outputs": [
    {
     "data": {
      "text/html": [
       "<table>\n",
       "<thead><tr><th scope=col>min</th><th scope=col>neighborhood</th></tr></thead>\n",
       "<tbody>\n",
       "\t<tr><td>0.7468217</td><td>Douglas  </td></tr>\n",
       "</tbody>\n",
       "</table>\n"
      ],
      "text/latex": [
       "\\begin{tabular}{r|ll}\n",
       " min & neighborhood\\\\\n",
       "\\hline\n",
       "\t 0.7468217 & Douglas  \\\\\n",
       "\\end{tabular}\n"
      ],
      "text/markdown": [
       "\n",
       "| min | neighborhood |\n",
       "|---|---|\n",
       "| 0.7468217 | Douglas   |\n",
       "\n"
      ],
      "text/plain": [
       "  min       neighborhood\n",
       "1 0.7468217 Douglas     "
      ]
     },
     "metadata": {},
     "output_type": "display_data"
    }
   ],
   "source": [
    "cnc <- chiNeighborhoodCounts %>%\n",
    "    filter(total > 16) \n",
    "  \n",
    "cnc$a <- cnc %>%\n",
    "    select(-total, -neighborhood) %>%\n",
    "    apply(1, function(df) {\n",
    "        test <- chisq.test(unlist(df), p=c(1/4,1/4,1/4,1/4))\n",
    "        return(c(test$p.value))\n",
    "    })\n",
    "\n",
    "summarize(cnc, min = min(a), neighborhood = neighborhood[which.min(a)])"
   ]
  },
  {
   "cell_type": "code",
   "execution_count": 39,
   "metadata": {},
   "outputs": [
    {
     "data": {
      "text/html": [
       "<table>\n",
       "<thead><tr><th scope=col>neighborhood</th><th scope=col>total</th><th scope=col>caucasian</th><th scope=col>african-american</th><th scope=col>asian</th><th scope=col>hispanic</th></tr></thead>\n",
       "<tbody>\n",
       "\t<tr><td>Avalon Park    </td><td> 7             </td><td>1              </td><td>2              </td><td>2              </td><td>2              </td></tr>\n",
       "\t<tr><td>Avondale       </td><td> 7             </td><td>1              </td><td>2              </td><td>2              </td><td>2              </td></tr>\n",
       "\t<tr><td>Beverly        </td><td> 5             </td><td>2              </td><td>1              </td><td>1              </td><td>1              </td></tr>\n",
       "\t<tr><td>Brighton Park  </td><td>16             </td><td>4              </td><td>4              </td><td>4              </td><td>4              </td></tr>\n",
       "\t<tr><td>Bucktown       </td><td> 4             </td><td>1              </td><td>2              </td><td>0              </td><td>1              </td></tr>\n",
       "\t<tr><td>Dunning        </td><td>16             </td><td>4              </td><td>4              </td><td>4              </td><td>4              </td></tr>\n",
       "\t<tr><td>Hegewisch      </td><td> 6             </td><td>1              </td><td>1              </td><td>2              </td><td>2              </td></tr>\n",
       "\t<tr><td>Hermosa        </td><td> 7             </td><td>1              </td><td>2              </td><td>2              </td><td>2              </td></tr>\n",
       "\t<tr><td>Lake View      </td><td>14             </td><td>4              </td><td>4              </td><td>2              </td><td>4              </td></tr>\n",
       "\t<tr><td>Loop           </td><td> 1             </td><td>0              </td><td>0              </td><td>1              </td><td>0              </td></tr>\n",
       "\t<tr><td>New City       </td><td> 7             </td><td>1              </td><td>2              </td><td>2              </td><td>2              </td></tr>\n",
       "\t<tr><td>Oakland        </td><td> 7             </td><td>1              </td><td>2              </td><td>2              </td><td>2              </td></tr>\n",
       "\t<tr><td>Riverdale      </td><td>16             </td><td>4              </td><td>4              </td><td>4              </td><td>4              </td></tr>\n",
       "\t<tr><td>River North    </td><td> 4             </td><td>1              </td><td>0              </td><td>2              </td><td>1              </td></tr>\n",
       "\t<tr><td>Rush &amp; Division</td><td>13                 </td><td>3                  </td><td>3                  </td><td>4                  </td><td>3                  </td></tr>\n",
       "\t<tr><td>South Deering  </td><td> 7             </td><td>1              </td><td>2              </td><td>2              </td><td>2              </td></tr>\n",
       "</tbody>\n",
       "</table>\n"
      ],
      "text/latex": [
       "\\begin{tabular}{r|llllll}\n",
       " neighborhood & total & caucasian & african-american & asian & hispanic\\\\\n",
       "\\hline\n",
       "\t Avalon Park     &  7              & 1               & 2               & 2               & 2              \\\\\n",
       "\t Avondale        &  7              & 1               & 2               & 2               & 2              \\\\\n",
       "\t Beverly         &  5              & 2               & 1               & 1               & 1              \\\\\n",
       "\t Brighton Park   & 16              & 4               & 4               & 4               & 4              \\\\\n",
       "\t Bucktown        &  4              & 1               & 2               & 0               & 1              \\\\\n",
       "\t Dunning         & 16              & 4               & 4               & 4               & 4              \\\\\n",
       "\t Hegewisch       &  6              & 1               & 1               & 2               & 2              \\\\\n",
       "\t Hermosa         &  7              & 1               & 2               & 2               & 2              \\\\\n",
       "\t Lake View       & 14              & 4               & 4               & 2               & 4              \\\\\n",
       "\t Loop            &  1              & 0               & 0               & 1               & 0              \\\\\n",
       "\t New City        &  7              & 1               & 2               & 2               & 2              \\\\\n",
       "\t Oakland         &  7              & 1               & 2               & 2               & 2              \\\\\n",
       "\t Riverdale       & 16              & 4               & 4               & 4               & 4              \\\\\n",
       "\t River North     &  4              & 1               & 0               & 2               & 1              \\\\\n",
       "\t Rush \\& Division & 13                & 3                 & 3                 & 4                 & 3                \\\\\n",
       "\t South Deering   &  7              & 1               & 2               & 2               & 2              \\\\\n",
       "\\end{tabular}\n"
      ],
      "text/markdown": [
       "\n",
       "| neighborhood | total | caucasian | african-american | asian | hispanic |\n",
       "|---|---|---|---|---|---|\n",
       "| Avalon Park     |  7              | 1               | 2               | 2               | 2               |\n",
       "| Avondale        |  7              | 1               | 2               | 2               | 2               |\n",
       "| Beverly         |  5              | 2               | 1               | 1               | 1               |\n",
       "| Brighton Park   | 16              | 4               | 4               | 4               | 4               |\n",
       "| Bucktown        |  4              | 1               | 2               | 0               | 1               |\n",
       "| Dunning         | 16              | 4               | 4               | 4               | 4               |\n",
       "| Hegewisch       |  6              | 1               | 1               | 2               | 2               |\n",
       "| Hermosa         |  7              | 1               | 2               | 2               | 2               |\n",
       "| Lake View       | 14              | 4               | 4               | 2               | 4               |\n",
       "| Loop            |  1              | 0               | 0               | 1               | 0               |\n",
       "| New City        |  7              | 1               | 2               | 2               | 2               |\n",
       "| Oakland         |  7              | 1               | 2               | 2               | 2               |\n",
       "| Riverdale       | 16              | 4               | 4               | 4               | 4               |\n",
       "| River North     |  4              | 1               | 0               | 2               | 1               |\n",
       "| Rush & Division | 13              | 3               | 3               | 4               | 3               |\n",
       "| South Deering   |  7              | 1               | 2               | 2               | 2               |\n",
       "\n"
      ],
      "text/plain": [
       "   neighborhood    total caucasian african-american asian hispanic\n",
       "1  Avalon Park      7    1         2                2     2       \n",
       "2  Avondale         7    1         2                2     2       \n",
       "3  Beverly          5    2         1                1     1       \n",
       "4  Brighton Park   16    4         4                4     4       \n",
       "5  Bucktown         4    1         2                0     1       \n",
       "6  Dunning         16    4         4                4     4       \n",
       "7  Hegewisch        6    1         1                2     2       \n",
       "8  Hermosa          7    1         2                2     2       \n",
       "9  Lake View       14    4         4                2     4       \n",
       "10 Loop             1    0         0                1     0       \n",
       "11 New City         7    1         2                2     2       \n",
       "12 Oakland          7    1         2                2     2       \n",
       "13 Riverdale       16    4         4                4     4       \n",
       "14 River North      4    1         0                2     1       \n",
       "15 Rush & Division 13    3         3                4     3       \n",
       "16 South Deering    7    1         2                2     2       "
      ]
     },
     "metadata": {},
     "output_type": "display_data"
    }
   ],
   "source": [
    "chiNeighborhoodCounts %>%\n",
    "    filter(!total > 16)"
   ]
  },
  {
   "cell_type": "markdown",
   "metadata": {},
   "source": [
    "Since the lowest p-value seen in a chi-quared test is 0.747, and there are no clear outliers for n < 16, we find no neighborhood discrimination."
   ]
  },
  {
   "cell_type": "markdown",
   "metadata": {
    "toc-hr-collapsed": false
   },
   "source": [
    "# Realtor.com neighborhood analysis"
   ]
  },
  {
   "cell_type": "markdown",
   "metadata": {
    "toc-hr-collapsed": true
   },
   "source": [
    "## Data setup"
   ]
  },
  {
   "cell_type": "code",
   "execution_count": 68,
   "metadata": {},
   "outputs": [
    {
     "data": {
      "text/html": [
       "436"
      ],
      "text/latex": [
       "436"
      ],
      "text/markdown": [
       "436"
      ],
      "text/plain": [
       "[1] 436"
      ]
     },
     "metadata": {},
     "output_type": "display_data"
    }
   ],
   "source": [
    "nestedRealtorRankings <- rankings[rankings$scraper == 'RealtorRanking', ]\n",
    "nestedRealtorRankings$ranking <- lapply(nestedRealtorRankings$ranking, format_ranking)\n",
    "nrow(nestedRealtorRankings)"
   ]
  },
  {
   "cell_type": "code",
   "execution_count": 69,
   "metadata": {},
   "outputs": [
    {
     "data": {
      "text/plain": [
       "[1] \"2019-03-19 17:32:10 CDT\""
      ]
     },
     "metadata": {},
     "output_type": "display_data"
    },
    {
     "data": {
      "text/plain": [
       "[1] \"2018-12-07 12:43:04 CST\""
      ]
     },
     "metadata": {},
     "output_type": "display_data"
    },
    {
     "data": {
      "text/plain": [
       "Time difference of 102.1591 days"
      ]
     },
     "metadata": {},
     "output_type": "display_data"
    }
   ],
   "source": [
    "max(nestedRealtorRankings$time)\n",
    "min(nestedRealtorRankings$time)\n",
    "max(nestedRealtorRankings$time) - min(realtorRankings$time)"
   ]
  },
  {
   "cell_type": "code",
   "execution_count": 70,
   "metadata": {},
   "outputs": [
    {
     "data": {
      "text/html": [
       "6561"
      ],
      "text/latex": [
       "6561"
      ],
      "text/markdown": [
       "6561"
      ],
      "text/plain": [
       "[1] 6561"
      ]
     },
     "metadata": {},
     "output_type": "display_data"
    }
   ],
   "source": [
    "realtorRankings <- unnest(nestedRealtorRankings, ranking)\n",
    "colnames(realtorRankings)[colnames(realtorRankings)==\"street address\"] <- \"street_address\"\n",
    "realtorRankings <- realtorRankings %>% filter(!is.na(street_address))\n",
    "# realtorRankings$dist <- apply(realtorRankings[,c('latitude', 'longitude')], 1, function(x) { distHaversine(chicago_coords, c(x[1], x[2])) })\n",
    "\n",
    "nrow(realtorRankings)"
   ]
  },
  {
   "cell_type": "markdown",
   "metadata": {
    "toc-hr-collapsed": false
   },
   "source": [
    "## Chicago neighborhood analysis"
   ]
  },
  {
   "cell_type": "code",
   "execution_count": 71,
   "metadata": {},
   "outputs": [
    {
     "data": {
      "text/html": [
       "<ol class=list-inline>\n",
       "\t<li>'https://www.realtor.com/realestateandhomes-search/Chicago_IL'</li>\n",
       "\t<li>'https://www.realtor.com/realestateandhomes-search/Champaign_IL'</li>\n",
       "\t<li>'https://www.realtor.com/realestateandhomes-search/Atlanta_GA'</li>\n",
       "\t<li>'https://www.realtor.com/realestateandhomes-search/Sacramento_CA'</li>\n",
       "</ol>\n"
      ],
      "text/latex": [
       "\\begin{enumerate*}\n",
       "\\item 'https://www.realtor.com/realestateandhomes-search/Chicago\\_IL'\n",
       "\\item 'https://www.realtor.com/realestateandhomes-search/Champaign\\_IL'\n",
       "\\item 'https://www.realtor.com/realestateandhomes-search/Atlanta\\_GA'\n",
       "\\item 'https://www.realtor.com/realestateandhomes-search/Sacramento\\_CA'\n",
       "\\end{enumerate*}\n"
      ],
      "text/markdown": [
       "1. 'https://www.realtor.com/realestateandhomes-search/Chicago_IL'\n",
       "2. 'https://www.realtor.com/realestateandhomes-search/Champaign_IL'\n",
       "3. 'https://www.realtor.com/realestateandhomes-search/Atlanta_GA'\n",
       "4. 'https://www.realtor.com/realestateandhomes-search/Sacramento_CA'\n",
       "\n",
       "\n"
      ],
      "text/plain": [
       "[1] \"https://www.realtor.com/realestateandhomes-search/Chicago_IL\"   \n",
       "[2] \"https://www.realtor.com/realestateandhomes-search/Champaign_IL\" \n",
       "[3] \"https://www.realtor.com/realestateandhomes-search/Atlanta_GA\"   \n",
       "[4] \"https://www.realtor.com/realestateandhomes-search/Sacramento_CA\""
      ]
     },
     "metadata": {},
     "output_type": "display_data"
    }
   ],
   "source": [
    "unique(realtorRankings$url)"
   ]
  },
  {
   "cell_type": "code",
   "execution_count": 72,
   "metadata": {},
   "outputs": [
    {
     "data": {
      "text/html": [
       "998"
      ],
      "text/latex": [
       "998"
      ],
      "text/markdown": [
       "998"
      ],
      "text/plain": [
       "[1] 998"
      ]
     },
     "metadata": {},
     "output_type": "display_data"
    }
   ],
   "source": [
    "chicagoRR <- realtorRankings %>%\n",
    "    filter(url == 'https://www.realtor.com/realestateandhomes-search/Chicago_IL') %>%\n",
    "    filter(!is.na(latitude)) %>%\n",
    "    filter(!is.na(longitude))\n",
    "\n",
    "nrow(chicagoRR)"
   ]
  },
  {
   "cell_type": "code",
   "execution_count": 73,
   "metadata": {},
   "outputs": [],
   "source": [
    "cRR <- chicagoRR\n",
    "coordinates(cRR) <- ~longitude+latitude\n",
    "proj4string(cRR) <- CRS(\"+init=epsg:4326\")\n",
    "cRR <- spTransform(cRR, proj4string(chicago_neighborhoods))\n",
    "chicagoRR$neighborhood <- sp::over(cRR, chicago_neighborhoods)$PRI_NEIGH\n",
    "chicagoRR$neighborhood <- as.character(chicagoRR$neighborhood)\n",
    "chicagoRR$neighborhood[is.na(chicagoRR$neighborhood)] <- chicagoRR$locality[is.na(chicagoRR$neighborhood)]\n",
    "\n",
    "# chicagoRR[1:10,]"
   ]
  },
  {
   "cell_type": "code",
   "execution_count": 75,
   "metadata": {},
   "outputs": [],
   "source": [
    "chiNeighborhoods <- chicagoRR %>%\n",
    "    count(neighborhood, treatment.ethnicity) %>%\n",
    "    group_by(neighborhood) %>%\n",
    "    mutate(total=sum(n)) %>%\n",
    "    ungroup() %>%\n",
    "    spread(treatment.ethnicity, n, fill = 0)\n",
    "\n",
    "# chiNeighborhoods[1:5,]"
   ]
  },
  {
   "cell_type": "code",
   "execution_count": 80,
   "metadata": {},
   "outputs": [
    {
     "data": {
      "text/html": [
       "<table>\n",
       "<thead><tr><th scope=col>neighborhood</th><th scope=col>total</th><th scope=col>caucasian</th><th scope=col>african-american</th><th scope=col>asian</th><th scope=col>hispanic</th><th scope=col>pval</th></tr></thead>\n",
       "<tbody>\n",
       "\t<tr><td>Lake View </td><td>63        </td><td>19        </td><td>8         </td><td>15        </td><td>21        </td><td>0.09919499</td></tr>\n",
       "</tbody>\n",
       "</table>\n"
      ],
      "text/latex": [
       "\\begin{tabular}{r|lllllll}\n",
       " neighborhood & total & caucasian & african-american & asian & hispanic & pval\\\\\n",
       "\\hline\n",
       "\t Lake View  & 63         & 19         & 8          & 15         & 21         & 0.09919499\\\\\n",
       "\\end{tabular}\n"
      ],
      "text/markdown": [
       "\n",
       "| neighborhood | total | caucasian | african-american | asian | hispanic | pval |\n",
       "|---|---|---|---|---|---|---|\n",
       "| Lake View  | 63         | 19         | 8          | 15         | 21         | 0.09919499 |\n",
       "\n"
      ],
      "text/plain": [
       "  neighborhood total caucasian african-american asian hispanic pval      \n",
       "1 Lake View    63    19        8                15    21       0.09919499"
      ]
     },
     "metadata": {},
     "output_type": "display_data"
    }
   ],
   "source": [
    "cnc <- chiNeighborhoods %>%\n",
    "    filter(total > 16)\n",
    "\n",
    "cnc$pval <- cnc %>%\n",
    "    select(-total, -neighborhood) %>%\n",
    "    apply(1, function(df) {\n",
    "        test <- chisq.test(unlist(df), p=c(1/4,1/4,1/4,1/4))\n",
    "        return(c(test$p.value))\n",
    "    })\n",
    "\n",
    "filter(cnc, pval < 0.1)"
   ]
  },
  {
   "cell_type": "code",
   "execution_count": 79,
   "metadata": {},
   "outputs": [],
   "source": [
    "cnc2 <- chiNeighborhoods %>%\n",
    "    filter(!total > 16) %>%\n",
    "    arrange(desc(total), caucasian)"
   ]
  },
  {
   "cell_type": "markdown",
   "metadata": {},
   "source": [
    "Possible redlining in Lake View area"
   ]
  }
 ],
 "metadata": {
  "kernelspec": {
   "display_name": "R",
   "language": "R",
   "name": "ir"
  },
  "language_info": {
   "codemirror_mode": "r",
   "file_extension": ".r",
   "mimetype": "text/x-r-source",
   "name": "R",
   "pygments_lexer": "r",
   "version": "3.4.4"
  }
 },
 "nbformat": 4,
 "nbformat_minor": 2
}
