{
 "cells": [
  {
   "cell_type": "markdown",
   "metadata": {},
   "source": [
    "# Setup and data ingestion"
   ]
  },
  {
   "cell_type": "code",
   "execution_count": 30,
   "metadata": {},
   "outputs": [
    {
     "name": "stderr",
     "output_type": "stream",
     "text": [
      "\n",
      "Please cite as: \n",
      "\n",
      " Hlavac, Marek (2018). stargazer: Well-Formatted Regression and Summary Statistics Tables.\n",
      " R package version 5.2.2. https://CRAN.R-project.org/package=stargazer \n",
      "\n",
      "[conflicted] Removing existing preference\n",
      "[conflicted] Will prefer dplyr::filter over any other package\n",
      "[conflicted] Removing existing preference\n",
      "[conflicted] Will prefer dplyr::select over any other package\n"
     ]
    }
   ],
   "source": [
    "library(conflicted)\n",
    "library(IRdisplay)\n",
    "\n",
    "# Data manipulation\n",
    "library(tidyverse)\n",
    "conflict_prefer(\"filter\", \"dplyr\")\n",
    "conflict_prefer(\"select\", \"dplyr\")\n",
    "library(reshape2)\n",
    "\n",
    "# Data loading\n",
    "library(jsonlite)\n",
    "library(writexl)\n",
    "library(readxl)\n",
    "\n",
    "# Map + location\n",
    "library(rgdal)\n",
    "library(geosphere)\n",
    "library(raster)\n",
    "library(maps)\n",
    "library(car)"
   ]
  },
  {
   "cell_type": "code",
   "execution_count": 2,
   "metadata": {},
   "outputs": [],
   "source": [
    "# Workbook settings\n",
    "options(repr.matrix.max.rows=50, repr.matrix.max.cols=30)"
   ]
  },
  {
   "cell_type": "code",
   "execution_count": 3,
   "metadata": {},
   "outputs": [],
   "source": [
    "get_rel_file <- function(file) {\n",
    "    return(file.path(\"output\", \"2018-12-07_2019-03-19\", file))\n",
    "}"
   ]
  },
  {
   "cell_type": "code",
   "execution_count": 4,
   "metadata": {},
   "outputs": [
    {
     "name": "stdout",
     "output_type": "stream",
     "text": [
      " Imported 29863 records. Simplifying...\n"
     ]
    }
   ],
   "source": [
    "datafile <- bzfile(get_rel_file(\"out2.json.bz2\"), open='r')\n",
    "data <- stream_in(datafile, flatten=TRUE)\n",
    "close(datafile)"
   ]
  },
  {
   "cell_type": "code",
   "execution_count": 5,
   "metadata": {},
   "outputs": [],
   "source": [
    "data <- data %>%\n",
    "  filter(!is.na(treatment.ethnicity)) %>%\n",
    "  filter(!is.na(treatment.gender))\n",
    "\n",
    "data$treatment.ethnicity <- as.factor(data$treatment.ethnicity)\n",
    "data$treatment.gender <- as.factor(data$treatment.gender)\n",
    "data$type <- as.factor(data$type)\n",
    "data$scraper <- as.factor(data$scraper)\n",
    "data$block_id <- as.factor(data$block_id)\n",
    "data$agent_id <- as.factor(data$agent_id)\n",
    "data$time <- as.POSIXct(data$time)"
   ]
  },
  {
   "cell_type": "code",
   "execution_count": 6,
   "metadata": {},
   "outputs": [],
   "source": [
    "rankings <- data[data$type == 'ranking', ]\n",
    "rankings <- rankings[!is.null(rankings$ranking), ]\n",
    "rankings$ad.image_path <- NULL\n",
    "rankings$ad.title <- NULL\n",
    "rankings$ad.url <- NULL\n",
    "rankings$ad.body <- NULL"
   ]
  },
  {
   "cell_type": "code",
   "execution_count": 7,
   "metadata": {},
   "outputs": [],
   "source": [
    "format_ranking <- function(df) {\n",
    "    df$idx <- seq.int(nrow(df))\n",
    "    df$position <- log(df$idx)\n",
    "    if (\"price\" %in% colnames(df)) {\n",
    "        df$price <- parse_number(df$price)\n",
    "    }\n",
    "    if(\"beds\" %in% colnames(df)) {\n",
    "        df$beds[df$beds == \"Studio\"] <- \"0\"\n",
    "        df$beds <- parse_number(df$beds, na = c(\"\", \"NA\"))\n",
    "    }\n",
    "    if(\"baths\" %in% colnames(df)) {\n",
    "        df$baths <- parse_number(df$baths)\n",
    "    }\n",
    "    if(\"latitude\" %in% colnames(df)) {\n",
    "        df$latitude <- parse_number(df$latitude)\n",
    "        df$longitude <- parse_number(df$longitude)\n",
    "    }\n",
    "    return(df)\n",
    "}"
   ]
  },
  {
   "cell_type": "code",
   "execution_count": 9,
   "metadata": {},
   "outputs": [
    {
     "name": "stdout",
     "output_type": "stream",
     "text": [
      "OGR data source with driver: ESRI Shapefile \n",
      "Source: \"/home/asplund3/experiments/auditor/gis info/Neighborhoods_2012b\", layer: \"Neighborhoods_2012b\"\n",
      "with 98 features\n",
      "It has 4 fields\n"
     ]
    }
   ],
   "source": [
    "chicago_coords <- c(41.881832, -87.623177)\n",
    "\n",
    "chicago_neighborhoods <- readOGR(\"./gis info/Neighborhoods_2012b\", \"Neighborhoods_2012b\")"
   ]
  },
  {
   "cell_type": "markdown",
   "metadata": {
    "toc-hr-collapsed": false
   },
   "source": [
    "# Trulia neighborhood analysis"
   ]
  },
  {
   "cell_type": "markdown",
   "metadata": {
    "toc-hr-collapsed": false
   },
   "source": [
    "## Data setup"
   ]
  },
  {
   "cell_type": "code",
   "execution_count": 10,
   "metadata": {},
   "outputs": [
    {
     "data": {
      "text/html": [
       "846"
      ],
      "text/latex": [
       "846"
      ],
      "text/markdown": [
       "846"
      ],
      "text/plain": [
       "[1] 846"
      ]
     },
     "metadata": {},
     "output_type": "display_data"
    }
   ],
   "source": [
    "nestedTruliaRankings <- filter(rankings, scraper == 'TruliaScraper')\n",
    "nestedTruliaRankings$ranking <- lapply(nestedTruliaRankings$ranking, format_ranking)\n",
    "nrow(nestedTruliaRankings)"
   ]
  },
  {
   "cell_type": "code",
   "execution_count": 11,
   "metadata": {},
   "outputs": [
    {
     "data": {
      "text/plain": [
       "[1] \"2018-11-21 17:02:05 CST\""
      ]
     },
     "metadata": {},
     "output_type": "display_data"
    },
    {
     "data": {
      "text/plain": [
       "[1] \"2019-03-19 17:56:43 CDT\""
      ]
     },
     "metadata": {},
     "output_type": "display_data"
    },
    {
     "data": {
      "text/plain": [
       "Time difference of 117.9963 days"
      ]
     },
     "metadata": {},
     "output_type": "display_data"
    }
   ],
   "source": [
    "min(nestedTruliaRankings$time)\n",
    "max(nestedTruliaRankings$time)\n",
    "max(nestedTruliaRankings$time) - min(nestedTruliaRankings$time)"
   ]
  },
  {
   "cell_type": "code",
   "execution_count": 12,
   "metadata": {},
   "outputs": [
    {
     "data": {
      "text/html": [
       "9552"
      ],
      "text/latex": [
       "9552"
      ],
      "text/markdown": [
       "9552"
      ],
      "text/plain": [
       "[1] 9552"
      ]
     },
     "metadata": {},
     "output_type": "display_data"
    }
   ],
   "source": [
    "truliaRankings <- unnest(nestedTruliaRankings, ranking)\n",
    "truliaRankings$type1 <- NULL\n",
    "colnames(truliaRankings)[colnames(truliaRankings)==\"street address\"] <- \"street_address\"\n",
    "truliaRankings <- truliaRankings %>% filter(!is.na(street_address))\n",
    "nrow(truliaRankings)"
   ]
  },
  {
   "cell_type": "markdown",
   "metadata": {},
   "source": [
    "## Chicago neighborhood analysis"
   ]
  },
  {
   "cell_type": "code",
   "execution_count": 13,
   "metadata": {},
   "outputs": [
    {
     "data": {
      "text/html": [
       "3040"
      ],
      "text/latex": [
       "3040"
      ],
      "text/markdown": [
       "3040"
      ],
      "text/plain": [
       "[1] 3040"
      ]
     },
     "metadata": {},
     "output_type": "display_data"
    }
   ],
   "source": [
    "chicagoTR <- truliaRankings %>%\n",
    "    filter(url == 'https://www.trulia.com/IL/Chicago/') %>%\n",
    "    filter(!is.na(latitude)) %>%\n",
    "    filter(!is.na(longitude))\n",
    "nrow(chicagoTR)\n",
    "chicagoTR$dist <- apply(chicagoTR[,c('latitude', 'longitude')], 1, function(x) { distHaversine(chicago_coords, x) })\n",
    "\n",
    "cTR <- chicagoTR\n",
    "coordinates(cTR) <- ~longitude+latitude\n",
    "proj4string(cTR) <- CRS(\"+init=epsg:4326\")\n",
    "cTR <- spTransform(cTR, proj4string(chicago_neighborhoods))\n",
    "chicagoTR$neighborhood <- sp::over(cTR, chicago_neighborhoods)$PRI_NEIGH\n",
    "\n",
    "# chicagoTR[1:10,]"
   ]
  },
  {
   "cell_type": "code",
   "execution_count": 33,
   "metadata": {},
   "outputs": [],
   "source": [
    "# str(chicagoTR)"
   ]
  },
  {
   "cell_type": "markdown",
   "metadata": {},
   "source": [
    "Are there neighborhoods that are predominantly advertised to one race?"
   ]
  },
  {
   "cell_type": "code",
   "execution_count": 37,
   "metadata": {},
   "outputs": [],
   "source": [
    "chiNeighborhoodCounts <- chicagoTR %>%\n",
    "    filter(idx < 30) %>%\n",
    "    count(neighborhood, treatment.ethnicity) %>%\n",
    "    group_by(neighborhood) %>%\n",
    "    mutate(total=sum(n)) %>%\n",
    "    ungroup() %>%\n",
    "    spread(treatment.ethnicity, n, fill = 0)\n",
    "\n",
    "# chiNeighborhoodCounts"
   ]
  },
  {
   "cell_type": "code",
   "execution_count": 40,
   "metadata": {},
   "outputs": [
    {
     "name": "stderr",
     "output_type": "stream",
     "text": [
      "Warning message in chisq.test(unlist(df), p = c(1/4, 1/4, 1/4, 1/4)):\n",
      "“Chi-squared approximation may be incorrect”"
     ]
    },
    {
     "data": {
      "text/html": [
       "<table>\n",
       "<thead><tr><th scope=col>neighborhood</th><th scope=col>total</th><th scope=col>african-american</th><th scope=col>asian</th><th scope=col>caucasian</th><th scope=col>hispanic</th><th scope=col>pval</th></tr></thead>\n",
       "<tbody>\n",
       "\t<tr><td>Douglas       </td><td>62            </td><td>18            </td><td>12            </td><td>16            </td><td>16            </td><td>0.7468217     </td></tr>\n",
       "\t<tr><td>Old Town      </td><td>63            </td><td>18            </td><td>13            </td><td>16            </td><td>16            </td><td>0.8471877     </td></tr>\n",
       "\t<tr><td>Grand Crossing</td><td>93            </td><td>26            </td><td>20            </td><td>23            </td><td>24            </td><td>0.8479233     </td></tr>\n",
       "\t<tr><td>Chatham       </td><td>62            </td><td>18            </td><td>14            </td><td>14            </td><td>16            </td><td>0.8709254     </td></tr>\n",
       "\t<tr><td>Belmont Cragin</td><td>85            </td><td>23            </td><td>18            </td><td>22            </td><td>22            </td><td>0.8745867     </td></tr>\n",
       "</tbody>\n",
       "</table>\n"
      ],
      "text/latex": [
       "\\begin{tabular}{r|lllllll}\n",
       " neighborhood & total & african-american & asian & caucasian & hispanic & pval\\\\\n",
       "\\hline\n",
       "\t Douglas        & 62             & 18             & 12             & 16             & 16             & 0.7468217     \\\\\n",
       "\t Old Town       & 63             & 18             & 13             & 16             & 16             & 0.8471877     \\\\\n",
       "\t Grand Crossing & 93             & 26             & 20             & 23             & 24             & 0.8479233     \\\\\n",
       "\t Chatham        & 62             & 18             & 14             & 14             & 16             & 0.8709254     \\\\\n",
       "\t Belmont Cragin & 85             & 23             & 18             & 22             & 22             & 0.8745867     \\\\\n",
       "\\end{tabular}\n"
      ],
      "text/markdown": [
       "\n",
       "| neighborhood | total | african-american | asian | caucasian | hispanic | pval |\n",
       "|---|---|---|---|---|---|---|\n",
       "| Douglas        | 62             | 18             | 12             | 16             | 16             | 0.7468217      |\n",
       "| Old Town       | 63             | 18             | 13             | 16             | 16             | 0.8471877      |\n",
       "| Grand Crossing | 93             | 26             | 20             | 23             | 24             | 0.8479233      |\n",
       "| Chatham        | 62             | 18             | 14             | 14             | 16             | 0.8709254      |\n",
       "| Belmont Cragin | 85             | 23             | 18             | 22             | 22             | 0.8745867      |\n",
       "\n"
      ],
      "text/plain": [
       "  neighborhood   total african-american asian caucasian hispanic pval     \n",
       "1 Douglas        62    18               12    16        16       0.7468217\n",
       "2 Old Town       63    18               13    16        16       0.8471877\n",
       "3 Grand Crossing 93    26               20    23        24       0.8479233\n",
       "4 Chatham        62    18               14    14        16       0.8709254\n",
       "5 Belmont Cragin 85    23               18    22        22       0.8745867"
      ]
     },
     "metadata": {},
     "output_type": "display_data"
    }
   ],
   "source": [
    "cnc <- chiNeighborhoodCounts %>%\n",
    "    filter(total > 16) \n",
    "  \n",
    "cnc$pval <- cnc %>%\n",
    "    select(-total, -neighborhood) %>%\n",
    "    apply(1, function(df) {\n",
    "        test <- chisq.test(unlist(df), p=c(1/4,1/4,1/4,1/4))\n",
    "        return(c(test$p.value))\n",
    "    })\n",
    "\n",
    "cnc %>% top_n(-5, pval) %>% arrange(pval)\n",
    "# summarize(cnc, min = min(a), neighborhood = neighborhood[which.min(a)])"
   ]
  },
  {
   "cell_type": "code",
   "execution_count": 41,
   "metadata": {},
   "outputs": [
    {
     "data": {
      "text/html": [
       "<table>\n",
       "<thead><tr><th scope=col>neighborhood</th><th scope=col>total</th><th scope=col>african-american</th><th scope=col>asian</th><th scope=col>caucasian</th><th scope=col>hispanic</th><th scope=col>pval</th></tr></thead>\n",
       "<tbody>\n",
       "\t<tr><td>Calumet Heights</td><td>45             </td><td>12             </td><td>10             </td><td>12             </td><td>11             </td><td>0.9701143      </td></tr>\n",
       "\t<tr><td>Kenwood        </td><td>39             </td><td>10             </td><td>10             </td><td> 9             </td><td>10             </td><td>0.9944550      </td></tr>\n",
       "\t<tr><td>Washington Park</td><td>83             </td><td>20             </td><td>21             </td><td>22             </td><td>20             </td><td>0.9876664      </td></tr>\n",
       "\t<tr><td>West Lawn      </td><td>47             </td><td>12             </td><td>11             </td><td>12             </td><td>12             </td><td>0.9957922      </td></tr>\n",
       "</tbody>\n",
       "</table>\n"
      ],
      "text/latex": [
       "\\begin{tabular}{r|lllllll}\n",
       " neighborhood & total & african-american & asian & caucasian & hispanic & pval\\\\\n",
       "\\hline\n",
       "\t Calumet Heights & 45              & 12              & 10              & 12              & 11              & 0.9701143      \\\\\n",
       "\t Kenwood         & 39              & 10              & 10              &  9              & 10              & 0.9944550      \\\\\n",
       "\t Washington Park & 83              & 20              & 21              & 22              & 20              & 0.9876664      \\\\\n",
       "\t West Lawn       & 47              & 12              & 11              & 12              & 12              & 0.9957922      \\\\\n",
       "\\end{tabular}\n"
      ],
      "text/markdown": [
       "\n",
       "| neighborhood | total | african-american | asian | caucasian | hispanic | pval |\n",
       "|---|---|---|---|---|---|---|\n",
       "| Calumet Heights | 45              | 12              | 10              | 12              | 11              | 0.9701143       |\n",
       "| Kenwood         | 39              | 10              | 10              |  9              | 10              | 0.9944550       |\n",
       "| Washington Park | 83              | 20              | 21              | 22              | 20              | 0.9876664       |\n",
       "| West Lawn       | 47              | 12              | 11              | 12              | 12              | 0.9957922       |\n",
       "\n"
      ],
      "text/plain": [
       "  neighborhood    total african-american asian caucasian hispanic pval     \n",
       "1 Calumet Heights 45    12               10    12        11       0.9701143\n",
       "2 Kenwood         39    10               10     9        10       0.9944550\n",
       "3 Washington Park 83    20               21    22        20       0.9876664\n",
       "4 West Lawn       47    12               11    12        12       0.9957922"
      ]
     },
     "metadata": {},
     "output_type": "display_data"
    }
   ],
   "source": [
    "cnc %>%\n",
    "    filter(neighborhood %in% c(\"Calumet Heights\", \"Kenwood\", \"Washington Park\", \"West Lawn\"))"
   ]
  },
  {
   "cell_type": "code",
   "execution_count": 34,
   "metadata": {},
   "outputs": [
    {
     "data": {
      "text/html": [
       "<table>\n",
       "<thead><tr><th scope=col>min</th><th scope=col>neighborhood</th></tr></thead>\n",
       "<tbody>\n",
       "\t<tr><td>0.4912971    </td><td>Streeterville</td></tr>\n",
       "</tbody>\n",
       "</table>\n"
      ],
      "text/latex": [
       "\\begin{tabular}{r|ll}\n",
       " min & neighborhood\\\\\n",
       "\\hline\n",
       "\t 0.4912971     & Streeterville\\\\\n",
       "\\end{tabular}\n"
      ],
      "text/markdown": [
       "\n",
       "| min | neighborhood |\n",
       "|---|---|\n",
       "| 0.4912971     | Streeterville |\n",
       "\n"
      ],
      "text/plain": [
       "  min       neighborhood \n",
       "1 0.4912971 Streeterville"
      ]
     },
     "metadata": {},
     "output_type": "display_data"
    }
   ],
   "source": [
    "chiNeighborhoodCounts <- chicagoTR %>%\n",
    "    filter(idx < 30) %>%\n",
    "    count(neighborhood, treatment.gender) %>%\n",
    "    group_by(neighborhood) %>%\n",
    "    mutate(total=sum(n)) %>%\n",
    "    ungroup() %>%\n",
    "    spread(treatment.gender, n, fill = 0)\n",
    "\n",
    "cnc <- chiNeighborhoodCounts %>%\n",
    "    filter(total > 16) \n",
    "  \n",
    "cnc$a <- cnc %>%\n",
    "    select(-total, -neighborhood) %>%\n",
    "    apply(1, function(df) {\n",
    "        test <- chisq.test(unlist(df), p=c(1/2,1/2))\n",
    "        return(c(test$p.value))\n",
    "    })\n",
    "\n",
    "summarize(cnc, min = min(a), neighborhood = neighborhood[which.min(a)])"
   ]
  },
  {
   "cell_type": "code",
   "execution_count": 17,
   "metadata": {},
   "outputs": [
    {
     "data": {
      "text/html": [
       "<table>\n",
       "<thead><tr><th scope=col>neighborhood</th><th scope=col>total</th><th scope=col>african-american</th><th scope=col>asian</th><th scope=col>caucasian</th><th scope=col>hispanic</th></tr></thead>\n",
       "<tbody>\n",
       "\t<tr><td>Douglas</td><td>62     </td><td>18     </td><td>12     </td><td>16     </td><td>16     </td></tr>\n",
       "</tbody>\n",
       "</table>\n"
      ],
      "text/latex": [
       "\\begin{tabular}{r|llllll}\n",
       " neighborhood & total & african-american & asian & caucasian & hispanic\\\\\n",
       "\\hline\n",
       "\t Douglas & 62      & 18      & 12      & 16      & 16     \\\\\n",
       "\\end{tabular}\n"
      ],
      "text/markdown": [
       "\n",
       "| neighborhood | total | african-american | asian | caucasian | hispanic |\n",
       "|---|---|---|---|---|---|\n",
       "| Douglas | 62      | 18      | 12      | 16      | 16      |\n",
       "\n"
      ],
      "text/plain": [
       "  neighborhood total african-american asian caucasian hispanic\n",
       "1 Douglas      62    18               12    16        16      "
      ]
     },
     "metadata": {},
     "output_type": "display_data"
    }
   ],
   "source": [
    "chiNeighborhoodCounts %>%\n",
    "   filter(neighborhood == \"Douglas\")"
   ]
  },
  {
   "cell_type": "code",
   "execution_count": 18,
   "metadata": {},
   "outputs": [
    {
     "data": {
      "text/html": [
       "<table>\n",
       "<thead><tr><th scope=col>neighborhood</th><th scope=col>total</th><th scope=col>african-american</th><th scope=col>asian</th><th scope=col>caucasian</th><th scope=col>hispanic</th></tr></thead>\n",
       "<tbody>\n",
       "\t<tr><td>Gage Park     </td><td>28            </td><td> 8            </td><td> 7            </td><td> 6            </td><td> 7            </td></tr>\n",
       "\t<tr><td>North Lawndale</td><td>22            </td><td> 5            </td><td> 6            </td><td> 5            </td><td> 6            </td></tr>\n",
       "\t<tr><td>Garfield Park </td><td>28            </td><td> 8            </td><td> 7            </td><td> 7            </td><td> 6            </td></tr>\n",
       "\t<tr><td>Austin        </td><td>53            </td><td>15            </td><td>14            </td><td>11            </td><td>13            </td></tr>\n",
       "\t<tr><td>Brighton Park </td><td>16            </td><td> 4            </td><td> 4            </td><td> 4            </td><td> 4            </td></tr>\n",
       "</tbody>\n",
       "</table>\n"
      ],
      "text/latex": [
       "\\begin{tabular}{r|llllll}\n",
       " neighborhood & total & african-american & asian & caucasian & hispanic\\\\\n",
       "\\hline\n",
       "\t Gage Park      & 28             &  8             &  7             &  6             &  7            \\\\\n",
       "\t North Lawndale & 22             &  5             &  6             &  5             &  6            \\\\\n",
       "\t Garfield Park  & 28             &  8             &  7             &  7             &  6            \\\\\n",
       "\t Austin         & 53             & 15             & 14             & 11             & 13            \\\\\n",
       "\t Brighton Park  & 16             &  4             &  4             &  4             &  4            \\\\\n",
       "\\end{tabular}\n"
      ],
      "text/markdown": [
       "\n",
       "| neighborhood | total | african-american | asian | caucasian | hispanic |\n",
       "|---|---|---|---|---|---|\n",
       "| Gage Park      | 28             |  8             |  7             |  6             |  7             |\n",
       "| North Lawndale | 22             |  5             |  6             |  5             |  6             |\n",
       "| Garfield Park  | 28             |  8             |  7             |  7             |  6             |\n",
       "| Austin         | 53             | 15             | 14             | 11             | 13             |\n",
       "| Brighton Park  | 16             |  4             |  4             |  4             |  4             |\n",
       "\n"
      ],
      "text/plain": [
       "  neighborhood   total african-american asian caucasian hispanic\n",
       "1 Gage Park      28     8                7     6         7      \n",
       "2 North Lawndale 22     5                6     5         6      \n",
       "3 Garfield Park  28     8                7     7         6      \n",
       "4 Austin         53    15               14    11        13      \n",
       "5 Brighton Park  16     4                4     4         4      "
      ]
     },
     "metadata": {},
     "output_type": "display_data"
    }
   ],
   "source": [
    "chiNeighborhoodCounts %>%\n",
    "    sample_n(5)"
   ]
  },
  {
   "cell_type": "code",
   "execution_count": 19,
   "metadata": {},
   "outputs": [
    {
     "data": {
      "text/html": [
       "<table>\n",
       "<thead><tr><th scope=col>neighborhood</th><th scope=col>total</th><th scope=col>african-american</th><th scope=col>asian</th><th scope=col>caucasian</th><th scope=col>hispanic</th></tr></thead>\n",
       "<tbody>\n",
       "\t<tr><td>Avalon Park    </td><td> 7             </td><td>2              </td><td>2              </td><td>1              </td><td>2              </td></tr>\n",
       "\t<tr><td>Avondale       </td><td> 7             </td><td>2              </td><td>2              </td><td>1              </td><td>2              </td></tr>\n",
       "\t<tr><td>Beverly        </td><td> 5             </td><td>1              </td><td>1              </td><td>2              </td><td>1              </td></tr>\n",
       "\t<tr><td>Brighton Park  </td><td>16             </td><td>4              </td><td>4              </td><td>4              </td><td>4              </td></tr>\n",
       "\t<tr><td>Bucktown       </td><td> 4             </td><td>2              </td><td>0              </td><td>1              </td><td>1              </td></tr>\n",
       "\t<tr><td>Dunning        </td><td>16             </td><td>4              </td><td>4              </td><td>4              </td><td>4              </td></tr>\n",
       "\t<tr><td>Hegewisch      </td><td> 6             </td><td>1              </td><td>2              </td><td>1              </td><td>2              </td></tr>\n",
       "\t<tr><td>Hermosa        </td><td> 7             </td><td>2              </td><td>2              </td><td>1              </td><td>2              </td></tr>\n",
       "\t<tr><td>Lake View      </td><td>10             </td><td>3              </td><td>2              </td><td>2              </td><td>3              </td></tr>\n",
       "\t<tr><td>Loop           </td><td> 1             </td><td>0              </td><td>1              </td><td>0              </td><td>0              </td></tr>\n",
       "\t<tr><td>New City       </td><td> 7             </td><td>2              </td><td>2              </td><td>1              </td><td>2              </td></tr>\n",
       "\t<tr><td>Oakland        </td><td> 7             </td><td>2              </td><td>2              </td><td>1              </td><td>2              </td></tr>\n",
       "\t<tr><td>Riverdale      </td><td>16             </td><td>4              </td><td>4              </td><td>4              </td><td>4              </td></tr>\n",
       "\t<tr><td>Rush &amp; Division</td><td> 8                 </td><td>1                  </td><td>2                  </td><td>2                  </td><td>3                  </td></tr>\n",
       "\t<tr><td>South Deering  </td><td> 7             </td><td>2              </td><td>2              </td><td>1              </td><td>2              </td></tr>\n",
       "</tbody>\n",
       "</table>\n"
      ],
      "text/latex": [
       "\\begin{tabular}{r|llllll}\n",
       " neighborhood & total & african-american & asian & caucasian & hispanic\\\\\n",
       "\\hline\n",
       "\t Avalon Park     &  7              & 2               & 2               & 1               & 2              \\\\\n",
       "\t Avondale        &  7              & 2               & 2               & 1               & 2              \\\\\n",
       "\t Beverly         &  5              & 1               & 1               & 2               & 1              \\\\\n",
       "\t Brighton Park   & 16              & 4               & 4               & 4               & 4              \\\\\n",
       "\t Bucktown        &  4              & 2               & 0               & 1               & 1              \\\\\n",
       "\t Dunning         & 16              & 4               & 4               & 4               & 4              \\\\\n",
       "\t Hegewisch       &  6              & 1               & 2               & 1               & 2              \\\\\n",
       "\t Hermosa         &  7              & 2               & 2               & 1               & 2              \\\\\n",
       "\t Lake View       & 10              & 3               & 2               & 2               & 3              \\\\\n",
       "\t Loop            &  1              & 0               & 1               & 0               & 0              \\\\\n",
       "\t New City        &  7              & 2               & 2               & 1               & 2              \\\\\n",
       "\t Oakland         &  7              & 2               & 2               & 1               & 2              \\\\\n",
       "\t Riverdale       & 16              & 4               & 4               & 4               & 4              \\\\\n",
       "\t Rush \\& Division &  8                & 1                 & 2                 & 2                 & 3                \\\\\n",
       "\t South Deering   &  7              & 2               & 2               & 1               & 2              \\\\\n",
       "\\end{tabular}\n"
      ],
      "text/markdown": [
       "\n",
       "| neighborhood | total | african-american | asian | caucasian | hispanic |\n",
       "|---|---|---|---|---|---|\n",
       "| Avalon Park     |  7              | 2               | 2               | 1               | 2               |\n",
       "| Avondale        |  7              | 2               | 2               | 1               | 2               |\n",
       "| Beverly         |  5              | 1               | 1               | 2               | 1               |\n",
       "| Brighton Park   | 16              | 4               | 4               | 4               | 4               |\n",
       "| Bucktown        |  4              | 2               | 0               | 1               | 1               |\n",
       "| Dunning         | 16              | 4               | 4               | 4               | 4               |\n",
       "| Hegewisch       |  6              | 1               | 2               | 1               | 2               |\n",
       "| Hermosa         |  7              | 2               | 2               | 1               | 2               |\n",
       "| Lake View       | 10              | 3               | 2               | 2               | 3               |\n",
       "| Loop            |  1              | 0               | 1               | 0               | 0               |\n",
       "| New City        |  7              | 2               | 2               | 1               | 2               |\n",
       "| Oakland         |  7              | 2               | 2               | 1               | 2               |\n",
       "| Riverdale       | 16              | 4               | 4               | 4               | 4               |\n",
       "| Rush & Division |  8              | 1               | 2               | 2               | 3               |\n",
       "| South Deering   |  7              | 2               | 2               | 1               | 2               |\n",
       "\n"
      ],
      "text/plain": [
       "   neighborhood    total african-american asian caucasian hispanic\n",
       "1  Avalon Park      7    2                2     1         2       \n",
       "2  Avondale         7    2                2     1         2       \n",
       "3  Beverly          5    1                1     2         1       \n",
       "4  Brighton Park   16    4                4     4         4       \n",
       "5  Bucktown         4    2                0     1         1       \n",
       "6  Dunning         16    4                4     4         4       \n",
       "7  Hegewisch        6    1                2     1         2       \n",
       "8  Hermosa          7    2                2     1         2       \n",
       "9  Lake View       10    3                2     2         3       \n",
       "10 Loop             1    0                1     0         0       \n",
       "11 New City         7    2                2     1         2       \n",
       "12 Oakland          7    2                2     1         2       \n",
       "13 Riverdale       16    4                4     4         4       \n",
       "14 Rush & Division  8    1                2     2         3       \n",
       "15 South Deering    7    2                2     1         2       "
      ]
     },
     "metadata": {},
     "output_type": "display_data"
    }
   ],
   "source": [
    "chiNeighborhoodCounts %>%\n",
    "    filter(!total > 16)"
   ]
  },
  {
   "cell_type": "markdown",
   "metadata": {},
   "source": [
    "Since the lowest p-value seen in a chi-quared test is 0.747, and there are no clear outliers for n < 16, we find no neighborhood discrimination."
   ]
  },
  {
   "cell_type": "markdown",
   "metadata": {
    "toc-hr-collapsed": false
   },
   "source": [
    "# Realtor.com neighborhood analysis"
   ]
  },
  {
   "cell_type": "markdown",
   "metadata": {
    "toc-hr-collapsed": true
   },
   "source": [
    "## Data setup"
   ]
  },
  {
   "cell_type": "code",
   "execution_count": 20,
   "metadata": {},
   "outputs": [
    {
     "data": {
      "text/html": [
       "436"
      ],
      "text/latex": [
       "436"
      ],
      "text/markdown": [
       "436"
      ],
      "text/plain": [
       "[1] 436"
      ]
     },
     "metadata": {},
     "output_type": "display_data"
    }
   ],
   "source": [
    "nestedRealtorRankings <- rankings[rankings$scraper == 'RealtorRanking', ]\n",
    "nestedRealtorRankings$ranking <- lapply(nestedRealtorRankings$ranking, format_ranking)\n",
    "nrow(nestedRealtorRankings)"
   ]
  },
  {
   "cell_type": "code",
   "execution_count": 21,
   "metadata": {},
   "outputs": [
    {
     "data": {
      "text/plain": [
       "[1] \"2019-03-19 17:32:10 CDT\""
      ]
     },
     "metadata": {},
     "output_type": "display_data"
    },
    {
     "data": {
      "text/plain": [
       "[1] \"2018-12-07 12:43:04 CST\""
      ]
     },
     "metadata": {},
     "output_type": "display_data"
    },
    {
     "data": {
      "text/plain": [
       "Time difference of 102.1591 days"
      ]
     },
     "metadata": {},
     "output_type": "display_data"
    }
   ],
   "source": [
    "max(nestedRealtorRankings$time)\n",
    "min(nestedRealtorRankings$time)\n",
    "max(nestedRealtorRankings$time) - min(nestedRealtorRankings$time)"
   ]
  },
  {
   "cell_type": "code",
   "execution_count": 22,
   "metadata": {},
   "outputs": [
    {
     "data": {
      "text/html": [
       "6561"
      ],
      "text/latex": [
       "6561"
      ],
      "text/markdown": [
       "6561"
      ],
      "text/plain": [
       "[1] 6561"
      ]
     },
     "metadata": {},
     "output_type": "display_data"
    }
   ],
   "source": [
    "realtorRankings <- unnest(nestedRealtorRankings, ranking)\n",
    "realtorRankings$type1 <- NULL\n",
    "colnames(realtorRankings)[colnames(realtorRankings)==\"street address\"] <- \"street_address\"\n",
    "realtorRankings <- realtorRankings %>% filter(!is.na(street_address))\n",
    "# realtorRankings$dist <- apply(realtorRankings[,c('latitude', 'longitude')], 1, function(x) { distHaversine(chicago_coords, c(x[1], x[2])) })\n",
    "\n",
    "nrow(realtorRankings)"
   ]
  },
  {
   "cell_type": "markdown",
   "metadata": {
    "toc-hr-collapsed": false
   },
   "source": [
    "## Chicago neighborhood analysis"
   ]
  },
  {
   "cell_type": "code",
   "execution_count": 23,
   "metadata": {},
   "outputs": [
    {
     "data": {
      "text/html": [
       "<ol class=list-inline>\n",
       "\t<li>'https://www.realtor.com/realestateandhomes-search/Chicago_IL'</li>\n",
       "\t<li>'https://www.realtor.com/realestateandhomes-search/Champaign_IL'</li>\n",
       "\t<li>'https://www.realtor.com/realestateandhomes-search/Atlanta_GA'</li>\n",
       "\t<li>'https://www.realtor.com/realestateandhomes-search/Sacramento_CA'</li>\n",
       "</ol>\n"
      ],
      "text/latex": [
       "\\begin{enumerate*}\n",
       "\\item 'https://www.realtor.com/realestateandhomes-search/Chicago\\_IL'\n",
       "\\item 'https://www.realtor.com/realestateandhomes-search/Champaign\\_IL'\n",
       "\\item 'https://www.realtor.com/realestateandhomes-search/Atlanta\\_GA'\n",
       "\\item 'https://www.realtor.com/realestateandhomes-search/Sacramento\\_CA'\n",
       "\\end{enumerate*}\n"
      ],
      "text/markdown": [
       "1. 'https://www.realtor.com/realestateandhomes-search/Chicago_IL'\n",
       "2. 'https://www.realtor.com/realestateandhomes-search/Champaign_IL'\n",
       "3. 'https://www.realtor.com/realestateandhomes-search/Atlanta_GA'\n",
       "4. 'https://www.realtor.com/realestateandhomes-search/Sacramento_CA'\n",
       "\n",
       "\n"
      ],
      "text/plain": [
       "[1] \"https://www.realtor.com/realestateandhomes-search/Chicago_IL\"   \n",
       "[2] \"https://www.realtor.com/realestateandhomes-search/Champaign_IL\" \n",
       "[3] \"https://www.realtor.com/realestateandhomes-search/Atlanta_GA\"   \n",
       "[4] \"https://www.realtor.com/realestateandhomes-search/Sacramento_CA\""
      ]
     },
     "metadata": {},
     "output_type": "display_data"
    }
   ],
   "source": [
    "unique(realtorRankings$url)"
   ]
  },
  {
   "cell_type": "code",
   "execution_count": 24,
   "metadata": {},
   "outputs": [
    {
     "data": {
      "text/html": [
       "998"
      ],
      "text/latex": [
       "998"
      ],
      "text/markdown": [
       "998"
      ],
      "text/plain": [
       "[1] 998"
      ]
     },
     "metadata": {},
     "output_type": "display_data"
    }
   ],
   "source": [
    "chicagoRR <- realtorRankings %>%\n",
    "    filter(url == 'https://www.realtor.com/realestateandhomes-search/Chicago_IL') %>%\n",
    "    filter(!is.na(latitude)) %>%\n",
    "    filter(!is.na(longitude))\n",
    "\n",
    "nrow(chicagoRR)"
   ]
  },
  {
   "cell_type": "code",
   "execution_count": 25,
   "metadata": {},
   "outputs": [],
   "source": [
    "cRR <- chicagoRR\n",
    "coordinates(cRR) <- ~longitude+latitude\n",
    "proj4string(cRR) <- CRS(\"+init=epsg:4326\")\n",
    "cRR <- spTransform(cRR, proj4string(chicago_neighborhoods))\n",
    "chicagoRR$neighborhood <- sp::over(cRR, chicago_neighborhoods)$PRI_NEIGH\n",
    "chicagoRR$neighborhood <- as.character(chicagoRR$neighborhood)\n",
    "chicagoRR$neighborhood[is.na(chicagoRR$neighborhood)] <- chicagoRR$locality[is.na(chicagoRR$neighborhood)]\n",
    "\n",
    "# chicagoRR[1:10,]"
   ]
  },
  {
   "cell_type": "code",
   "execution_count": 26,
   "metadata": {},
   "outputs": [],
   "source": [
    "chiNeighborhoods <- chicagoRR %>%\n",
    "    filter(idx < 16) %>%\n",
    "    count(neighborhood, treatment.ethnicity) %>%\n",
    "    group_by(neighborhood) %>%\n",
    "    mutate(total=sum(n)) %>%\n",
    "    ungroup() %>%\n",
    "    spread(treatment.ethnicity, n, fill = 0)\n",
    "\n",
    "# chiNeighborhoods[1:5,]"
   ]
  },
  {
   "cell_type": "code",
   "execution_count": 28,
   "metadata": {},
   "outputs": [
    {
     "name": "stderr",
     "output_type": "stream",
     "text": [
      "Warning message in chisq.test(unlist(df), p = c(1/4, 1/4, 1/4, 1/4)):\n",
      "“Chi-squared approximation may be incorrect”"
     ]
    },
    {
     "data": {
      "text/html": [
       "<table>\n",
       "<thead><tr><th scope=col>neighborhood</th><th scope=col>total</th><th scope=col>african-american</th><th scope=col>asian</th><th scope=col>caucasian</th><th scope=col>hispanic</th><th scope=col>pval</th></tr></thead>\n",
       "<tbody>\n",
       "\t<tr><td>Lake View  </td><td>62         </td><td>7          </td><td>15         </td><td>19         </td><td>21         </td><td>0.05966718 </td></tr>\n",
       "\t<tr><td>South Shore</td><td>21         </td><td>7          </td><td> 6         </td><td> 2         </td><td> 6         </td><td>0.42193453 </td></tr>\n",
       "\t<tr><td>Rogers Park</td><td>21         </td><td>8          </td><td> 3         </td><td> 5         </td><td> 5         </td><td>0.48833822 </td></tr>\n",
       "\t<tr><td>Cicero     </td><td>29         </td><td>7          </td><td>10         </td><td> 5         </td><td> 7         </td><td>0.62398066 </td></tr>\n",
       "\t<tr><td>Austin     </td><td>36         </td><td>9          </td><td> 6         </td><td>10         </td><td>11         </td><td>0.66950875 </td></tr>\n",
       "</tbody>\n",
       "</table>\n"
      ],
      "text/latex": [
       "\\begin{tabular}{r|lllllll}\n",
       " neighborhood & total & african-american & asian & caucasian & hispanic & pval\\\\\n",
       "\\hline\n",
       "\t Lake View   & 62          & 7           & 15          & 19          & 21          & 0.05966718 \\\\\n",
       "\t South Shore & 21          & 7           &  6          &  2          &  6          & 0.42193453 \\\\\n",
       "\t Rogers Park & 21          & 8           &  3          &  5          &  5          & 0.48833822 \\\\\n",
       "\t Cicero      & 29          & 7           & 10          &  5          &  7          & 0.62398066 \\\\\n",
       "\t Austin      & 36          & 9           &  6          & 10          & 11          & 0.66950875 \\\\\n",
       "\\end{tabular}\n"
      ],
      "text/markdown": [
       "\n",
       "| neighborhood | total | african-american | asian | caucasian | hispanic | pval |\n",
       "|---|---|---|---|---|---|---|\n",
       "| Lake View   | 62          | 7           | 15          | 19          | 21          | 0.05966718  |\n",
       "| South Shore | 21          | 7           |  6          |  2          |  6          | 0.42193453  |\n",
       "| Rogers Park | 21          | 8           |  3          |  5          |  5          | 0.48833822  |\n",
       "| Cicero      | 29          | 7           | 10          |  5          |  7          | 0.62398066  |\n",
       "| Austin      | 36          | 9           |  6          | 10          | 11          | 0.66950875  |\n",
       "\n"
      ],
      "text/plain": [
       "  neighborhood total african-american asian caucasian hispanic pval      \n",
       "1 Lake View    62    7                15    19        21       0.05966718\n",
       "2 South Shore  21    7                 6     2         6       0.42193453\n",
       "3 Rogers Park  21    8                 3     5         5       0.48833822\n",
       "4 Cicero       29    7                10     5         7       0.62398066\n",
       "5 Austin       36    9                 6    10        11       0.66950875"
      ]
     },
     "metadata": {},
     "output_type": "display_data"
    }
   ],
   "source": [
    "cnc <- chiNeighborhoods %>%\n",
    "    filter(total > 16)\n",
    "\n",
    "cnc$pval <- cnc %>%\n",
    "    select(-total, -neighborhood) %>%\n",
    "    apply(1, function(df) {\n",
    "        test <- chisq.test(unlist(df), p=c(1/4,1/4,1/4,1/4))\n",
    "        return(c(test$p.value))\n",
    "    })\n",
    "\n",
    "cnc %>% top_n(-5, pval) %>% arrange(pval)"
   ]
  },
  {
   "cell_type": "code",
   "execution_count": 32,
   "metadata": {},
   "outputs": [
    {
     "data": {
      "text/html": [
       "<table>\n",
       "<thead><tr><th scope=col>neighborhood</th><th scope=col>total</th><th scope=col>african-american</th><th scope=col>asian</th><th scope=col>caucasian</th><th scope=col>hispanic</th><th scope=col>pval</th></tr></thead>\n",
       "<tbody>\n",
       "\t<tr><td>Chatham     </td><td>36          </td><td>8           </td><td> 9          </td><td>10          </td><td> 9          </td><td>0.97392457  </td></tr>\n",
       "\t<tr><td>Cicero      </td><td>29          </td><td>7           </td><td>10          </td><td> 5          </td><td> 7          </td><td>0.62398066  </td></tr>\n",
       "\t<tr><td>Lake View   </td><td>62          </td><td>7           </td><td>15          </td><td>19          </td><td>21          </td><td>0.05966718  </td></tr>\n",
       "\t<tr><td>Loop        </td><td>27          </td><td>7           </td><td> 5          </td><td> 8          </td><td> 7          </td><td>0.87233246  </td></tr>\n",
       "\t<tr><td>Norwood Park</td><td>20          </td><td>5           </td><td> 4          </td><td> 6          </td><td> 5          </td><td>0.94024249  </td></tr>\n",
       "</tbody>\n",
       "</table>\n"
      ],
      "text/latex": [
       "\\begin{tabular}{r|lllllll}\n",
       " neighborhood & total & african-american & asian & caucasian & hispanic & pval\\\\\n",
       "\\hline\n",
       "\t Chatham      & 36           & 8            &  9           & 10           &  9           & 0.97392457  \\\\\n",
       "\t Cicero       & 29           & 7            & 10           &  5           &  7           & 0.62398066  \\\\\n",
       "\t Lake View    & 62           & 7            & 15           & 19           & 21           & 0.05966718  \\\\\n",
       "\t Loop         & 27           & 7            &  5           &  8           &  7           & 0.87233246  \\\\\n",
       "\t Norwood Park & 20           & 5            &  4           &  6           &  5           & 0.94024249  \\\\\n",
       "\\end{tabular}\n"
      ],
      "text/markdown": [
       "\n",
       "| neighborhood | total | african-american | asian | caucasian | hispanic | pval |\n",
       "|---|---|---|---|---|---|---|\n",
       "| Chatham      | 36           | 8            |  9           | 10           |  9           | 0.97392457   |\n",
       "| Cicero       | 29           | 7            | 10           |  5           |  7           | 0.62398066   |\n",
       "| Lake View    | 62           | 7            | 15           | 19           | 21           | 0.05966718   |\n",
       "| Loop         | 27           | 7            |  5           |  8           |  7           | 0.87233246   |\n",
       "| Norwood Park | 20           | 5            |  4           |  6           |  5           | 0.94024249   |\n",
       "\n"
      ],
      "text/plain": [
       "  neighborhood total african-american asian caucasian hispanic pval      \n",
       "1 Chatham      36    8                 9    10         9       0.97392457\n",
       "2 Cicero       29    7                10     5         7       0.62398066\n",
       "3 Lake View    62    7                15    19        21       0.05966718\n",
       "4 Loop         27    7                 5     8         7       0.87233246\n",
       "5 Norwood Park 20    5                 4     6         5       0.94024249"
      ]
     },
     "metadata": {},
     "output_type": "display_data"
    }
   ],
   "source": [
    "cnc %>%\n",
    "    filter(neighborhood %in% c(\"Lake View\", \"Loop\", \"Norwood Park\", \"Cicero\", \"Chatham\")) %>%\n",
    "    arrange(neighborhood)"
   ]
  },
  {
   "cell_type": "code",
   "execution_count": 97,
   "metadata": {},
   "outputs": [
    {
     "data": {
      "text/html": [
       "<table>\n",
       "<thead><tr><th scope=col>neighborhood</th><th scope=col>total</th><th scope=col>african-american</th><th scope=col>asian</th><th scope=col>caucasian</th><th scope=col>hispanic</th></tr></thead>\n",
       "<tbody>\n",
       "\t<tr><td>Chicago Lawn      </td><td>16                </td><td>6                 </td><td>2                 </td><td>4                 </td><td>4                 </td></tr>\n",
       "\t<tr><td>Humboldt Park     </td><td>16                </td><td>7                 </td><td>4                 </td><td>3                 </td><td>2                 </td></tr>\n",
       "\t<tr><td>West Loop         </td><td>15                </td><td>4                 </td><td>2                 </td><td>5                 </td><td>4                 </td></tr>\n",
       "\t<tr><td>Auburn Gresham    </td><td>15                </td><td>5                 </td><td>4                 </td><td>3                 </td><td>3                 </td></tr>\n",
       "\t<tr><td>Dunning           </td><td>14                </td><td>3                 </td><td>3                 </td><td>5                 </td><td>3                 </td></tr>\n",
       "\t<tr><td>Jefferson Park    </td><td>14                </td><td>4                 </td><td>3                 </td><td>5                 </td><td>2                 </td></tr>\n",
       "\t<tr><td>West Town         </td><td>14                </td><td>3                 </td><td>3                 </td><td>4                 </td><td>4                 </td></tr>\n",
       "\t<tr><td>Old Town          </td><td>14                </td><td>5                 </td><td>4                 </td><td>2                 </td><td>3                 </td></tr>\n",
       "\t<tr><td>Elmwood Park      </td><td>13                </td><td>3                 </td><td>3                 </td><td>3                 </td><td>4                 </td></tr>\n",
       "\t<tr><td>Logan Square      </td><td>13                </td><td>3                 </td><td>3                 </td><td>3                 </td><td>4                 </td></tr>\n",
       "\t<tr><td>Roseland          </td><td>13                </td><td>4                 </td><td>3                 </td><td>3                 </td><td>3                 </td></tr>\n",
       "\t<tr><td>Avondale          </td><td>12                </td><td>4                 </td><td>4                 </td><td>2                 </td><td>2                 </td></tr>\n",
       "\t<tr><td>Mount Greenwood   </td><td>11                </td><td>3                 </td><td>1                 </td><td>4                 </td><td>3                 </td></tr>\n",
       "\t<tr><td>Wicker Park       </td><td>11                </td><td>2                 </td><td>2                 </td><td>4                 </td><td>3                 </td></tr>\n",
       "\t<tr><td>Gold Coast        </td><td>11                </td><td>3                 </td><td>2                 </td><td>1                 </td><td>5                 </td></tr>\n",
       "\t<tr><td>Avalon Park       </td><td>10                </td><td>2                 </td><td>3                 </td><td>3                 </td><td>2                 </td></tr>\n",
       "\t<tr><td>Irving Park       </td><td>10                </td><td>3                 </td><td>2                 </td><td>3                 </td><td>2                 </td></tr>\n",
       "\t<tr><td>Bucktown          </td><td>10                </td><td>3                 </td><td>1                 </td><td>2                 </td><td>4                 </td></tr>\n",
       "\t<tr><td>Hermosa           </td><td> 9                </td><td>1                 </td><td>2                 </td><td>3                 </td><td>3                 </td></tr>\n",
       "\t<tr><td>Lower West Side   </td><td> 9                </td><td>2                 </td><td>2                 </td><td>3                 </td><td>2                 </td></tr>\n",
       "\t<tr><td>Ukrainian Village </td><td> 9                </td><td>3                 </td><td>1                 </td><td>3                 </td><td>2                 </td></tr>\n",
       "\t<tr><td>Sheffield &amp; DePaul</td><td> 9                    </td><td>3                     </td><td>1                     </td><td>2                     </td><td>3                     </td></tr>\n",
       "\t<tr><td>North Lawndale    </td><td> 8                </td><td>2                 </td><td>1                 </td><td>4                 </td><td>1                 </td></tr>\n",
       "\t<tr><td>Englewood         </td><td> 8                </td><td>0                 </td><td>2                 </td><td>3                 </td><td>3                 </td></tr>\n",
       "\t<tr><td>Andersonville     </td><td> 8                </td><td>2                 </td><td>2                 </td><td>2                 </td><td>2                 </td></tr>\n",
       "\t<tr><td>⋮</td><td>⋮</td><td>⋮</td><td>⋮</td><td>⋮</td><td>⋮</td></tr>\n",
       "\t<tr><td>Hegewisch            </td><td>8                    </td><td>2                    </td><td>2                    </td><td>1                    </td><td>3                    </td></tr>\n",
       "\t<tr><td>Kenwood              </td><td>7                    </td><td>2                    </td><td>1                    </td><td>2                    </td><td>2                    </td></tr>\n",
       "\t<tr><td>Streeterville        </td><td>7                    </td><td>3                    </td><td>1                    </td><td>2                    </td><td>1                    </td></tr>\n",
       "\t<tr><td>Woodlawn             </td><td>7                    </td><td>2                    </td><td>2                    </td><td>1                    </td><td>2                    </td></tr>\n",
       "\t<tr><td>Albany Park          </td><td>5                    </td><td>2                    </td><td>1                    </td><td>1                    </td><td>1                    </td></tr>\n",
       "\t<tr><td>Brighton Park        </td><td>5                    </td><td>1                    </td><td>2                    </td><td>1                    </td><td>1                    </td></tr>\n",
       "\t<tr><td>Washington Park      </td><td>5                    </td><td>1                    </td><td>2                    </td><td>1                    </td><td>1                    </td></tr>\n",
       "\t<tr><td>Lincoln Park         </td><td>5                    </td><td>2                    </td><td>2                    </td><td>0                    </td><td>1                    </td></tr>\n",
       "\t<tr><td>Mckinley Park        </td><td>4                    </td><td>0                    </td><td>1                    </td><td>2                    </td><td>1                    </td></tr>\n",
       "\t<tr><td>Clearing             </td><td>4                    </td><td>2                    </td><td>0                    </td><td>1                    </td><td>1                    </td></tr>\n",
       "\t<tr><td><span style=white-space:pre-wrap>Rush &amp; Division      </span></td><td>4                                                                </td><td>1                                                                </td><td>1                                                                </td><td>1                                                                </td><td>1                                                                </td></tr>\n",
       "\t<tr><td>Lincoln Square       </td><td>4                    </td><td>1                    </td><td>2                    </td><td>0                    </td><td>1                    </td></tr>\n",
       "\t<tr><td>Ashburn              </td><td>3                    </td><td>1                    </td><td>1                    </td><td>1                    </td><td>0                    </td></tr>\n",
       "\t<tr><td>Boystown             </td><td>3                    </td><td>0                    </td><td>1                    </td><td>1                    </td><td>1                    </td></tr>\n",
       "\t<tr><td>Harwood Heights      </td><td>3                    </td><td>0                    </td><td>1                    </td><td>1                    </td><td>1                    </td></tr>\n",
       "\t<tr><td>West Ridge           </td><td>3                    </td><td>0                    </td><td>1                    </td><td>1                    </td><td>1                    </td></tr>\n",
       "\t<tr><td>Archer Heights       </td><td>2                    </td><td>1                    </td><td>0                    </td><td>1                    </td><td>0                    </td></tr>\n",
       "\t<tr><td>Little Italy, UIC    </td><td>2                    </td><td>1                    </td><td>0                    </td><td>1                    </td><td>0                    </td></tr>\n",
       "\t<tr><td>West Elsdon          </td><td>2                    </td><td>0                    </td><td>1                    </td><td>1                    </td><td>0                    </td></tr>\n",
       "\t<tr><td>Grand Boulevard      </td><td>2                    </td><td>1                    </td><td>0                    </td><td>0                    </td><td>1                    </td></tr>\n",
       "\t<tr><td>Near South Side      </td><td>2                    </td><td>1                    </td><td>0                    </td><td>0                    </td><td>1                    </td></tr>\n",
       "\t<tr><td>Pullman              </td><td>2                    </td><td>1                    </td><td>0                    </td><td>0                    </td><td>1                    </td></tr>\n",
       "\t<tr><td>Riverdale            </td><td>2                    </td><td>2                    </td><td>0                    </td><td>0                    </td><td>0                    </td></tr>\n",
       "\t<tr><td>Sauganash,Forest Glen</td><td>2                    </td><td>1                    </td><td>0                    </td><td>0                    </td><td>1                    </td></tr>\n",
       "\t<tr><td>Washington Heights   </td><td>2                    </td><td>1                    </td><td>1                    </td><td>0                    </td><td>0                    </td></tr>\n",
       "</tbody>\n",
       "</table>\n"
      ],
      "text/latex": [
       "\\begin{tabular}{r|llllll}\n",
       " neighborhood & total & african-american & asian & caucasian & hispanic\\\\\n",
       "\\hline\n",
       "\t Chicago Lawn       & 16                 & 6                  & 2                  & 4                  & 4                 \\\\\n",
       "\t Humboldt Park      & 16                 & 7                  & 4                  & 3                  & 2                 \\\\\n",
       "\t West Loop          & 15                 & 4                  & 2                  & 5                  & 4                 \\\\\n",
       "\t Auburn Gresham     & 15                 & 5                  & 4                  & 3                  & 3                 \\\\\n",
       "\t Dunning            & 14                 & 3                  & 3                  & 5                  & 3                 \\\\\n",
       "\t Jefferson Park     & 14                 & 4                  & 3                  & 5                  & 2                 \\\\\n",
       "\t West Town          & 14                 & 3                  & 3                  & 4                  & 4                 \\\\\n",
       "\t Old Town           & 14                 & 5                  & 4                  & 2                  & 3                 \\\\\n",
       "\t Elmwood Park       & 13                 & 3                  & 3                  & 3                  & 4                 \\\\\n",
       "\t Logan Square       & 13                 & 3                  & 3                  & 3                  & 4                 \\\\\n",
       "\t Roseland           & 13                 & 4                  & 3                  & 3                  & 3                 \\\\\n",
       "\t Avondale           & 12                 & 4                  & 4                  & 2                  & 2                 \\\\\n",
       "\t Mount Greenwood    & 11                 & 3                  & 1                  & 4                  & 3                 \\\\\n",
       "\t Wicker Park        & 11                 & 2                  & 2                  & 4                  & 3                 \\\\\n",
       "\t Gold Coast         & 11                 & 3                  & 2                  & 1                  & 5                 \\\\\n",
       "\t Avalon Park        & 10                 & 2                  & 3                  & 3                  & 2                 \\\\\n",
       "\t Irving Park        & 10                 & 3                  & 2                  & 3                  & 2                 \\\\\n",
       "\t Bucktown           & 10                 & 3                  & 1                  & 2                  & 4                 \\\\\n",
       "\t Hermosa            &  9                 & 1                  & 2                  & 3                  & 3                 \\\\\n",
       "\t Lower West Side    &  9                 & 2                  & 2                  & 3                  & 2                 \\\\\n",
       "\t Ukrainian Village  &  9                 & 3                  & 1                  & 3                  & 2                 \\\\\n",
       "\t Sheffield \\& DePaul &  9                   & 3                    & 1                    & 2                    & 3                   \\\\\n",
       "\t North Lawndale     &  8                 & 2                  & 1                  & 4                  & 1                 \\\\\n",
       "\t Englewood          &  8                 & 0                  & 2                  & 3                  & 3                 \\\\\n",
       "\t Andersonville      &  8                 & 2                  & 2                  & 2                  & 2                 \\\\\n",
       "\t ⋮ & ⋮ & ⋮ & ⋮ & ⋮ & ⋮\\\\\n",
       "\t Hegewisch             & 8                     & 2                     & 2                     & 1                     & 3                    \\\\\n",
       "\t Kenwood               & 7                     & 2                     & 1                     & 2                     & 2                    \\\\\n",
       "\t Streeterville         & 7                     & 3                     & 1                     & 2                     & 1                    \\\\\n",
       "\t Woodlawn              & 7                     & 2                     & 2                     & 1                     & 2                    \\\\\n",
       "\t Albany Park           & 5                     & 2                     & 1                     & 1                     & 1                    \\\\\n",
       "\t Brighton Park         & 5                     & 1                     & 2                     & 1                     & 1                    \\\\\n",
       "\t Washington Park       & 5                     & 1                     & 2                     & 1                     & 1                    \\\\\n",
       "\t Lincoln Park          & 5                     & 2                     & 2                     & 0                     & 1                    \\\\\n",
       "\t Mckinley Park         & 4                     & 0                     & 1                     & 2                     & 1                    \\\\\n",
       "\t Clearing              & 4                     & 2                     & 0                     & 1                     & 1                    \\\\\n",
       "\t Rush \\& Division       & 4                       & 1                       & 1                       & 1                       & 1                      \\\\\n",
       "\t Lincoln Square        & 4                     & 1                     & 2                     & 0                     & 1                    \\\\\n",
       "\t Ashburn               & 3                     & 1                     & 1                     & 1                     & 0                    \\\\\n",
       "\t Boystown              & 3                     & 0                     & 1                     & 1                     & 1                    \\\\\n",
       "\t Harwood Heights       & 3                     & 0                     & 1                     & 1                     & 1                    \\\\\n",
       "\t West Ridge            & 3                     & 0                     & 1                     & 1                     & 1                    \\\\\n",
       "\t Archer Heights        & 2                     & 1                     & 0                     & 1                     & 0                    \\\\\n",
       "\t Little Italy, UIC     & 2                     & 1                     & 0                     & 1                     & 0                    \\\\\n",
       "\t West Elsdon           & 2                     & 0                     & 1                     & 1                     & 0                    \\\\\n",
       "\t Grand Boulevard       & 2                     & 1                     & 0                     & 0                     & 1                    \\\\\n",
       "\t Near South Side       & 2                     & 1                     & 0                     & 0                     & 1                    \\\\\n",
       "\t Pullman               & 2                     & 1                     & 0                     & 0                     & 1                    \\\\\n",
       "\t Riverdale             & 2                     & 2                     & 0                     & 0                     & 0                    \\\\\n",
       "\t Sauganash,Forest Glen & 2                     & 1                     & 0                     & 0                     & 1                    \\\\\n",
       "\t Washington Heights    & 2                     & 1                     & 1                     & 0                     & 0                    \\\\\n",
       "\\end{tabular}\n"
      ],
      "text/markdown": [
       "\n",
       "| neighborhood | total | african-american | asian | caucasian | hispanic |\n",
       "|---|---|---|---|---|---|\n",
       "| Chicago Lawn       | 16                 | 6                  | 2                  | 4                  | 4                  |\n",
       "| Humboldt Park      | 16                 | 7                  | 4                  | 3                  | 2                  |\n",
       "| West Loop          | 15                 | 4                  | 2                  | 5                  | 4                  |\n",
       "| Auburn Gresham     | 15                 | 5                  | 4                  | 3                  | 3                  |\n",
       "| Dunning            | 14                 | 3                  | 3                  | 5                  | 3                  |\n",
       "| Jefferson Park     | 14                 | 4                  | 3                  | 5                  | 2                  |\n",
       "| West Town          | 14                 | 3                  | 3                  | 4                  | 4                  |\n",
       "| Old Town           | 14                 | 5                  | 4                  | 2                  | 3                  |\n",
       "| Elmwood Park       | 13                 | 3                  | 3                  | 3                  | 4                  |\n",
       "| Logan Square       | 13                 | 3                  | 3                  | 3                  | 4                  |\n",
       "| Roseland           | 13                 | 4                  | 3                  | 3                  | 3                  |\n",
       "| Avondale           | 12                 | 4                  | 4                  | 2                  | 2                  |\n",
       "| Mount Greenwood    | 11                 | 3                  | 1                  | 4                  | 3                  |\n",
       "| Wicker Park        | 11                 | 2                  | 2                  | 4                  | 3                  |\n",
       "| Gold Coast         | 11                 | 3                  | 2                  | 1                  | 5                  |\n",
       "| Avalon Park        | 10                 | 2                  | 3                  | 3                  | 2                  |\n",
       "| Irving Park        | 10                 | 3                  | 2                  | 3                  | 2                  |\n",
       "| Bucktown           | 10                 | 3                  | 1                  | 2                  | 4                  |\n",
       "| Hermosa            |  9                 | 1                  | 2                  | 3                  | 3                  |\n",
       "| Lower West Side    |  9                 | 2                  | 2                  | 3                  | 2                  |\n",
       "| Ukrainian Village  |  9                 | 3                  | 1                  | 3                  | 2                  |\n",
       "| Sheffield & DePaul |  9                 | 3                  | 1                  | 2                  | 3                  |\n",
       "| North Lawndale     |  8                 | 2                  | 1                  | 4                  | 1                  |\n",
       "| Englewood          |  8                 | 0                  | 2                  | 3                  | 3                  |\n",
       "| Andersonville      |  8                 | 2                  | 2                  | 2                  | 2                  |\n",
       "| ⋮ | ⋮ | ⋮ | ⋮ | ⋮ | ⋮ |\n",
       "| Hegewisch             | 8                     | 2                     | 2                     | 1                     | 3                     |\n",
       "| Kenwood               | 7                     | 2                     | 1                     | 2                     | 2                     |\n",
       "| Streeterville         | 7                     | 3                     | 1                     | 2                     | 1                     |\n",
       "| Woodlawn              | 7                     | 2                     | 2                     | 1                     | 2                     |\n",
       "| Albany Park           | 5                     | 2                     | 1                     | 1                     | 1                     |\n",
       "| Brighton Park         | 5                     | 1                     | 2                     | 1                     | 1                     |\n",
       "| Washington Park       | 5                     | 1                     | 2                     | 1                     | 1                     |\n",
       "| Lincoln Park          | 5                     | 2                     | 2                     | 0                     | 1                     |\n",
       "| Mckinley Park         | 4                     | 0                     | 1                     | 2                     | 1                     |\n",
       "| Clearing              | 4                     | 2                     | 0                     | 1                     | 1                     |\n",
       "| Rush & Division       | 4                     | 1                     | 1                     | 1                     | 1                     |\n",
       "| Lincoln Square        | 4                     | 1                     | 2                     | 0                     | 1                     |\n",
       "| Ashburn               | 3                     | 1                     | 1                     | 1                     | 0                     |\n",
       "| Boystown              | 3                     | 0                     | 1                     | 1                     | 1                     |\n",
       "| Harwood Heights       | 3                     | 0                     | 1                     | 1                     | 1                     |\n",
       "| West Ridge            | 3                     | 0                     | 1                     | 1                     | 1                     |\n",
       "| Archer Heights        | 2                     | 1                     | 0                     | 1                     | 0                     |\n",
       "| Little Italy, UIC     | 2                     | 1                     | 0                     | 1                     | 0                     |\n",
       "| West Elsdon           | 2                     | 0                     | 1                     | 1                     | 0                     |\n",
       "| Grand Boulevard       | 2                     | 1                     | 0                     | 0                     | 1                     |\n",
       "| Near South Side       | 2                     | 1                     | 0                     | 0                     | 1                     |\n",
       "| Pullman               | 2                     | 1                     | 0                     | 0                     | 1                     |\n",
       "| Riverdale             | 2                     | 2                     | 0                     | 0                     | 0                     |\n",
       "| Sauganash,Forest Glen | 2                     | 1                     | 0                     | 0                     | 1                     |\n",
       "| Washington Heights    | 2                     | 1                     | 1                     | 0                     | 0                     |\n",
       "\n"
      ],
      "text/plain": [
       "   neighborhood          total african-american asian caucasian hispanic\n",
       "1  Chicago Lawn          16    6                2     4         4       \n",
       "2  Humboldt Park         16    7                4     3         2       \n",
       "3  West Loop             15    4                2     5         4       \n",
       "4  Auburn Gresham        15    5                4     3         3       \n",
       "5  Dunning               14    3                3     5         3       \n",
       "6  Jefferson Park        14    4                3     5         2       \n",
       "7  West Town             14    3                3     4         4       \n",
       "8  Old Town              14    5                4     2         3       \n",
       "9  Elmwood Park          13    3                3     3         4       \n",
       "10 Logan Square          13    3                3     3         4       \n",
       "11 Roseland              13    4                3     3         3       \n",
       "12 Avondale              12    4                4     2         2       \n",
       "13 Mount Greenwood       11    3                1     4         3       \n",
       "14 Wicker Park           11    2                2     4         3       \n",
       "15 Gold Coast            11    3                2     1         5       \n",
       "16 Avalon Park           10    2                3     3         2       \n",
       "17 Irving Park           10    3                2     3         2       \n",
       "18 Bucktown              10    3                1     2         4       \n",
       "19 Hermosa                9    1                2     3         3       \n",
       "20 Lower West Side        9    2                2     3         2       \n",
       "21 Ukrainian Village      9    3                1     3         2       \n",
       "22 Sheffield & DePaul     9    3                1     2         3       \n",
       "23 North Lawndale         8    2                1     4         1       \n",
       "24 Englewood              8    0                2     3         3       \n",
       "25 Andersonville          8    2                2     2         2       \n",
       "⋮  ⋮                     ⋮     ⋮                ⋮     ⋮         ⋮       \n",
       "29 Hegewisch             8     2                2     1         3       \n",
       "30 Kenwood               7     2                1     2         2       \n",
       "31 Streeterville         7     3                1     2         1       \n",
       "32 Woodlawn              7     2                2     1         2       \n",
       "33 Albany Park           5     2                1     1         1       \n",
       "34 Brighton Park         5     1                2     1         1       \n",
       "35 Washington Park       5     1                2     1         1       \n",
       "36 Lincoln Park          5     2                2     0         1       \n",
       "37 Mckinley Park         4     0                1     2         1       \n",
       "38 Clearing              4     2                0     1         1       \n",
       "39 Rush & Division       4     1                1     1         1       \n",
       "40 Lincoln Square        4     1                2     0         1       \n",
       "41 Ashburn               3     1                1     1         0       \n",
       "42 Boystown              3     0                1     1         1       \n",
       "43 Harwood Heights       3     0                1     1         1       \n",
       "44 West Ridge            3     0                1     1         1       \n",
       "45 Archer Heights        2     1                0     1         0       \n",
       "46 Little Italy, UIC     2     1                0     1         0       \n",
       "47 West Elsdon           2     0                1     1         0       \n",
       "48 Grand Boulevard       2     1                0     0         1       \n",
       "49 Near South Side       2     1                0     0         1       \n",
       "50 Pullman               2     1                0     0         1       \n",
       "51 Riverdale             2     2                0     0         0       \n",
       "52 Sauganash,Forest Glen 2     1                0     0         1       \n",
       "53 Washington Heights    2     1                1     0         0       "
      ]
     },
     "metadata": {},
     "output_type": "display_data"
    }
   ],
   "source": [
    "chiNeighborhoods %>%\n",
    "    filter(!total > 16) %>%\n",
    "    arrange(desc(total), desc(caucasian))"
   ]
  },
  {
   "cell_type": "code",
   "execution_count": 35,
   "metadata": {},
   "outputs": [
    {
     "data": {
      "text/html": [
       "<table>\n",
       "<thead><tr><th scope=col>neighborhood</th><th scope=col>total</th><th scope=col>female</th><th scope=col>male</th><th scope=col>pval</th></tr></thead>\n",
       "<tbody>\n",
       "\t<tr><td>Loop          </td><td>27            </td><td>10            </td><td>17            </td><td>0.1779317     </td></tr>\n",
       "\t<tr><td>Evergreen Park</td><td>37            </td><td>15            </td><td>22            </td><td>0.2498174     </td></tr>\n",
       "\t<tr><td>South Shore   </td><td>21            </td><td> 8            </td><td>13            </td><td>0.2752335     </td></tr>\n",
       "\t<tr><td>Lake View     </td><td>62            </td><td>27            </td><td>35            </td><td>0.3096289     </td></tr>\n",
       "\t<tr><td>Cicero        </td><td>29            </td><td>12            </td><td>17            </td><td>0.3531604     </td></tr>\n",
       "</tbody>\n",
       "</table>\n"
      ],
      "text/latex": [
       "\\begin{tabular}{r|lllll}\n",
       " neighborhood & total & female & male & pval\\\\\n",
       "\\hline\n",
       "\t Loop           & 27             & 10             & 17             & 0.1779317     \\\\\n",
       "\t Evergreen Park & 37             & 15             & 22             & 0.2498174     \\\\\n",
       "\t South Shore    & 21             &  8             & 13             & 0.2752335     \\\\\n",
       "\t Lake View      & 62             & 27             & 35             & 0.3096289     \\\\\n",
       "\t Cicero         & 29             & 12             & 17             & 0.3531604     \\\\\n",
       "\\end{tabular}\n"
      ],
      "text/markdown": [
       "\n",
       "| neighborhood | total | female | male | pval |\n",
       "|---|---|---|---|---|\n",
       "| Loop           | 27             | 10             | 17             | 0.1779317      |\n",
       "| Evergreen Park | 37             | 15             | 22             | 0.2498174      |\n",
       "| South Shore    | 21             |  8             | 13             | 0.2752335      |\n",
       "| Lake View      | 62             | 27             | 35             | 0.3096289      |\n",
       "| Cicero         | 29             | 12             | 17             | 0.3531604      |\n",
       "\n"
      ],
      "text/plain": [
       "  neighborhood   total female male pval     \n",
       "1 Loop           27    10     17   0.1779317\n",
       "2 Evergreen Park 37    15     22   0.2498174\n",
       "3 South Shore    21     8     13   0.2752335\n",
       "4 Lake View      62    27     35   0.3096289\n",
       "5 Cicero         29    12     17   0.3531604"
      ]
     },
     "metadata": {},
     "output_type": "display_data"
    }
   ],
   "source": [
    "chicagoRR <- realtorRankings %>%\n",
    "    filter(url == 'https://www.realtor.com/realestateandhomes-search/Chicago_IL') %>%\n",
    "    filter(!is.na(latitude)) %>%\n",
    "    filter(!is.na(longitude))\n",
    "\n",
    "cRR <- chicagoRR\n",
    "coordinates(cRR) <- ~longitude+latitude\n",
    "proj4string(cRR) <- CRS(\"+init=epsg:4326\")\n",
    "cRR <- spTransform(cRR, proj4string(chicago_neighborhoods))\n",
    "chicagoRR$neighborhood <- sp::over(cRR, chicago_neighborhoods)$PRI_NEIGH\n",
    "chicagoRR$neighborhood <- as.character(chicagoRR$neighborhood)\n",
    "chicagoRR$neighborhood[is.na(chicagoRR$neighborhood)] <- chicagoRR$locality[is.na(chicagoRR$neighborhood)]\n",
    "\n",
    "chiNeighborhoods <- chicagoRR %>%\n",
    "    filter(idx < 16) %>%\n",
    "    count(neighborhood, treatment.gender) %>%\n",
    "    group_by(neighborhood) %>%\n",
    "    mutate(total=sum(n)) %>%\n",
    "    ungroup() %>%\n",
    "    spread(treatment.gender, n, fill = 0)\n",
    "\n",
    "cnc <- chiNeighborhoods %>%\n",
    "    filter(total > 16)\n",
    "\n",
    "cnc$pval <- cnc %>%\n",
    "    select(-total, -neighborhood) %>%\n",
    "    apply(1, function(df) {\n",
    "        test <- chisq.test(unlist(df), p=c(1/2,1/2))\n",
    "        return(c(test$p.value))\n",
    "    })\n",
    "\n",
    "cnc %>% top_n(-5, pval) %>% arrange(pval)"
   ]
  },
  {
   "cell_type": "markdown",
   "metadata": {},
   "source": [
    "Possible redlining in Lake View area"
   ]
  }
 ],
 "metadata": {
  "kernelspec": {
   "display_name": "R",
   "language": "R",
   "name": "ir"
  },
  "language_info": {
   "codemirror_mode": "r",
   "file_extension": ".r",
   "mimetype": "text/x-r-source",
   "name": "R",
   "pygments_lexer": "r",
   "version": "3.4.4"
  }
 },
 "nbformat": 4,
 "nbformat_minor": 2
}
