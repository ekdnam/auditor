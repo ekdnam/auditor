{
 "cells": [
  {
   "cell_type": "code",
   "execution_count": null,
   "metadata": {},
   "outputs": [],
   "source": [
    "setwd(\"bkp/output-www1/\")"
   ]
  },
  {
   "cell_type": "code",
   "execution_count": null,
   "metadata": {},
   "outputs": [],
   "source": [
    "library(jsonlite)\n",
    "library(writexl)\n",
    "library(readxl)\n",
    "library(dplyr)\n",
    "library(car)"
   ]
  },
  {
   "cell_type": "markdown",
   "metadata": {},
   "source": [
    "First we need to import the data and tidy up the datatypes a bit"
   ]
  },
  {
   "cell_type": "code",
   "execution_count": null,
   "metadata": {},
   "outputs": [],
   "source": [
    "datafile <- file(\"test.json\", open=\"r\")\n",
    "data <- stream_in(datafile, flatten=TRUE)\n",
    "close(datafile)\n",
    "data$treatment.ethnicity <- as.factor(data$treatment.ethnicity)\n",
    "data$treatment.gender <- as.factor(data$treatment.gender)\n",
    "data$type <- as.factor(data$type)\n",
    "data$scraper <- as.factor(data$scraper)\n",
    "data$block_id <- as.factor(data$block_id)\n",
    "data$agent_id <- as.factor(data$agent_id)"
   ]
  },
  {
   "cell_type": "markdown",
   "metadata": {},
   "source": [
    "Now we split off just the ads from our data"
   ]
  },
  {
   "cell_type": "code",
   "execution_count": null,
   "metadata": {},
   "outputs": [],
   "source": [
    "ads <- data[data$type == 'ad', ]\n",
    "ads$ranking <- NULL"
   ]
  },
  {
   "cell_type": "markdown",
   "metadata": {},
   "source": [
    "Next we write out the data for coding"
   ]
  },
  {
   "cell_type": "code",
   "execution_count": null,
   "metadata": {},
   "outputs": [],
   "source": [
    "unique_ads <- unique(ads[c(\"ad.title\", \"ad.url\")])\n",
    "write_xlsx(unique_ads, \"unique-ads.xlsx\")"
   ]
  },
  {
   "cell_type": "markdown",
   "metadata": {},
   "source": [
    "Now code the results, read them back in, and join them to the existing data"
   ]
  },
  {
   "cell_type": "code",
   "execution_count": null,
   "metadata": {},
   "outputs": [],
   "source": [
    "categorized_ads <- read_excel(\"unique-ads-coded.xlsx\")\n",
    "categorized_ads$ad.category <- as.factor(categorized_ads$ad.category)\n",
    "categorized_ads$ad.title <- NULL\n",
    "merged <- merge(x=ads, y=categorized_ads)"
   ]
  },
  {
   "cell_type": "code",
   "execution_count": null,
   "metadata": {},
   "outputs": [],
   "source": [
    "aggregator_ads <- count(subset(merged, ad.category == \"aggregator\"), agent_id, treatment.gender, treatment.ethnicity, scraper)\n",
    "res.aggregator <- aov(n ~ treatment.ethnicity * treatment.gender, data = aggregator_ads)\n",
    "summary(res.aggregator)"
   ]
  },
  {
   "cell_type": "code",
   "execution_count": null,
   "metadata": {},
   "outputs": [],
   "source": []
  }
 ],
 "metadata": {
  "kernelspec": {
   "display_name": "R",
   "language": "R",
   "name": "ir"
  },
  "language_info": {
   "codemirror_mode": "r",
   "file_extension": ".r",
   "mimetype": "text/x-r-source",
   "name": "R",
   "pygments_lexer": "r",
   "version": "3.4.4"
  }
 },
 "nbformat": 4,
 "nbformat_minor": 2
}
