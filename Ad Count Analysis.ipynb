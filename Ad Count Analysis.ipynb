{
 "cells": [
  {
   "cell_type": "markdown",
   "metadata": {},
   "source": [
    "# Setup and data ingestion"
   ]
  },
  {
   "cell_type": "code",
   "execution_count": 1,
   "metadata": {},
   "outputs": [
    {
     "name": "stderr",
     "output_type": "stream",
     "text": [
      "── Attaching packages ─────────────────────────────────────── tidyverse 1.2.1 ──\n",
      "✔ ggplot2 3.1.0       ✔ purrr   0.3.2  \n",
      "✔ tibble  2.1.1       ✔ dplyr   0.8.0.1\n",
      "✔ tidyr   0.8.3       ✔ stringr 1.4.0  \n",
      "✔ readr   1.3.1       ✔ forcats 0.4.0  \n",
      "── Conflicts ────────────────────────────────────────── tidyverse_conflicts() ──\n",
      "✖ dplyr::filter() masks stats::filter()\n",
      "✖ dplyr::lag()    masks stats::lag()\n",
      "[conflicted] Will prefer dplyr::filter over any other package\n"
     ]
    }
   ],
   "source": [
    "library(conflicted)\n",
    "\n",
    "# Data manipulation\n",
    "library(tidyverse)\n",
    "conflict_prefer(\"filter\", \"dplyr\")\n",
    "library(reshape2)\n",
    "\n",
    "# Data loading\n",
    "library(jsonlite)\n",
    "library(writexl)\n",
    "library(readxl)"
   ]
  },
  {
   "cell_type": "code",
   "execution_count": 15,
   "metadata": {},
   "outputs": [],
   "source": [
    "# Workbook settings\n",
    "options(repr.matrix.max.rows=50, repr.matrix.max.cols=30)"
   ]
  },
  {
   "cell_type": "markdown",
   "metadata": {},
   "source": [
    "First we need to import the data and tidy up the datatypes a bit"
   ]
  },
  {
   "cell_type": "code",
   "execution_count": 2,
   "metadata": {},
   "outputs": [],
   "source": [
    "get_rel_file <- function(file) {\n",
    "    return(file.path(\"output\", \"2018-12-07_2019-03-19\", file))\n",
    "}"
   ]
  },
  {
   "cell_type": "code",
   "execution_count": 3,
   "metadata": {},
   "outputs": [
    {
     "name": "stdout",
     "output_type": "stream",
     "text": [
      " Imported 29863 records. Simplifying...\n"
     ]
    }
   ],
   "source": [
    "datafile <- bzfile(get_rel_file(\"out.json.bz2\"), open='r')\n",
    "data <- stream_in(datafile, flatten=TRUE)\n",
    "close(datafile)"
   ]
  },
  {
   "cell_type": "code",
   "execution_count": 4,
   "metadata": {},
   "outputs": [],
   "source": [
    "data$treatment.ethnicity <- fct_explicit_na(as.factor(data$treatment.ethnicity))\n",
    "data$treatment.gender <- fct_explicit_na(as.factor(data$treatment.gender))\n",
    "data$type <- as.factor(data$type)\n",
    "data$scraper <- as.factor(data$scraper)\n",
    "data$block_id <- as.factor(data$block_id)\n",
    "data$agent_id <- as.factor(data$agent_id)"
   ]
  },
  {
   "cell_type": "markdown",
   "metadata": {},
   "source": [
    "Now we split off just the ads from our data"
   ]
  },
  {
   "cell_type": "code",
   "execution_count": 17,
   "metadata": {},
   "outputs": [
    {
     "data": {
      "text/html": [
       "26870"
      ],
      "text/latex": [
       "26870"
      ],
      "text/markdown": [
       "26870"
      ],
      "text/plain": [
       "[1] 26870"
      ]
     },
     "metadata": {},
     "output_type": "display_data"
    }
   ],
   "source": [
    "ads <- data[data$type == 'ad', ]\n",
    "ads$ranking <- NULL\n",
    "nrow(ads)"
   ]
  },
  {
   "cell_type": "markdown",
   "metadata": {},
   "source": [
    "Next we write out the data for coding"
   ]
  },
  {
   "cell_type": "code",
   "execution_count": 6,
   "metadata": {},
   "outputs": [],
   "source": [
    "# str(data)"
   ]
  },
  {
   "cell_type": "code",
   "execution_count": 12,
   "metadata": {},
   "outputs": [
    {
     "data": {
      "text/html": [
       "3275"
      ],
      "text/latex": [
       "3275"
      ],
      "text/markdown": [
       "3275"
      ],
      "text/plain": [
       "[1] 3275"
      ]
     },
     "metadata": {},
     "output_type": "display_data"
    }
   ],
   "source": [
    "unique_ads <- unique(ads[c(\"ad.title\", \"ad.url\", \"ad.image_path\")])\n",
    "write_xlsx(unique_ads, get_rel_file(\"unique-ads.xlsx\"))\n",
    "nrow(unique_ads)"
   ]
  },
  {
   "cell_type": "markdown",
   "metadata": {},
   "source": [
    "Now code the results, read them back in, and join them to the existing data"
   ]
  },
  {
   "cell_type": "code",
   "execution_count": 49,
   "metadata": {},
   "outputs": [
    {
     "data": {
      "text/html": [
       "<ol class=list-inline>\n",
       "\t<li>'aggregator'</li>\n",
       "\t<li>'bank'</li>\n",
       "\t<li>'business'</li>\n",
       "\t<li>'clothing'</li>\n",
       "\t<li>'credit card'</li>\n",
       "\t<li>'electronics'</li>\n",
       "\t<li>'finance'</li>\n",
       "\t<li>'foreclosure'</li>\n",
       "\t<li>'insurance'</li>\n",
       "\t<li>'investing'</li>\n",
       "\t<li>'investment'</li>\n",
       "\t<li>'land'</li>\n",
       "\t<li>'life insurance'</li>\n",
       "\t<li>'listing'</li>\n",
       "\t<li>'loan'</li>\n",
       "\t<li>'makeup'</li>\n",
       "\t<li>'media'</li>\n",
       "\t<li>'mobile homes'</li>\n",
       "\t<li>'mortgage'</li>\n",
       "\t<li>'political'</li>\n",
       "\t<li>'realtor'</li>\n",
       "\t<li>'rental'</li>\n",
       "\t<li>'rental group'</li>\n",
       "\t<li>'rent to own'</li>\n",
       "\t<li>'rent-to-own'</li>\n",
       "\t<li>'rv'</li>\n",
       "\t<li>'school'</li>\n",
       "\t<li>'search engine'</li>\n",
       "\t<li>'senior'</li>\n",
       "\t<li>'seniors'</li>\n",
       "\t<li>'software'</li>\n",
       "\t<li>'system'</li>\n",
       "\t<li>'technology'</li>\n",
       "\t<li>'travel'</li>\n",
       "\t<li>'x'</li>\n",
       "</ol>\n"
      ],
      "text/latex": [
       "\\begin{enumerate*}\n",
       "\\item 'aggregator'\n",
       "\\item 'bank'\n",
       "\\item 'business'\n",
       "\\item 'clothing'\n",
       "\\item 'credit card'\n",
       "\\item 'electronics'\n",
       "\\item 'finance'\n",
       "\\item 'foreclosure'\n",
       "\\item 'insurance'\n",
       "\\item 'investing'\n",
       "\\item 'investment'\n",
       "\\item 'land'\n",
       "\\item 'life insurance'\n",
       "\\item 'listing'\n",
       "\\item 'loan'\n",
       "\\item 'makeup'\n",
       "\\item 'media'\n",
       "\\item 'mobile homes'\n",
       "\\item 'mortgage'\n",
       "\\item 'political'\n",
       "\\item 'realtor'\n",
       "\\item 'rental'\n",
       "\\item 'rental group'\n",
       "\\item 'rent to own'\n",
       "\\item 'rent-to-own'\n",
       "\\item 'rv'\n",
       "\\item 'school'\n",
       "\\item 'search engine'\n",
       "\\item 'senior'\n",
       "\\item 'seniors'\n",
       "\\item 'software'\n",
       "\\item 'system'\n",
       "\\item 'technology'\n",
       "\\item 'travel'\n",
       "\\item 'x'\n",
       "\\end{enumerate*}\n"
      ],
      "text/markdown": [
       "1. 'aggregator'\n",
       "2. 'bank'\n",
       "3. 'business'\n",
       "4. 'clothing'\n",
       "5. 'credit card'\n",
       "6. 'electronics'\n",
       "7. 'finance'\n",
       "8. 'foreclosure'\n",
       "9. 'insurance'\n",
       "10. 'investing'\n",
       "11. 'investment'\n",
       "12. 'land'\n",
       "13. 'life insurance'\n",
       "14. 'listing'\n",
       "15. 'loan'\n",
       "16. 'makeup'\n",
       "17. 'media'\n",
       "18. 'mobile homes'\n",
       "19. 'mortgage'\n",
       "20. 'political'\n",
       "21. 'realtor'\n",
       "22. 'rental'\n",
       "23. 'rental group'\n",
       "24. 'rent to own'\n",
       "25. 'rent-to-own'\n",
       "26. 'rv'\n",
       "27. 'school'\n",
       "28. 'search engine'\n",
       "29. 'senior'\n",
       "30. 'seniors'\n",
       "31. 'software'\n",
       "32. 'system'\n",
       "33. 'technology'\n",
       "34. 'travel'\n",
       "35. 'x'\n",
       "\n",
       "\n"
      ],
      "text/plain": [
       " [1] \"aggregator\"     \"bank\"           \"business\"       \"clothing\"      \n",
       " [5] \"credit card\"    \"electronics\"    \"finance\"        \"foreclosure\"   \n",
       " [9] \"insurance\"      \"investing\"      \"investment\"     \"land\"          \n",
       "[13] \"life insurance\" \"listing\"        \"loan\"           \"makeup\"        \n",
       "[17] \"media\"          \"mobile homes\"   \"mortgage\"       \"political\"     \n",
       "[21] \"realtor\"        \"rental\"         \"rental group\"   \"rent to own\"   \n",
       "[25] \"rent-to-own\"    \"rv\"             \"school\"         \"search engine\" \n",
       "[29] \"senior\"         \"seniors\"        \"software\"       \"system\"        \n",
       "[33] \"technology\"     \"travel\"         \"x\"             "
      ]
     },
     "metadata": {},
     "output_type": "display_data"
    }
   ],
   "source": [
    "categorized_ads <- read_excel(get_rel_file(\"unique-ads-coded.xlsx\"))\n",
    "categorized_ads$ad.category <- as.factor(categorized_ads$category)\n",
    "categorized_ads$category <- NULL\n",
    "categorized_ads$ad.title <- gsub(\"\\r\\n\", \"\\n\", categorized_ads$ad.title)\n",
    "levels(categorized_ads$ad.category)\n",
    "# colnames(ads)\n",
    "# colnames(categorized_ads)\n",
    "# nrow(categorized_ads)"
   ]
  },
  {
   "cell_type": "code",
   "execution_count": 23,
   "metadata": {},
   "outputs": [],
   "source": [
    "# google_ads <- ads %>%\n",
    "#   filter(is.na(ad.image_path)) %>%\n",
    "#   filter(url != \"https://www.bbc.com/news/world\")\n",
    "\n",
    "# categorized_google_ads <- google_ads %>%\n",
    "#   left_join(categorized_ads, by = c(\"ad.title\", \"ad.url\", \"ad.image_path\"))\n",
    "\n",
    "# nrow(google_ads)\n",
    "# nrow(filter(categorized_google_ads,!is.na(ad.category)))\n",
    "# nrow(filter(categorized_google_ads,is.na(ad.category)))\n",
    "\n",
    "# filter(categorized_ads, grepl(\"www.centralilhomefinder.com/Champaign/Houses\", ad.title, fixed=TRUE))[1:10,]\n",
    "# filter(categorized_google_ads, is.na(ad.category))[1,]$ad.title\n",
    "# filter(categorized_google_ads, is.na(ad.category))\n",
    "\n",
    "# categorized_bbc_ads <- ads %>%\n",
    "#   filter(url == \"https://www.bbc.com/news/world\") %>%\n",
    "#   inner_join(categorized_ads, by = c(\"ad.title\", \"ad.url\", \"ad.image_path\"))\n",
    "\n",
    "# nrow(filter(ads, url == \"https://www.bbc.com/news/world\"))\n",
    "# nrow(categorized_bbc_ads)"
   ]
  },
  {
   "cell_type": "code",
   "execution_count": 26,
   "metadata": {},
   "outputs": [
    {
     "data": {
      "text/html": [
       "26870"
      ],
      "text/latex": [
       "26870"
      ],
      "text/markdown": [
       "26870"
      ],
      "text/plain": [
       "[1] 26870"
      ]
     },
     "metadata": {},
     "output_type": "display_data"
    },
    {
     "data": {
      "text/html": [
       "26255"
      ],
      "text/latex": [
       "26255"
      ],
      "text/markdown": [
       "26255"
      ],
      "text/plain": [
       "[1] 26255"
      ]
     },
     "metadata": {},
     "output_type": "display_data"
    }
   ],
   "source": [
    "merged <- ads %>%\n",
    "  inner_join(categorized_ads, by = c(\"ad.url\", \"ad.image_path\", \"ad.title\"))\n",
    "\n",
    "nrow(ads)\n",
    "nrow(merged)"
   ]
  },
  {
   "cell_type": "markdown",
   "metadata": {},
   "source": [
    "# Ad Analysis"
   ]
  },
  {
   "cell_type": "markdown",
   "metadata": {},
   "source": [
    "## Overall ads"
   ]
  },
  {
   "cell_type": "code",
   "execution_count": 48,
   "metadata": {},
   "outputs": [
    {
     "data": {
      "text/html": [
       "11242"
      ],
      "text/latex": [
       "11242"
      ],
      "text/markdown": [
       "11242"
      ],
      "text/plain": [
       "[1] 11242"
      ]
     },
     "metadata": {},
     "output_type": "display_data"
    },
    {
     "data": {
      "text/html": [
       "<table>\n",
       "<thead><tr><th scope=col>treatment.ethnicity</th><th scope=col>treatment.gender</th><th scope=col>n</th></tr></thead>\n",
       "<tbody>\n",
       "\t<tr><td>african american</td><td>female          </td><td>1219            </td></tr>\n",
       "\t<tr><td>african american</td><td>male            </td><td>1308            </td></tr>\n",
       "\t<tr><td>african-american</td><td>female          </td><td>  87            </td></tr>\n",
       "\t<tr><td>african-american</td><td>male            </td><td>  77            </td></tr>\n",
       "\t<tr><td>asian           </td><td>female          </td><td>1384            </td></tr>\n",
       "\t<tr><td>asian           </td><td>male            </td><td>1422            </td></tr>\n",
       "\t<tr><td>caucasian       </td><td>female          </td><td>1340            </td></tr>\n",
       "\t<tr><td>caucasian       </td><td>male            </td><td>1490            </td></tr>\n",
       "\t<tr><td>hispanic        </td><td>female          </td><td>1397            </td></tr>\n",
       "\t<tr><td>hispanic        </td><td>male            </td><td>1389            </td></tr>\n",
       "\t<tr><td>(Missing)       </td><td>(Missing)       </td><td> 129            </td></tr>\n",
       "</tbody>\n",
       "</table>\n"
      ],
      "text/latex": [
       "\\begin{tabular}{r|lll}\n",
       " treatment.ethnicity & treatment.gender & n\\\\\n",
       "\\hline\n",
       "\t african american & female           & 1219            \\\\\n",
       "\t african american & male             & 1308            \\\\\n",
       "\t african-american & female           &   87            \\\\\n",
       "\t african-american & male             &   77            \\\\\n",
       "\t asian            & female           & 1384            \\\\\n",
       "\t asian            & male             & 1422            \\\\\n",
       "\t caucasian        & female           & 1340            \\\\\n",
       "\t caucasian        & male             & 1490            \\\\\n",
       "\t hispanic         & female           & 1397            \\\\\n",
       "\t hispanic         & male             & 1389            \\\\\n",
       "\t (Missing)        & (Missing)        &  129            \\\\\n",
       "\\end{tabular}\n"
      ],
      "text/markdown": [
       "\n",
       "| treatment.ethnicity | treatment.gender | n |\n",
       "|---|---|---|\n",
       "| african american | female           | 1219             |\n",
       "| african american | male             | 1308             |\n",
       "| african-american | female           |   87             |\n",
       "| african-american | male             |   77             |\n",
       "| asian            | female           | 1384             |\n",
       "| asian            | male             | 1422             |\n",
       "| caucasian        | female           | 1340             |\n",
       "| caucasian        | male             | 1490             |\n",
       "| hispanic         | female           | 1397             |\n",
       "| hispanic         | male             | 1389             |\n",
       "| (Missing)        | (Missing)        |  129             |\n",
       "\n"
      ],
      "text/plain": [
       "   treatment.ethnicity treatment.gender n   \n",
       "1  african american    female           1219\n",
       "2  african american    male             1308\n",
       "3  african-american    female             87\n",
       "4  african-american    male               77\n",
       "5  asian               female           1384\n",
       "6  asian               male             1422\n",
       "7  caucasian           female           1340\n",
       "8  caucasian           male             1490\n",
       "9  hispanic            female           1397\n",
       "10 hispanic            male             1389\n",
       "11 (Missing)           (Missing)         129"
      ]
     },
     "metadata": {},
     "output_type": "display_data"
    }
   ],
   "source": [
    "overall_ads <- merged %>%\n",
    "  filter(ad.category == 'foreclosure' | ad.category == 'land' | ad.category == 'mobile homes' | ad.category == 'real estate education' | ad.category == 'real estate investment' | ad.category == 'realtor' | ad.category == 'rental' | ad.category == 'rent-to-own' | ad.category == 'rv' | ad.category == 'search engine' | ad.category == 'senior living')\n",
    "\n",
    "nrow(overall_ads)\n",
    "count(overall_ads, treatment.ethnicity, treatment.gender)\n",
    "# str(overall_ads)"
   ]
  },
  {
   "cell_type": "code",
   "execution_count": 42,
   "metadata": {},
   "outputs": [
    {
     "data": {
      "text/plain": [
       "                                       Df Sum Sq Mean Sq F value Pr(>F)  \n",
       "treatment.ethnicity                     5    331   66.26   1.144 0.3353  \n",
       "treatment.gender                        1    159  158.80   2.742 0.0981 .\n",
       "treatment.ethnicity:treatment.gender    4    128   32.00   0.553 0.6972  \n",
       "Residuals                            1058  61283   57.92                 \n",
       "---\n",
       "Signif. codes:  0 ‘***’ 0.001 ‘**’ 0.01 ‘*’ 0.05 ‘.’ 0.1 ‘ ’ 1"
      ]
     },
     "metadata": {},
     "output_type": "display_data"
    }
   ],
   "source": [
    "# aggregator_ads <- count(subset(merged, ad.category == \"aggregator\"), agent_id, treatment.gender, treatment.ethnicity, scraper)\n",
    "res.overall <- aov(n ~ treatment.ethnicity * treatment.gender, data = count(overall_ads, agent_id, treatment.ethnicity, treatment.gender, scraper))\n",
    "summary(res.overall)"
   ]
  },
  {
   "cell_type": "code",
   "execution_count": 45,
   "metadata": {},
   "outputs": [
    {
     "ename": "ERROR",
     "evalue": "Error: `ad.category` (`ad.category = \"listing\"`) must not be named, do you need `==`?\n",
     "output_type": "error",
     "traceback": [
      "Error: `ad.category` (`ad.category = \"listing\"`) must not be named, do you need `==`?\nTraceback:\n",
      "1. count(filter(overall_ads, ad.category = \"listing\"), agent_id, \n .     treatment.ethnicity, treatment.gender)",
      "2. group_vars(x)",
      "3. filter(overall_ads, ad.category = \"listing\")",
      "4. filter.data.frame(overall_ads, ad.category = \"listing\")",
      "5. as.data.frame(filter(tbl_df(.data), ..., .preserve = .preserve))",
      "6. filter(tbl_df(.data), ..., .preserve = .preserve)",
      "7. filter.tbl_df(tbl_df(.data), ..., .preserve = .preserve)",
      "8. bad_eq_ops(bad, \"must not be named, do you need `==`?\")",
      "9. glubort(fmt_wrong_eq_ops(named_calls), ..., .envir = .envir)",
      "10. .abort(text)"
     ]
    }
   ],
   "source": [
    "count(filter(overall_ads, ad.category == 'listing'), agent_id, treatment.ethnicity, treatment.gender)"
   ]
  },
  {
   "cell_type": "code",
   "execution_count": 47,
   "metadata": {},
   "outputs": [
    {
     "data": {
      "text/plain": [
       "                                     Df Sum Sq Mean Sq F value Pr(>F)\n",
       "treatment.ethnicity                   4   3.10  0.7742   0.967  0.430\n",
       "treatment.gender                      1   0.44  0.4406   0.550  0.460\n",
       "treatment.ethnicity:treatment.gender  3   2.22  0.7406   0.925  0.432\n",
       "Residuals                            88  70.47  0.8008               "
      ]
     },
     "metadata": {},
     "output_type": "display_data"
    }
   ],
   "source": [
    "res.listings <- aov(n ~ treatment.ethnicity * treatment.gender,\n",
    "                    data = count(filter(merged, ad.category == 'listing'), agent_id, treatment.ethnicity, treatment.gender))\n",
    "summary(res.listings)"
   ]
  },
  {
   "cell_type": "code",
   "execution_count": null,
   "metadata": {},
   "outputs": [],
   "source": []
  }
 ],
 "metadata": {
  "kernelspec": {
   "display_name": "R",
   "language": "R",
   "name": "ir"
  },
  "language_info": {
   "codemirror_mode": "r",
   "file_extension": ".r",
   "mimetype": "text/x-r-source",
   "name": "R",
   "pygments_lexer": "r",
   "version": "3.4.4"
  }
 },
 "nbformat": 4,
 "nbformat_minor": 2
}
