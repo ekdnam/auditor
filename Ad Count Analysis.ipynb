{
 "cells": [
  {
   "cell_type": "markdown",
   "metadata": {},
   "source": [
    "# Setup and data ingestion"
   ]
  },
  {
   "cell_type": "code",
   "execution_count": 4,
   "metadata": {},
   "outputs": [
    {
     "name": "stderr",
     "output_type": "stream",
     "text": [
      "[conflicted] Removing existing preference\n",
      "[conflicted] Will prefer IRdisplay::display over any other package\n",
      "[conflicted] Removing existing preference\n",
      "[conflicted] Will prefer dplyr::filter over any other package\n"
     ]
    }
   ],
   "source": [
    "library(conflicted)\n",
    "library(IRdisplay)\n",
    "library(xtable)\n",
    "conflict_prefer(\"display\", \"IRdisplay\")\n",
    "\n",
    "# Stats\n",
    "library(car)\n",
    "\n",
    "# Data manipulation\n",
    "library(tidyverse)\n",
    "conflict_prefer(\"filter\", \"dplyr\")\n",
    "library(reshape2)\n",
    "\n",
    "# Data loading\n",
    "library(jsonlite)\n",
    "library(writexl)\n",
    "library(readxl)"
   ]
  },
  {
   "cell_type": "code",
   "execution_count": 5,
   "metadata": {},
   "outputs": [],
   "source": [
    "# Workbook settings\n",
    "options(repr.matrix.max.rows=250, repr.matrix.max.cols=30)"
   ]
  },
  {
   "cell_type": "markdown",
   "metadata": {},
   "source": [
    "Set options for analysis"
   ]
  },
  {
   "cell_type": "code",
   "execution_count": 55,
   "metadata": {},
   "outputs": [],
   "source": [
    "get_rel_file <- function(file) {\n",
    "    return(file.path(\"output\", \"2018-12-07_2019-03-19\", file))\n",
    "}"
   ]
  },
  {
   "cell_type": "markdown",
   "metadata": {},
   "source": [
    "First we need to import the data and tidy up the datatypes a bit"
   ]
  },
  {
   "cell_type": "code",
   "execution_count": 56,
   "metadata": {},
   "outputs": [
    {
     "name": "stdout",
     "output_type": "stream",
     "text": [
      " Imported 29863 records. Simplifying...\n"
     ]
    }
   ],
   "source": [
    "datafile <- bzfile(get_rel_file(\"out2.json.bz2\"), open='r')\n",
    "data <- stream_in(datafile, flatten=TRUE)\n",
    "close(datafile)"
   ]
  },
  {
   "cell_type": "markdown",
   "metadata": {},
   "source": [
    "Now we split off just the ads from our data"
   ]
  },
  {
   "cell_type": "code",
   "execution_count": 57,
   "metadata": {},
   "outputs": [
    {
     "data": {
      "text/html": [
       "26870"
      ],
      "text/latex": [
       "26870"
      ],
      "text/markdown": [
       "26870"
      ],
      "text/plain": [
       "[1] 26870"
      ]
     },
     "metadata": {},
     "output_type": "display_data"
    }
   ],
   "source": [
    "ads <- data %>% filter(type == 'ad')\n",
    "\n",
    "nrow(ads)"
   ]
  },
  {
   "cell_type": "code",
   "execution_count": 58,
   "metadata": {},
   "outputs": [],
   "source": [
    "ads$ranking <- NULL\n",
    "\n",
    "ads$treatment.ethnicity <- as.factor(ads$treatment.ethnicity)\n",
    "ads$treatment.gender <- as.factor(ads$treatment.gender)\n",
    "ads$type <- as.factor(ads$type)\n",
    "ads$scraper <- as.factor(ads$scraper)\n",
    "ads$block_id <- as.factor(ads$block_id)\n",
    "ads$agent_id <- as.factor(ads$agent_id)\n",
    "data$time <- as.POSIXct(data$time)"
   ]
  },
  {
   "cell_type": "markdown",
   "metadata": {},
   "source": [
    "Next we write out the data for coding"
   ]
  },
  {
   "cell_type": "code",
   "execution_count": 59,
   "metadata": {},
   "outputs": [
    {
     "data": {
      "text/html": [
       "3275"
      ],
      "text/latex": [
       "3275"
      ],
      "text/markdown": [
       "3275"
      ],
      "text/plain": [
       "[1] 3275"
      ]
     },
     "metadata": {},
     "output_type": "display_data"
    }
   ],
   "source": [
    "unique_ads <- unique(ads[c(\"ad.title\", \"ad.url\", \"ad.image_path\")])\n",
    "write_xlsx(unique_ads, get_rel_file(\"unique-ads.xlsx\"))\n",
    "nrow(unique_ads)"
   ]
  },
  {
   "cell_type": "markdown",
   "metadata": {},
   "source": [
    "Now code the results, read them back in, and join them to the existing data"
   ]
  },
  {
   "cell_type": "code",
   "execution_count": 60,
   "metadata": {},
   "outputs": [],
   "source": [
    "categorized_ads <- read_excel(get_rel_file(\"unique-ads-coded.xlsx\"))\n",
    "categorized_ads$ad.category <- as.factor(categorized_ads$category)\n",
    "categorized_ads$category <- NULL\n",
    "categorized_ads$ad.title <- gsub(\"\\r\\n\", \"\\n\", categorized_ads$ad.title)"
   ]
  },
  {
   "cell_type": "code",
   "execution_count": 61,
   "metadata": {},
   "outputs": [
    {
     "data": {
      "text/html": [
       "<ol class=list-inline>\n",
       "\t<li>'aggregator'</li>\n",
       "\t<li>'bank'</li>\n",
       "\t<li>'clothing'</li>\n",
       "\t<li>'credit card'</li>\n",
       "\t<li>'foreclosure'</li>\n",
       "\t<li>'investment'</li>\n",
       "\t<li>'listing'</li>\n",
       "\t<li>'loan'</li>\n",
       "\t<li>'mobile homes'</li>\n",
       "\t<li>'political'</li>\n",
       "\t<li>'realtor'</li>\n",
       "\t<li>'rental'</li>\n",
       "\t<li>'rental group'</li>\n",
       "\t<li>'rent-to-own'</li>\n",
       "\t<li>'search engine'</li>\n",
       "\t<li>'senior'</li>\n",
       "\t<li>'x'</li>\n",
       "</ol>\n"
      ],
      "text/latex": [
       "\\begin{enumerate*}\n",
       "\\item 'aggregator'\n",
       "\\item 'bank'\n",
       "\\item 'clothing'\n",
       "\\item 'credit card'\n",
       "\\item 'foreclosure'\n",
       "\\item 'investment'\n",
       "\\item 'listing'\n",
       "\\item 'loan'\n",
       "\\item 'mobile homes'\n",
       "\\item 'political'\n",
       "\\item 'realtor'\n",
       "\\item 'rental'\n",
       "\\item 'rental group'\n",
       "\\item 'rent-to-own'\n",
       "\\item 'search engine'\n",
       "\\item 'senior'\n",
       "\\item 'x'\n",
       "\\end{enumerate*}\n"
      ],
      "text/markdown": [
       "1. 'aggregator'\n",
       "2. 'bank'\n",
       "3. 'clothing'\n",
       "4. 'credit card'\n",
       "5. 'foreclosure'\n",
       "6. 'investment'\n",
       "7. 'listing'\n",
       "8. 'loan'\n",
       "9. 'mobile homes'\n",
       "10. 'political'\n",
       "11. 'realtor'\n",
       "12. 'rental'\n",
       "13. 'rental group'\n",
       "14. 'rent-to-own'\n",
       "15. 'search engine'\n",
       "16. 'senior'\n",
       "17. 'x'\n",
       "\n",
       "\n"
      ],
      "text/plain": [
       " [1] \"aggregator\"    \"bank\"          \"clothing\"      \"credit card\"  \n",
       " [5] \"foreclosure\"   \"investment\"    \"listing\"       \"loan\"         \n",
       " [9] \"mobile homes\"  \"political\"     \"realtor\"       \"rental\"       \n",
       "[13] \"rental group\"  \"rent-to-own\"   \"search engine\" \"senior\"       \n",
       "[17] \"x\"            "
      ]
     },
     "metadata": {},
     "output_type": "display_data"
    }
   ],
   "source": [
    "levels(categorized_ads$ad.category)"
   ]
  },
  {
   "cell_type": "code",
   "execution_count": 63,
   "metadata": {},
   "outputs": [
    {
     "data": {
      "text/html": [
       "26870"
      ],
      "text/latex": [
       "26870"
      ],
      "text/markdown": [
       "26870"
      ],
      "text/plain": [
       "[1] 26870"
      ]
     },
     "metadata": {},
     "output_type": "display_data"
    },
    {
     "data": {
      "text/html": [
       "26255"
      ],
      "text/latex": [
       "26255"
      ],
      "text/markdown": [
       "26255"
      ],
      "text/plain": [
       "[1] 26255"
      ]
     },
     "metadata": {},
     "output_type": "display_data"
    },
    {
     "data": {
      "text/html": [
       "26255"
      ],
      "text/latex": [
       "26255"
      ],
      "text/markdown": [
       "26255"
      ],
      "text/plain": [
       "[1] 26255"
      ]
     },
     "metadata": {},
     "output_type": "display_data"
    }
   ],
   "source": [
    "merged <- ads %>%\n",
    "  inner_join(categorized_ads, by = c(\"ad.url\", \"ad.image_path\", \"ad.title\"))\n",
    "\n",
    "nrow(ads)\n",
    "nrow(merged)\n",
    "\n",
    "include_control <- TRUE\n",
    "# include_control <- FALSE\n",
    "\n",
    "merged <- merged %>% filter(include_control | (treatment.ethnicity != \"Control\" & treatment.gender != \"Control\"))\n",
    "nrow(merged)"
   ]
  },
  {
   "cell_type": "code",
   "execution_count": 64,
   "metadata": {},
   "outputs": [
    {
     "name": "stdout",
     "output_type": "stream",
     "text": [
      "Complete! Processed total of 26255 rows.\n"
     ]
    }
   ],
   "source": [
    "# datafile <- bzfile(get_rel_file(\"coded-output.json.bz2\"), open='w')\n",
    "stream_out(merged, con=bzfile(get_rel_file(\"coded-output.json.bz2\"), open='w'))"
   ]
  },
  {
   "cell_type": "code",
   "execution_count": 14,
   "metadata": {},
   "outputs": [
    {
     "name": "stderr",
     "output_type": "stream",
     "text": [
      "Warning message:\n",
      "“Factor `treatment.ethnicity` contains implicit NA, consider using `forcats::fct_explicit_na`”Warning message:\n",
      "“Factor `treatment.gender` contains implicit NA, consider using `forcats::fct_explicit_na`”"
     ]
    },
    {
     "data": {
      "text/html": [
       "766"
      ],
      "text/latex": [
       "766"
      ],
      "text/markdown": [
       "766"
      ],
      "text/plain": [
       "[1] 766"
      ]
     },
     "metadata": {},
     "output_type": "display_data"
    }
   ],
   "source": [
    "agents <- unique(merged[c(\"agent_id\", \"treatment.ethnicity\", \"treatment.gender\")])\n",
    "\n",
    "agent_count <- agents %>%\n",
    "  count(treatment.ethnicity, treatment.gender, name = \"num_agents\")\n",
    "\n",
    "nrow(agents)"
   ]
  },
  {
   "cell_type": "code",
   "execution_count": 179,
   "metadata": {},
   "outputs": [
    {
     "data": {
      "text/html": [
       "<table>\n",
       "<thead><tr><th scope=col>treatment.ethnicity</th><th scope=col>treatment.gender</th><th scope=col>num_ads</th><th scope=col>num_agents</th></tr></thead>\n",
       "<tbody>\n",
       "\t<tr><td>african-american</td><td>female          </td><td>2540            </td><td>94              </td></tr>\n",
       "\t<tr><td>african-american</td><td>male            </td><td>2665            </td><td>92              </td></tr>\n",
       "\t<tr><td>asian           </td><td>female          </td><td>2720            </td><td>94              </td></tr>\n",
       "\t<tr><td>asian           </td><td>male            </td><td>2729            </td><td>98              </td></tr>\n",
       "\t<tr><td>caucasian       </td><td>female          </td><td>2630            </td><td>94              </td></tr>\n",
       "\t<tr><td>caucasian       </td><td>male            </td><td>2755            </td><td>92              </td></tr>\n",
       "\t<tr><td>hispanic        </td><td>female          </td><td>2596            </td><td>95              </td></tr>\n",
       "\t<tr><td>hispanic        </td><td>male            </td><td>2668            </td><td>95              </td></tr>\n",
       "\t<tr><td>Control         </td><td>Control         </td><td> 437            </td><td>12              </td></tr>\n",
       "</tbody>\n",
       "</table>\n"
      ],
      "text/latex": [
       "\\begin{tabular}{r|llll}\n",
       " treatment.ethnicity & treatment.gender & num\\_ads & num\\_agents\\\\\n",
       "\\hline\n",
       "\t african-american & female           & 2540             & 94              \\\\\n",
       "\t african-american & male             & 2665             & 92              \\\\\n",
       "\t asian            & female           & 2720             & 94              \\\\\n",
       "\t asian            & male             & 2729             & 98              \\\\\n",
       "\t caucasian        & female           & 2630             & 94              \\\\\n",
       "\t caucasian        & male             & 2755             & 92              \\\\\n",
       "\t hispanic         & female           & 2596             & 95              \\\\\n",
       "\t hispanic         & male             & 2668             & 95              \\\\\n",
       "\t Control          & Control          &  437             & 12              \\\\\n",
       "\\end{tabular}\n"
      ],
      "text/markdown": [
       "\n",
       "| treatment.ethnicity | treatment.gender | num_ads | num_agents |\n",
       "|---|---|---|---|\n",
       "| african-american | female           | 2540             | 94               |\n",
       "| african-american | male             | 2665             | 92               |\n",
       "| asian            | female           | 2720             | 94               |\n",
       "| asian            | male             | 2729             | 98               |\n",
       "| caucasian        | female           | 2630             | 94               |\n",
       "| caucasian        | male             | 2755             | 92               |\n",
       "| hispanic         | female           | 2596             | 95               |\n",
       "| hispanic         | male             | 2668             | 95               |\n",
       "| Control          | Control          |  437             | 12               |\n",
       "\n"
      ],
      "text/plain": [
       "  treatment.ethnicity treatment.gender num_ads num_agents\n",
       "1 african-american    female           2540    94        \n",
       "2 african-american    male             2665    92        \n",
       "3 asian               female           2720    94        \n",
       "4 asian               male             2729    98        \n",
       "5 caucasian           female           2630    94        \n",
       "6 caucasian           male             2755    92        \n",
       "7 hispanic            female           2596    95        \n",
       "8 hispanic            male             2668    95        \n",
       "9 Control             Control           437    12        "
      ]
     },
     "metadata": {},
     "output_type": "display_data"
    }
   ],
   "source": [
    "merged %>% \n",
    "  count(treatment.ethnicity, treatment.gender, name = \"num_ads\") %>%\n",
    "  right_join(agent_count, by = c(\"treatment.ethnicity\", \"treatment.gender\"))\n",
    "\n",
    "# tmp\n",
    "# tmp %>%\n",
    "#   xtable() %>% \n",
    "#   print(include.rownames = FALSE)"
   ]
  },
  {
   "cell_type": "markdown",
   "metadata": {},
   "source": [
    "# Ad Analysis"
   ]
  },
  {
   "cell_type": "markdown",
   "metadata": {
    "toc-hr-collapsed": true
   },
   "source": [
    "## Overall ads"
   ]
  },
  {
   "cell_type": "code",
   "execution_count": 194,
   "metadata": {},
   "outputs": [
    {
     "data": {
      "text/html": [
       "12418"
      ],
      "text/latex": [
       "12418"
      ],
      "text/markdown": [
       "12418"
      ],
      "text/plain": [
       "[1] 12418"
      ]
     },
     "metadata": {},
     "output_type": "display_data"
    }
   ],
   "source": [
    "overall_ads <- merged %>%\n",
    "  filter(ad.category == 'aggregator' | ad.category == 'foreclosure' | ad.category == 'listing' | ad.category == 'loan' | ad.category == 'mobile homes' | ad.category == 'realtor' | ad.category == 'rental' | ad.category == 'rental group' | ad.category == 'rent-to-own')\n",
    "\n",
    "nrow(overall_ads)\n",
    "\n",
    "# overall_ads %>%\n",
    "#   count(treatment.ethnicity, treatment.gender, agent_id, name = \"num_ads\") %>%\n",
    "# #   right_join(agent_count, by = c(\"treatment.ethnicity\", \"treatment.gender\")) %>%\n",
    "#   group_by(treatment.ethnicity, treatment.gender) %>%\n",
    "#   summarize(avg=mean(num_ads), sd=sd(num_ads), med=median(num_ads))\n",
    "\n",
    "# overall_ads %>%\n",
    "#   count(treatment.ethnicity, treatment.gender, name = \"num_ads\") %>%\n",
    "#   right_join(agent_count, by = c(\"treatment.ethnicity\", \"treatment.gender\")) %>%\n",
    "#   mutate(avg=num_ads/num_agents)\n",
    "\n",
    "overall_count <- overall_ads %>%\n",
    "  count(agent_id, treatment.ethnicity, treatment.gender, scraper) %>%\n",
    "  right_join(agents, by = c(\"agent_id\", \"treatment.ethnicity\", \"treatment.gender\")) %>%\n",
    "  mutate(n=replace_na(n, 0), scraper=replace_na(scraper, 'GoogleSearchAdScraper')) %>%\n",
    "  complete(nesting(agent_id, treatment.ethnicity, treatment.gender), scraper, fill = list(n = 0))"
   ]
  },
  {
   "cell_type": "code",
   "execution_count": 205,
   "metadata": {},
   "outputs": [
    {
     "data": {
      "text/html": [
       "<table>\n",
       "<thead><tr><th scope=col>treatment.ethnicity</th><th scope=col>treatment.gender</th><th scope=col>avg</th><th scope=col>sd</th><th scope=col>med</th></tr></thead>\n",
       "<tbody>\n",
       "\t<tr><td>african-american</td><td>female          </td><td>15.17021        </td><td>10.840623       </td><td>15              </td></tr>\n",
       "\t<tr><td>african-american</td><td>male            </td><td>16.73913        </td><td>12.817287       </td><td>15              </td></tr>\n",
       "\t<tr><td>asian           </td><td>female          </td><td>16.38298        </td><td>11.283356       </td><td>15              </td></tr>\n",
       "\t<tr><td>asian           </td><td>male            </td><td>16.13265        </td><td>10.787199       </td><td>14              </td></tr>\n",
       "\t<tr><td>caucasian       </td><td>female          </td><td>16.14894        </td><td>12.714362       </td><td>13              </td></tr>\n",
       "\t<tr><td>caucasian       </td><td>male            </td><td>17.96739        </td><td>11.883548       </td><td>17              </td></tr>\n",
       "\t<tr><td>hispanic        </td><td>female          </td><td>15.65263        </td><td>10.117153       </td><td>15              </td></tr>\n",
       "\t<tr><td>hispanic        </td><td>male            </td><td>15.91579        </td><td>10.440982       </td><td>15              </td></tr>\n",
       "\t<tr><td>Control         </td><td>Control         </td><td>13.41667        </td><td> 8.414904       </td><td>11              </td></tr>\n",
       "</tbody>\n",
       "</table>\n"
      ],
      "text/latex": [
       "\\begin{tabular}{r|lllll}\n",
       " treatment.ethnicity & treatment.gender & avg & sd & med\\\\\n",
       "\\hline\n",
       "\t african-american & female           & 15.17021         & 10.840623        & 15              \\\\\n",
       "\t african-american & male             & 16.73913         & 12.817287        & 15              \\\\\n",
       "\t asian            & female           & 16.38298         & 11.283356        & 15              \\\\\n",
       "\t asian            & male             & 16.13265         & 10.787199        & 14              \\\\\n",
       "\t caucasian        & female           & 16.14894         & 12.714362        & 13              \\\\\n",
       "\t caucasian        & male             & 17.96739         & 11.883548        & 17              \\\\\n",
       "\t hispanic         & female           & 15.65263         & 10.117153        & 15              \\\\\n",
       "\t hispanic         & male             & 15.91579         & 10.440982        & 15              \\\\\n",
       "\t Control          & Control          & 13.41667         &  8.414904        & 11              \\\\\n",
       "\\end{tabular}\n"
      ],
      "text/markdown": [
       "\n",
       "| treatment.ethnicity | treatment.gender | avg | sd | med |\n",
       "|---|---|---|---|---|\n",
       "| african-american | female           | 15.17021         | 10.840623        | 15               |\n",
       "| african-american | male             | 16.73913         | 12.817287        | 15               |\n",
       "| asian            | female           | 16.38298         | 11.283356        | 15               |\n",
       "| asian            | male             | 16.13265         | 10.787199        | 14               |\n",
       "| caucasian        | female           | 16.14894         | 12.714362        | 13               |\n",
       "| caucasian        | male             | 17.96739         | 11.883548        | 17               |\n",
       "| hispanic         | female           | 15.65263         | 10.117153        | 15               |\n",
       "| hispanic         | male             | 15.91579         | 10.440982        | 15               |\n",
       "| Control          | Control          | 13.41667         |  8.414904        | 11               |\n",
       "\n"
      ],
      "text/plain": [
       "  treatment.ethnicity treatment.gender avg      sd        med\n",
       "1 african-american    female           15.17021 10.840623 15 \n",
       "2 african-american    male             16.73913 12.817287 15 \n",
       "3 asian               female           16.38298 11.283356 15 \n",
       "4 asian               male             16.13265 10.787199 14 \n",
       "5 caucasian           female           16.14894 12.714362 13 \n",
       "6 caucasian           male             17.96739 11.883548 17 \n",
       "7 hispanic            female           15.65263 10.117153 15 \n",
       "8 hispanic            male             15.91579 10.440982 15 \n",
       "9 Control             Control          13.41667  8.414904 11 "
      ]
     },
     "metadata": {},
     "output_type": "display_data"
    }
   ],
   "source": [
    "# overall_count\n",
    "overall_count %>%\n",
    "  group_by(treatment.ethnicity, treatment.gender, agent_id) %>%\n",
    "  summarize(n=sum(n)) %>%\n",
    "  group_by(treatment.ethnicity, treatment.gender) %>%\n",
    "  summarize(avg=mean(n), sd=sd(n), med=median(n))"
   ]
  },
  {
   "cell_type": "code",
   "execution_count": 181,
   "metadata": {},
   "outputs": [
    {
     "data": {
      "text/html": [
       "<table>\n",
       "<thead><tr><th scope=col>n</th></tr></thead>\n",
       "<tbody>\n",
       "\t<tr><td>77</td></tr>\n",
       "</tbody>\n",
       "</table>\n"
      ],
      "text/latex": [
       "\\begin{tabular}{r|l}\n",
       " n\\\\\n",
       "\\hline\n",
       "\t 77\\\\\n",
       "\\end{tabular}\n"
      ],
      "text/markdown": [
       "\n",
       "| n |\n",
       "|---|\n",
       "| 77 |\n",
       "\n"
      ],
      "text/plain": [
       "  n \n",
       "1 77"
      ]
     },
     "metadata": {},
     "output_type": "display_data"
    }
   ],
   "source": [
    "overall_ads %>%\n",
    "   filter(treatment.ethnicity == 'Control') %>%\n",
    "   filter(scraper != 'GoogleSearchAdScraper') %>%\n",
    "   count()"
   ]
  },
  {
   "cell_type": "markdown",
   "metadata": {},
   "source": [
    "### All scrapers"
   ]
  },
  {
   "cell_type": "code",
   "execution_count": 129,
   "metadata": {},
   "outputs": [
    {
     "data": {
      "text/plain": [
       "                                       Df Sum Sq Mean Sq F value Pr(>F)\n",
       "treatment.ethnicity                     3     59   19.66   0.228  0.877\n",
       "treatment.gender                        1     44   44.14   0.513  0.474\n",
       "treatment.ethnicity:treatment.gender    3     47   15.78   0.183  0.908\n",
       "Residuals                            2254 193996   86.07               "
      ]
     },
     "metadata": {},
     "output_type": "display_data"
    },
    {
     "data": {
      "text/plain": [
       "\n",
       "\tFligner-Killeen test of homogeneity of variances\n",
       "\n",
       "data:  n by interaction(treatment.ethnicity, treatment.gender)\n",
       "Fligner-Killeen:med chi-squared = 33.097, df = 7, p-value = 2.54e-05\n"
      ]
     },
     "metadata": {},
     "output_type": "display_data"
    }
   ],
   "source": [
    "local_data <- overall_count\n",
    "\n",
    "res.overall <- aov(n ~ treatment.ethnicity * treatment.gender, data = local_data)\n",
    "summary(res.overall)\n",
    "\n",
    "# plot(res.overall, 1)\n",
    "fligner.test(n ~ interaction(treatment.ethnicity, treatment.gender), data = local_data)\n",
    "# plot(res.overall, 2)\n",
    "# shapiro.test(residuals(res.overall))"
   ]
  },
  {
   "cell_type": "markdown",
   "metadata": {},
   "source": [
    "### BBC Scraper"
   ]
  },
  {
   "cell_type": "code",
   "execution_count": 130,
   "metadata": {},
   "outputs": [
    {
     "data": {
      "text/plain": [
       "                                      Df Sum Sq Mean Sq F value Pr(>F)\n",
       "treatment.ethnicity                    3    2.1  0.7013   1.537  0.204\n",
       "treatment.gender                       1    0.7  0.7115   1.559  0.212\n",
       "treatment.ethnicity:treatment.gender   3    0.8  0.2762   0.605  0.612\n",
       "Residuals                            746  340.4  0.4563               "
      ]
     },
     "metadata": {},
     "output_type": "display_data"
    },
    {
     "data": {
      "text/plain": [
       "\n",
       "\tFligner-Killeen test of homogeneity of variances\n",
       "\n",
       "data:  n by interaction(treatment.ethnicity, treatment.gender)\n",
       "Fligner-Killeen:med chi-squared = 6.6432, df = 7, p-value = 0.4669\n"
      ]
     },
     "metadata": {},
     "output_type": "display_data"
    },
    {
     "data": {
      "image/png": "[encoded data removed]",
      "text/plain": [
       "Plot with title “”"
      ]
     },
     "metadata": {},
     "output_type": "display_data"
    }
   ],
   "source": [
    "local_data <- filter(overall_count, scraper == 'BBCAdScraper')\n",
    "\n",
    "res.overall <- aov(n ~ treatment.ethnicity * treatment.gender, data = local_data)\n",
    "summary(res.overall)\n",
    "\n",
    "# plot(res.overall, 1)\n",
    "fligner.test(n ~ interaction(treatment.ethnicity, treatment.gender), data = local_data)\n",
    "plot(res.overall, 2)\n",
    "# shapiro.test(residuals(res.overall))"
   ]
  },
  {
   "cell_type": "markdown",
   "metadata": {
    "toc-hr-collapsed": false
   },
   "source": [
    "### Google Scraper"
   ]
  },
  {
   "cell_type": "code",
   "execution_count": 131,
   "metadata": {},
   "outputs": [
    {
     "data": {
      "text/plain": [
       "                                      Df Sum Sq Mean Sq F value Pr(>F)\n",
       "treatment.ethnicity                    3    255   85.08   0.758  0.518\n",
       "treatment.gender                       1    172  172.28   1.536  0.216\n",
       "treatment.ethnicity:treatment.gender   3    149   49.62   0.442  0.723\n",
       "Residuals                            746  83697  112.19               "
      ]
     },
     "metadata": {},
     "output_type": "display_data"
    },
    {
     "data": {
      "text/plain": [
       "\n",
       "\tFligner-Killeen test of homogeneity of variances\n",
       "\n",
       "data:  n by interaction(treatment.ethnicity, treatment.gender)\n",
       "Fligner-Killeen:med chi-squared = 10.037, df = 7, p-value = 0.1865\n"
      ]
     },
     "metadata": {},
     "output_type": "display_data"
    },
    {
     "data": {
      "image/png": "[encoded data removed]",
      "text/plain": [
       "Plot with title “”"
      ]
     },
     "metadata": {},
     "output_type": "display_data"
    }
   ],
   "source": [
    "local_data <- filter(overall_count, scraper == 'GoogleSearchAdScraper')\n",
    "\n",
    "res.overall <- aov(n ~ treatment.ethnicity * treatment.gender, data = local_data)\n",
    "summary(res.overall)\n",
    "\n",
    "# plot(res.overall, 1)\n",
    "fligner.test(n ~ interaction(treatment.ethnicity, treatment.gender), data = local_data)\n",
    "plot(res.overall, 2)\n",
    "# shapiro.test(residuals(res.overall))"
   ]
  },
  {
   "cell_type": "markdown",
   "metadata": {},
   "source": [
    "### News Gazette Scraper"
   ]
  },
  {
   "cell_type": "code",
   "execution_count": 132,
   "metadata": {},
   "outputs": [
    {
     "data": {
      "text/plain": [
       "                                      Df Sum Sq Mean Sq F value Pr(>F)\n",
       "treatment.ethnicity                    3      4   1.247   0.177  0.912\n",
       "treatment.gender                       1      1   0.600   0.085  0.770\n",
       "treatment.ethnicity:treatment.gender   3      2   0.728   0.104  0.958\n",
       "Residuals                            746   5250   7.038               "
      ]
     },
     "metadata": {},
     "output_type": "display_data"
    },
    {
     "data": {
      "text/plain": [
       "\n",
       "\tFligner-Killeen test of homogeneity of variances\n",
       "\n",
       "data:  n by interaction(treatment.ethnicity, treatment.gender)\n",
       "Fligner-Killeen:med chi-squared = 1.7607, df = 7, p-value = 0.9719\n"
      ]
     },
     "metadata": {},
     "output_type": "display_data"
    },
    {
     "data": {
      "image/png": "[encoded data removed]",
      "text/plain": [
       "Plot with title “”"
      ]
     },
     "metadata": {},
     "output_type": "display_data"
    }
   ],
   "source": [
    "local_data <- filter(overall_count, scraper == 'NewsGazetteAdScraper')\n",
    "\n",
    "res.overall <- aov(n ~ treatment.ethnicity * treatment.gender, data = local_data)\n",
    "summary(res.overall)\n",
    "\n",
    "# plot(res.overall, 1)\n",
    "fligner.test(n ~ interaction(treatment.ethnicity, treatment.gender), data = local_data)\n",
    "plot(res.overall, 2)\n",
    "# shapiro.test(residuals(res.overall))"
   ]
  },
  {
   "cell_type": "markdown",
   "metadata": {},
   "source": [
    "## Listing Ads"
   ]
  },
  {
   "cell_type": "code",
   "execution_count": 140,
   "metadata": {},
   "outputs": [
    {
     "data": {
      "text/html": [
       "444"
      ],
      "text/latex": [
       "444"
      ],
      "text/markdown": [
       "444"
      ],
      "text/plain": [
       "[1] 444"
      ]
     },
     "metadata": {},
     "output_type": "display_data"
    },
    {
     "data": {
      "text/html": [
       "<table>\n",
       "<thead><tr><th scope=col>treatment.ethnicity</th><th scope=col>treatment.gender</th><th scope=col>num_ads</th><th scope=col>num_agents</th><th scope=col>avg</th></tr></thead>\n",
       "<tbody>\n",
       "\t<tr><td>african-american</td><td>female          </td><td>58              </td><td>94              </td><td>0.6170213       </td></tr>\n",
       "\t<tr><td>african-american</td><td>male            </td><td>57              </td><td>92              </td><td>0.6195652       </td></tr>\n",
       "\t<tr><td>asian           </td><td>female          </td><td>55              </td><td>94              </td><td>0.5851064       </td></tr>\n",
       "\t<tr><td>asian           </td><td>male            </td><td>50              </td><td>98              </td><td>0.5102041       </td></tr>\n",
       "\t<tr><td>caucasian       </td><td>female          </td><td>50              </td><td>94              </td><td>0.5319149       </td></tr>\n",
       "\t<tr><td>caucasian       </td><td>male            </td><td>60              </td><td>92              </td><td>0.6521739       </td></tr>\n",
       "\t<tr><td>hispanic        </td><td>female          </td><td>53              </td><td>95              </td><td>0.5578947       </td></tr>\n",
       "\t<tr><td>hispanic        </td><td>male            </td><td>61              </td><td>95              </td><td>0.6421053       </td></tr>\n",
       "</tbody>\n",
       "</table>\n"
      ],
      "text/latex": [
       "\\begin{tabular}{r|lllll}\n",
       " treatment.ethnicity & treatment.gender & num\\_ads & num\\_agents & avg\\\\\n",
       "\\hline\n",
       "\t african-american & female           & 58               & 94               & 0.6170213       \\\\\n",
       "\t african-american & male             & 57               & 92               & 0.6195652       \\\\\n",
       "\t asian            & female           & 55               & 94               & 0.5851064       \\\\\n",
       "\t asian            & male             & 50               & 98               & 0.5102041       \\\\\n",
       "\t caucasian        & female           & 50               & 94               & 0.5319149       \\\\\n",
       "\t caucasian        & male             & 60               & 92               & 0.6521739       \\\\\n",
       "\t hispanic         & female           & 53               & 95               & 0.5578947       \\\\\n",
       "\t hispanic         & male             & 61               & 95               & 0.6421053       \\\\\n",
       "\\end{tabular}\n"
      ],
      "text/markdown": [
       "\n",
       "| treatment.ethnicity | treatment.gender | num_ads | num_agents | avg |\n",
       "|---|---|---|---|---|\n",
       "| african-american | female           | 58               | 94               | 0.6170213        |\n",
       "| african-american | male             | 57               | 92               | 0.6195652        |\n",
       "| asian            | female           | 55               | 94               | 0.5851064        |\n",
       "| asian            | male             | 50               | 98               | 0.5102041        |\n",
       "| caucasian        | female           | 50               | 94               | 0.5319149        |\n",
       "| caucasian        | male             | 60               | 92               | 0.6521739        |\n",
       "| hispanic         | female           | 53               | 95               | 0.5578947        |\n",
       "| hispanic         | male             | 61               | 95               | 0.6421053        |\n",
       "\n"
      ],
      "text/plain": [
       "  treatment.ethnicity treatment.gender num_ads num_agents avg      \n",
       "1 african-american    female           58      94         0.6170213\n",
       "2 african-american    male             57      92         0.6195652\n",
       "3 asian               female           55      94         0.5851064\n",
       "4 asian               male             50      98         0.5102041\n",
       "5 caucasian           female           50      94         0.5319149\n",
       "6 caucasian           male             60      92         0.6521739\n",
       "7 hispanic            female           53      95         0.5578947\n",
       "8 hispanic            male             61      95         0.6421053"
      ]
     },
     "metadata": {},
     "output_type": "display_data"
    },
    {
     "data": {
      "text/html": [
       "<table>\n",
       "<thead><tr><th scope=col>scraper</th><th scope=col>n</th></tr></thead>\n",
       "<tbody>\n",
       "\t<tr><td>GoogleSearchAdScraper</td><td>385                  </td></tr>\n",
       "\t<tr><td>NewsGazetteAdScraper </td><td> 59                  </td></tr>\n",
       "</tbody>\n",
       "</table>\n"
      ],
      "text/latex": [
       "\\begin{tabular}{r|ll}\n",
       " scraper & n\\\\\n",
       "\\hline\n",
       "\t GoogleSearchAdScraper & 385                  \\\\\n",
       "\t NewsGazetteAdScraper  &  59                  \\\\\n",
       "\\end{tabular}\n"
      ],
      "text/markdown": [
       "\n",
       "| scraper | n |\n",
       "|---|---|\n",
       "| GoogleSearchAdScraper | 385                   |\n",
       "| NewsGazetteAdScraper  |  59                   |\n",
       "\n"
      ],
      "text/plain": [
       "  scraper               n  \n",
       "1 GoogleSearchAdScraper 385\n",
       "2 NewsGazetteAdScraper   59"
      ]
     },
     "metadata": {},
     "output_type": "display_data"
    }
   ],
   "source": [
    "listings <- merged %>%\n",
    "  filter(ad.category == 'listing' | ad.category == 'rental' | ad.category == 'mobile homes')\n",
    "\n",
    "nrow(listings)\n",
    "\n",
    "listings %>%\n",
    "  count(treatment.ethnicity, treatment.gender, name = \"num_ads\") %>%\n",
    "  right_join(agent_count, by = c(\"treatment.ethnicity\", \"treatment.gender\")) %>%\n",
    "  mutate(avg=num_ads/num_agents)\n",
    "\n",
    "listings %>% count(scraper)\n",
    "\n",
    "listings_count <- listings %>%\n",
    "  count(agent_id, treatment.ethnicity, treatment.gender, scraper)\n",
    "#   count(agent_id, treatment.ethnicity, treatment.gender, scraper) %>%\n",
    "#   right_join(agents, by = c(\"agent_id\", \"treatment.ethnicity\", \"treatment.gender\")) %>%\n",
    "#   mutate(n=replace_na(n, 0), scraper=replace_na(scraper, 'GoogleSearchAdScraper')) %>%\n",
    "#   complete(nesting(agent_id, treatment.ethnicity, treatment.gender), scraper, fill = list(n = 0))"
   ]
  },
  {
   "cell_type": "code",
   "execution_count": 141,
   "metadata": {},
   "outputs": [
    {
     "data": {
      "text/plain": [
       "                                      Df Sum Sq Mean Sq F value Pr(>F)\n",
       "treatment.ethnicity                    3    5.3  1.7644   0.795  0.498\n",
       "treatment.gender                       1    0.8  0.7528   0.339  0.561\n",
       "treatment.ethnicity:treatment.gender   3    0.7  0.2378   0.107  0.956\n",
       "Residuals                            193  428.5  2.2200               "
      ]
     },
     "metadata": {},
     "output_type": "display_data"
    },
    {
     "data": {
      "text/plain": [
       "\n",
       "\tFligner-Killeen test of homogeneity of variances\n",
       "\n",
       "data:  n by interaction(treatment.ethnicity, treatment.gender)\n",
       "Fligner-Killeen:med chi-squared = 2.2774, df = 7, p-value = 0.9429\n"
      ]
     },
     "metadata": {},
     "output_type": "display_data"
    },
    {
     "data": {
      "image/png": "[encoded data removed]",
      "text/plain": [
       "Plot with title “”"
      ]
     },
     "metadata": {},
     "output_type": "display_data"
    }
   ],
   "source": [
    "res.listings <- aov(n ~ treatment.ethnicity * treatment.gender, data = listings_count)\n",
    "summary(res.listings)\n",
    "\n",
    "# plot(res.listings, 1)\n",
    "fligner.test(n ~ interaction(treatment.ethnicity, treatment.gender), data = listings_count)\n",
    "plot(res.listings, 2)\n",
    "# shapiro.test(x = residuals(object = res.listings))"
   ]
  },
  {
   "cell_type": "code",
   "execution_count": 142,
   "metadata": {},
   "outputs": [
    {
     "data": {
      "text/plain": [
       "                                      Df Sum Sq Mean Sq F value Pr(>F)\n",
       "treatment.ethnicity                    3    9.4  3.1403   1.308  0.274\n",
       "treatment.gender                       1    3.1  3.0824   1.284  0.259\n",
       "treatment.ethnicity:treatment.gender   3    0.3  0.1001   0.042  0.989\n",
       "Residuals                            150  360.1  2.4004               "
      ]
     },
     "metadata": {},
     "output_type": "display_data"
    },
    {
     "data": {
      "text/plain": [
       "\n",
       "\tFligner-Killeen test of homogeneity of variances\n",
       "\n",
       "data:  n by interaction(treatment.ethnicity, treatment.gender)\n",
       "Fligner-Killeen:med chi-squared = 2.2774, df = 7, p-value = 0.9429\n"
      ]
     },
     "metadata": {},
     "output_type": "display_data"
    },
    {
     "data": {
      "image/png": "[encoded data removed]",
      "text/plain": [
       "Plot with title “”"
      ]
     },
     "metadata": {},
     "output_type": "display_data"
    }
   ],
   "source": [
    "res.listings <- aov(n ~ treatment.ethnicity * treatment.gender, data = filter(listings_count, scraper == 'GoogleSearchAdScraper'))\n",
    "summary(res.listings)\n",
    "\n",
    "# plot(res.listings, 1)\n",
    "fligner.test(n ~ interaction(treatment.ethnicity, treatment.gender), data = listings_count)\n",
    "plot(res.listings, 2)\n",
    "# shapiro.test(x = residuals(object = res.listings))"
   ]
  },
  {
   "cell_type": "markdown",
   "metadata": {},
   "source": [
    "## Loan Ads"
   ]
  },
  {
   "cell_type": "code",
   "execution_count": 143,
   "metadata": {},
   "outputs": [
    {
     "data": {
      "text/html": [
       "414"
      ],
      "text/latex": [
       "414"
      ],
      "text/markdown": [
       "414"
      ],
      "text/plain": [
       "[1] 414"
      ]
     },
     "metadata": {},
     "output_type": "display_data"
    },
    {
     "data": {
      "text/html": [
       "<table>\n",
       "<thead><tr><th scope=col>treatment.ethnicity</th><th scope=col>treatment.gender</th><th scope=col>num_ads</th><th scope=col>num_agents</th><th scope=col>avg</th></tr></thead>\n",
       "<tbody>\n",
       "\t<tr><td>african-american</td><td>female          </td><td>69              </td><td>94              </td><td>0.7340426       </td></tr>\n",
       "\t<tr><td>african-american</td><td>male            </td><td>48              </td><td>92              </td><td>0.5217391       </td></tr>\n",
       "\t<tr><td>asian           </td><td>female          </td><td>58              </td><td>94              </td><td>0.6170213       </td></tr>\n",
       "\t<tr><td>asian           </td><td>male            </td><td>48              </td><td>98              </td><td>0.4897959       </td></tr>\n",
       "\t<tr><td>caucasian       </td><td>female          </td><td>51              </td><td>94              </td><td>0.5425532       </td></tr>\n",
       "\t<tr><td>caucasian       </td><td>male            </td><td>38              </td><td>92              </td><td>0.4130435       </td></tr>\n",
       "\t<tr><td>hispanic        </td><td>female          </td><td>49              </td><td>95              </td><td>0.5157895       </td></tr>\n",
       "\t<tr><td>hispanic        </td><td>male            </td><td>53              </td><td>95              </td><td>0.5578947       </td></tr>\n",
       "</tbody>\n",
       "</table>\n"
      ],
      "text/latex": [
       "\\begin{tabular}{r|lllll}\n",
       " treatment.ethnicity & treatment.gender & num\\_ads & num\\_agents & avg\\\\\n",
       "\\hline\n",
       "\t african-american & female           & 69               & 94               & 0.7340426       \\\\\n",
       "\t african-american & male             & 48               & 92               & 0.5217391       \\\\\n",
       "\t asian            & female           & 58               & 94               & 0.6170213       \\\\\n",
       "\t asian            & male             & 48               & 98               & 0.4897959       \\\\\n",
       "\t caucasian        & female           & 51               & 94               & 0.5425532       \\\\\n",
       "\t caucasian        & male             & 38               & 92               & 0.4130435       \\\\\n",
       "\t hispanic         & female           & 49               & 95               & 0.5157895       \\\\\n",
       "\t hispanic         & male             & 53               & 95               & 0.5578947       \\\\\n",
       "\\end{tabular}\n"
      ],
      "text/markdown": [
       "\n",
       "| treatment.ethnicity | treatment.gender | num_ads | num_agents | avg |\n",
       "|---|---|---|---|---|\n",
       "| african-american | female           | 69               | 94               | 0.7340426        |\n",
       "| african-american | male             | 48               | 92               | 0.5217391        |\n",
       "| asian            | female           | 58               | 94               | 0.6170213        |\n",
       "| asian            | male             | 48               | 98               | 0.4897959        |\n",
       "| caucasian        | female           | 51               | 94               | 0.5425532        |\n",
       "| caucasian        | male             | 38               | 92               | 0.4130435        |\n",
       "| hispanic         | female           | 49               | 95               | 0.5157895        |\n",
       "| hispanic         | male             | 53               | 95               | 0.5578947        |\n",
       "\n"
      ],
      "text/plain": [
       "  treatment.ethnicity treatment.gender num_ads num_agents avg      \n",
       "1 african-american    female           69      94         0.7340426\n",
       "2 african-american    male             48      92         0.5217391\n",
       "3 asian               female           58      94         0.6170213\n",
       "4 asian               male             48      98         0.4897959\n",
       "5 caucasian           female           51      94         0.5425532\n",
       "6 caucasian           male             38      92         0.4130435\n",
       "7 hispanic            female           49      95         0.5157895\n",
       "8 hispanic            male             53      95         0.5578947"
      ]
     },
     "metadata": {},
     "output_type": "display_data"
    },
    {
     "data": {
      "text/html": [
       "<table>\n",
       "<thead><tr><th scope=col>scraper</th><th scope=col>n</th></tr></thead>\n",
       "<tbody>\n",
       "\t<tr><td>BBCAdScraper        </td><td>163                 </td></tr>\n",
       "\t<tr><td>NewsGazetteAdScraper</td><td>251                 </td></tr>\n",
       "</tbody>\n",
       "</table>\n"
      ],
      "text/latex": [
       "\\begin{tabular}{r|ll}\n",
       " scraper & n\\\\\n",
       "\\hline\n",
       "\t BBCAdScraper         & 163                 \\\\\n",
       "\t NewsGazetteAdScraper & 251                 \\\\\n",
       "\\end{tabular}\n"
      ],
      "text/markdown": [
       "\n",
       "| scraper | n |\n",
       "|---|---|\n",
       "| BBCAdScraper         | 163                  |\n",
       "| NewsGazetteAdScraper | 251                  |\n",
       "\n"
      ],
      "text/plain": [
       "  scraper              n  \n",
       "1 BBCAdScraper         163\n",
       "2 NewsGazetteAdScraper 251"
      ]
     },
     "metadata": {},
     "output_type": "display_data"
    }
   ],
   "source": [
    "loan_ads <- merged %>%\n",
    "  filter(ad.category == 'loan')\n",
    "\n",
    "nrow(loan_ads)\n",
    "\n",
    "loan_ads %>%\n",
    "  count(treatment.ethnicity, treatment.gender, name = \"num_ads\") %>%\n",
    "  right_join(agent_count, by = c(\"treatment.ethnicity\", \"treatment.gender\")) %>%\n",
    "  mutate(avg=num_ads/num_agents)\n",
    "\n",
    "loan_ads %>% count(scraper)\n",
    "\n",
    "loan_ads_count <- loan_ads %>%\n",
    "  count(agent_id, treatment.ethnicity, treatment.gender, scraper)\n",
    "#   count(agent_id, treatment.ethnicity, treatment.gender, scraper) %>%\n",
    "#   inner_join(agents, by = c(\"agent_id\", \"treatment.ethnicity\", \"treatment.gender\")) %>%\n",
    "#   mutate(n=replace_na(n, 0), scraper=replace_na(scraper, 'GoogleSearchAdScraper')) %>%\n",
    "#   complete(nesting(agent_id, treatment.ethnicity, treatment.gender), scraper, fill = list(n = 0))"
   ]
  },
  {
   "cell_type": "code",
   "execution_count": 144,
   "metadata": {},
   "outputs": [
    {
     "data": {
      "text/plain": [
       "                                      Df Sum Sq Mean Sq F value Pr(>F)\n",
       "treatment.ethnicity                    3   1.23  0.4112   0.648  0.585\n",
       "treatment.gender                       1   0.15  0.1531   0.241  0.624\n",
       "treatment.ethnicity:treatment.gender   3   0.90  0.3016   0.476  0.700\n",
       "Residuals                            285 180.74  0.6342               "
      ]
     },
     "metadata": {},
     "output_type": "display_data"
    },
    {
     "data": {
      "text/plain": [
       "\n",
       "\tFligner-Killeen test of homogeneity of variances\n",
       "\n",
       "data:  n by interaction(treatment.ethnicity, treatment.gender)\n",
       "Fligner-Killeen:med chi-squared = 3.3126, df = 7, p-value = 0.8547\n"
      ]
     },
     "metadata": {},
     "output_type": "display_data"
    },
    {
     "data": {
      "image/png": "[encoded data removed]",
      "text/plain": [
       "Plot with title “”"
      ]
     },
     "metadata": {},
     "output_type": "display_data"
    }
   ],
   "source": [
    "local_data <- loan_ads_count\n",
    "\n",
    "res.local <- aov(n ~ treatment.ethnicity * treatment.gender, data = local_data)\n",
    "summary(res.local)\n",
    "# summary(res.local) %>% xtable() %>% print()\n",
    "\n",
    "# plot(res.local, 1)\n",
    "fligner.test(n ~ interaction(treatment.ethnicity, treatment.gender), data = local_data)\n",
    "plot(res.local, 2)\n",
    "# shapiro.test(x = residuals(res.local))"
   ]
  },
  {
   "cell_type": "code",
   "execution_count": 145,
   "metadata": {},
   "outputs": [
    {
     "data": {
      "text/plain": [
       "                                     Df Sum Sq Mean Sq F value Pr(>F)\n",
       "treatment.ethnicity                   3   3.16  1.0544   0.940  0.424\n",
       "treatment.gender                      1   0.21  0.2132   0.190  0.664\n",
       "treatment.ethnicity:treatment.gender  3   2.48  0.8258   0.736  0.533\n",
       "Residuals                            96 107.67  1.1216               "
      ]
     },
     "metadata": {},
     "output_type": "display_data"
    },
    {
     "data": {
      "text/plain": [
       "\n",
       "\tFligner-Killeen test of homogeneity of variances\n",
       "\n",
       "data:  n by interaction(treatment.ethnicity, treatment.gender)\n",
       "Fligner-Killeen:med chi-squared = 6.5856, df = 7, p-value = 0.4733\n"
      ]
     },
     "metadata": {},
     "output_type": "display_data"
    },
    {
     "data": {
      "image/png": "[encoded data removed]",
      "text/plain": [
       "Plot with title “”"
      ]
     },
     "metadata": {},
     "output_type": "display_data"
    }
   ],
   "source": [
    "local_data <- filter(loan_ads_count, scraper == 'BBCAdScraper')\n",
    "\n",
    "res.local <- aov(n ~ treatment.ethnicity * treatment.gender, data = local_data)\n",
    "summary(res.local)\n",
    "# summary(res.local) %>% xtable() %>% print()\n",
    "\n",
    "# plot(res.local, 1)\n",
    "fligner.test(n ~ interaction(treatment.ethnicity, treatment.gender), data = local_data)\n",
    "plot(res.local, 2)\n",
    "# shapiro.test(x = residuals(res.local))"
   ]
  },
  {
   "cell_type": "code",
   "execution_count": 146,
   "metadata": {},
   "outputs": [
    {
     "data": {
      "text/plain": [
       "                                      Df Sum Sq Mean Sq F value Pr(>F)\n",
       "treatment.ethnicity                    3   0.24  0.0798   0.222  0.881\n",
       "treatment.gender                       1   0.02  0.0217   0.060  0.806\n",
       "treatment.ethnicity:treatment.gender   3   0.28  0.0930   0.259  0.855\n",
       "Residuals                            181  65.12  0.3598               "
      ]
     },
     "metadata": {},
     "output_type": "display_data"
    },
    {
     "data": {
      "text/plain": [
       "\n",
       "\tFligner-Killeen test of homogeneity of variances\n",
       "\n",
       "data:  n by interaction(treatment.ethnicity, treatment.gender)\n",
       "Fligner-Killeen:med chi-squared = 1.7003, df = 7, p-value = 0.9746\n"
      ]
     },
     "metadata": {},
     "output_type": "display_data"
    },
    {
     "data": {
      "image/png": "[encoded data removed]",
      "text/plain": [
       "Plot with title “”"
      ]
     },
     "metadata": {},
     "output_type": "display_data"
    }
   ],
   "source": [
    "local_data <- filter(loan_ads_count, scraper == 'NewsGazetteAdScraper')\n",
    "\n",
    "res.local <- aov(n ~ treatment.ethnicity * treatment.gender, data = local_data)\n",
    "summary(res.local)\n",
    "# summary(res.local) %>% xtable() %>% print()\n",
    "\n",
    "# plot(res.local, 1)\n",
    "fligner.test(n ~ interaction(treatment.ethnicity, treatment.gender), data = local_data)\n",
    "plot(res.local, 2)\n",
    "# shapiro.test(x = residuals(res.local))"
   ]
  },
  {
   "cell_type": "markdown",
   "metadata": {},
   "source": [
    "## Rent-to-own and Foreclosures"
   ]
  },
  {
   "cell_type": "code",
   "execution_count": 138,
   "metadata": {},
   "outputs": [
    {
     "data": {
      "text/html": [
       "45"
      ],
      "text/latex": [
       "45"
      ],
      "text/markdown": [
       "45"
      ],
      "text/plain": [
       "[1] 45"
      ]
     },
     "metadata": {},
     "output_type": "display_data"
    }
   ],
   "source": [
    "data <- merged %>%\n",
    "  filter(ad.category == 'rent-to-own' | ad.category == 'search engine')\n",
    "\n",
    "nrow(data)\n",
    "\n",
    "# data %>%\n",
    "#   count(treatment.ethnicity, treatment.gender, name = \"num_ads\") %>%\n",
    "#   right_join(agent_count, by = c(\"treatment.ethnicity\", \"treatment.gender\")) %>%\n",
    "#   mutate(avg=num_ads/num_agents)\n",
    "\n",
    "data_count <- data %>%\n",
    "  count(agent_id, treatment.ethnicity, treatment.gender, scraper)\n",
    "#   count(agent_id, treatment.ethnicity, treatment.gender, scraper) %>%\n",
    "#   right_join(agents, by = c(\"agent_id\", \"treatment.ethnicity\", \"treatment.gender\")) %>%\n",
    "#   mutate(n=replace_na(n, 0), scraper=replace_na(scraper, 'GoogleSearchAdScraper')) %>%\n",
    "#   complete(nesting(agent_id, treatment.ethnicity, treatment.gender), scraper, fill = list(n = 0))"
   ]
  },
  {
   "cell_type": "code",
   "execution_count": 121,
   "metadata": {},
   "outputs": [
    {
     "data": {
      "text/plain": [
       "                                     Df Sum Sq Mean Sq F value Pr(>F)\n",
       "treatment.ethnicity                   2  25.20  12.600   2.404  0.146\n",
       "treatment.gender                      1   0.11   0.112   0.021  0.887\n",
       "treatment.ethnicity:treatment.gender  2   3.52   1.760   0.336  0.723\n",
       "Residuals                             9  47.17   5.241               "
      ]
     },
     "metadata": {},
     "output_type": "display_data"
    },
    {
     "data": {
      "text/plain": [
       "\n",
       "\tFligner-Killeen test of homogeneity of variances\n",
       "\n",
       "data:  n by interaction(treatment.ethnicity, treatment.gender)\n",
       "Fligner-Killeen:med chi-squared = 9.1439, df = 5, p-value = 0.1035\n"
      ]
     },
     "metadata": {},
     "output_type": "display_data"
    },
    {
     "name": "stderr",
     "output_type": "stream",
     "text": [
      "Warning message:\n",
      "“not plotting observations with leverage one:\n",
      "  2”"
     ]
    },
    {
     "data": {
      "image/png": "[encoded data removed]",
      "text/plain": [
       "Plot with title “”"
      ]
     },
     "metadata": {},
     "output_type": "display_data"
    }
   ],
   "source": [
    "local_data <- data_count\n",
    "\n",
    "res.local <- aov(n ~ treatment.ethnicity * treatment.gender, data = local_data)\n",
    "summary(res.local)\n",
    "# summary(res.local) %>% xtable() %>% print()\n",
    "\n",
    "# plot(res.local, 1)\n",
    "fligner.test(n ~ interaction(treatment.ethnicity, treatment.gender), data = local_data)\n",
    "plot(res.local, 2)\n",
    "# shapiro.test(x = residuals(res.local))"
   ]
  },
  {
   "cell_type": "markdown",
   "metadata": {},
   "source": [
    "## Pairwise Tests"
   ]
  },
  {
   "cell_type": "markdown",
   "metadata": {},
   "source": [
    "### Overall Ads"
   ]
  },
  {
   "cell_type": "code",
   "execution_count": 72,
   "metadata": {},
   "outputs": [],
   "source": [
    "overall_ads <- merged %>%\n",
    "  filter(ad.category == 'aggregator' | ad.category == 'foreclosure' | ad.category == 'listing' | ad.category == 'loan' | ad.category == 'mobile homes' | ad.category == 'realtor' | ad.category == 'rental' | ad.category == 'rental group' | ad.category == 'rent-to-own')\n",
    "\n",
    "# overall_count <- overall_ads %>%\n",
    "#   count(agent_id, treatment.ethnicity, treatment.gender, scraper) %>%\n",
    "#   right_join(agents, by = c(\"agent_id\", \"treatment.ethnicity\", \"treatment.gender\")) %>%\n",
    "#   mutate(n=replace_na(n, 0), scraper=replace_na(scraper, 'GoogleSearchAdScraper')) %>%\n",
    "#   complete(nesting(agent_id, treatment.ethnicity, treatment.gender), scraper, fill = list(n = 0))"
   ]
  },
  {
   "cell_type": "code",
   "execution_count": 148,
   "metadata": {},
   "outputs": [
    {
     "name": "stdout",
     "output_type": "stream",
     "text": [
      "Ethnicity:  african-american \n",
      "                                       Df Sum Sq Mean Sq F value Pr(>F)\n",
      "treatment.ethnicity                     1     26   26.19   0.232  0.630\n",
      "treatment.gender                        1    254  254.43   2.258  0.133\n",
      "treatment.ethnicity:treatment.gender    1     66   65.84   0.584  0.445\n",
      "Residuals                            1085 122261  112.68               \n",
      "\n",
      "Ethnicity:  asian \n",
      "                                       Df Sum Sq Mean Sq F value Pr(>F)\n",
      "treatment.ethnicity                     1     27   27.15   0.241  0.624\n",
      "treatment.gender                        1    259  259.39   2.302  0.129\n",
      "treatment.ethnicity:treatment.gender    1     68   68.17   0.605  0.437\n",
      "Residuals                            1085 122252  112.67               \n",
      "\n",
      "Ethnicity:  caucasian \n",
      "                                       Df Sum Sq Mean Sq F value Pr(>F)  \n",
      "treatment.ethnicity                     1    362   362.5   3.230 0.0726 .\n",
      "treatment.gender                        1    272   272.5   2.428 0.1195  \n",
      "treatment.ethnicity:treatment.gender    1    210   210.0   1.871 0.1716  \n",
      "Residuals                            1085 121762   112.2                 \n",
      "---\n",
      "Signif. codes:  0 ‘***’ 0.001 ‘**’ 0.01 ‘*’ 0.05 ‘.’ 0.1 ‘ ’ 1\n",
      "\n",
      "Ethnicity:  hispanic \n",
      "                                       Df Sum Sq Mean Sq F value Pr(>F)\n",
      "treatment.ethnicity                     1     68   68.23   0.606  0.436\n",
      "treatment.gender                        1    264  263.72   2.343  0.126\n",
      "treatment.ethnicity:treatment.gender    1    170  169.57   1.507  0.220\n",
      "Residuals                            1085 122106  112.54               \n",
      "\n",
      "Ethnicity:  Control \n",
      "                   Df Sum Sq Mean Sq F value Pr(>F)\n",
      "treatment.gender    1    257   256.9   2.282  0.131\n",
      "Residuals        1087 122350   112.6               \n",
      "\n"
     ]
    }
   ],
   "source": [
    "pairwise_ads <- overall_ads\n",
    "\n",
    "for (value in levels(pairwise_ads$treatment.ethnicity)) {\n",
    "    cat(\"Ethnicity: \", value, \"\\n\")\n",
    "    pairwise <- pairwise_ads\n",
    "    pairwise$treatment.ethnicity <- pairwise$treatment.ethnicity == value\n",
    "    print(summary(aov(n ~ treatment.ethnicity * treatment.gender, data = count(pairwise, agent_id, treatment.ethnicity, treatment.gender, scraper))))\n",
    "    cat(\"\\n\")\n",
    "}"
   ]
  },
  {
   "cell_type": "markdown",
   "metadata": {},
   "source": [
    "### Direct Listings"
   ]
  },
  {
   "cell_type": "code",
   "execution_count": 149,
   "metadata": {},
   "outputs": [
    {
     "name": "stdout",
     "output_type": "stream",
     "text": [
      "Ethnicity:  african-american \n",
      "                                      Df Sum Sq Mean Sq F value Pr(>F)\n",
      "treatment.ethnicity                    1    0.1  0.1103   0.050  0.823\n",
      "treatment.gender                       1    1.0  0.9850   0.447  0.505\n",
      "treatment.ethnicity:treatment.gender   1    0.1  0.0841   0.038  0.845\n",
      "Residuals                            197  434.0  2.2033               \n",
      "\n",
      "Ethnicity:  asian \n",
      "                                      Df Sum Sq Mean Sq F value Pr(>F)\n",
      "treatment.ethnicity                    1    2.5  2.5250   1.152  0.284\n",
      "treatment.gender                       1    0.9  0.8752   0.399  0.528\n",
      "treatment.ethnicity:treatment.gender   1    0.0  0.0030   0.001  0.971\n",
      "Residuals                            197  431.8  2.1920               \n",
      "\n",
      "Ethnicity:  caucasian \n",
      "                                      Df Sum Sq Mean Sq F value Pr(>F)\n",
      "treatment.ethnicity                    1    0.0  0.0053   0.002  0.961\n",
      "treatment.gender                       1    1.0  1.0089   0.458  0.499\n",
      "treatment.ethnicity:treatment.gender   1    0.1  0.1133   0.051  0.821\n",
      "Residuals                            197  434.1  2.2035               \n",
      "\n",
      "Ethnicity:  hispanic \n",
      "                                      Df Sum Sq Mean Sq F value Pr(>F)\n",
      "treatment.ethnicity                    1    4.3   4.326   1.985  0.160\n",
      "treatment.gender                       1    0.8   0.809   0.371  0.543\n",
      "treatment.ethnicity:treatment.gender   1    0.7   0.657   0.301  0.584\n",
      "Residuals                            197  429.4   2.180               \n",
      "\n",
      "Ethnicity:  Control \n",
      "                  Df Sum Sq Mean Sq F value Pr(>F)\n",
      "treatment.gender   1    1.0   1.004    0.46  0.498\n",
      "Residuals        199  434.2   2.182               \n",
      "\n"
     ]
    }
   ],
   "source": [
    "pairwise_ads <- merged %>%\n",
    "  filter(ad.category == 'listing' | ad.category == 'rental' | ad.category == 'mobile homes')\n",
    "\n",
    "for (value in levels(pairwise_ads$treatment.ethnicity)) {\n",
    "    cat(\"Ethnicity: \", value, \"\\n\")\n",
    "    pairwise <- pairwise_ads\n",
    "    pairwise$treatment.ethnicity <- pairwise$treatment.ethnicity == value\n",
    "    print(summary(aov(n ~ treatment.ethnicity * treatment.gender, data = count(pairwise, agent_id, treatment.ethnicity, treatment.gender, scraper))))\n",
    "    cat(\"\\n\")\n",
    "}"
   ]
  },
  {
   "cell_type": "markdown",
   "metadata": {},
   "source": [
    "### Searches"
   ]
  },
  {
   "cell_type": "code",
   "execution_count": 150,
   "metadata": {},
   "outputs": [
    {
     "name": "stdout",
     "output_type": "stream",
     "text": [
      "Ethnicity:  african-american \n",
      "                                      Df Sum Sq Mean Sq F value Pr(>F)\n",
      "treatment.ethnicity                    1      0    0.09   0.001  0.977\n",
      "treatment.gender                       1    152  152.50   1.427  0.233\n",
      "treatment.ethnicity:treatment.gender   1    116  115.71   1.082  0.298\n",
      "Residuals                            831  88833  106.90               \n",
      "\n",
      "Ethnicity:  asian \n",
      "                                      Df Sum Sq Mean Sq F value Pr(>F)\n",
      "treatment.ethnicity                    1     17   17.08   0.160  0.689\n",
      "treatment.gender                       1    154  154.43   1.445  0.230\n",
      "treatment.ethnicity:treatment.gender   1    107  107.12   1.002  0.317\n",
      "Residuals                            831  88823  106.89               \n",
      "\n",
      "Ethnicity:  caucasian \n",
      "                                      Df Sum Sq Mean Sq F value Pr(>F)\n",
      "treatment.ethnicity                    1    194  194.49   1.821  0.178\n",
      "treatment.gender                       1    151  151.15   1.415  0.235\n",
      "treatment.ethnicity:treatment.gender   1      9    8.51   0.080  0.778\n",
      "Residuals                            831  88747  106.80               \n",
      "\n",
      "Ethnicity:  hispanic \n",
      "                                      Df Sum Sq Mean Sq F value Pr(>F)\n",
      "treatment.ethnicity                    1     98   98.11   0.918  0.338\n",
      "treatment.gender                       1    151  150.51   1.408  0.236\n",
      "treatment.ethnicity:treatment.gender   1      9    9.21   0.086  0.769\n",
      "Residuals                            831  88844  106.91               \n",
      "\n",
      "Ethnicity:  Control \n",
      "                  Df Sum Sq Mean Sq F value Pr(>F)\n",
      "treatment.gender   1    152   152.3   1.427  0.233\n",
      "Residuals        833  88949   106.8               \n",
      "\n"
     ]
    }
   ],
   "source": [
    "pairwise_ads <- merged %>%\n",
    "  filter(ad.category == 'aggregator' | ad.category == 'foreclosure' | ad.category == 'realtor' | ad.category == 'rental group' | ad.category == 'rent-to-own')\n",
    "#   count(agent_id, treatment.ethnicity, treatment.gender, scraper)\n",
    "\n",
    "for (value in levels(pairwise_ads$treatment.ethnicity)) {\n",
    "    cat(\"Ethnicity: \", value, \"\\n\")\n",
    "    pairwise <- pairwise_ads\n",
    "    pairwise$treatment.ethnicity <- pairwise$treatment.ethnicity == value\n",
    "    print(summary(aov(n ~ treatment.ethnicity * treatment.gender, data = count(pairwise, agent_id, treatment.ethnicity, treatment.gender, scraper))))\n",
    "    cat(\"\\n\")\n",
    "}"
   ]
  },
  {
   "cell_type": "code",
   "execution_count": 151,
   "metadata": {},
   "outputs": [
    {
     "name": "stdout",
     "output_type": "stream",
     "text": [
      "Ethnicity:  african-american \n",
      "                                      Df Sum Sq Mean Sq F value Pr(>F)\n",
      "treatment.ethnicity                    1      0    0.09   0.001  0.977\n",
      "treatment.gender                       1    152  152.50   1.427  0.233\n",
      "treatment.ethnicity:treatment.gender   1    116  115.71   1.082  0.298\n",
      "Residuals                            831  88833  106.90               \n",
      "\n",
      "Ethnicity:  asian \n",
      "                                      Df Sum Sq Mean Sq F value Pr(>F)\n",
      "treatment.ethnicity                    1     17   17.08   0.160  0.689\n",
      "treatment.gender                       1    154  154.43   1.445  0.230\n",
      "treatment.ethnicity:treatment.gender   1    107  107.12   1.002  0.317\n",
      "Residuals                            831  88823  106.89               \n",
      "\n",
      "Ethnicity:  caucasian \n",
      "                                      Df Sum Sq Mean Sq F value Pr(>F)\n",
      "treatment.ethnicity                    1    194  194.49   1.821  0.178\n",
      "treatment.gender                       1    151  151.15   1.415  0.235\n",
      "treatment.ethnicity:treatment.gender   1      9    8.51   0.080  0.778\n",
      "Residuals                            831  88747  106.80               \n",
      "\n",
      "Ethnicity:  hispanic \n",
      "                                      Df Sum Sq Mean Sq F value Pr(>F)\n",
      "treatment.ethnicity                    1     98   98.11   0.918  0.338\n",
      "treatment.gender                       1    151  150.51   1.408  0.236\n",
      "treatment.ethnicity:treatment.gender   1      9    9.21   0.086  0.769\n",
      "Residuals                            831  88844  106.91               \n",
      "\n",
      "Ethnicity:  Control \n",
      "                  Df Sum Sq Mean Sq F value Pr(>F)\n",
      "treatment.gender   1    152   152.3   1.427  0.233\n",
      "Residuals        833  88949   106.8               \n",
      "\n"
     ]
    }
   ],
   "source": [
    "pairwise_ads <- merged %>%\n",
    "  filter(ad.category == 'aggregator' | ad.category == 'foreclosure' | ad.category == 'realtor' | ad.category == 'rental group' | ad.category == 'rent-to-own')\n",
    "\n",
    "for (value in levels(pairwise_ads$treatment.ethnicity)) {\n",
    "    cat(\"Ethnicity: \", value, \"\\n\")\n",
    "    pairwise <- pairwise_ads\n",
    "    pairwise$treatment.ethnicity <- pairwise$treatment.ethnicity == value\n",
    "    print(summary(aov(n ~ treatment.ethnicity * treatment.gender, data = count(pairwise, agent_id, treatment.ethnicity, treatment.gender, scraper))))\n",
    "    cat(\"\\n\")\n",
    "}"
   ]
  },
  {
   "cell_type": "markdown",
   "metadata": {},
   "source": [
    "### Rent-to-own and Foreclosures"
   ]
  },
  {
   "cell_type": "code",
   "execution_count": 164,
   "metadata": {},
   "outputs": [
    {
     "data": {
      "text/html": [
       "<table>\n",
       "<thead><tr><th scope=col>treatment.ethnicity</th><th scope=col>treatment.gender</th><th scope=col>num_ads</th><th scope=col>num_agents</th><th scope=col>avg</th></tr></thead>\n",
       "<tbody>\n",
       "\t<tr><td>african-american</td><td>female          </td><td>50              </td><td>94              </td><td>0.5319149       </td></tr>\n",
       "\t<tr><td>african-american</td><td>male            </td><td>70              </td><td>92              </td><td>0.7608696       </td></tr>\n",
       "\t<tr><td>asian           </td><td>female          </td><td>53              </td><td>94              </td><td>0.5638298       </td></tr>\n",
       "\t<tr><td>asian           </td><td>male            </td><td>50              </td><td>98              </td><td>0.5102041       </td></tr>\n",
       "\t<tr><td>caucasian       </td><td>female          </td><td>50              </td><td>94              </td><td>0.5319149       </td></tr>\n",
       "\t<tr><td>caucasian       </td><td>male            </td><td>33              </td><td>92              </td><td>0.3586957       </td></tr>\n",
       "\t<tr><td>hispanic        </td><td>female          </td><td>60              </td><td>95              </td><td>0.6315789       </td></tr>\n",
       "\t<tr><td>hispanic        </td><td>male            </td><td>48              </td><td>95              </td><td>0.5052632       </td></tr>\n",
       "</tbody>\n",
       "</table>\n"
      ],
      "text/latex": [
       "\\begin{tabular}{r|lllll}\n",
       " treatment.ethnicity & treatment.gender & num\\_ads & num\\_agents & avg\\\\\n",
       "\\hline\n",
       "\t african-american & female           & 50               & 94               & 0.5319149       \\\\\n",
       "\t african-american & male             & 70               & 92               & 0.7608696       \\\\\n",
       "\t asian            & female           & 53               & 94               & 0.5638298       \\\\\n",
       "\t asian            & male             & 50               & 98               & 0.5102041       \\\\\n",
       "\t caucasian        & female           & 50               & 94               & 0.5319149       \\\\\n",
       "\t caucasian        & male             & 33               & 92               & 0.3586957       \\\\\n",
       "\t hispanic         & female           & 60               & 95               & 0.6315789       \\\\\n",
       "\t hispanic         & male             & 48               & 95               & 0.5052632       \\\\\n",
       "\\end{tabular}\n"
      ],
      "text/markdown": [
       "\n",
       "| treatment.ethnicity | treatment.gender | num_ads | num_agents | avg |\n",
       "|---|---|---|---|---|\n",
       "| african-american | female           | 50               | 94               | 0.5319149        |\n",
       "| african-american | male             | 70               | 92               | 0.7608696        |\n",
       "| asian            | female           | 53               | 94               | 0.5638298        |\n",
       "| asian            | male             | 50               | 98               | 0.5102041        |\n",
       "| caucasian        | female           | 50               | 94               | 0.5319149        |\n",
       "| caucasian        | male             | 33               | 92               | 0.3586957        |\n",
       "| hispanic         | female           | 60               | 95               | 0.6315789        |\n",
       "| hispanic         | male             | 48               | 95               | 0.5052632        |\n",
       "\n"
      ],
      "text/plain": [
       "  treatment.ethnicity treatment.gender num_ads num_agents avg      \n",
       "1 african-american    female           50      94         0.5319149\n",
       "2 african-american    male             70      92         0.7608696\n",
       "3 asian               female           53      94         0.5638298\n",
       "4 asian               male             50      98         0.5102041\n",
       "5 caucasian           female           50      94         0.5319149\n",
       "6 caucasian           male             33      92         0.3586957\n",
       "7 hispanic            female           60      95         0.6315789\n",
       "8 hispanic            male             48      95         0.5052632"
      ]
     },
     "metadata": {},
     "output_type": "display_data"
    },
    {
     "name": "stdout",
     "output_type": "stream",
     "text": [
      "Ethnicity:  african-american \n",
      "                                     Df Sum Sq Mean Sq F value  Pr(>F)   \n",
      "treatment.ethnicity                   1   40.1   40.12   2.430 0.12260   \n",
      "treatment.gender                      1    4.7    4.72   0.286 0.59402   \n",
      "treatment.ethnicity:treatment.gender  1  125.3  125.30   7.590 0.00713 **\n",
      "Residuals                            88 1452.9   16.51                   \n",
      "---\n",
      "Signif. codes:  0 ‘***’ 0.001 ‘**’ 0.01 ‘*’ 0.05 ‘.’ 0.1 ‘ ’ 1\n",
      "\n",
      "Ethnicity:  asian \n",
      "                                     Df Sum Sq Mean Sq F value Pr(>F)\n",
      "treatment.ethnicity                   1    1.4   1.409   0.077  0.782\n",
      "treatment.gender                      1    2.6   2.607   0.142  0.707\n",
      "treatment.ethnicity:treatment.gender  1    2.8   2.809   0.153  0.697\n",
      "Residuals                            88 1616.2  18.366               \n",
      "\n",
      "Ethnicity:  caucasian \n",
      "                                     Df Sum Sq Mean Sq F value Pr(>F)\n",
      "treatment.ethnicity                   1   15.3  15.294   0.844  0.361\n",
      "treatment.gender                      1    2.3   2.283   0.126  0.724\n",
      "treatment.ethnicity:treatment.gender  1   10.0  10.011   0.552  0.459\n",
      "Residuals                            88 1595.4  18.130               \n",
      "\n",
      "Ethnicity:  hispanic \n",
      "                                     Df Sum Sq Mean Sq F value Pr(>F)\n",
      "treatment.ethnicity                   1    1.1   1.112   0.061  0.805\n",
      "treatment.gender                      1    2.7   2.685   0.148  0.701\n",
      "treatment.ethnicity:treatment.gender  1   23.4  23.409   1.291  0.259\n",
      "Residuals                            88 1595.8  18.134               \n",
      "\n",
      "Ethnicity:  Control \n",
      "                 Df Sum Sq Mean Sq F value Pr(>F)\n",
      "treatment.gender  1    2.5   2.456   0.136  0.713\n",
      "Residuals        90 1620.5  18.006               \n",
      "\n"
     ]
    }
   ],
   "source": [
    "pairwise_ads <- merged %>%\n",
    "  filter(treatment.ethnicity != 'Control' & treatment.gender != 'Control') %>%\n",
    "  filter(ad.category == 'rent-to-own' | ad.category == 'foreclosure' | ad.category == 'search engine')\n",
    "\n",
    "pairwise_ads %>%\n",
    "  count(treatment.ethnicity, treatment.gender, name = \"num_ads\") %>%\n",
    "  right_join(agent_count, by = c(\"treatment.ethnicity\", \"treatment.gender\")) %>%\n",
    "  mutate(avg=num_ads/num_agents)\n",
    "\n",
    "for (value in levels(pairwise_ads$treatment.ethnicity)) {\n",
    "    cat(\"Ethnicity: \", value, \"\\n\")\n",
    "    pairwise <- pairwise_ads\n",
    "    pairwise$treatment.ethnicity <- pairwise$treatment.ethnicity == value\n",
    "    print(summary(aov(n ~ treatment.ethnicity * treatment.gender, data = count(pairwise, agent_id, treatment.ethnicity, treatment.gender, scraper))))\n",
    "#     aov(n ~ treatment.ethnicity * treatment.gender, data = count(pairwise, agent_id, treatment.ethnicity, treatment.gender, scraper)) %>% xtable() %>% print()\n",
    "    cat(\"\\n\")\n",
    "}"
   ]
  },
  {
   "cell_type": "markdown",
   "metadata": {},
   "source": [
    "# Test Area"
   ]
  },
  {
   "cell_type": "code",
   "execution_count": null,
   "metadata": {},
   "outputs": [],
   "source": [
    "merged %>%\n",
    "  filter(ad.cate)"
   ]
  },
  {
   "cell_type": "markdown",
   "metadata": {},
   "source": [
    "# Profile Validation"
   ]
  },
  {
   "cell_type": "code",
   "execution_count": 54,
   "metadata": {},
   "outputs": [
    {
     "name": "stderr",
     "output_type": "stream",
     "text": [
      "Warning message:\n",
      "“Factor `treatment.ethnicity` contains implicit NA, consider using `forcats::fct_explicit_na`”Warning message:\n",
      "“Factor `treatment.gender` contains implicit NA, consider using `forcats::fct_explicit_na`”"
     ]
    },
    {
     "data": {
      "text/html": [
       "167"
      ],
      "text/latex": [
       "167"
      ],
      "text/markdown": [
       "167"
      ],
      "text/plain": [
       "[1] 167"
      ]
     },
     "metadata": {},
     "output_type": "display_data"
    },
    {
     "data": {
      "text/html": [
       "<table>\n",
       "<thead><tr><th scope=col>n</th></tr></thead>\n",
       "<tbody>\n",
       "\t<tr><td>21740</td></tr>\n",
       "</tbody>\n",
       "</table>\n"
      ],
      "text/latex": [
       "\\begin{tabular}{r|l}\n",
       " n\\\\\n",
       "\\hline\n",
       "\t 21740\\\\\n",
       "\\end{tabular}\n"
      ],
      "text/markdown": [
       "\n",
       "| n |\n",
       "|---|\n",
       "| 21740 |\n",
       "\n"
      ],
      "text/plain": [
       "  n    \n",
       "1 21740"
      ]
     },
     "metadata": {},
     "output_type": "display_data"
    }
   ],
   "source": [
    "clothing_ads <- merged %>%\n",
    "  filter(ad.category == 'clothing') %>%\n",
    "  count(treatment.ethnicity, treatment.gender, agent_id, gender) %>%\n",
    "  right_join(agents, by = c(\"agent_id\", \"treatment.ethnicity\", \"treatment.gender\")) %>%\n",
    "  complete(nesting(agent_id, treatment.ethnicity, treatment.gender), gender, fill = list(n = 0)) %>%\n",
    "  filter(!is.na(gender))\n",
    "\n",
    "clothing_ads$gender <- as.factor(clothing_ads$gender)\n",
    "\n",
    "# levels(clothing_ads$gender)\n",
    "\n",
    "# min(clothing_ads$n)\n",
    "# clothing_ads[1:10,]\n",
    "# sum(clothing_ads$n)\n",
    "\n",
    "# res.clothing <- aov(n ~ gender * treatment.gender * treatment.ethnicity, data = clothing_ads)\n",
    "# summary(res.clothing)\n",
    "\n"
   ]
  },
  {
   "cell_type": "code",
   "execution_count": 48,
   "metadata": {},
   "outputs": [
    {
     "data": {
      "text/plain": [
       "\n",
       "\tPaired t-test\n",
       "\n",
       "data:  filter(test, treatment.gender == \"male\")$n and filter(test, treatment.gender == \"female\")$n\n",
       "t = -1.8534, df = 376, p-value = 0.06461\n",
       "alternative hypothesis: true difference in means is not equal to 0\n",
       "95 percent confidence interval:\n",
       " -0.12573337  0.00371745\n",
       "sample estimates:\n",
       "mean of the differences \n",
       "            -0.06100796 \n"
      ]
     },
     "metadata": {},
     "output_type": "display_data"
    }
   ],
   "source": [
    "# clothing_ads\n",
    "test <- clothing_ads %>% filter(gender == 'female')\n",
    "\n",
    "t.test(filter(test, treatment.gender == 'male')$n, filter(test, treatment.gender == 'female')$n, paired=TRUE)"
   ]
  },
  {
   "cell_type": "code",
   "execution_count": null,
   "metadata": {},
   "outputs": [],
   "source": []
  }
 ],
 "metadata": {
  "kernelspec": {
   "display_name": "R",
   "language": "R",
   "name": "ir"
  },
  "language_info": {
   "codemirror_mode": "r",
   "file_extension": ".r",
   "mimetype": "text/x-r-source",
   "name": "R",
   "pygments_lexer": "r",
   "version": "3.4.4"
  }
 },
 "nbformat": 4,
 "nbformat_minor": 2
}
